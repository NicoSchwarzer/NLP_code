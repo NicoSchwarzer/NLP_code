{
  "cells": [
    {
      "cell_type": "markdown",
      "metadata": {
        "id": "SrpwrtwWJC5f"
      },
      "source": [
        "# Exam No 2 \n",
        "\n",
        "This is the second exam for DS405B submitted by Nico Schwarzer, ID: 5632297."
      ]
    },
    {
      "cell_type": "markdown",
      "metadata": {
        "id": "Fx_kx2O6JZHE"
      },
      "source": [
        "## Loading in data and Word embeddings"
      ]
    },
    {
      "cell_type": "code",
      "source": [
        "import numpy as np\n",
        "from gensim.scripts.glove2word2vec import glove2word2vec\n",
        "from torchtext.vocab import GloVe, vocab"
      ],
      "metadata": {
        "id": "LksKnFYX625E"
      },
      "execution_count": null,
      "outputs": []
    },
    {
      "cell_type": "code",
      "execution_count": null,
      "metadata": {
        "id": "-R_6pKtEJ26o",
        "colab": {
          "base_uri": "https://localhost:8080/"
        },
        "outputId": "36b3a0cd-a269-493e-89f8-eb17c1707095"
      },
      "outputs": [
        {
          "output_type": "stream",
          "name": "stdout",
          "text": [
            "[nltk_data] Downloading package punkt to /root/nltk_data...\n",
            "[nltk_data]   Unzipping tokenizers/punkt.zip.\n"
          ]
        }
      ],
      "source": [
        "import torch \n",
        "from torch import nn \n",
        "import torchtext\n",
        "from torch.utils.data import DataLoader\n",
        "from numpy import dot\n",
        "from numpy.linalg import norm\n",
        "import random as rng\n",
        "from gensim.scripts.glove2word2vec import glove2word2vec\n",
        "from gensim.models import KeyedVectors\n",
        "from nltk.tokenize import word_tokenize\n",
        "import numpy as np\n",
        "import pandas as pd \n",
        "import math\n",
        "from torchtext.vocab import GloVe, vocab"
      ]
    },
    {
      "cell_type": "code",
      "source": [
        "from google.colab import drive\n",
        "drive.mount('/content/gdrive')\n"
      ],
      "metadata": {
        "colab": {
          "base_uri": "https://localhost:8080/"
        },
        "id": "z93TLYkj8KEE",
        "outputId": "a6bb4a95-8ba4-452a-f617-234e95178059"
      },
      "execution_count": null,
      "outputs": [
        {
          "output_type": "stream",
          "name": "stdout",
          "text": [
            "Mounted at /content/gdrive\n"
          ]
        }
      ]
    },
    {
      "cell_type": "code",
      "execution_count": null,
      "metadata": {
        "colab": {
          "base_uri": "https://localhost:8080/",
          "height": 209
        },
        "id": "CH2oy5mVI_0E",
        "outputId": "254b6663-2347-4d60-8b9d-8fd0293e8dbd"
      },
      "outputs": [
        {
          "output_type": "error",
          "ename": "NameError",
          "evalue": "ignored",
          "traceback": [
            "\u001b[0;31m---------------------------------------------------------------------------\u001b[0m",
            "\u001b[0;31mNameError\u001b[0m                                 Traceback (most recent call last)",
            "\u001b[0;32m<ipython-input-1-268ee752ceb6>\u001b[0m in \u001b[0;36m<module>\u001b[0;34m()\u001b[0m\n\u001b[0;32m----> 1\u001b[0;31m \u001b[0mdata_raw\u001b[0m \u001b[0;34m=\u001b[0m \u001b[0mpd\u001b[0m\u001b[0;34m.\u001b[0m\u001b[0mread_csv\u001b[0m\u001b[0;34m(\u001b[0m\u001b[0;34m\"/content/gdrive/My Drive/DS Project/data_for_BERT.csv\"\u001b[0m\u001b[0;34m)\u001b[0m\u001b[0;34m\u001b[0m\u001b[0;34m\u001b[0m\u001b[0m\n\u001b[0m\u001b[1;32m      2\u001b[0m \u001b[0;34m\u001b[0m\u001b[0m\n\u001b[1;32m      3\u001b[0m \u001b[0mdata_raw\u001b[0m\u001b[0;34m.\u001b[0m\u001b[0mhead\u001b[0m\u001b[0;34m(\u001b[0m\u001b[0;34m)\u001b[0m\u001b[0;34m\u001b[0m\u001b[0;34m\u001b[0m\u001b[0m\n",
            "\u001b[0;31mNameError\u001b[0m: name 'pd' is not defined"
          ]
        }
      ],
      "source": [
        "data_raw = pd.read_csv(\"/content/gdrive/My Drive/DS Project/data_for_BERT.csv\")\n",
        "\n",
        "data_raw.head()"
      ]
    },
    {
      "cell_type": "code",
      "execution_count": null,
      "metadata": {
        "id": "bFn_WHhjLS4N"
      },
      "outputs": [],
      "source": [
        "## splitting in training and validation set\n",
        "rng.seed(5)\n",
        "\n",
        "train_data_raw = data_raw.sample(n = math.ceil( 0.9*data_raw.shape[0]), replace = False, random_state = 123)\n",
        "val_data_raw = data_raw.drop(train_data_raw.index)\n"
      ]
    },
    {
      "cell_type": "code",
      "execution_count": null,
      "metadata": {
        "id": "ar37aOf3P4Vy"
      },
      "outputs": [],
      "source": [
        "## calling Dataset class \n",
        "\n",
        "train_data  = Text_as_Dataset(train_data_raw)\n",
        "val_data  = Text_as_Dataset(val_data_raw)\n"
      ]
    },
    {
      "cell_type": "code",
      "execution_count": null,
      "metadata": {
        "id": "Yax5FFL2NppF"
      },
      "outputs": [],
      "source": [
        "class Text_as_Dataset(Dataset):\n",
        "\n",
        "    ''' This class transforms the input data to a useable dataset, which can be passed \n",
        "    to PyTorch's dataloader class.''' \n",
        "    \n",
        "    def __init__(self, df):\n",
        "        # also defining default value # \n",
        "\n",
        "        # data as Pytorch tensors via the collate batches function \n",
        "        self.data = np.array(df)\n",
        "\n",
        "    def __getitem__(self, idx):\n",
        "        return (self.data[idx][0], self.data[idx][1])\n",
        "        \n",
        "    def __len__(self):\n",
        "        return(self.data.shape[0])"
      ]
    },
    {
      "cell_type": "code",
      "execution_count": null,
      "metadata": {
        "colab": {
          "base_uri": "https://localhost:8080/"
        },
        "id": "1pDDaU9wTtOt",
        "outputId": "805e2b32-4da3-42d0-e04c-f0272b5f68a1"
      },
      "outputs": [
        {
          "output_type": "stream",
          "name": "stdout",
          "text": [
            "--2021-12-19 09:07:27--  http://nlp.stanford.edu/data/glove.6B.zip\n",
            "Resolving nlp.stanford.edu (nlp.stanford.edu)... 171.64.67.140\n",
            "Connecting to nlp.stanford.edu (nlp.stanford.edu)|171.64.67.140|:80... connected.\n",
            "HTTP request sent, awaiting response... 302 Found\n",
            "Location: https://nlp.stanford.edu/data/glove.6B.zip [following]\n",
            "--2021-12-19 09:07:27--  https://nlp.stanford.edu/data/glove.6B.zip\n",
            "Connecting to nlp.stanford.edu (nlp.stanford.edu)|171.64.67.140|:443... connected.\n",
            "HTTP request sent, awaiting response... 301 Moved Permanently\n",
            "Location: http://downloads.cs.stanford.edu/nlp/data/glove.6B.zip [following]\n",
            "--2021-12-19 09:07:27--  http://downloads.cs.stanford.edu/nlp/data/glove.6B.zip\n",
            "Resolving downloads.cs.stanford.edu (downloads.cs.stanford.edu)... 171.64.64.22\n",
            "Connecting to downloads.cs.stanford.edu (downloads.cs.stanford.edu)|171.64.64.22|:80... connected.\n",
            "HTTP request sent, awaiting response... 200 OK\n",
            "Length: 862182613 (822M) [application/zip]\n",
            "Saving to: ‘glove.6B.zip’\n",
            "\n",
            "glove.6B.zip        100%[===================>] 822.24M  4.81MB/s    in 2m 41s  \n",
            "\n",
            "2021-12-19 09:10:08 (5.12 MB/s) - ‘glove.6B.zip’ saved [862182613/862182613]\n",
            "\n",
            "Archive:  glove.6B.zip\n",
            "  inflating: glove.6B.50d.txt        \n",
            "  inflating: glove.6B.100d.txt       \n",
            "  inflating: glove.6B.200d.txt       \n",
            "  inflating: glove.6B.300d.txt       \n"
          ]
        }
      ],
      "source": [
        "## loading 100-dim Glove embeddings \n",
        "\n",
        "!wget http://nlp.stanford.edu/data/glove.6B.zip\n",
        "\n",
        "!unzip glove*.zip"
      ]
    },
    {
      "cell_type": "code",
      "execution_count": null,
      "metadata": {
        "id": "wsUQwCHHT26W"
      },
      "outputs": [],
      "source": [
        "glove_input_file = 'glove.6B.300d.txt'\n",
        "word2vec_output_file = 'word2vec.txt'\n",
        "\n",
        "glove2word2vec(glove_input_file, word2vec_output_file)\n",
        "model_w2v = KeyedVectors.load_word2vec_format(word2vec_output_file, binary = False)\n"
      ]
    },
    {
      "cell_type": "markdown",
      "metadata": {
        "id": "5nIcBJiVrCR5"
      },
      "source": [
        "Next, I shall create a vocabulary based on the training dataset that only contains words that are also present in the glove vocabulary. This is why I retrieve all words contained on the glove vocab and sort them out before calling the build_vocab_from_iterator() function. "
      ]
    },
    {
      "cell_type": "code",
      "execution_count": null,
      "metadata": {
        "id": "3-7Mz25g2h4B"
      },
      "outputs": [],
      "source": [
        "tokenizer = get_tokenizer('basic_english')\n",
        "list_glove_words = list(model_w2v.vocab)\n",
        "\n",
        "def yield_token(data_iter): ## merely tokenizes the text per batch\n",
        "\n",
        "  for label_class, text in data_iter:\n",
        "  # only keeping those words which appear in glove vocabulary\n",
        "    token_text = tokenizer(text)\n",
        "    text_reduced = [x for x in token_text if x in list_glove_words]\n",
        "  \n",
        "    yield text_reduced # only using text, not labels\n",
        "\n",
        "vocab = build_vocab_from_iterator(yield_token(train_data), specials = [\"<unk>\", \"<pad>\"])\n",
        "vocab.set_default_index(vocab[\"<unk>\"])"
      ]
    },
    {
      "cell_type": "code",
      "source": [
        "## saving the vocabulary\n",
        "\n",
        "torch.save(vocab, '/content/gdrive/My Drive/DS405B_NLP/Ex_2/vocab.pth')"
      ],
      "metadata": {
        "id": "6AdDs_g3_VEP"
      },
      "execution_count": null,
      "outputs": []
    },
    {
      "cell_type": "markdown",
      "metadata": {
        "id": "OyFDyV6yiNUK"
      },
      "source": [
        "Next, I shall set up a matrix containing the pretrained embeddings for all words as well as random embedding for the words not contained, e.g. the pad token. These will recieve random embeddings. This ensures that the word-ordering of the word embeddings matches that of the vocabulary."
      ]
    },
    {
      "cell_type": "code",
      "execution_count": null,
      "metadata": {
        "id": "YoLK6MW2Uwm_"
      },
      "outputs": [],
      "source": [
        "## getting 100 - dim embedding per word in vocab \n",
        "## only for those words in the vocab, else random embdedding\n",
        "\n",
        "\n",
        "embed_matrix_len = len(vocab)\n",
        "embed_matrix = np.ones((embed_matrix_len, 100 ))\n",
        "\n",
        "for i, word in enumerate(vocab.get_itos() ):\n",
        "  try:\n",
        "    embed_matrix[i,] = model_w2v[word]\n",
        "  except:\n",
        "    embed_matrix[i,] = np.random.normal( size=(100, ))"
      ]
    },
    {
      "cell_type": "code",
      "source": [
        "# saving the embeddings \n",
        "\n",
        "np.savetxt(fname=\"/content/gdrive/My Drive/DS405B_NLP/Ex_2/embed_matrix.csv\", delimiter=\",\", X=embed_matrix)\n"
      ],
      "metadata": {
        "id": "of59J_ZXA6w0"
      },
      "execution_count": null,
      "outputs": []
    },
    {
      "cell_type": "markdown",
      "metadata": {
        "id": "sMYdxdr_j7Hg"
      },
      "source": [
        "Now, the collate batch function is implemented. The labels are mapped to one-hot lists and the texts will be padded to the maximum text length per batch. The padding value is set to the index of the pad token in the vocabulary. Also, the actual length of the texts are put out since these are needed for the pack_padded_sequence function later on."
      ]
    },
    {
      "cell_type": "code",
      "execution_count": null,
      "metadata": {
        "id": "t4rR0M1ibLdE"
      },
      "outputs": [],
      "source": [
        "## finding index fpr <pad> in the vocab \n",
        "index_pad = vocab.lookup_indices([\"<pad>\"])[0]\n",
        "\n",
        "\n",
        "def collate_batch(batch):\n",
        "  label_list, text_list, lengths = [], [], []\n",
        "  for (label, text) in batch:\n",
        "    if label == \"sadness\":\n",
        "      label_list.append([1,0,0,0])\n",
        "    elif label == \"worry\":\n",
        "      label_list.append([0,1,0,0])\n",
        "    elif label == \"neutral\":\n",
        "      label_list.append([0,0,1,0])\n",
        "    elif label == \"happiness\":\n",
        "      label_list.append([0,0,0,1])\n",
        "      \n",
        "    processed_text = torch.tensor(vocab(tokenizer(text)), dtype=torch.float32) # dim for each label/text pair in batch -> size of tokens per text\n",
        "    text_list.append(processed_text)\n",
        "    lengths.append(len(processed_text))\n",
        "\n",
        "  label_list = torch.tensor(label_list, dtype=torch.float32)\n",
        "  text_list = nn.utils.rnn.pad_sequence(text_list, batch_first=True, padding_value=index_pad) # batch size * size of longest sequence (others padded)\n",
        "  lengths =  torch.tensor(lengths)\n",
        "\n",
        "  return text_list, label_list, lengths\n",
        "\n",
        "\n",
        "train_dataloader = DataLoader(train_data, batch_size=128, collate_fn=collate_batch, shuffle=True)\n",
        "val_dataloader = DataLoader(val_data, batch_size=128, collate_fn=collate_batch, shuffle= True)\n"
      ]
    },
    {
      "cell_type": "markdown",
      "metadata": {
        "id": "WH57yJkZz9Q3"
      },
      "source": [
        "## Model Architecture"
      ]
    },
    {
      "cell_type": "markdown",
      "metadata": {
        "id": "1gtttHrhzqBr"
      },
      "source": [
        "The nextwork architecture (excluding all type of regularization) will look as follows. It shall be based on a bidirectionaly LSTM followed by two fully connected layers. Importanty, I shall freeze the pretrained word embeddings."
      ]
    },
    {
      "cell_type": "code",
      "source": [
        "class my_LSTM_regu(nn.Module):\n",
        "  def __init__(self, input_dim, hidden_dim, output_dim, drop_out, num_layer):\n",
        "    # embedding dim is pre-specified  - I shall use 100 \n",
        "    super().__init__()\n",
        "\n",
        "    self.embedding = nn.Embedding.from_pretrained(torch.from_numpy(embed_matrix).float(), freeze=True)\n",
        "\n",
        "    self.num_layer = num_layer\n",
        "    self.lstm = nn.LSTM(embed_matrix.shape[1],  hidden_size = hidden_dim, num_layers = num_layer, bidirectional = True, batch_first=True, dropout = drop_out)\n",
        "\n",
        "    # 2 hidden dima backwards and forwards - need to be concatinated, 2bc of bi-directional\n",
        "    self.fc1 = nn.Linear(2*hidden_dim, 4)\n",
        "\n",
        "\n",
        "  def forward(self, text, lengths):\n",
        "    # text: batch_Size X sequence lenght\n",
        "    embedded = self.embedding(text) # embedded: batch_size X sequence length X embedding dimension\n",
        "\n",
        "    packed_embedded = pack_padded_sequence(embedded, lengths, batch_first=True, enforce_sorted=False)\n",
        "\n",
        "    # pack embedded contains the packed embeddings without the the padding tokens alongside the lengths and changing dimensions!\n",
        "    #tensor([[1, 2, 3],\n",
        "    #    [3, 4, 0]])\n",
        "\n",
        "    # becomes data=tensor([1, 3, 2, 4, 3]), batch_sizes=tensor([2, 2, 1])  or size is sum of all sequence lengths in batch * embedding dimension\n",
        "\n",
        "    \n",
        "    output, [hidden, cell] = self.lstm(packed_embedded) \n",
        "    #hidden: 2 (number if directions) X batch_size X hidden dimension\n",
        "\n",
        "    return  self.fc1(  torch.cat((hidden[-2*self.num_layer,:,:], hidden[-1*self.num_layer,:,:]), dim = 1  ) )\n",
        "\n",
        "    # torch cat output -> first in argument - direction 1 / second in argument -> direction 2 (each of dimension batch size * hiddem dimension)\n",
        "    # shape -> batch size * (hidden dim * 2)\n",
        "\n",
        "    # final output of fc1 -> batch size * 4 :D \n",
        "\n",
        "\n",
        "    \n",
        "    "
      ],
      "metadata": {
        "id": "XMJoDQ2oquzL"
      },
      "execution_count": null,
      "outputs": []
    },
    {
      "cell_type": "markdown",
      "metadata": {
        "id": "4sdHbeSR0FaE"
      },
      "source": [
        "# Model Training "
      ]
    },
    {
      "cell_type": "markdown",
      "metadata": {
        "id": "qgaLVodh0gsu"
      },
      "source": [
        "Now, the model is trained. I shall be following the optimization procedure as laid out in the lecture. "
      ]
    },
    {
      "cell_type": "markdown",
      "metadata": {
        "id": "6r9EYlU41CxT"
      },
      "source": [
        "## Step 1: Overfit a small number of examples.\n",
        "\n",
        "For a subset of the overall data available, I shall try to reach ~ 100% training accuracy (here Macro F1)! The 10 minibatches are drawn at random with a random seed ensuring that the same ones are drawn. "
      ]
    },
    {
      "cell_type": "code",
      "execution_count": null,
      "metadata": {
        "id": "Nh4D8m6vxTNy"
      },
      "outputs": [],
      "source": [
        "## getting new dataoader for fewer data\n",
        "\n",
        "train_data_raw_reduced = train_data_raw.sample(n = math.ceil(0.1 * train_data_raw.shape[0]) )\n",
        "train_data_reduced  = Text_as_Dataset(train_data_raw_reduced)\n",
        "train_dataloader_reduced = DataLoader(train_data_reduced, batch_size=128, collate_fn=collate_batch, shuffle=True)\n",
        "\n"
      ]
    },
    {
      "cell_type": "code",
      "execution_count": null,
      "metadata": {
        "id": "XhaYW_DzlZm7"
      },
      "outputs": [],
      "source": [
        "import torch \n",
        "\n",
        "INPUT_DIM = len(vocab)\n",
        "HIDDEN_DIM = 40\n",
        "OUTPUT_DIM = 4\n",
        "DROPOUT = 0\n",
        "NUM_LAYER = 2\n",
        "\n",
        "model = my_LSTM_regu(INPUT_DIM, HIDDEN_DIM, OUTPUT_DIM, DROPOUT, NUM_LAYER)\n",
        "\n",
        "device = torch.device(\"cuda\")\n",
        "model = model.to(device)\n"
      ]
    },
    {
      "cell_type": "code",
      "execution_count": null,
      "metadata": {
        "id": "JDHzoGhdlcQT"
      },
      "outputs": [],
      "source": [
        "criterion = torch.nn.CrossEntropyLoss() # Acc. to Pytorch Documentation: The input is expected to contain raw, unnormalized scores for each class.\n",
        "optimizer = torch.optim.Adam(model.parameters(), lr = 1e-3)\n"
      ]
    },
    {
      "cell_type": "code",
      "execution_count": null,
      "metadata": {
        "id": "_iRu_BSSD4pn"
      },
      "outputs": [],
      "source": [
        "from sklearn.metrics import f1_score"
      ]
    },
    {
      "cell_type": "markdown",
      "metadata": {
        "id": "2li_7tu6usLm"
      },
      "source": [
        "Note that the running loss as well as the F1 per epoch (so the f1 of the X batches within each epoch) are returned."
      ]
    },
    {
      "cell_type": "code",
      "execution_count": null,
      "metadata": {
        "colab": {
          "base_uri": "https://localhost:8080/"
        },
        "id": "M3XS0zwm1NQB",
        "outputId": "5e521196-1094-414b-b188-8eba1fe52bc9"
      },
      "outputs": [
        {
          "output_type": "stream",
          "name": "stdout",
          "text": [
            "Epoch 0 Mean Running Training Loss: 1.3575468328264024\n",
            "Epoch 0 Macro F1 of this epoch: 0.186405183122216\n",
            "Epoch 1 Mean Running Training Loss: 1.3465451432598963\n",
            "Epoch 1 Macro F1 of this epoch: 0.2356688876267679\n",
            "Epoch 2 Mean Running Training Loss: 1.3339972231123183\n",
            "Epoch 2 Macro F1 of this epoch: 0.2755471994985258\n",
            "Epoch 3 Mean Running Training Loss: 1.3189420286152098\n",
            "Epoch 3 Macro F1 of this epoch: 0.3172303099359745\n",
            "Epoch 4 Mean Running Training Loss: 1.3038639068603515\n",
            "Epoch 4 Macro F1 of this epoch: 0.37699433530415244\n",
            "Epoch 5 Mean Running Training Loss: 1.2867444643267878\n",
            "Epoch 5 Macro F1 of this epoch: 0.38151923565609025\n",
            "Epoch 6 Mean Running Training Loss: 1.2705623810253446\n",
            "Epoch 6 Macro F1 of this epoch: 0.4170099615274603\n",
            "Epoch 7 Mean Running Training Loss: 1.2554875794384215\n",
            "Epoch 7 Macro F1 of this epoch: 0.44853142506429483\n",
            "Epoch 8 Mean Running Training Loss: 1.2414733039008246\n",
            "Epoch 8 Macro F1 of this epoch: 0.4738567707801694\n",
            "Epoch 9 Mean Running Training Loss: 1.2277493218580882\n",
            "Epoch 9 Macro F1 of this epoch: 0.4767501529757001\n",
            "Epoch 10 Mean Running Training Loss: 1.2151800559626684\n",
            "Epoch 10 Macro F1 of this epoch: 0.5078044832667115\n",
            "Epoch 11 Mean Running Training Loss: 1.20288848352653\n",
            "Epoch 11 Macro F1 of this epoch: 0.5126333353726271\n",
            "Epoch 12 Mean Running Training Loss: 1.1912044508334918\n",
            "Epoch 12 Macro F1 of this epoch: 0.5227321494715829\n",
            "Epoch 13 Mean Running Training Loss: 1.1809332297434882\n",
            "Epoch 13 Macro F1 of this epoch: 0.5297417096964615\n",
            "Epoch 14 Mean Running Training Loss: 1.1706374088923137\n",
            "Epoch 14 Macro F1 of this epoch: 0.5470662857091363\n",
            "Epoch 15 Mean Running Training Loss: 1.1593161163230736\n",
            "Epoch 15 Macro F1 of this epoch: 0.571387049546813\n",
            "Epoch 16 Mean Running Training Loss: 1.1493307920842388\n",
            "Epoch 16 Macro F1 of this epoch: 0.5674671988564525\n",
            "Epoch 17 Mean Running Training Loss: 1.1389292500637196\n",
            "Epoch 17 Macro F1 of this epoch: 0.5757383454958246\n",
            "Epoch 18 Mean Running Training Loss: 1.1287638088415939\n",
            "Epoch 18 Macro F1 of this epoch: 0.6046147319201461\n",
            "Epoch 19 Mean Running Training Loss: 1.1184908246000609\n",
            "Epoch 19 Macro F1 of this epoch: 0.6100216892548522\n",
            "Epoch 20 Mean Running Training Loss: 1.1069411941306302\n",
            "Epoch 20 Macro F1 of this epoch: 0.6431016787758956\n",
            "Epoch 21 Mean Running Training Loss: 1.0959657088975714\n",
            "Epoch 21 Macro F1 of this epoch: 0.6455692394163369\n",
            "Epoch 22 Mean Running Training Loss: 1.0846625169118245\n",
            "Epoch 22 Macro F1 of this epoch: 0.6555769139087034\n",
            "Epoch 23 Mean Running Training Loss: 1.076067201241299\n",
            "Epoch 23 Macro F1 of this epoch: 0.6190338024202277\n",
            "Epoch 24 Mean Running Training Loss: 1.0682933621936375\n",
            "Epoch 24 Macro F1 of this epoch: 0.6367808387562459\n",
            "Epoch 25 Mean Running Training Loss: 1.057773561686532\n",
            "Epoch 25 Macro F1 of this epoch: 0.6762398320798949\n",
            "Epoch 26 Mean Running Training Loss: 1.0455395258012623\n",
            "Epoch 26 Macro F1 of this epoch: 0.7174965725588253\n",
            "Epoch 27 Mean Running Training Loss: 1.0332649652920072\n",
            "Epoch 27 Macro F1 of this epoch: 0.7222176394854034\n",
            "Epoch 28 Mean Running Training Loss: 1.0221635566817389\n",
            "Epoch 28 Macro F1 of this epoch: 0.7058334177623267\n",
            "Epoch 29 Mean Running Training Loss: 1.0118263022767173\n",
            "Epoch 29 Macro F1 of this epoch: 0.7222982430082998\n",
            "Epoch 30 Mean Running Training Loss: 1.0032015049756642\n",
            "Epoch 30 Macro F1 of this epoch: 0.7111447401874404\n",
            "Epoch 31 Mean Running Training Loss: 0.9928743809254633\n",
            "Epoch 31 Macro F1 of this epoch: 0.7384551862075095\n",
            "Epoch 32 Mean Running Training Loss: 0.9816503670279827\n",
            "Epoch 32 Macro F1 of this epoch: 0.7629059971853867\n",
            "Epoch 33 Mean Running Training Loss: 0.970986928815156\n",
            "Epoch 33 Macro F1 of this epoch: 0.7589857531898638\n",
            "Epoch 34 Mean Running Training Loss: 0.9608331693543328\n",
            "Epoch 34 Macro F1 of this epoch: 0.7626282167490185\n",
            "Epoch 35 Mean Running Training Loss: 0.9489082623227143\n",
            "Epoch 35 Macro F1 of this epoch: 0.8060502342885735\n",
            "Epoch 36 Mean Running Training Loss: 0.9372591216105957\n",
            "Epoch 36 Macro F1 of this epoch: 0.7980708010897\n",
            "Epoch 37 Mean Running Training Loss: 0.9256782374883953\n",
            "Epoch 37 Macro F1 of this epoch: 0.8184051964546022\n",
            "Epoch 38 Mean Running Training Loss: 0.9135082413328339\n",
            "Epoch 38 Macro F1 of this epoch: 0.836094170174806\n",
            "Epoch 39 Mean Running Training Loss: 0.9020177012102472\n",
            "Epoch 39 Macro F1 of this epoch: 0.8326152355701915\n",
            "Epoch 40 Mean Running Training Loss: 0.8913257725355102\n",
            "Epoch 40 Macro F1 of this epoch: 0.8293114724157219\n",
            "Epoch 41 Mean Running Training Loss: 0.8801486150770591\n",
            "Epoch 41 Macro F1 of this epoch: 0.8517195648331017\n",
            "Epoch 42 Mean Running Training Loss: 0.869542071331071\n",
            "Epoch 42 Macro F1 of this epoch: 0.8457847442637758\n",
            "Epoch 43 Mean Running Training Loss: 0.8575852659690861\n",
            "Epoch 43 Macro F1 of this epoch: 0.8805863705662167\n",
            "Epoch 44 Mean Running Training Loss: 0.8455824402011471\n",
            "Epoch 44 Macro F1 of this epoch: 0.8973039788118881\n",
            "Epoch 45 Mean Running Training Loss: 0.8358213225208618\n",
            "Epoch 45 Macro F1 of this epoch: 0.854722871882512\n",
            "Epoch 46 Mean Running Training Loss: 0.8255298090107898\n",
            "Epoch 46 Macro F1 of this epoch: 0.8802286937070197\n",
            "Epoch 47 Mean Running Training Loss: 0.8164223074499104\n",
            "Epoch 47 Macro F1 of this epoch: 0.868253443595769\n",
            "Epoch 48 Mean Running Training Loss: 0.8069395108017522\n",
            "Epoch 48 Macro F1 of this epoch: 0.8731070417079467\n",
            "Epoch 49 Mean Running Training Loss: 0.7968645703792572\n",
            "Epoch 49 Macro F1 of this epoch: 0.8974871741130755\n",
            "Epoch 50 Mean Running Training Loss: 0.7864676544316973\n",
            "Epoch 50 Macro F1 of this epoch: 0.9157561133095167\n",
            "Epoch 51 Mean Running Training Loss: 0.7793799300288033\n",
            "Epoch 51 Macro F1 of this epoch: 0.8509936998273608\n",
            "Epoch 52 Mean Running Training Loss: 0.770970923330174\n",
            "Epoch 52 Macro F1 of this epoch: 0.8815858943319604\n",
            "Epoch 53 Mean Running Training Loss: 0.7616647736863099\n",
            "Epoch 53 Macro F1 of this epoch: 0.9175166426720744\n",
            "Epoch 54 Mean Running Training Loss: 0.7518570491310322\n",
            "Epoch 54 Macro F1 of this epoch: 0.9309731735484967\n",
            "Epoch 55 Mean Running Training Loss: 0.742064179409118\n",
            "Epoch 55 Macro F1 of this epoch: 0.938978189191018\n",
            "Epoch 56 Mean Running Training Loss: 0.7322825966421043\n",
            "Epoch 56 Macro F1 of this epoch: 0.9521592912039715\n",
            "Epoch 57 Mean Running Training Loss: 0.7249026583985807\n",
            "Epoch 57 Macro F1 of this epoch: 0.8958463862283016\n",
            "Epoch 58 Mean Running Training Loss: 0.7218836173274872\n",
            "Epoch 58 Macro F1 of this epoch: 0.7861337693733812\n",
            "Epoch 59 Mean Running Training Loss: 0.7165045305948566\n",
            "Epoch 59 Macro F1 of this epoch: 0.8499653896143828\n"
          ]
        }
      ],
      "source": [
        "num_epochs = 60\n",
        "\n",
        "f1_epoch = []\n",
        "train_running_loss = []\n",
        "\n",
        "for epoch in range(num_epochs):\n",
        "\n",
        "  argmax_labels = []\n",
        "  argmax_outputs = []\n",
        "\n",
        "\n",
        "  for (text, labels,  lengths) in train_dataloader_reduced:\n",
        "    f1_batch = []\n",
        "\n",
        "    optimizer.zero_grad()\n",
        "    output = model(text.long().embeddings_yahoo_2 = model_2.encode(list(yahoo_df_train.text))\n",
        ", lengths).squeeze(1)\n",
        "    loss = criterion(output, labels.to(device)) \n",
        "    loss.backward()\n",
        "    optimizer.step()\n",
        "    train_running_loss.append(loss.item())\n",
        "\n",
        "    argmax_labels.append( list(np.argmax(labels.cpu().detach().numpy(), axis = 1) ))    \n",
        "    argmax_outputs.append( list(np.argmax(output.cpu().detach().numpy(), axis = 1) ))  \n",
        "    \n",
        "  argmax_labels_all = [item for sublist in argmax_labels for item in sublist]\n",
        "  argmax_outputs_all = [item for sublist in argmax_outputs for item in sublist]\n",
        "\n",
        "\n",
        "    # f1 per batch\n",
        "\n",
        "  f1_here = f1_score(argmax_labels_all, argmax_outputs_all, labels = [0,1,2,3], average = \"macro\")\n",
        "  f1_epoch.append(f1_here)\n",
        "\n",
        "\n",
        "  print(f'Epoch {epoch} Mean Running Training Loss: {np.mean(train_running_loss)}')\n",
        "  print(f'Epoch {epoch} Macro F1 of this epoch: {f1_epoch[-1]}')\n",
        "  \n"
      ]
    },
    {
      "cell_type": "markdown",
      "metadata": {
        "id": "mKlu5YKavDcd"
      },
      "source": [
        "The architecture above seems to realize a really high Macro F1 Score. The first step of optimizing is hence done! I shall save this first model."
      ]
    },
    {
      "cell_type": "markdown",
      "metadata": {
        "id": "d4H0Qg8LytGg"
      },
      "source": [
        "## Step 2: Find Learning rate that makes loss go down\n",
        "\n",
        "I shall now use all data, the architecture of the last model and turn un dropout and evaluate the model on the test set find a learning rate that decreases the validation loss greatly within 70 iterations. Also, I shall use the AMAMW optimiser, which can incorporate a weight decay."
      ]
    },
    {
      "cell_type": "code",
      "source": [
        "\n",
        "INPUT_DIM = len(vocab)\n",
        "HIDDEN_DIM = 40\n",
        "OUTPUT_DIM = 4\n",
        "DROPOUT = 0.2\n",
        "NUM_LAYER = 2\n",
        "\n",
        "model = my_LSTM_regu(INPUT_DIM, HIDDEN_DIM, OUTPUT_DIM, DROPOUT, NUM_LAYER)\n",
        "\n",
        "device = torch.device(\"cuda\")\n",
        "model = model.to(device)\n",
        "\n",
        "criterion = torch.nn.CrossEntropyLoss() # Acc. to Pytorch Documentation: The input is expected to contain raw, unnormalized scores for each class.\n",
        "optimizer = torch.optim.AdamW(model.parameters(), lr = 1e-4, weight_decay = 1e-3)\n"
      ],
      "metadata": {
        "id": "7RbpZpAYTc-i"
      },
      "execution_count": null,
      "outputs": []
    },
    {
      "cell_type": "code",
      "execution_count": null,
      "metadata": {
        "colab": {
          "base_uri": "https://localhost:8080/"
        },
        "id": "3CWFZJLX-f4S",
        "outputId": "fdd89f71-02ff-43ba-e0e4-4305bd313bcf"
      },
      "outputs": [
        {
          "output_type": "stream",
          "name": "stdout",
          "text": [
            "Epoch 0 Validation Loss: 1.349463313817978\n",
            "Epoch 0 Macro F1 of this epoch: 0.21912709058096302\n",
            "Epoch 1 Validation Loss: 1.3296262621879578\n",
            "Epoch 1 Macro F1 of this epoch: 0.2648996833433559\n",
            "Epoch 2 Validation Loss: 1.275704663991928\n",
            "Epoch 2 Macro F1 of this epoch: 0.3284150530651308\n",
            "Epoch 3 Validation Loss: 1.2461912035942078\n",
            "Epoch 3 Macro F1 of this epoch: 0.36011037576065485\n",
            "Epoch 4 Validation Loss: 1.2254813253879546\n",
            "Epoch 4 Macro F1 of this epoch: 0.3604648202852239\n",
            "Epoch 5 Validation Loss: 1.2174838185310364\n",
            "Epoch 5 Macro F1 of this epoch: 0.3743974245353551\n",
            "Epoch 6 Validation Loss: 1.2066702902317048\n",
            "Epoch 6 Macro F1 of this epoch: 0.3842849106225573\n",
            "Epoch 7 Validation Loss: 1.200912481546402\n",
            "Epoch 7 Macro F1 of this epoch: 0.37961039997102086\n",
            "Epoch 8 Validation Loss: 1.1981333494186401\n",
            "Epoch 8 Macro F1 of this epoch: 0.38319475600991443\n",
            "Epoch 9 Validation Loss: 1.1934329569339752\n",
            "Epoch 9 Macro F1 of this epoch: 0.3854614550889217\n",
            "Epoch 10 Validation Loss: 1.1875666975975037\n",
            "Epoch 10 Macro F1 of this epoch: 0.38713502400879773\n",
            "Epoch 11 Validation Loss: 1.1997756719589234\n",
            "Epoch 11 Macro F1 of this epoch: 0.38760711540947185\n",
            "Epoch 12 Validation Loss: 1.1796499133110045\n",
            "Epoch 12 Macro F1 of this epoch: 0.3955081007919468\n",
            "Epoch 13 Validation Loss: 1.1797976732254027\n",
            "Epoch 13 Macro F1 of this epoch: 0.3964829984116002\n",
            "Epoch 14 Validation Loss: 1.1733728349208832\n",
            "Epoch 14 Macro F1 of this epoch: 0.42214214555246343\n",
            "Epoch 15 Validation Loss: 1.1728411257266997\n",
            "Epoch 15 Macro F1 of this epoch: 0.4124747089179305\n",
            "Epoch 16 Validation Loss: 1.169529092311859\n",
            "Epoch 16 Macro F1 of this epoch: 0.41247618392631213\n",
            "Epoch 17 Validation Loss: 1.1644802868366242\n",
            "Epoch 17 Macro F1 of this epoch: 0.42327149392277175\n",
            "Epoch 18 Validation Loss: 1.163947379589081\n",
            "Epoch 18 Macro F1 of this epoch: 0.4121772397134955\n",
            "Epoch 19 Validation Loss: 1.1619102358818054\n",
            "Epoch 19 Macro F1 of this epoch: 0.4159803126972603\n",
            "Epoch 20 Validation Loss: 1.1686285793781281\n",
            "Epoch 20 Macro F1 of this epoch: 0.4273684453763127\n",
            "Epoch 21 Validation Loss: 1.1660658597946167\n",
            "Epoch 21 Macro F1 of this epoch: 0.41865780738529756\n",
            "Epoch 22 Validation Loss: 1.1542456537485122\n",
            "Epoch 22 Macro F1 of this epoch: 0.4290049807964973\n",
            "Epoch 23 Validation Loss: 1.160193008184433\n",
            "Epoch 23 Macro F1 of this epoch: 0.42253271691569994\n",
            "Epoch 24 Validation Loss: 1.16891770362854\n",
            "Epoch 24 Macro F1 of this epoch: 0.42332037247106885\n",
            "Epoch 25 Validation Loss: 1.152857494354248\n",
            "Epoch 25 Macro F1 of this epoch: 0.4364322032767721\n",
            "Epoch 26 Validation Loss: 1.1506444275379182\n",
            "Epoch 26 Macro F1 of this epoch: 0.44161877666694205\n",
            "Epoch 27 Validation Loss: 1.1504124343395232\n",
            "Epoch 27 Macro F1 of this epoch: 0.43532691941757307\n",
            "Epoch 28 Validation Loss: 1.1492335796356201\n",
            "Epoch 28 Macro F1 of this epoch: 0.4420901985968916\n",
            "Epoch 29 Validation Loss: 1.1483054041862488\n",
            "Epoch 29 Macro F1 of this epoch: 0.4358368602577394\n",
            "Epoch 30 Validation Loss: 1.1489478707313538\n",
            "Epoch 30 Macro F1 of this epoch: 0.4434628673359965\n",
            "Epoch 31 Validation Loss: 1.1477641820907594\n",
            "Epoch 31 Macro F1 of this epoch: 0.45543556382806694\n",
            "Epoch 32 Validation Loss: 1.142713987827301\n",
            "Epoch 32 Macro F1 of this epoch: 0.44443172645018203\n",
            "Epoch 33 Validation Loss: 1.1449492812156676\n",
            "Epoch 33 Macro F1 of this epoch: 0.44992052456285964\n",
            "Epoch 34 Validation Loss: 1.1435745358467102\n",
            "Epoch 34 Macro F1 of this epoch: 0.45140635271406965\n",
            "Epoch 35 Validation Loss: 1.143535500764847\n",
            "Epoch 35 Macro F1 of this epoch: 0.4392626491301742\n",
            "Epoch 36 Validation Loss: 1.1413774847984315\n",
            "Epoch 36 Macro F1 of this epoch: 0.4565487672802231\n",
            "Epoch 37 Validation Loss: 1.1440288066864013\n",
            "Epoch 37 Macro F1 of this epoch: 0.45063802604393005\n",
            "Epoch 38 Validation Loss: 1.1438231229782105\n",
            "Epoch 38 Macro F1 of this epoch: 0.4483266643155802\n",
            "Epoch 39 Validation Loss: 1.1404708445072174\n",
            "Epoch 39 Macro F1 of this epoch: 0.4593612157675312\n",
            "Epoch 40 Validation Loss: 1.1436650782823563\n",
            "Epoch 40 Macro F1 of this epoch: 0.44530146790101877\n",
            "Epoch 41 Validation Loss: 1.1499503672122955\n",
            "Epoch 41 Macro F1 of this epoch: 0.438813299637084\n",
            "Epoch 42 Validation Loss: 1.1429797530174255\n",
            "Epoch 42 Macro F1 of this epoch: 0.45828101866381776\n",
            "Epoch 43 Validation Loss: 1.1433497369289398\n",
            "Epoch 43 Macro F1 of this epoch: 0.46468261265072386\n",
            "Epoch 44 Validation Loss: 1.1440331786870956\n",
            "Epoch 44 Macro F1 of this epoch: 0.4525253463487777\n",
            "Epoch 45 Validation Loss: 1.1390216946601868\n",
            "Epoch 45 Macro F1 of this epoch: 0.44564509583516554\n",
            "Epoch 46 Validation Loss: 1.1390490353107452\n",
            "Epoch 46 Macro F1 of this epoch: 0.46259150144941685\n",
            "Epoch 47 Validation Loss: 1.1416938751935959\n",
            "Epoch 47 Macro F1 of this epoch: 0.45547350264687314\n",
            "Epoch 48 Validation Loss: 1.1471307098865509\n",
            "Epoch 48 Macro F1 of this epoch: 0.45285846014199294\n",
            "Epoch 49 Validation Loss: 1.1404188454151154\n",
            "Epoch 49 Macro F1 of this epoch: 0.4751289019108417\n",
            "Epoch 50 Validation Loss: 1.1413831830024719\n",
            "Epoch 50 Macro F1 of this epoch: 0.4477972848781552\n",
            "Epoch 51 Validation Loss: 1.1386134684085847\n",
            "Epoch 51 Macro F1 of this epoch: 0.47392044645702636\n",
            "Epoch 52 Validation Loss: 1.1346825063228607\n",
            "Epoch 52 Macro F1 of this epoch: 0.4696463631381888\n",
            "Epoch 53 Validation Loss: 1.134809809923172\n",
            "Epoch 53 Macro F1 of this epoch: 0.4725136653058522\n",
            "Epoch 54 Validation Loss: 1.1357813894748687\n",
            "Epoch 54 Macro F1 of this epoch: 0.47306023642259926\n",
            "Epoch 55 Validation Loss: 1.1368342220783234\n",
            "Epoch 55 Macro F1 of this epoch: 0.45762137407254166\n",
            "Epoch 56 Validation Loss: 1.1456477224826813\n",
            "Epoch 56 Macro F1 of this epoch: 0.45312643345521475\n",
            "Epoch 57 Validation Loss: 1.1320718675851822\n",
            "Epoch 57 Macro F1 of this epoch: 0.4756525138481672\n",
            "Epoch 58 Validation Loss: 1.1477583825588227\n",
            "Epoch 58 Macro F1 of this epoch: 0.47844233703822336\n",
            "Epoch 59 Validation Loss: 1.1408994972705842\n",
            "Epoch 59 Macro F1 of this epoch: 0.4747817879431434\n",
            "Epoch 60 Validation Loss: 1.1392591953277589\n",
            "Epoch 60 Macro F1 of this epoch: 0.46439688142804225\n",
            "Epoch 61 Validation Loss: 1.1396096467971801\n",
            "Epoch 61 Macro F1 of this epoch: 0.4761897920315302\n",
            "Epoch 62 Validation Loss: 1.136801302433014\n",
            "Epoch 62 Macro F1 of this epoch: 0.4610551217046506\n",
            "Epoch 63 Validation Loss: 1.1358241975307464\n",
            "Epoch 63 Macro F1 of this epoch: 0.4746047698479805\n",
            "Epoch 64 Validation Loss: 1.1489418625831604\n",
            "Epoch 64 Macro F1 of this epoch: 0.47373150492721405\n",
            "Epoch 65 Validation Loss: 1.1351000189781189\n",
            "Epoch 65 Macro F1 of this epoch: 0.47665848806787325\n",
            "Epoch 66 Validation Loss: 1.1374824821949006\n",
            "Epoch 66 Macro F1 of this epoch: 0.46764625907088864\n",
            "Epoch 67 Validation Loss: 1.1408803761005402\n",
            "Epoch 67 Macro F1 of this epoch: 0.47821769314591184\n",
            "Epoch 68 Validation Loss: 1.1369588077068329\n",
            "Epoch 68 Macro F1 of this epoch: 0.47238358671833447\n",
            "Epoch 69 Validation Loss: 1.1533339321613312\n",
            "Epoch 69 Macro F1 of this epoch: 0.47478316735811604\n"
          ]
        }
      ],
      "source": [
        "#import random\n",
        "#random.seed(5)\n",
        "\n",
        "num_epochs = 70\n",
        "f1_eval_epoch = []\n",
        "overall_train_loss = []\n",
        "overall_val_loss = []\n",
        "\n",
        "for epoch in range(num_epochs):\n",
        "\n",
        "  argmax_labels = []\n",
        "  argmax_outputs = []\n",
        "\n",
        "  model.train()\n",
        "  train_running_loss = []\n",
        "  for (text, labels,  lengths) in train_dataloader:\n",
        "\n",
        "    optimizer.zero_grad()\n",
        "    output = model(text.long().to(device), lengths).squeeze(1)\n",
        "    loss = criterion(output, labels.to(device) )\n",
        "    loss.backward()\n",
        "    optimizer.step()\n",
        "    train_running_loss.append(loss.item())\n",
        "\n",
        "  # evaluating on eval set \n",
        "  #with torch.no_grad():\n",
        "  \n",
        "  model.eval()\n",
        "  validation_running_loss = []\n",
        "  with torch.no_grad():\n",
        "  \n",
        "    for (text, labels,  lengths) in  val_dataloader:\n",
        "      f1_batch = []\n",
        "      output = model(text.long().to(device), lengths).squeeze(1) \n",
        "      loss = criterion(output, labels.to(device)) \n",
        "      validation_running_loss.append(loss.item())\n",
        "      \n",
        "      argmax_labels.append( list(np.argmax(labels.cpu().detach().numpy(), axis = 1) ))   \n",
        "      argmax_outputs.append( list(np.argmax(output.cpu().detach().numpy(), axis = 1) )) \n",
        "\n",
        "  overall_val_loss.append(np.mean(validation_running_loss))\n",
        "\n",
        "  argmax_labels_all = [item for sublist in argmax_labels for item in sublist]\n",
        "  argmax_outputs_all = [item for sublist in argmax_outputs for item in sublist]\n",
        "\n",
        "\n",
        "    # f1 per batch\n",
        "\n",
        "  f1_here = f1_score(argmax_labels_all, argmax_outputs_all, labels = [0,1,2,3], average = \"macro\")\n",
        "  f1_epoch.append(f1_here)\n",
        "\n",
        "\n",
        "  print(f'Epoch {epoch} Validation Loss: {overall_val_loss[-1]}')\n",
        "  print(f'Epoch {epoch} Macro F1 of this epoch: {f1_epoch[-1]}')\n",
        "  \n",
        " \n"
      ]
    },
    {
      "cell_type": "code",
      "source": [
        "# plotting number of epochs vs. training and evaluaiton loss per epoch!\n",
        "import matplotlib.pyplot as plt\n",
        "\n",
        "epochs = list(range(1,71))\n",
        "\n",
        "plt.plot(epochs, overall_val_loss)\n",
        "plt.legend([\"Validation Loss\"], loc='upper right')\n",
        "plt.show()\n"
      ],
      "metadata": {
        "colab": {
          "base_uri": "https://localhost:8080/",
          "height": 265
        },
        "id": "66Hpw2_tNzbA",
        "outputId": "00cdc554-9be2-4ed5-ca22-2d70cbd55c8a"
      },
      "execution_count": null,
      "outputs": [
        {
          "output_type": "display_data",
          "data": {
            "image/png": "[encoded data removed]",
            "text/plain": [
              "<Figure size 432x288 with 1 Axes>"
            ]
          },
          "metadata": {
            "needs_background": "light"
          }
        }
      ]
    },
    {
      "cell_type": "markdown",
      "source": [
        "A learning rate of 1e-4 does seem to work for reducing both the training and the validation loss.\n"
      ],
      "metadata": {
        "id": "Wy2FMADkYv_H"
      }
    },
    {
      "cell_type": "markdown",
      "source": [
        "## Step 3: Coarse grid search\n",
        "\n",
        "Next, I shall play around with some useful weight decay numbers and some useful dropout strength  hyperparameters to find optimal ones. The learning rate is kept at 1e-4 to allow for precise updates. Therefore, I shall see how the model performs in the first 30 epochs."
      ],
      "metadata": {
        "id": "c-aRG9AsS3uO"
      }
    },
    {
      "cell_type": "code",
      "source": [
        "weight_decay = [1e-2, 1e-3, 1e-4]\n",
        "dropouts = [0.15, 0.2]\n",
        "\n",
        "# matrix for outputs \n",
        "output_step_3 = np.ones([30,6])"
      ],
      "metadata": {
        "id": "lUR0OFUJSr-v"
      },
      "execution_count": null,
      "outputs": []
    },
    {
      "cell_type": "code",
      "source": [
        "# counter for filling in columns \n",
        "i = 0 \n",
        "\n",
        "for w in weight_decay:\n",
        "  for drop in dropouts:\n",
        "\n",
        "\n",
        "    print(f\"Weigth decay:{w}\")\n",
        "    print(f\"Dropout:{drop}\")\n",
        "      \n",
        "    # defining model & optimizer\n",
        "    model = my_LSTM_regu(INPUT_DIM, HIDDEN_DIM, OUTPUT_DIM, drop, NUM_LAYER)\n",
        "    model = model.to(device)\n",
        "    criterion = torch.nn.CrossEntropyLoss() # Acc. to Pytorch Documentation: The input is expected to contain raw, unnormalized scores for each class.\n",
        "    optimizer = torch.optim.AdamW(model.parameters(), lr = 1e-4, weight_decay = w)\n",
        "\n",
        "\n",
        "    # training & evaluating model \n",
        "    num_epochs = 30\n",
        "    overall_val_loss = []\n",
        "\n",
        "    for epoch in range(num_epochs):\n",
        "\n",
        "      model.train()\n",
        "      for (text, labels,  lengths) in train_dataloader:\n",
        "\n",
        "        optimizer.zero_grad()\n",
        "        output = model(text.long().to(device), lengths).squeeze(1) # cpu().\n",
        "        loss = criterion(output, labels.to(device) )    #.to(device))\n",
        "        loss.backward()\n",
        "        optimizer.step()\n",
        "       \n",
        "      model.eval()\n",
        "      validation_running_loss = []\n",
        "      with torch.no_grad():\n",
        "    \n",
        "        for (text, labels,  lengths) in  val_dataloader:\n",
        "          output = model(text.long().to(device), lengths).squeeze(1)  # .to(device)\n",
        "          loss = criterion(output, labels.to(device)) #  .to(device)) \n",
        "          validation_running_loss.append(loss.item())\n",
        "\n",
        "\n",
        "      overall_val_loss.append(np.mean(validation_running_loss))\n",
        "\n",
        "    # filling in result matrix\n",
        "    output_step_3[:,i] = overall_val_loss\n",
        "\n",
        "      \n",
        "    i += 1\n",
        "\n",
        "\n"
      ],
      "metadata": {
        "colab": {
          "base_uri": "https://localhost:8080/"
        },
        "id": "WVqs4I0wZMKH",
        "outputId": "2d6ef50d-c620-4485-fee5-b6a7767cd7ae"
      },
      "execution_count": null,
      "outputs": [
        {
          "output_type": "stream",
          "name": "stdout",
          "text": [
            "Weigth decay:0.01\n",
            "Dropout:0.15\n",
            "Weigth decay:0.01\n",
            "Dropout:0.2\n",
            "Weigth decay:0.001\n",
            "Dropout:0.15\n",
            "Weigth decay:0.001\n",
            "Dropout:0.2\n",
            "Weigth decay:0.0001\n",
            "Dropout:0.15\n",
            "Weigth decay:0.0001\n",
            "Dropout:0.2\n"
          ]
        }
      ]
    },
    {
      "cell_type": "markdown",
      "source": [
        "Now, one can take a look at the validation losses to find the best combination."
      ],
      "metadata": {
        "id": "Q3tUtDZnlNJl"
      }
    },
    {
      "cell_type": "code",
      "source": [
        "## Plotting outputs \n",
        "\n",
        "epochs = list(range(1,31))\n",
        "plt.plot(epochs, output_step_3[:,0])\n",
        "plt.plot(epochs, output_step_3[:,1])\n",
        "plt.plot(epochs, output_step_3[:,2])\n",
        "plt.plot(epochs, output_step_3[:,3])\n",
        "plt.plot(epochs, output_step_3[:,4])\n",
        "plt.plot(epochs, output_step_3[:,5])\n",
        "\n",
        "# adding legend\n",
        "labels = []\n",
        "for w in weight_decay:\n",
        "  for drop in dropouts:\n",
        "    labels.append(str(\"Weight decay of \" + str(w) + \"; dropout of \" + str(drop) ) )\n",
        "\n",
        "\n",
        "plt.legend(labels, loc='upper right')\n",
        "plt.show()"
      ],
      "metadata": {
        "colab": {
          "base_uri": "https://localhost:8080/",
          "height": 265
        },
        "id": "3LZTSr4pjaJK",
        "outputId": "fb50bb42-0946-41a0-d34a-e8aac62ca016"
      },
      "execution_count": null,
      "outputs": [
        {
          "output_type": "display_data",
          "data": {
            "image/png": "[encoded data removed]",
            "text/plain": [
              "<Figure size 432x288 with 1 Axes>"
            ]
          },
          "metadata": {
            "needs_background": "light"
          }
        }
      ]
    },
    {
      "cell_type": "markdown",
      "source": [
        "Based on th grpah above, the best combination seems to be a weight decay of 1e-2 and a dropout of 0.2 (orange line)."
      ],
      "metadata": {
        "id": "c8xhwEvglSdH"
      }
    },
    {
      "cell_type": "markdown",
      "source": [
        "## Step 4: Fine grid search\n",
        "\n",
        "Now, I shall keep the aritecture with a weight decay of 1e-2 and a dropout of 0.2 and do a grid search for the hidden dimension and the number of layers as these seem to have a large impact on the model performance. Especially given the limited GPU usage, it makes sense to focus on those hyper-parameters which do have a large effect on performance.  Again, I shall train each model for 30 iterations and compare the respective validation losses. "
      ],
      "metadata": {
        "id": "4eUw8xG6lldC"
      }
    },
    {
      "cell_type": "code",
      "source": [
        "weight_decay = 1e-2\n",
        "dropout = 0.2\n",
        "\n",
        "hidden_dims = [40, 80, 120]\n",
        "num_layer = [2,3]\n",
        "\n",
        "# matrix for outputs \n",
        "output_step_4 = np.ones([30,6])"
      ],
      "metadata": {
        "id": "r6i4D1q3mLvY"
      },
      "execution_count": null,
      "outputs": []
    },
    {
      "cell_type": "code",
      "source": [
        "# counter for filling in columns \n",
        "i = 0 \n",
        "\n",
        "for h in hidden_dims:\n",
        "  for num in num_layer:\n",
        "\n",
        "\n",
        "    print(f\"Hiddem Dim:{h}\")\n",
        "    print(f\"Number of Layers:{num}\")\n",
        "      \n",
        "    # defining model & optimizer\n",
        "    model = my_LSTM_regu(INPUT_DIM, h, OUTPUT_DIM, dropout, num)\n",
        "    model = model.to(device)\n",
        "    criterion = torch.nn.CrossEntropyLoss() # Acc. to Pytorch Documentation: The input is expected to contain raw, unnormalized scores for each class.\n",
        "    optimizer = torch.optim.AdamW(model.parameters(), lr = 1e-4, weight_decay = weight_decay)\n",
        "\n",
        "\n",
        "    # training & evaluating model \n",
        "    num_epochs = 30\n",
        "    overall_val_loss = []\n",
        "\n",
        "    for epoch in range(num_epochs):\n",
        "\n",
        "      model.train()\n",
        "      for (text, labels,  lengths) in train_dataloader:\n",
        "\n",
        "        optimizer.zero_grad()\n",
        "        output = model(text.long().to(device), lengths).squeeze(1) # cpu().\n",
        "        loss = criterion(output, labels.to(device) )    #.to(device))\n",
        "        loss.backward()\n",
        "        optimizer.step()\n",
        "       \n",
        "      model.eval()\n",
        "      validation_running_loss = []\n",
        "      with torch.no_grad():\n",
        "    \n",
        "        for (text, labels,  lengths) in  val_dataloader:\n",
        "          output = model(text.long().to(device), lengths).squeeze(1)  # .to(device)\n",
        "          loss = criterion(output, labels.to(device)) #  .to(device)) \n",
        "          validation_running_loss.append(loss.item())\n",
        "\n",
        "\n",
        "      overall_val_loss.append(np.mean(validation_running_loss))\n",
        "\n",
        "    # filling in result matrix\n",
        "    output_step_4[:,i] = overall_val_loss\n",
        "\n",
        "    i += 1\n"
      ],
      "metadata": {
        "colab": {
          "base_uri": "https://localhost:8080/"
        },
        "id": "7TBut6ISmqa6",
        "outputId": "90667ba2-770e-41c4-9420-69ef8e244004"
      },
      "execution_count": null,
      "outputs": [
        {
          "output_type": "stream",
          "name": "stdout",
          "text": [
            "Hiddem Dim:40\n",
            "Number of Layers:2\n",
            "Hiddem Dim:40\n",
            "Number of Layers:3\n",
            "Hiddem Dim:80\n",
            "Number of Layers:2\n",
            "Hiddem Dim:80\n",
            "Number of Layers:3\n",
            "Hiddem Dim:120\n",
            "Number of Layers:2\n",
            "Hiddem Dim:120\n",
            "Number of Layers:3\n"
          ]
        }
      ]
    },
    {
      "cell_type": "code",
      "source": [
        "## Plotting outputs \n",
        "\n",
        "epochs = list(range(1,31))\n",
        "plt.plot(epochs, output_step_4[:,0])\n",
        "plt.plot(epochs, output_step_4[:,1])\n",
        "plt.plot(epochs, output_step_4[:,2])\n",
        "plt.plot(epochs, output_step_4[:,3])\n",
        "plt.plot(epochs, output_step_4[:,4])\n",
        "plt.plot(epochs, output_step_4[:,5])\n",
        "\n",
        "# adding legend\n",
        "labels = []\n",
        "for h in hidden_dims:\n",
        "  for num in num_layer:\n",
        "    labels.append(str(\"Hidden dim \" + str(h) + \"; Number of layers \" + str(num) ) )\n",
        "\n",
        "plt.legend(labels, loc='upper right')\n",
        "plt.show()"
      ],
      "metadata": {
        "colab": {
          "base_uri": "https://localhost:8080/",
          "height": 265
        },
        "id": "e3vB1dB0wpah",
        "outputId": "d3ca306c-f5f8-4388-fc43-568e974c969a"
      },
      "execution_count": null,
      "outputs": [
        {
          "output_type": "display_data",
          "data": {
            "image/png": "[encoded data removed]",
            "text/plain": [
              "<Figure size 432x288 with 1 Axes>"
            ]
          },
          "metadata": {
            "needs_background": "light"
          }
        }
      ]
    },
    {
      "cell_type": "markdown",
      "source": [
        "It seems as if the bidirectional LSTM with a hidden dimension of 80 and 3 layers (red line) is performing the best."
      ],
      "metadata": {
        "id": "c9p4Uo3P5JDR"
      }
    },
    {
      "cell_type": "markdown",
      "source": [
        "## Training 'best' model\n",
        "\n",
        "Now that I have found 'optimal' hyper-parameters, it is time to train the model with the latter and save it afterwards. I shall also implement an adaptive learning rate regime and early stopping to make smaller and more accurate gradient descent steps and to avoid overfitting. If the current validation loss is higher than that of two preceding epochs, the learning rate is lowered to 1e-5 and if after this step the  validation loss is again higher than that of the two preceding epochs, the learning is stopped.\n"
      ],
      "metadata": {
        "id": "jd3ImPzt6l4x"
      }
    },
    {
      "cell_type": "code",
      "source": [
        "INPUT_DIM = len(vocab)\n",
        "BEST_HIDDEN_DIM = 80\n",
        "OUTPUT_DIM = 4\n",
        "BEST_DROPOUT = 0.2\n",
        "BEST_NUM_LAYER = 3\n",
        "BEST_LR = 1e-4\n",
        "BEST_DECAY = 1e-3\n",
        "\n",
        "model = my_LSTM_regu(INPUT_DIM, BEST_HIDDEN_DIM, OUTPUT_DIM, BEST_DROPOUT, BEST_NUM_LAYER)\n",
        "\n",
        "device = torch.device(\"cuda\")\n",
        "model = model.to(device)\n",
        "\n",
        "criterion = torch.nn.CrossEntropyLoss() # Acc. to Pytorch Documentation: The input is expected to contain raw, unnormalized scores for each class.\n",
        "optimizer = torch.optim.AdamW(model.parameters(), lr = BEST_LR, weight_decay = BEST_DECAY)\n"
      ],
      "metadata": {
        "id": "d9z1_WBO5IbJ"
      },
      "execution_count": null,
      "outputs": []
    },
    {
      "cell_type": "code",
      "source": [
        "num_epochs = 100\n",
        "f1_epoch = []\n",
        "overall_val_loss = []\n",
        "counter = 1\n",
        "\n",
        "for epoch in range(num_epochs):\n",
        "\n",
        "  argmax_labels = []\n",
        "  argmax_outputs = []\n",
        "\n",
        "  model.train()\n",
        "  for (text, labels,  lengths) in train_dataloader:\n",
        "    f1_batch = []\n",
        "\n",
        "    optimizer.zero_grad()\n",
        "    output = model(text.long().to(device), lengths).squeeze(1)\n",
        "    \n",
        "    loss = criterion(output, labels.to(device))\n",
        "    loss.backward()\n",
        "    optimizer.step()\n",
        "    train_running_loss.append(loss.item())\n",
        "\n",
        "\n",
        "  model.eval()\n",
        "  validation_loss = []\n",
        "  with torch.no_grad():\n",
        "  \n",
        "    for (text, labels,  lengths) in  val_dataloader:\n",
        "      f1_batch = []\n",
        "      output = model(text.long().to(device), lengths).squeeze(1)  # .to(device)\n",
        "      loss = criterion(output, labels.to(device))\n",
        "      validation_loss.append(loss.item())\n",
        "\n",
        "      argmax_labels.append( list(np.argmax(labels.cpu().detach().numpy(), axis = 1) ))  \n",
        "      argmax_outputs.append( list(np.argmax(output.cpu().detach().numpy(), axis = 1) )) \n",
        "\n",
        "  overall_val_loss.append(np.mean(validation_loss))\n",
        "\n",
        "\n",
        "  argmax_labels_all = [item for sublist in argmax_labels for item in sublist]\n",
        "  argmax_outputs_all = [item for sublist in argmax_outputs for item in sublist]\n",
        "\n",
        "  # f1 per batch\n",
        "  f1_here = f1_score(argmax_labels_all, argmax_outputs_all, labels = [0,1,2,3], average = \"macro\")\n",
        "  f1_epoch.append(f1_here)\n",
        "\n",
        "  if counter > 25:\n",
        "    if (np.argmax(overall_val_loss[-3::])  == 2 ) & ( f1_here > 0.45  ) & (BEST_LR == 1e-4):\n",
        "      ## make learnign rate smaller \n",
        "      BEST_LR = 1e-5\n",
        "      optimizer = torch.optim.AdamW(model.parameters(), lr = BEST_LR, weight_decay = BEST_DECAY)\n",
        "    elif (np.argmax(overall_val_loss[-3::])  == 2 ) & ( f1_here > 0.45  ) & (BEST_LR == 1e-5):\n",
        "      break\n",
        "\n",
        "\n",
        "  print(f'Epoch {epoch} Validation Loss: {  overall_val_loss[-1]}')\n",
        "  print(f'Epoch {epoch} Macro F1 of this epoch: {f1_epoch[-1]}')\n",
        "  \n",
        "  counter += 1 \n"
      ],
      "metadata": {
        "colab": {
          "base_uri": "https://localhost:8080/"
        },
        "id": "r1TF8pKW_1Wn",
        "outputId": "324d2012-e1b0-421d-88e5-521bb5fefdd5"
      },
      "execution_count": null,
      "outputs": [
        {
          "output_type": "stream",
          "name": "stdout",
          "text": [
            "Epoch 0 Validation Loss: 1.3250102877616883\n",
            "Epoch 0 Macro F1 of this epoch: 0.23633391352980762\n",
            "Epoch 1 Validation Loss: 1.2643953323364259\n",
            "Epoch 1 Macro F1 of this epoch: 0.3249983504383581\n",
            "Epoch 2 Validation Loss: 1.2216599464416504\n",
            "Epoch 2 Macro F1 of this epoch: 0.365143531597962\n",
            "Epoch 3 Validation Loss: 1.2103756308555602\n",
            "Epoch 3 Macro F1 of this epoch: 0.36847195571758107\n",
            "Epoch 4 Validation Loss: 1.194956362247467\n",
            "Epoch 4 Macro F1 of this epoch: 0.38387486702962004\n",
            "Epoch 5 Validation Loss: 1.1857440412044524\n",
            "Epoch 5 Macro F1 of this epoch: 0.37746921347866164\n",
            "Epoch 6 Validation Loss: 1.1801469206809998\n",
            "Epoch 6 Macro F1 of this epoch: 0.3873352778683647\n",
            "Epoch 7 Validation Loss: 1.181063675880432\n",
            "Epoch 7 Macro F1 of this epoch: 0.40520365158992255\n",
            "Epoch 8 Validation Loss: 1.1776250958442689\n",
            "Epoch 8 Macro F1 of this epoch: 0.4121450563105576\n",
            "Epoch 9 Validation Loss: 1.1678112328052521\n",
            "Epoch 9 Macro F1 of this epoch: 0.4093517812759155\n",
            "Epoch 10 Validation Loss: 1.1705399096012115\n",
            "Epoch 10 Macro F1 of this epoch: 0.40690491723059413\n",
            "Epoch 11 Validation Loss: 1.1656152427196502\n",
            "Epoch 11 Macro F1 of this epoch: 0.42362314731156203\n",
            "Epoch 12 Validation Loss: 1.1700301885604858\n",
            "Epoch 12 Macro F1 of this epoch: 0.4147010022741308\n",
            "Epoch 13 Validation Loss: 1.1625858068466186\n",
            "Epoch 13 Macro F1 of this epoch: 0.43283428832088944\n",
            "Epoch 14 Validation Loss: 1.1562608480453491\n",
            "Epoch 14 Macro F1 of this epoch: 0.4066218626696016\n",
            "Epoch 15 Validation Loss: 1.1627878367900848\n",
            "Epoch 15 Macro F1 of this epoch: 0.44140600553361603\n",
            "Epoch 16 Validation Loss: 1.1518483817577363\n",
            "Epoch 16 Macro F1 of this epoch: 0.4424963823310841\n",
            "Epoch 17 Validation Loss: 1.1525695323944092\n",
            "Epoch 17 Macro F1 of this epoch: 0.44596924784586345\n",
            "Epoch 18 Validation Loss: 1.1535931646823883\n",
            "Epoch 18 Macro F1 of this epoch: 0.4557150124447894\n",
            "Epoch 19 Validation Loss: 1.1492210805416108\n",
            "Epoch 19 Macro F1 of this epoch: 0.44530940850665723\n",
            "Epoch 20 Validation Loss: 1.1604320287704468\n",
            "Epoch 20 Macro F1 of this epoch: 0.44845180251078876\n",
            "Epoch 21 Validation Loss: 1.150644701719284\n",
            "Epoch 21 Macro F1 of this epoch: 0.4574007910130237\n",
            "Epoch 22 Validation Loss: 1.1510487377643586\n",
            "Epoch 22 Macro F1 of this epoch: 0.4528736911220804\n",
            "Epoch 23 Validation Loss: 1.1600780963897706\n",
            "Epoch 23 Macro F1 of this epoch: 0.4435433744264168\n",
            "Epoch 24 Validation Loss: 1.1519429326057433\n",
            "Epoch 24 Macro F1 of this epoch: 0.4485945046312418\n",
            "Epoch 25 Validation Loss: 1.1464385747909547\n",
            "Epoch 25 Macro F1 of this epoch: 0.46064957418313013\n",
            "Epoch 26 Validation Loss: 1.1550192713737488\n",
            "Epoch 26 Macro F1 of this epoch: 0.45423564194264043\n",
            "Epoch 27 Validation Loss: 1.1443318784236909\n",
            "Epoch 27 Macro F1 of this epoch: 0.4591770839562128\n",
            "Epoch 28 Validation Loss: 1.1497078955173492\n",
            "Epoch 28 Macro F1 of this epoch: 0.4602026715599719\n",
            "Epoch 29 Validation Loss: 1.1447478592395783\n",
            "Epoch 29 Macro F1 of this epoch: 0.46206454060285473\n",
            "Epoch 30 Validation Loss: 1.1488725244998932\n",
            "Epoch 30 Macro F1 of this epoch: 0.459881171354216\n",
            "Epoch 31 Validation Loss: 1.1485405683517456\n",
            "Epoch 31 Macro F1 of this epoch: 0.464742740611195\n"
          ]
        }
      ]
    },
    {
      "cell_type": "code",
      "source": [
        "#saving the model \n",
        "model_save_name = 'exam_2_final_model.pth'\n",
        "path = F\"/content/gdrive/My Drive/DS405B_NLP/Ex_2/{model_save_name}\" \n",
        "torch.save(model, path)\n"
      ],
      "metadata": {
        "id": "vQC-BN1O8TG6"
      },
      "execution_count": null,
      "outputs": []
    },
    {
      "cell_type": "markdown",
      "source": [
        "## Function to apply new dataset to Model\n",
        "\n",
        "\n",
        "Now, I shall create three further cells. The first one needs to be run to recreate all functions / classes  for creating a test datalaoder. \n",
        "The second one creates a function that reads in the test set and the model, the vocabulary and the embedding_matrix (path to all these as inputs). \n",
        "The last cell then calls the function and prints the F1 Score."
      ],
      "metadata": {
        "id": "0vSIQ7Ca-UOD"
      }
    },
    {
      "cell_type": "markdown",
      "source": [
        "To re-create the vocabulary, the training set also needs to be read in. Thus, specify the path to the train set including the \"training.csv\" at the end below."
      ],
      "metadata": {
        "id": "rrbqbW9wkLyX"
      }
    },
    {
      "cell_type": "code",
      "source": [
        "## Here all code required for constructing the test dataloader can be found!\n",
        "\n",
        "import torch \n",
        "from torch import nn \n",
        "import torchtext\n",
        "from torch.utils.data import DataLoader\n",
        "from torch.nn.utils.rnn import pack_padded_sequence\n",
        "from torchtext.data.utils import get_tokenizer\n",
        "from torchtext.vocab import build_vocab_from_iterator\n",
        "from torchtext.data import to_map_style_dataset\n",
        "import numpy as np\n",
        "import sys\n",
        "import nltk\n",
        "nltk.download('punkt')\n",
        "from torch.utils.data import Dataset\n",
        "from numpy import dot\n",
        "from numpy.linalg import norm\n",
        "import random as rng\n",
        "from gensim.scripts.glove2word2vec import glove2word2vec\n",
        "from gensim.models import KeyedVectors\n",
        "from nltk.tokenize import word_tokenize\n",
        "import numpy as np\n",
        "import pandas as pd \n",
        "import math\n",
        "from torchtext.vocab import GloVe, vocab\n",
        "from sklearn.metrics import f1_score\n",
        "\n",
        "#######################\n",
        "tokenizer = get_tokenizer('basic_english')\n",
        "\n",
        "\n",
        "class Text_as_Dataset(Dataset):\n",
        "\n",
        "    ''' This class transforms the input data to a useable dataset, which can be passed \n",
        "    to PyTorch's dataloader class.''' \n",
        "    \n",
        "    def __init__(self, df):\n",
        "        # also defining default value # \n",
        "\n",
        "        # data as Pytorch tensors via the collate batches function \n",
        "        self.data = np.array(df)\n",
        "\n",
        "    def __getitem__(self, idx):\n",
        "        return (self.data[idx][0], self.data[idx][1])\n",
        "        \n",
        "    def __len__(self):\n",
        "        return(self.data.shape[0])\n",
        "\n",
        "#######################################\n",
        "\n",
        "\n",
        "def collate_batch(batch):\n",
        "  label_list, text_list, lengths = [], [], []\n",
        "  for (label, text) in batch:\n",
        "    if label == \"sadness\":\n",
        "      label_list.append([1,0,0,0])\n",
        "    elif label == \"worry\":\n",
        "      label_list.append([0,1,0,0])\n",
        "    elif label == \"neutral\":\n",
        "      label_list.append([0,0,1,0])\n",
        "    elif label == \"happiness\":\n",
        "      label_list.append([0,0,0,1])\n",
        "      \n",
        "    processed_text = torch.tensor(vocab(tokenizer(text)), dtype=torch.float32) # dim for each label/text pair in batch -> size of tokens per text\n",
        "    text_list.append(processed_text)\n",
        "    lengths.append(len(processed_text))\n",
        "\n",
        "  label_list = torch.tensor(label_list, dtype=torch.float32)\n",
        "  text_list = nn.utils.rnn.pad_sequence(text_list, batch_first=True, padding_value=index_pad) # batch size * size of longest sequence (others padded)\n",
        "  lengths =  torch.tensor(lengths)\n",
        "\n",
        "  return text_list, label_list, lengths\n",
        "\n",
        "\n"
      ],
      "metadata": {
        "id": "Zgxuijz2Pa-6"
      },
      "execution_count": null,
      "outputs": []
    },
    {
      "cell_type": "markdown",
      "source": [
        "Now, the function is set-up. It has as input parameters the path to the model as well as the path to the test set. Please consider that the model path should also include \"exam_2_final_model.pth\", the test set path should also include the name of the test set, e.g. \"test.csv\", the path to the embed matrix should contain \"embed_matrix.csv\" at the end and the path to the vocab should contain \"vocab.pth\" at the end."
      ],
      "metadata": {
        "id": "2Rgt0Clek4ix"
      }
    },
    {
      "cell_type": "code",
      "source": [
        "def read_in_evaluate(path_to_model, path_to_test_set, path_to_embed_matrix, path_to_vocab):\n",
        "\n",
        "  ## vocabulary and embedding matrix\n",
        "  embed_matrix = np.loadtxt(fname= str(path_to_embed_matrix), delimiter=\",\")\n",
        "\n",
        "  vocab = torch.load(str(path_to_vocab))\n",
        "\n",
        "\n",
        "  ## finding index fpr <pad> in the vocab \n",
        "  index_pad = vocab.lookup_indices([\"<pad>\"])[0]\n",
        "\n",
        "\n",
        "  ## reading in test set and creating test dataloader \n",
        "  data_raw_test = pd.read_csv(str(path_to_test_set)) \n",
        "  test_data  = Text_as_Dataset(data_raw_test)\n",
        "  test_dataloader = DataLoader(test_data, batch_size=128, collate_fn=collate_batch, shuffle= True)\n",
        "\n",
        "\n",
        "  ## reading in model \n",
        "  model2 = torch.load(str(path_to_model))\n",
        "\n",
        "  model2.eval()\n",
        "  argmax_labels = []\n",
        "  argmax_outputs = []\n",
        "  with torch.no_grad():\n",
        "\n",
        "    for (text, labels,  lengths) in  test_dataloader:\n",
        "      output = model2(text.long(), lengths).squeeze(1)  # .to(device)\n",
        "\n",
        "      argmax_labels.append( list(np.argmax(labels.detach().numpy(), axis = 1) ))  \n",
        "      argmax_outputs.append( list(np.argmax(output.detach().numpy(), axis = 1) )) \n",
        "\n",
        "  argmax_labels_all = [item for sublist in argmax_labels for item in sublist]\n",
        "  argmax_outputs_all = [item for sublist in argmax_outputs for item in sublist]\n",
        "\n",
        "  ## F1\n",
        "  f1_here = f1_score(argmax_labels_all, argmax_outputs_all, labels = [0,1,2,3], average = \"macro\")\n",
        "  print(f\"The Macro F1 Score on the unseen data is {f1_here}\")"
      ],
      "metadata": {
        "id": "FR-MvrEAVXvA"
      },
      "execution_count": null,
      "outputs": []
    },
    {
      "cell_type": "markdown",
      "source": [
        "Lastly, specify the paths to the model and the path to the test set and call the function to get the F1 Macro Score on the unseen data. Again, please include the names and the model and the test csv in the paths"
      ],
      "metadata": {
        "id": "WWAMy-fT4lMQ"
      }
    },
    {
      "cell_type": "code",
      "source": [
        "path_to_test_set = \"training.csv\"  # as an example!\n",
        "path_to_model = \"exam_2_final_model.pth\" # as an example !\n",
        "path_to_embed_matrix = \"embed_matrix.csv\" # as an example!\n",
        "path_to_vocab = \"vocab.pth\" # as an example!\n",
        "\n",
        "\n",
        "read_in_evaluate(path_to_model, path_to_test_set, path_to_embed_matrix, path_to_vocab)\n",
        "\n",
        "\n"
      ],
      "metadata": {
        "id": "GmzlBtTw4bfy",
        "colab": {
          "base_uri": "https://localhost:8080/"
        },
        "outputId": "66541269-faf9-473d-e8a1-2758a5f06bfe"
      },
      "execution_count": null,
      "outputs": [
        {
          "output_type": "stream",
          "name": "stdout",
          "text": [
            "The Macro F1 Score on the unseen data is 0.4962906149950381\n"
          ]
        }
      ]
    }
  ],
  "metadata": {
    "colab": {
      "collapsed_sections": [],
      "name": "Exam_2.ipynb",
      "provenance": []
    },
    "kernelspec": {
      "display_name": "Python 3",
      "name": "python3"
    },
    "language_info": {
      "name": "python"
    }
  },
  "nbformat": 4,
  "nbformat_minor": 0
}
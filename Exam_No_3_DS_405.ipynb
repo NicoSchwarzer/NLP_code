{
  "cells": [
    {
      "cell_type": "markdown",
      "metadata": {
        "id": "eoybN5wmv-Zz"
      },
      "source": [
        "# Exam No 4\n",
        "\n",
        "This is the code for the fourth exam of DS 405 - NLP submitted by Nico Schwarzer, ID: ID: 5632297."
      ]
    },
    {
      "cell_type": "markdown",
      "metadata": {
        "id": "vi50Ry_YwZTQ"
      },
      "source": [
        "## Loading in packages, models, embeddings and the datasets"
      ]
    },
    {
      "cell_type": "code",
      "execution_count": null,
      "metadata": {
        "colab": {
          "base_uri": "https://localhost:8080/"
        },
        "id": "VMtUYylgv1J8",
        "outputId": "4c0be526-0df4-488a-f775-279733b89e5c"
      },
      "outputs": [
        {
          "name": "stdout",
          "output_type": "stream",
          "text": [
            "Collecting datasets\n",
            "  Downloading datasets-1.18.0-py3-none-any.whl (311 kB)\n",
            "\u001b[K     |████████████████████████████████| 311 kB 5.4 MB/s \n",
            "\u001b[?25hRequirement already satisfied: pandas in /usr/local/lib/python3.7/dist-packages (from datasets) (1.1.5)\n",
            "Collecting fsspec[http]>=2021.05.0\n",
            "  Downloading fsspec-2022.1.0-py3-none-any.whl (133 kB)\n",
            "\u001b[K     |████████████████████████████████| 133 kB 40.9 MB/s \n",
            "\u001b[?25hRequirement already satisfied: pyarrow!=4.0.0,>=3.0.0 in /usr/local/lib/python3.7/dist-packages (from datasets) (3.0.0)\n",
            "Collecting aiohttp\n",
            "  Downloading aiohttp-3.8.1-cp37-cp37m-manylinux_2_5_x86_64.manylinux1_x86_64.manylinux_2_12_x86_64.manylinux2010_x86_64.whl (1.1 MB)\n",
            "\u001b[K     |████████████████████████████████| 1.1 MB 39.7 MB/s \n",
            "\u001b[?25hRequirement already satisfied: packaging in /usr/local/lib/python3.7/dist-packages (from datasets) (21.3)\n",
            "Requirement already satisfied: importlib-metadata in /usr/local/lib/python3.7/dist-packages (from datasets) (4.10.0)\n",
            "Requirement already satisfied: numpy>=1.17 in /usr/local/lib/python3.7/dist-packages (from datasets) (1.19.5)\n",
            "Requirement already satisfied: requests>=2.19.0 in /usr/local/lib/python3.7/dist-packages (from datasets) (2.23.0)\n",
            "Requirement already satisfied: multiprocess in /usr/local/lib/python3.7/dist-packages (from datasets) (0.70.12.2)\n",
            "Collecting huggingface-hub<1.0.0,>=0.1.0\n",
            "  Downloading huggingface_hub-0.4.0-py3-none-any.whl (67 kB)\n",
            "\u001b[K     |████████████████████████████████| 67 kB 4.0 MB/s \n",
            "\u001b[?25hRequirement already satisfied: dill in /usr/local/lib/python3.7/dist-packages (from datasets) (0.3.4)\n",
            "Collecting xxhash\n",
            "  Downloading xxhash-2.0.2-cp37-cp37m-manylinux2010_x86_64.whl (243 kB)\n",
            "\u001b[K     |████████████████████████████████| 243 kB 44.3 MB/s \n",
            "\u001b[?25hRequirement already satisfied: tqdm>=4.62.1 in /usr/local/lib/python3.7/dist-packages (from datasets) (4.62.3)\n",
            "Requirement already satisfied: typing-extensions>=3.7.4.3 in /usr/local/lib/python3.7/dist-packages (from huggingface-hub<1.0.0,>=0.1.0->datasets) (3.10.0.2)\n",
            "Requirement already satisfied: filelock in /usr/local/lib/python3.7/dist-packages (from huggingface-hub<1.0.0,>=0.1.0->datasets) (3.4.2)\n",
            "Requirement already satisfied: pyyaml in /usr/local/lib/python3.7/dist-packages (from huggingface-hub<1.0.0,>=0.1.0->datasets) (3.13)\n",
            "Requirement already satisfied: pyparsing!=3.0.5,>=2.0.2 in /usr/local/lib/python3.7/dist-packages (from packaging->datasets) (3.0.6)\n",
            "Requirement already satisfied: certifi>=2017.4.17 in /usr/local/lib/python3.7/dist-packages (from requests>=2.19.0->datasets) (2021.10.8)\n",
            "Requirement already satisfied: urllib3!=1.25.0,!=1.25.1,<1.26,>=1.21.1 in /usr/local/lib/python3.7/dist-packages (from requests>=2.19.0->datasets) (1.24.3)\n",
            "Requirement already satisfied: chardet<4,>=3.0.2 in /usr/local/lib/python3.7/dist-packages (from requests>=2.19.0->datasets) (3.0.4)\n",
            "Requirement already satisfied: idna<3,>=2.5 in /usr/local/lib/python3.7/dist-packages (from requests>=2.19.0->datasets) (2.10)\n",
            "Collecting async-timeout<5.0,>=4.0.0a3\n",
            "  Downloading async_timeout-4.0.2-py3-none-any.whl (5.8 kB)\n",
            "Collecting yarl<2.0,>=1.0\n",
            "  Downloading yarl-1.7.2-cp37-cp37m-manylinux_2_5_x86_64.manylinux1_x86_64.manylinux_2_12_x86_64.manylinux2010_x86_64.whl (271 kB)\n",
            "\u001b[K     |████████████████████████████████| 271 kB 36.7 MB/s \n",
            "\u001b[?25hCollecting frozenlist>=1.1.1\n",
            "  Downloading frozenlist-1.3.0-cp37-cp37m-manylinux_2_5_x86_64.manylinux1_x86_64.manylinux_2_17_x86_64.manylinux2014_x86_64.whl (144 kB)\n",
            "\u001b[K     |████████████████████████████████| 144 kB 20.4 MB/s \n",
            "\u001b[?25hRequirement already satisfied: charset-normalizer<3.0,>=2.0 in /usr/local/lib/python3.7/dist-packages (from aiohttp->datasets) (2.0.10)\n",
            "Requirement already satisfied: attrs>=17.3.0 in /usr/local/lib/python3.7/dist-packages (from aiohttp->datasets) (21.4.0)\n",
            "Collecting asynctest==0.13.0\n",
            "  Downloading asynctest-0.13.0-py3-none-any.whl (26 kB)\n",
            "Collecting aiosignal>=1.1.2\n",
            "  Downloading aiosignal-1.2.0-py3-none-any.whl (8.2 kB)\n",
            "Collecting multidict<7.0,>=4.5\n",
            "  Downloading multidict-6.0.2-cp37-cp37m-manylinux_2_17_x86_64.manylinux2014_x86_64.whl (94 kB)\n",
            "\u001b[K     |████████████████████████████████| 94 kB 2.2 MB/s \n",
            "\u001b[?25hRequirement already satisfied: zipp>=0.5 in /usr/local/lib/python3.7/dist-packages (from importlib-metadata->datasets) (3.7.0)\n",
            "Requirement already satisfied: pytz>=2017.2 in /usr/local/lib/python3.7/dist-packages (from pandas->datasets) (2018.9)\n",
            "Requirement already satisfied: python-dateutil>=2.7.3 in /usr/local/lib/python3.7/dist-packages (from pandas->datasets) (2.8.2)\n",
            "Requirement already satisfied: six>=1.5 in /usr/local/lib/python3.7/dist-packages (from python-dateutil>=2.7.3->pandas->datasets) (1.15.0)\n",
            "Installing collected packages: multidict, frozenlist, yarl, asynctest, async-timeout, aiosignal, fsspec, aiohttp, xxhash, huggingface-hub, datasets\n",
            "Successfully installed aiohttp-3.8.1 aiosignal-1.2.0 async-timeout-4.0.2 asynctest-0.13.0 datasets-1.18.0 frozenlist-1.3.0 fsspec-2022.1.0 huggingface-hub-0.4.0 multidict-6.0.2 xxhash-2.0.2 yarl-1.7.2\n"
          ]
        }
      ],
      "source": [
        "!pip install datasets"
      ]
    },
    {
      "cell_type": "code",
      "execution_count": null,
      "metadata": {
        "colab": {
          "base_uri": "https://localhost:8080/",
          "height": 1000
        },
        "id": "qXJTcS9M8BpJ",
        "outputId": "336682a7-5e7c-4fe7-dfc0-a9990a7521c0"
      },
      "outputs": [
        {
          "name": "stdout",
          "output_type": "stream",
          "text": [
            "Collecting transformers\n",
            "  Downloading transformers-4.15.0-py3-none-any.whl (3.4 MB)\n",
            "\u001b[K     |████████████████████████████████| 3.4 MB 5.4 MB/s \n",
            "\u001b[?25hRequirement already satisfied: requests in /usr/local/lib/python3.7/dist-packages (from transformers) (2.23.0)\n",
            "Requirement already satisfied: importlib-metadata in /usr/local/lib/python3.7/dist-packages (from transformers) (4.10.0)\n",
            "Requirement already satisfied: regex!=2019.12.17 in /usr/local/lib/python3.7/dist-packages (from transformers) (2019.12.20)\n",
            "Requirement already satisfied: numpy>=1.17 in /usr/local/lib/python3.7/dist-packages (from transformers) (1.19.5)\n",
            "Collecting sacremoses\n",
            "  Downloading sacremoses-0.0.47-py2.py3-none-any.whl (895 kB)\n",
            "\u001b[K     |████████████████████████████████| 895 kB 31.4 MB/s \n",
            "\u001b[?25hRequirement already satisfied: huggingface-hub<1.0,>=0.1.0 in /usr/local/lib/python3.7/dist-packages (from transformers) (0.4.0)\n",
            "Collecting pyyaml>=5.1\n",
            "  Downloading PyYAML-6.0-cp37-cp37m-manylinux_2_5_x86_64.manylinux1_x86_64.manylinux_2_12_x86_64.manylinux2010_x86_64.whl (596 kB)\n",
            "\u001b[K     |████████████████████████████████| 596 kB 25.0 MB/s \n",
            "\u001b[?25hRequirement already satisfied: filelock in /usr/local/lib/python3.7/dist-packages (from transformers) (3.4.2)\n",
            "Requirement already satisfied: tqdm>=4.27 in /usr/local/lib/python3.7/dist-packages (from transformers) (4.62.3)\n",
            "Collecting tokenizers<0.11,>=0.10.1\n",
            "  Downloading tokenizers-0.10.3-cp37-cp37m-manylinux_2_5_x86_64.manylinux1_x86_64.manylinux_2_12_x86_64.manylinux2010_x86_64.whl (3.3 MB)\n",
            "\u001b[K     |████████████████████████████████| 3.3 MB 37.0 MB/s \n",
            "\u001b[?25hRequirement already satisfied: packaging>=20.0 in /usr/local/lib/python3.7/dist-packages (from transformers) (21.3)\n",
            "Requirement already satisfied: typing-extensions>=3.7.4.3 in /usr/local/lib/python3.7/dist-packages (from huggingface-hub<1.0,>=0.1.0->transformers) (3.10.0.2)\n",
            "Requirement already satisfied: pyparsing!=3.0.5,>=2.0.2 in /usr/local/lib/python3.7/dist-packages (from packaging>=20.0->transformers) (3.0.6)\n",
            "Requirement already satisfied: zipp>=0.5 in /usr/local/lib/python3.7/dist-packages (from importlib-metadata->transformers) (3.7.0)\n",
            "Requirement already satisfied: certifi>=2017.4.17 in /usr/local/lib/python3.7/dist-packages (from requests->transformers) (2021.10.8)\n",
            "Requirement already satisfied: urllib3!=1.25.0,!=1.25.1,<1.26,>=1.21.1 in /usr/local/lib/python3.7/dist-packages (from requests->transformers) (1.24.3)\n",
            "Requirement already satisfied: chardet<4,>=3.0.2 in /usr/local/lib/python3.7/dist-packages (from requests->transformers) (3.0.4)\n",
            "Requirement already satisfied: idna<3,>=2.5 in /usr/local/lib/python3.7/dist-packages (from requests->transformers) (2.10)\n",
            "Requirement already satisfied: joblib in /usr/local/lib/python3.7/dist-packages (from sacremoses->transformers) (1.1.0)\n",
            "Requirement already satisfied: click in /usr/local/lib/python3.7/dist-packages (from sacremoses->transformers) (7.1.2)\n",
            "Requirement already satisfied: six in /usr/local/lib/python3.7/dist-packages (from sacremoses->transformers) (1.15.0)\n",
            "Installing collected packages: pyyaml, tokenizers, sacremoses, transformers\n",
            "  Attempting uninstall: pyyaml\n",
            "    Found existing installation: PyYAML 3.13\n",
            "    Uninstalling PyYAML-3.13:\n",
            "      Successfully uninstalled PyYAML-3.13\n",
            "Successfully installed pyyaml-6.0 sacremoses-0.0.47 tokenizers-0.10.3 transformers-4.15.0\n"
          ]
        },
        {
          "data": {
            "application/vnd.colab-display-data+json": {
              "pip_warning": {
                "packages": [
                  "yaml"
                ]
              }
            }
          },
          "metadata": {},
          "output_type": "display_data"
        },
        {
          "name": "stdout",
          "output_type": "stream",
          "text": [
            "Collecting sentence-transformers\n",
            "  Downloading sentence-transformers-2.1.0.tar.gz (78 kB)\n",
            "\u001b[?25l\r\u001b[K     |████▏                           | 10 kB 18.7 MB/s eta 0:00:01\r\u001b[K     |████████▍                       | 20 kB 10.1 MB/s eta 0:00:01\r\u001b[K     |████████████▌                   | 30 kB 8.6 MB/s eta 0:00:01\r\u001b[K     |████████████████▊               | 40 kB 8.0 MB/s eta 0:00:01\r\u001b[K     |████████████████████▉           | 51 kB 5.2 MB/s eta 0:00:01\r\u001b[K     |█████████████████████████       | 61 kB 5.3 MB/s eta 0:00:01\r\u001b[K     |█████████████████████████████▏  | 71 kB 5.5 MB/s eta 0:00:01\r\u001b[K     |████████████████████████████████| 78 kB 3.5 MB/s \n",
            "\u001b[?25hRequirement already satisfied: transformers<5.0.0,>=4.6.0 in /usr/local/lib/python3.7/dist-packages (from sentence-transformers) (4.15.0)\n",
            "Requirement already satisfied: tokenizers>=0.10.3 in /usr/local/lib/python3.7/dist-packages (from sentence-transformers) (0.10.3)\n",
            "Requirement already satisfied: tqdm in /usr/local/lib/python3.7/dist-packages (from sentence-transformers) (4.62.3)\n",
            "Requirement already satisfied: torch>=1.6.0 in /usr/local/lib/python3.7/dist-packages (from sentence-transformers) (1.10.0+cu111)\n",
            "Requirement already satisfied: torchvision in /usr/local/lib/python3.7/dist-packages (from sentence-transformers) (0.11.1+cu111)\n",
            "Requirement already satisfied: numpy in /usr/local/lib/python3.7/dist-packages (from sentence-transformers) (1.19.5)\n",
            "Requirement already satisfied: scikit-learn in /usr/local/lib/python3.7/dist-packages (from sentence-transformers) (1.0.2)\n",
            "Requirement already satisfied: scipy in /usr/local/lib/python3.7/dist-packages (from sentence-transformers) (1.4.1)\n",
            "Requirement already satisfied: nltk in /usr/local/lib/python3.7/dist-packages (from sentence-transformers) (3.2.5)\n",
            "Collecting sentencepiece\n",
            "  Downloading sentencepiece-0.1.96-cp37-cp37m-manylinux_2_17_x86_64.manylinux2014_x86_64.whl (1.2 MB)\n",
            "\u001b[K     |████████████████████████████████| 1.2 MB 11.2 MB/s \n",
            "\u001b[?25hRequirement already satisfied: huggingface-hub in /usr/local/lib/python3.7/dist-packages (from sentence-transformers) (0.4.0)\n",
            "Requirement already satisfied: typing-extensions in /usr/local/lib/python3.7/dist-packages (from torch>=1.6.0->sentence-transformers) (3.10.0.2)\n",
            "Requirement already satisfied: packaging>=20.0 in /usr/local/lib/python3.7/dist-packages (from transformers<5.0.0,>=4.6.0->sentence-transformers) (21.3)\n",
            "Requirement already satisfied: requests in /usr/local/lib/python3.7/dist-packages (from transformers<5.0.0,>=4.6.0->sentence-transformers) (2.23.0)\n",
            "Requirement already satisfied: importlib-metadata in /usr/local/lib/python3.7/dist-packages (from transformers<5.0.0,>=4.6.0->sentence-transformers) (4.10.0)\n",
            "Requirement already satisfied: pyyaml>=5.1 in /usr/local/lib/python3.7/dist-packages (from transformers<5.0.0,>=4.6.0->sentence-transformers) (6.0)\n",
            "Requirement already satisfied: filelock in /usr/local/lib/python3.7/dist-packages (from transformers<5.0.0,>=4.6.0->sentence-transformers) (3.4.2)\n",
            "Requirement already satisfied: regex!=2019.12.17 in /usr/local/lib/python3.7/dist-packages (from transformers<5.0.0,>=4.6.0->sentence-transformers) (2019.12.20)\n",
            "Requirement already satisfied: sacremoses in /usr/local/lib/python3.7/dist-packages (from transformers<5.0.0,>=4.6.0->sentence-transformers) (0.0.47)\n",
            "Requirement already satisfied: pyparsing!=3.0.5,>=2.0.2 in /usr/local/lib/python3.7/dist-packages (from packaging>=20.0->transformers<5.0.0,>=4.6.0->sentence-transformers) (3.0.6)\n",
            "Requirement already satisfied: zipp>=0.5 in /usr/local/lib/python3.7/dist-packages (from importlib-metadata->transformers<5.0.0,>=4.6.0->sentence-transformers) (3.7.0)\n",
            "Requirement already satisfied: six in /usr/local/lib/python3.7/dist-packages (from nltk->sentence-transformers) (1.15.0)\n",
            "Requirement already satisfied: urllib3!=1.25.0,!=1.25.1,<1.26,>=1.21.1 in /usr/local/lib/python3.7/dist-packages (from requests->transformers<5.0.0,>=4.6.0->sentence-transformers) (1.24.3)\n",
            "Requirement already satisfied: chardet<4,>=3.0.2 in /usr/local/lib/python3.7/dist-packages (from requests->transformers<5.0.0,>=4.6.0->sentence-transformers) (3.0.4)\n",
            "Requirement already satisfied: idna<3,>=2.5 in /usr/local/lib/python3.7/dist-packages (from requests->transformers<5.0.0,>=4.6.0->sentence-transformers) (2.10)\n",
            "Requirement already satisfied: certifi>=2017.4.17 in /usr/local/lib/python3.7/dist-packages (from requests->transformers<5.0.0,>=4.6.0->sentence-transformers) (2021.10.8)\n",
            "Requirement already satisfied: click in /usr/local/lib/python3.7/dist-packages (from sacremoses->transformers<5.0.0,>=4.6.0->sentence-transformers) (7.1.2)\n",
            "Requirement already satisfied: joblib in /usr/local/lib/python3.7/dist-packages (from sacremoses->transformers<5.0.0,>=4.6.0->sentence-transformers) (1.1.0)\n",
            "Requirement already satisfied: threadpoolctl>=2.0.0 in /usr/local/lib/python3.7/dist-packages (from scikit-learn->sentence-transformers) (3.0.0)\n",
            "Requirement already satisfied: pillow!=8.3.0,>=5.3.0 in /usr/local/lib/python3.7/dist-packages (from torchvision->sentence-transformers) (7.1.2)\n",
            "Building wheels for collected packages: sentence-transformers\n",
            "  Building wheel for sentence-transformers (setup.py) ... \u001b[?25l\u001b[?25hdone\n",
            "  Created wheel for sentence-transformers: filename=sentence_transformers-2.1.0-py3-none-any.whl size=120999 sha256=e676050513a55668b4c54cb16e40103fb485b7b693b61a2677f7ccd6a6e1444c\n",
            "  Stored in directory: /root/.cache/pip/wheels/90/f0/bb/ed1add84da70092ea526466eadc2bfb197c4bcb8d4fa5f7bad\n",
            "Successfully built sentence-transformers\n",
            "Installing collected packages: sentencepiece, sentence-transformers\n",
            "Successfully installed sentence-transformers-2.1.0 sentencepiece-0.1.96\n"
          ]
        }
      ],
      "source": [
        "!pip install transformers\n",
        "!pip install sentence-transformers"
      ]
    },
    {
      "cell_type": "code",
      "execution_count": null,
      "metadata": {
        "id": "tGRRSTdZwgU4"
      },
      "outputs": [],
      "source": [
        "import torch\n",
        "import datasets\n",
        "from datasets import load_dataset\n",
        "import pandas as pd\n",
        "import numpy as np\n",
        "from gensim.scripts.glove2word2vec import glove2word2vec\n",
        "from torchtext.vocab import GloVe, vocab\n",
        "from transformers import BertTokenizer, BertModel\n",
        "from sentence_transformers import SentenceTransformer\n",
        "from gensim.models import KeyedVectors\n",
        "from sentence_transformers.util import cos_sim\n",
        "\n",
        "\n"
      ]
    },
    {
      "cell_type": "code",
      "execution_count": null,
      "metadata": {
        "colab": {
          "base_uri": "https://localhost:8080/"
        },
        "id": "jYnWL4jN7PKh",
        "outputId": "ad9e4883-91d5-42ea-fc92-7662a93d9808"
      },
      "outputs": [
        {
          "name": "stdout",
          "output_type": "stream",
          "text": [
            "--2022-01-25 14:43:25--  http://nlp.stanford.edu/data/glove.6B.zip\n",
            "Resolving nlp.stanford.edu (nlp.stanford.edu)... 171.64.67.140\n",
            "Connecting to nlp.stanford.edu (nlp.stanford.edu)|171.64.67.140|:80... connected.\n",
            "HTTP request sent, awaiting response... 302 Found\n",
            "Location: https://nlp.stanford.edu/data/glove.6B.zip [following]\n",
            "--2022-01-25 14:43:26--  https://nlp.stanford.edu/data/glove.6B.zip\n",
            "Connecting to nlp.stanford.edu (nlp.stanford.edu)|171.64.67.140|:443... connected.\n",
            "HTTP request sent, awaiting response... 301 Moved Permanently\n",
            "Location: http://downloads.cs.stanford.edu/nlp/data/glove.6B.zip [following]\n",
            "--2022-01-25 14:43:26--  http://downloads.cs.stanford.edu/nlp/data/glove.6B.zip\n",
            "Resolving downloads.cs.stanford.edu (downloads.cs.stanford.edu)... 171.64.64.22\n",
            "Connecting to downloads.cs.stanford.edu (downloads.cs.stanford.edu)|171.64.64.22|:80... connected.\n",
            "HTTP request sent, awaiting response... 200 OK\n",
            "Length: 862182613 (822M) [application/zip]\n",
            "Saving to: ‘glove.6B.zip’\n",
            "\n",
            "glove.6B.zip        100%[===================>] 822.24M  5.01MB/s    in 2m 40s  \n",
            "\n",
            "2022-01-25 14:46:06 (5.15 MB/s) - ‘glove.6B.zip’ saved [862182613/862182613]\n",
            "\n",
            "Archive:  glove.6B.zip\n",
            "  inflating: glove.6B.50d.txt        \n",
            "  inflating: glove.6B.100d.txt       \n",
            "  inflating: glove.6B.200d.txt       \n",
            "  inflating: glove.6B.300d.txt       \n"
          ]
        }
      ],
      "source": [
        "## loading 300-dim Glove embeddings \n",
        "\n",
        "!wget http://nlp.stanford.edu/data/glove.6B.zip\n",
        "\n",
        "!unzip glove*.zip"
      ]
    },
    {
      "cell_type": "code",
      "execution_count": null,
      "metadata": {
        "id": "Q1I2b_Hb7Vqe"
      },
      "outputs": [],
      "source": [
        "glove_input_file = 'glove.6B.300d.txt'\n",
        "word2vec_output_file = 'word2vec.txt'\n",
        "\n",
        "glove2word2vec(glove_input_file, word2vec_output_file)\n",
        "model_w2v = KeyedVectors.load_word2vec_format(word2vec_output_file, binary = False)\n"
      ]
    },
    {
      "cell_type": "code",
      "execution_count": null,
      "metadata": {
        "colab": {
          "base_uri": "https://localhost:8080/"
        },
        "id": "Wf-VVCfcfOOF",
        "outputId": "2e0b9604-81cb-4d2a-ac40-ed9189e72bdf"
      },
      "outputs": [
        {
          "name": "stdout",
          "output_type": "stream",
          "text": [
            "Mounted at /content/gdrive\n"
          ]
        }
      ],
      "source": [
        "## mounting google drive\n",
        "\n",
        "from google.colab import drive\n",
        "drive.mount('/content/gdrive')"
      ]
    },
    {
      "cell_type": "markdown",
      "metadata": {
        "id": "AJ-bXj0xyXHB"
      },
      "source": [
        "Now I shall read in and alter all datasets and save the final training and validation sets to my google drive!"
      ]
    },
    {
      "cell_type": "code",
      "execution_count": null,
      "metadata": {
        "colab": {
          "base_uri": "https://localhost:8080/",
          "height": 206
        },
        "id": "Ltt40KB9vh3U",
        "outputId": "f6c6a97b-beaa-4dba-e066-8d29b764fbc8"
      },
      "outputs": [
        {
          "data": {
            "text/html": [
              "\n",
              "  <div id=\"df-588cd874-10e0-4872-8096-c397942ac089\">\n",
              "    <div class=\"colab-df-container\">\n",
              "      <div>\n",
              "<style scoped>\n",
              "    .dataframe tbody tr th:only-of-type {\n",
              "        vertical-align: middle;\n",
              "    }\n",
              "\n",
              "    .dataframe tbody tr th {\n",
              "        vertical-align: top;\n",
              "    }\n",
              "\n",
              "    .dataframe thead th {\n",
              "        text-align: right;\n",
              "    }\n",
              "</style>\n",
              "<table border=\"1\" class=\"dataframe\">\n",
              "  <thead>\n",
              "    <tr style=\"text-align: right;\">\n",
              "      <th></th>\n",
              "      <th>topic</th>\n",
              "      <th>text</th>\n",
              "    </tr>\n",
              "  </thead>\n",
              "  <tbody>\n",
              "    <tr>\n",
              "      <th>233117</th>\n",
              "      <td>Health</td>\n",
              "      <td>The answer is no, not all KBOs are planets. If...</td>\n",
              "    </tr>\n",
              "    <tr>\n",
              "      <th>426437</th>\n",
              "      <td>Computers &amp; Internet</td>\n",
              "      <td>Top 10 in 2001 (source: http://www.kariera.orc...</td>\n",
              "    </tr>\n",
              "    <tr>\n",
              "      <th>208965</th>\n",
              "      <td>Sports</td>\n",
              "      <td>Follow the link.\\n\\nhttp://www.pcdoctor-guide....</td>\n",
              "    </tr>\n",
              "    <tr>\n",
              "      <th>379045</th>\n",
              "      <td>Politics &amp; Government</td>\n",
              "      <td>A shirt,jacket,cologne,dadadadadadadada.Mix it...</td>\n",
              "    </tr>\n",
              "    <tr>\n",
              "      <th>8710</th>\n",
              "      <td>Computers &amp; Internet</td>\n",
              "      <td>Try online Etymology Dictionary:\\nwww.etymonli...</td>\n",
              "    </tr>\n",
              "  </tbody>\n",
              "</table>\n",
              "</div>\n",
              "      <button class=\"colab-df-convert\" onclick=\"convertToInteractive('df-588cd874-10e0-4872-8096-c397942ac089')\"\n",
              "              title=\"Convert this dataframe to an interactive table.\"\n",
              "              style=\"display:none;\">\n",
              "        \n",
              "  <svg xmlns=\"http://www.w3.org/2000/svg\" height=\"24px\"viewBox=\"0 0 24 24\"\n",
              "       width=\"24px\">\n",
              "    <path d=\"M0 0h24v24H0V0z\" fill=\"none\"/>\n",
              "    <path d=\"M18.56 5.44l.94 2.06.94-2.06 2.06-.94-2.06-.94-.94-2.06-.94 2.06-2.06.94zm-11 1L8.5 8.5l.94-2.06 2.06-.94-2.06-.94L8.5 2.5l-.94 2.06-2.06.94zm10 10l.94 2.06.94-2.06 2.06-.94-2.06-.94-.94-2.06-.94 2.06-2.06.94z\"/><path d=\"M17.41 7.96l-1.37-1.37c-.4-.4-.92-.59-1.43-.59-.52 0-1.04.2-1.43.59L10.3 9.45l-7.72 7.72c-.78.78-.78 2.05 0 2.83L4 21.41c.39.39.9.59 1.41.59.51 0 1.02-.2 1.41-.59l7.78-7.78 2.81-2.81c.8-.78.8-2.07 0-2.86zM5.41 20L4 18.59l7.72-7.72 1.47 1.35L5.41 20z\"/>\n",
              "  </svg>\n",
              "      </button>\n",
              "      \n",
              "  <style>\n",
              "    .colab-df-container {\n",
              "      display:flex;\n",
              "      flex-wrap:wrap;\n",
              "      gap: 12px;\n",
              "    }\n",
              "\n",
              "    .colab-df-convert {\n",
              "      background-color: #E8F0FE;\n",
              "      border: none;\n",
              "      border-radius: 50%;\n",
              "      cursor: pointer;\n",
              "      display: none;\n",
              "      fill: #1967D2;\n",
              "      height: 32px;\n",
              "      padding: 0 0 0 0;\n",
              "      width: 32px;\n",
              "    }\n",
              "\n",
              "    .colab-df-convert:hover {\n",
              "      background-color: #E2EBFA;\n",
              "      box-shadow: 0px 1px 2px rgba(60, 64, 67, 0.3), 0px 1px 3px 1px rgba(60, 64, 67, 0.15);\n",
              "      fill: #174EA6;\n",
              "    }\n",
              "\n",
              "    [theme=dark] .colab-df-convert {\n",
              "      background-color: #3B4455;\n",
              "      fill: #D2E3FC;\n",
              "    }\n",
              "\n",
              "    [theme=dark] .colab-df-convert:hover {\n",
              "      background-color: #434B5C;\n",
              "      box-shadow: 0px 1px 3px 1px rgba(0, 0, 0, 0.15);\n",
              "      filter: drop-shadow(0px 1px 2px rgba(0, 0, 0, 0.3));\n",
              "      fill: #FFFFFF;\n",
              "    }\n",
              "  </style>\n",
              "\n",
              "      <script>\n",
              "        const buttonEl =\n",
              "          document.querySelector('#df-588cd874-10e0-4872-8096-c397942ac089 button.colab-df-convert');\n",
              "        buttonEl.style.display =\n",
              "          google.colab.kernel.accessAllowed ? 'block' : 'none';\n",
              "\n",
              "        async function convertToInteractive(key) {\n",
              "          const element = document.querySelector('#df-588cd874-10e0-4872-8096-c397942ac089');\n",
              "          const dataTable =\n",
              "            await google.colab.kernel.invokeFunction('convertToInteractive',\n",
              "                                                     [key], {});\n",
              "          if (!dataTable) return;\n",
              "\n",
              "          const docLinkHtml = 'Like what you see? Visit the ' +\n",
              "            '<a target=\"_blank\" href=https://colab.research.google.com/notebooks/data_table.ipynb>data table notebook</a>'\n",
              "            + ' to learn more about interactive tables.';\n",
              "          element.innerHTML = '';\n",
              "          dataTable['output_type'] = 'display_data';\n",
              "          await google.colab.output.renderOutput(dataTable, element);\n",
              "          const docLink = document.createElement('div');\n",
              "          docLink.innerHTML = docLinkHtml;\n",
              "          element.appendChild(docLink);\n",
              "        }\n",
              "      </script>\n",
              "    </div>\n",
              "  </div>\n",
              "  "
            ],
            "text/plain": [
              "                        topic                                               text\n",
              "233117                 Health  The answer is no, not all KBOs are planets. If...\n",
              "426437   Computers & Internet  Top 10 in 2001 (source: http://www.kariera.orc...\n",
              "208965                 Sports  Follow the link.\\n\\nhttp://www.pcdoctor-guide....\n",
              "379045  Politics & Government  A shirt,jacket,cologne,dadadadadadadada.Mix it...\n",
              "8710     Computers & Internet  Try online Etymology Dictionary:\\nwww.etymonli..."
            ]
          },
          "execution_count": 54,
          "metadata": {},
          "output_type": "execute_result"
        }
      ],
      "source": [
        "## yahoo_answers_topics\n",
        "\n",
        "yahoo_answers_topics = load_dataset(\"yahoo_answers_topics\", split = \"train\")\n",
        "\n",
        "yahoo_topic = yahoo_answers_topics['topic']\n",
        "yahoo_answers = yahoo_answers_topics['best_answer']\n",
        "yahoo_df = pd.DataFrame({\"topic\":yahoo_topic, \"text\": yahoo_answers})\n",
        "\n",
        "#mapping to strings (not integers) describing the labels \n",
        "reference_labels_yahoo = {0:yahoo_answers_topics.features['topic'].names[0], 1:yahoo_answers_topics.features['topic'].names[1],2:yahoo_answers_topics.features['topic'].names[2],3:yahoo_answers_topics.features['topic'].names[3],\n",
        "                          4:yahoo_answers_topics.features['topic'].names[4],5:yahoo_answers_topics.features['topic'].names[5],6:yahoo_answers_topics.features['topic'].names[6],7:yahoo_answers_topics.features['topic'].names[7],\n",
        "                          8:yahoo_answers_topics.features['topic'].names[8],9:yahoo_answers_topics.features['topic'].names[9]}\n",
        "\n",
        "\n",
        "yahoo_df['topic'] = yahoo_df['topic'].map(reference_labels_yahoo)\n",
        "\n",
        "# spliiting into train and validation \n",
        "\n",
        "yahoo_df_val = yahoo_df.sample(n = 1000,  replace = False, random_state = 120)\n",
        "yahoo_df_train = yahoo_df.drop(yahoo_df_val.index)\n",
        "\n",
        "yahoo_df_val.head()"
      ]
    },
    {
      "cell_type": "code",
      "execution_count": null,
      "metadata": {
        "id": "p_sWTqrSk2WP"
      },
      "outputs": [],
      "source": [
        "# saving to csv\n",
        "\n",
        "yahoo_df_train.to_csv('/content/gdrive/My Drive/DS405B_NLP/yahoo_df_train.csv')\n",
        "yahoo_df_val.to_csv('/content/gdrive/My Drive/DS405B_NLP/yahoo_df_val.csv')\n"
      ]
    },
    {
      "cell_type": "markdown",
      "metadata": {
        "id": "9zPrHGSCUJjL"
      },
      "source": [
        "Importantly, the topics all have underscores. There are replaced with tabs so that the word tokenization works properly. "
      ]
    },
    {
      "cell_type": "code",
      "execution_count": null,
      "metadata": {
        "colab": {
          "base_uri": "https://localhost:8080/",
          "height": 244
        },
        "id": "gghNjYEyyfBJ",
        "outputId": "f8694558-215e-43cd-9e62-d78df05b8708"
      },
      "outputs": [
        {
          "name": "stderr",
          "output_type": "stream",
          "text": [
            "Using custom data configuration default\n",
            "Reusing dataset banking77 (/root/.cache/huggingface/datasets/banking77/default/1.1.0/aec0289529599d4572d76ab00c8944cb84f88410ad0c9e7da26189d31f62a55b)\n"
          ]
        },
        {
          "data": {
            "text/html": [
              "\n",
              "  <div id=\"df-0df86fd5-59f5-4257-b7bb-5e44932e9e3d\">\n",
              "    <div class=\"colab-df-container\">\n",
              "      <div>\n",
              "<style scoped>\n",
              "    .dataframe tbody tr th:only-of-type {\n",
              "        vertical-align: middle;\n",
              "    }\n",
              "\n",
              "    .dataframe tbody tr th {\n",
              "        vertical-align: top;\n",
              "    }\n",
              "\n",
              "    .dataframe thead th {\n",
              "        text-align: right;\n",
              "    }\n",
              "</style>\n",
              "<table border=\"1\" class=\"dataframe\">\n",
              "  <thead>\n",
              "    <tr style=\"text-align: right;\">\n",
              "      <th></th>\n",
              "      <th>topic</th>\n",
              "      <th>text</th>\n",
              "    </tr>\n",
              "  </thead>\n",
              "  <tbody>\n",
              "    <tr>\n",
              "      <th>1024</th>\n",
              "      <td>card delivery estimate</td>\n",
              "      <td>I'm worried my card might be lost in the mail?...</td>\n",
              "    </tr>\n",
              "    <tr>\n",
              "      <th>9405</th>\n",
              "      <td>cash withdrawal charge</td>\n",
              "      <td>I got charged a fee that shouldn't be there fr...</td>\n",
              "    </tr>\n",
              "    <tr>\n",
              "      <th>9368</th>\n",
              "      <td>cash withdrawal charge</td>\n",
              "      <td>Do you charge for making a withdrawal? I took ...</td>\n",
              "    </tr>\n",
              "    <tr>\n",
              "      <th>3414</th>\n",
              "      <td>balance not updated after cheque or cash deposit</td>\n",
              "      <td>Is there an issue with my account?  I don't se...</td>\n",
              "    </tr>\n",
              "    <tr>\n",
              "      <th>7402</th>\n",
              "      <td>receiving money</td>\n",
              "      <td>Are there ways for other people to send me money?</td>\n",
              "    </tr>\n",
              "  </tbody>\n",
              "</table>\n",
              "</div>\n",
              "      <button class=\"colab-df-convert\" onclick=\"convertToInteractive('df-0df86fd5-59f5-4257-b7bb-5e44932e9e3d')\"\n",
              "              title=\"Convert this dataframe to an interactive table.\"\n",
              "              style=\"display:none;\">\n",
              "        \n",
              "  <svg xmlns=\"http://www.w3.org/2000/svg\" height=\"24px\"viewBox=\"0 0 24 24\"\n",
              "       width=\"24px\">\n",
              "    <path d=\"M0 0h24v24H0V0z\" fill=\"none\"/>\n",
              "    <path d=\"M18.56 5.44l.94 2.06.94-2.06 2.06-.94-2.06-.94-.94-2.06-.94 2.06-2.06.94zm-11 1L8.5 8.5l.94-2.06 2.06-.94-2.06-.94L8.5 2.5l-.94 2.06-2.06.94zm10 10l.94 2.06.94-2.06 2.06-.94-2.06-.94-.94-2.06-.94 2.06-2.06.94z\"/><path d=\"M17.41 7.96l-1.37-1.37c-.4-.4-.92-.59-1.43-.59-.52 0-1.04.2-1.43.59L10.3 9.45l-7.72 7.72c-.78.78-.78 2.05 0 2.83L4 21.41c.39.39.9.59 1.41.59.51 0 1.02-.2 1.41-.59l7.78-7.78 2.81-2.81c.8-.78.8-2.07 0-2.86zM5.41 20L4 18.59l7.72-7.72 1.47 1.35L5.41 20z\"/>\n",
              "  </svg>\n",
              "      </button>\n",
              "      \n",
              "  <style>\n",
              "    .colab-df-container {\n",
              "      display:flex;\n",
              "      flex-wrap:wrap;\n",
              "      gap: 12px;\n",
              "    }\n",
              "\n",
              "    .colab-df-convert {\n",
              "      background-color: #E8F0FE;\n",
              "      border: none;\n",
              "      border-radius: 50%;\n",
              "      cursor: pointer;\n",
              "      display: none;\n",
              "      fill: #1967D2;\n",
              "      height: 32px;\n",
              "      padding: 0 0 0 0;\n",
              "      width: 32px;\n",
              "    }\n",
              "\n",
              "    .colab-df-convert:hover {\n",
              "      background-color: #E2EBFA;\n",
              "      box-shadow: 0px 1px 2px rgba(60, 64, 67, 0.3), 0px 1px 3px 1px rgba(60, 64, 67, 0.15);\n",
              "      fill: #174EA6;\n",
              "    }\n",
              "\n",
              "    [theme=dark] .colab-df-convert {\n",
              "      background-color: #3B4455;\n",
              "      fill: #D2E3FC;\n",
              "    }\n",
              "\n",
              "    [theme=dark] .colab-df-convert:hover {\n",
              "      background-color: #434B5C;\n",
              "      box-shadow: 0px 1px 3px 1px rgba(0, 0, 0, 0.15);\n",
              "      filter: drop-shadow(0px 1px 2px rgba(0, 0, 0, 0.3));\n",
              "      fill: #FFFFFF;\n",
              "    }\n",
              "  </style>\n",
              "\n",
              "      <script>\n",
              "        const buttonEl =\n",
              "          document.querySelector('#df-0df86fd5-59f5-4257-b7bb-5e44932e9e3d button.colab-df-convert');\n",
              "        buttonEl.style.display =\n",
              "          google.colab.kernel.accessAllowed ? 'block' : 'none';\n",
              "\n",
              "        async function convertToInteractive(key) {\n",
              "          const element = document.querySelector('#df-0df86fd5-59f5-4257-b7bb-5e44932e9e3d');\n",
              "          const dataTable =\n",
              "            await google.colab.kernel.invokeFunction('convertToInteractive',\n",
              "                                                     [key], {});\n",
              "          if (!dataTable) return;\n",
              "\n",
              "          const docLinkHtml = 'Like what you see? Visit the ' +\n",
              "            '<a target=\"_blank\" href=https://colab.research.google.com/notebooks/data_table.ipynb>data table notebook</a>'\n",
              "            + ' to learn more about interactive tables.';\n",
              "          element.innerHTML = '';\n",
              "          dataTable['output_type'] = 'display_data';\n",
              "          await google.colab.output.renderOutput(dataTable, element);\n",
              "          const docLink = document.createElement('div');\n",
              "          docLink.innerHTML = docLinkHtml;\n",
              "          element.appendChild(docLink);\n",
              "        }\n",
              "      </script>\n",
              "    </div>\n",
              "  </div>\n",
              "  "
            ],
            "text/plain": [
              "                                                 topic                                               text\n",
              "1024                            card delivery estimate  I'm worried my card might be lost in the mail?...\n",
              "9405                            cash withdrawal charge  I got charged a fee that shouldn't be there fr...\n",
              "9368                            cash withdrawal charge  Do you charge for making a withdrawal? I took ...\n",
              "3414  balance not updated after cheque or cash deposit  Is there an issue with my account?  I don't se...\n",
              "7402                                   receiving money  Are there ways for other people to send me money?"
            ]
          },
          "execution_count": 57,
          "metadata": {},
          "output_type": "execute_result"
        }
      ],
      "source": [
        "## banking 77 \n",
        "\n",
        "banking_77 = load_dataset(\"banking77\", split = \"train\")\n",
        "\n",
        "\n",
        "banking_77_text = banking_77['text']\n",
        "banking_77_topic = banking_77['label']\n",
        "\n",
        "banking_df = pd.DataFrame({\"topic\":banking_77_topic, \"text\": banking_77_text})\n",
        "\n",
        "\n",
        "\n",
        "# re-mapping the labels \n",
        "\n",
        "names_list_banking = banking_77.features[\"label\"].names\n",
        "num_list_banking = list(range(len(names_list_banking)))\n",
        "zip_iterator_banking = zip(num_list_banking, names_list_banking)\n",
        "\n",
        "\n",
        "reference_levels_banking = dict(zip_iterator_banking)\n",
        "banking_df['topic'] = banking_df['topic'].map(reference_levels_banking)\n",
        "\n",
        "banking_df.topic = banking_df.topic.str.replace('_',' ')\n",
        "\n",
        "\n",
        "banking_df_val = banking_df.sample(n = 1000,  replace = False, random_state = 123)\n",
        "banking_df_train = banking_df.drop(banking_df_val.index)\n",
        "\n",
        "banking_df_val.head()\n"
      ]
    },
    {
      "cell_type": "markdown",
      "metadata": {
        "id": "DtGIYPoYUg4S"
      },
      "source": [
        "As can be ssen above, te topics all have underscores. There are replaced with tabs so that the word tokenization works properly. "
      ]
    },
    {
      "cell_type": "code",
      "execution_count": null,
      "metadata": {
        "colab": {
          "base_uri": "https://localhost:8080/",
          "height": 206
        },
        "id": "sjmbhe2-Urm6",
        "outputId": "c9eb4c90-c48c-4502-f5d6-b9ba6659b751"
      },
      "outputs": [
        {
          "data": {
            "text/html": [
              "\n",
              "  <div id=\"df-cb9f78c4-c6bb-440e-bfe0-648b4bb0db11\">\n",
              "    <div class=\"colab-df-container\">\n",
              "      <div>\n",
              "<style scoped>\n",
              "    .dataframe tbody tr th:only-of-type {\n",
              "        vertical-align: middle;\n",
              "    }\n",
              "\n",
              "    .dataframe tbody tr th {\n",
              "        vertical-align: top;\n",
              "    }\n",
              "\n",
              "    .dataframe thead th {\n",
              "        text-align: right;\n",
              "    }\n",
              "</style>\n",
              "<table border=\"1\" class=\"dataframe\">\n",
              "  <thead>\n",
              "    <tr style=\"text-align: right;\">\n",
              "      <th></th>\n",
              "      <th>topic</th>\n",
              "      <th>text</th>\n",
              "    </tr>\n",
              "  </thead>\n",
              "  <tbody>\n",
              "    <tr>\n",
              "      <th>1024</th>\n",
              "      <td>card delivery estimate</td>\n",
              "      <td>I'm worried my card might be lost in the mail?...</td>\n",
              "    </tr>\n",
              "    <tr>\n",
              "      <th>9405</th>\n",
              "      <td>cash withdrawal charge</td>\n",
              "      <td>I got charged a fee that shouldn't be there fr...</td>\n",
              "    </tr>\n",
              "    <tr>\n",
              "      <th>9368</th>\n",
              "      <td>cash withdrawal charge</td>\n",
              "      <td>Do you charge for making a withdrawal? I took ...</td>\n",
              "    </tr>\n",
              "    <tr>\n",
              "      <th>3414</th>\n",
              "      <td>balance not updated after cheque or cash deposit</td>\n",
              "      <td>Is there an issue with my account?  I don't se...</td>\n",
              "    </tr>\n",
              "    <tr>\n",
              "      <th>7402</th>\n",
              "      <td>receiving money</td>\n",
              "      <td>Are there ways for other people to send me money?</td>\n",
              "    </tr>\n",
              "  </tbody>\n",
              "</table>\n",
              "</div>\n",
              "      <button class=\"colab-df-convert\" onclick=\"convertToInteractive('df-cb9f78c4-c6bb-440e-bfe0-648b4bb0db11')\"\n",
              "              title=\"Convert this dataframe to an interactive table.\"\n",
              "              style=\"display:none;\">\n",
              "        \n",
              "  <svg xmlns=\"http://www.w3.org/2000/svg\" height=\"24px\"viewBox=\"0 0 24 24\"\n",
              "       width=\"24px\">\n",
              "    <path d=\"M0 0h24v24H0V0z\" fill=\"none\"/>\n",
              "    <path d=\"M18.56 5.44l.94 2.06.94-2.06 2.06-.94-2.06-.94-.94-2.06-.94 2.06-2.06.94zm-11 1L8.5 8.5l.94-2.06 2.06-.94-2.06-.94L8.5 2.5l-.94 2.06-2.06.94zm10 10l.94 2.06.94-2.06 2.06-.94-2.06-.94-.94-2.06-.94 2.06-2.06.94z\"/><path d=\"M17.41 7.96l-1.37-1.37c-.4-.4-.92-.59-1.43-.59-.52 0-1.04.2-1.43.59L10.3 9.45l-7.72 7.72c-.78.78-.78 2.05 0 2.83L4 21.41c.39.39.9.59 1.41.59.51 0 1.02-.2 1.41-.59l7.78-7.78 2.81-2.81c.8-.78.8-2.07 0-2.86zM5.41 20L4 18.59l7.72-7.72 1.47 1.35L5.41 20z\"/>\n",
              "  </svg>\n",
              "      </button>\n",
              "      \n",
              "  <style>\n",
              "    .colab-df-container {\n",
              "      display:flex;\n",
              "      flex-wrap:wrap;\n",
              "      gap: 12px;\n",
              "    }\n",
              "\n",
              "    .colab-df-convert {\n",
              "      background-color: #E8F0FE;\n",
              "      border: none;\n",
              "      border-radius: 50%;\n",
              "      cursor: pointer;\n",
              "      display: none;\n",
              "      fill: #1967D2;\n",
              "      height: 32px;\n",
              "      padding: 0 0 0 0;\n",
              "      width: 32px;\n",
              "    }\n",
              "\n",
              "    .colab-df-convert:hover {\n",
              "      background-color: #E2EBFA;\n",
              "      box-shadow: 0px 1px 2px rgba(60, 64, 67, 0.3), 0px 1px 3px 1px rgba(60, 64, 67, 0.15);\n",
              "      fill: #174EA6;\n",
              "    }\n",
              "\n",
              "    [theme=dark] .colab-df-convert {\n",
              "      background-color: #3B4455;\n",
              "      fill: #D2E3FC;\n",
              "    }\n",
              "\n",
              "    [theme=dark] .colab-df-convert:hover {\n",
              "      background-color: #434B5C;\n",
              "      box-shadow: 0px 1px 3px 1px rgba(0, 0, 0, 0.15);\n",
              "      filter: drop-shadow(0px 1px 2px rgba(0, 0, 0, 0.3));\n",
              "      fill: #FFFFFF;\n",
              "    }\n",
              "  </style>\n",
              "\n",
              "      <script>\n",
              "        const buttonEl =\n",
              "          document.querySelector('#df-cb9f78c4-c6bb-440e-bfe0-648b4bb0db11 button.colab-df-convert');\n",
              "        buttonEl.style.display =\n",
              "          google.colab.kernel.accessAllowed ? 'block' : 'none';\n",
              "\n",
              "        async function convertToInteractive(key) {\n",
              "          const element = document.querySelector('#df-cb9f78c4-c6bb-440e-bfe0-648b4bb0db11');\n",
              "          const dataTable =\n",
              "            await google.colab.kernel.invokeFunction('convertToInteractive',\n",
              "                                                     [key], {});\n",
              "          if (!dataTable) return;\n",
              "\n",
              "          const docLinkHtml = 'Like what you see? Visit the ' +\n",
              "            '<a target=\"_blank\" href=https://colab.research.google.com/notebooks/data_table.ipynb>data table notebook</a>'\n",
              "            + ' to learn more about interactive tables.';\n",
              "          element.innerHTML = '';\n",
              "          dataTable['output_type'] = 'display_data';\n",
              "          await google.colab.output.renderOutput(dataTable, element);\n",
              "          const docLink = document.createElement('div');\n",
              "          docLink.innerHTML = docLinkHtml;\n",
              "          element.appendChild(docLink);\n",
              "        }\n",
              "      </script>\n",
              "    </div>\n",
              "  </div>\n",
              "  "
            ],
            "text/plain": [
              "                                                 topic                                               text\n",
              "1024                            card delivery estimate  I'm worried my card might be lost in the mail?...\n",
              "9405                            cash withdrawal charge  I got charged a fee that shouldn't be there fr...\n",
              "9368                            cash withdrawal charge  Do you charge for making a withdrawal? I took ...\n",
              "3414  balance not updated after cheque or cash deposit  Is there an issue with my account?  I don't se...\n",
              "7402                                   receiving money  Are there ways for other people to send me money?"
            ]
          },
          "execution_count": 31,
          "metadata": {},
          "output_type": "execute_result"
        }
      ],
      "source": [
        "banking_df_val.topic = banking_df_val.topic.str.replace('_',' ')\n",
        "banking_df_train.topic = banking_df_train.topic.str.replace('_',' ')\n",
        "\n",
        "banking_df_val.head() ## much better :D"
      ]
    },
    {
      "cell_type": "code",
      "execution_count": null,
      "metadata": {
        "id": "gktp9qYelxnV"
      },
      "outputs": [],
      "source": [
        "# saving to csv\n",
        "\n",
        "banking_df_train.to_csv('/content/gdrive/My Drive/DS405B_NLP/banking_df_train.csv')\n",
        "banking_df_val.to_csv('/content/gdrive/My Drive/DS405B_NLP/banking_df_val.csv')\n"
      ]
    },
    {
      "cell_type": "code",
      "execution_count": null,
      "metadata": {
        "colab": {
          "base_uri": "https://localhost:8080/",
          "height": 584,
          "referenced_widgets": [
            "15f7a1ab5d224c8396f3d8898101386f",
            "2ee037aa7e15454ba791ea4e1dd5f6fb",
            "3e7302ba66d3498da1b28b309d60400b",
            "a4b5c9c779f041a0b2fd1b56537883e1",
            "f6327e4059c14d92871a27ca2e31586e",
            "e3c62880937a48e79d79753ae2d4cda4",
            "bd59ebbbd9994095b0f499b785544efb",
            "86d06c2152be459eb23731ea2c8a37ca",
            "1b368f6f583649fe9ff8b4a47556510c",
            "73e8d5973f6046df98e332d4e07b002b",
            "90b7628bb04b4098a216bd3ef5116772",
            "7e3bf8b1c6ce4b7b811b2dfc45df3d85",
            "08bebbd4592a4118bc1e76b45da67cd2",
            "2fd6f93296114a6ca622a6e8c591616a",
            "7dee311311dd4f98b141d1708c011176",
            "c68630d3222d4ce8bbca99751a10fecd",
            "1f7331b6a1274cdd867d1591da53ec8b",
            "3ab9d23e7d9146d48019694808a833f1",
            "6b795226ab434e7e98b38cc48b0eb9d1",
            "20d854683e804214bbde01f08eb02361",
            "bc1cc04f9f2e4b058730317bdf304ac3",
            "0a31b76918f24adb85b1f1f2b1ce50bf",
            "33eb33f512b749f18af5552457ea539a",
            "9ead53f71bc144508caacc02575316cf",
            "59a2d1e2585843498598a4183ba35a89",
            "206b53df7e64419c93dcd74e4028fda0",
            "652a0dbfb1cc4671a2b91f03bea9e606",
            "5851473bbb2d4dc58e4f48c74781c516",
            "b5522a1d3cce4688b653ed2577697b6c",
            "6089086b88f640cf903eaff26f73a0e4",
            "25c2fc62cbc24f4a9cc10687ee03a3f0",
            "447cd1b3643040518d5a9fd0402abb3c",
            "dc86ba59988245c19f08304e64bee55d",
            "874b5b2aee9f4159a15d980fb7209fe9",
            "e34eedc7000047ca91ceb5136e3fa749",
            "110769b67e37469da6266036e6ecf741",
            "d50264138bc641b09d7fb204d6ee6e25",
            "2a0b9cd1aab44a7fb529383f2c3d16ad",
            "e0a181c977824be580dffc91885470d4",
            "48594bf30aa84b59b0506f132fa330f2",
            "07c2d3a0ce56420681df10b50790c594",
            "577fbb08fd1e40d28c2ad1c511dcab10",
            "08a15a823cc24e40be38f529da194939",
            "101d17e2ac6f41518a21435816b04435",
            "52317450a63e4e0e8249f9bcb0ea8868",
            "051c6949a56340a682100ab3e5ebf406",
            "d02ce2b8c8a84245b6b0430ab2e63f8b",
            "738be42137794e7ab3a8033eccb4e0b2",
            "136d3d1ac4194f998577faeef9bc5443",
            "f2bad06f17e745bb93fe8661221f270a",
            "538a5af2e03147a8aea49003ed82d25d",
            "75abab274cfc49918ea5f38de506a19f",
            "805c9c799c7043d0a779f481d1546384",
            "fe7a74fc8f2c4e10bef7210f21d0ee37",
            "e8be11975d494fc5bcef4a95ea5e038f",
            "8ea81446762045509297200da8671e7d",
            "0b7e00c438c14941b7974d16701eedc1",
            "67e11d8608cc464aa150174aaac22d70",
            "77533e6d859b48bc8a71ff3ae1fc95df",
            "570c885e990343ff8aa2e49f6075501a",
            "5b7b863af4954913aef4627d33b54b31",
            "6ff1ccb9362f4efd81e50d5e6e772c48",
            "948bbccefaad49d2a545c2b8b7f36028",
            "49bd7708340340aa914653a35d2fc910",
            "cd409dac0aa942b6ae5303fb7db946d8",
            "95ca66e48de04ad6a47de0aa58d382c9",
            "42176f4f86f24cd389cfb634ba03f874",
            "90914ef557214e588c426e417ad69468",
            "1abd5078651947758d5e2e0365c30794",
            "3379c07ecaad44ceba9d30f1dfb0699a",
            "9f51dee94ca642788a319cfeb6ab30d8",
            "3b41d42013074e0f96e285282b73d0e0",
            "53a377f881f74286878be45006584554",
            "9d7e59330b3a498c8e915080510797fd",
            "2c9a1888c96b4eed82d5933561fbd0f7",
            "3c664232a5f24045b1841d619ffb5c63",
            "053b9d52ed68417891783417bb29e8a0",
            "7bcbadae064843269579e06f2a45bece",
            "5b683ad962274fd4b8b204aaf98616c1",
            "3c87983f03e54e94bf653ff4fc252ae6",
            "0b5318bbbc99494f823675e52c5b8374",
            "8c750feb07c24768997fe2d46654fb18",
            "b401fee189c341aca1a516c180e0765c",
            "99b90cf94d2144cdb6725ed3eb99f3f3",
            "b980ba0e690c4348a8d27dac96ab5bab",
            "d391a6f1be074f939ede4933ee7d1589",
            "57f89ba1dae14106aa88beb3b123805b",
            "34f6481894dd4892ac6bd7c4da632db9",
            "dd1ef7ccf26a4369aff2efb2a7c3b2de",
            "6cc52397d70e4bdca5b3b8693ddac9ab",
            "d4e810757ac54210b8f09b75cbb6bedb",
            "e91eb47b708543bb834c07f7b15b77ac",
            "beb3685419d54f36b4d24836dd76aac0",
            "5cee0726fcdc497aa2527269a02b88a7",
            "83b361fdd02d4d118f8b53160d65e4b0",
            "0522dff94edf4064afdf839a7d00933b",
            "3a6dafb7fa3848c2817aaaccadfe05e7",
            "6b75b0c550514cb6832930f9970221fa",
            "1cbbc9ef4eab4657882651086fd44a0f",
            "c8f363e82a114e04a165ec04609ae5e6",
            "0a7f19be45694ca2bc66183dd4ad753a",
            "ca33a2e9bf1a4387bdc624ae9f4e836d",
            "d518d9eb6e1e4bd9aa33468fd2665e8b",
            "8f654359031a401c929836d092e5652f",
            "03c8ff83e74449629600f961d13b9570",
            "ef7e38a10a53443cba262fa3549fbeda",
            "dd2084586f6b467faaae8fe73b81110d",
            "1abe5dfd5b194bbca7ee67ca7a2da6d5",
            "fffff9d102364b3ab47aa0225fc273cf",
            "19cb0ebb84e34f1aa269e064bbb07c96",
            "d67aa3c10ed54495adb130db9b886faa",
            "c6a8a51a642940169447f7b8979e5a5a",
            "a8c31dd504e2491c9b3498a8eeca4a3b",
            "4d1acaa520a04e70a37a00ba7153793f",
            "eecf0a5fec7c4a94a702f54994cbe133",
            "6a91dc5c15854b51b15ca2e839e7a3ab",
            "0275455afcc0465cb95d2cc88a931a5e",
            "fdae299aa4584c74a00b5e98b4c89ec1",
            "e2e768f6a5cd49bdba589abe2be87262",
            "17b6c85f872c4ddda32e1dffa229ffa0",
            "959809d580764b938dca2c8fe5a266c5",
            "8fe2f77c55c449438af52b26079e13c9",
            "fb84793276b640bda08018911c7edc9c",
            "d2872570f40d4c729091aedee8893c94",
            "33301cef0b6840918620fe9b05e27877",
            "06c80f01e9ab41d6983f60f1d17f2165",
            "632b13b9a33349478d71e1103ede1de2",
            "478e4a157d28491ea97ad2d6c72b60f2",
            "7b56d9b4c240492db0eb50e0f4668aec",
            "3c80e65f16ef4dd49f2e0f38f6f6046b",
            "8e15bc128b5b4107ae371ec142612ab9",
            "ffadfc3d8aa84f1796801497ce990a93",
            "697ec722b4734ed59228472738d2041e",
            "1cf3cac6f8084c29bbcd4e9ee6895d19",
            "295cc97c0e3c4da882714e7eab7c4192",
            "eba0eb25acec43d4b7bed33b94f00dba",
            "d552f4c83fe741a6b380a02188b3b565",
            "60f813c44b9348bbb4258e3ad2fcb36b",
            "b67bd5a904ba4002b26eec59709b6ac2",
            "4d531a46bbc2491386410eb2cbc13faa",
            "85aa7ec9c88c4d97808ec74e5a7e2c43",
            "24f3f7cbb1b9497a8c35b01d5c9d4d73",
            "200696e80fd6408eae315afd168bd897"
          ]
        },
        "id": "Thx2w1Mlyllv",
        "outputId": "3938026d-657c-44c5-f113-7accecbcd9d1"
      },
      "outputs": [
        {
          "data": {
            "application/vnd.jupyter.widget-view+json": {
              "model_id": "15f7a1ab5d224c8396f3d8898101386f",
              "version_major": 2,
              "version_minor": 0
            },
            "text/plain": [
              "Downloading:   0%|          | 0.00/2.37k [00:00<?, ?B/s]"
            ]
          },
          "metadata": {},
          "output_type": "display_data"
        },
        {
          "data": {
            "application/vnd.jupyter.widget-view+json": {
              "model_id": "7e3bf8b1c6ce4b7b811b2dfc45df3d85",
              "version_major": 2,
              "version_minor": 0
            },
            "text/plain": [
              "Downloading:   0%|          | 0.00/5.17k [00:00<?, ?B/s]"
            ]
          },
          "metadata": {},
          "output_type": "display_data"
        },
        {
          "name": "stdout",
          "output_type": "stream",
          "text": [
            "Downloading and preparing dataset tweet_eval/emotion (download: 472.47 KiB, generated: 511.52 KiB, post-processed: Unknown size, total: 984.00 KiB) to /root/.cache/huggingface/datasets/tweet_eval/emotion/1.1.0/12aee5282b8784f3e95459466db4cdf45c6bf49719c25cdb0743d71ed0410343...\n"
          ]
        },
        {
          "data": {
            "application/vnd.jupyter.widget-view+json": {
              "model_id": "33eb33f512b749f18af5552457ea539a",
              "version_major": 2,
              "version_minor": 0
            },
            "text/plain": [
              "  0%|          | 0/6 [00:00<?, ?it/s]"
            ]
          },
          "metadata": {},
          "output_type": "display_data"
        },
        {
          "data": {
            "application/vnd.jupyter.widget-view+json": {
              "model_id": "874b5b2aee9f4159a15d980fb7209fe9",
              "version_major": 2,
              "version_minor": 0
            },
            "text/plain": [
              "Downloading:   0%|          | 0.00/134k [00:00<?, ?B/s]"
            ]
          },
          "metadata": {},
          "output_type": "display_data"
        },
        {
          "data": {
            "application/vnd.jupyter.widget-view+json": {
              "model_id": "52317450a63e4e0e8249f9bcb0ea8868",
              "version_major": 2,
              "version_minor": 0
            },
            "text/plain": [
              "Downloading:   0%|          | 0.00/1.18k [00:00<?, ?B/s]"
            ]
          },
          "metadata": {},
          "output_type": "display_data"
        },
        {
          "data": {
            "application/vnd.jupyter.widget-view+json": {
              "model_id": "8ea81446762045509297200da8671e7d",
              "version_major": 2,
              "version_minor": 0
            },
            "text/plain": [
              "Downloading:   0%|          | 0.00/60.3k [00:00<?, ?B/s]"
            ]
          },
          "metadata": {},
          "output_type": "display_data"
        },
        {
          "data": {
            "application/vnd.jupyter.widget-view+json": {
              "model_id": "42176f4f86f24cd389cfb634ba03f874",
              "version_major": 2,
              "version_minor": 0
            },
            "text/plain": [
              "Downloading:   0%|          | 0.00/569 [00:00<?, ?B/s]"
            ]
          },
          "metadata": {},
          "output_type": "display_data"
        },
        {
          "data": {
            "application/vnd.jupyter.widget-view+json": {
              "model_id": "7bcbadae064843269579e06f2a45bece",
              "version_major": 2,
              "version_minor": 0
            },
            "text/plain": [
              "Downloading:   0%|          | 0.00/16.9k [00:00<?, ?B/s]"
            ]
          },
          "metadata": {},
          "output_type": "display_data"
        },
        {
          "data": {
            "application/vnd.jupyter.widget-view+json": {
              "model_id": "dd1ef7ccf26a4369aff2efb2a7c3b2de",
              "version_major": 2,
              "version_minor": 0
            },
            "text/plain": [
              "Downloading:   0%|          | 0.00/183 [00:00<?, ?B/s]"
            ]
          },
          "metadata": {},
          "output_type": "display_data"
        },
        {
          "data": {
            "application/vnd.jupyter.widget-view+json": {
              "model_id": "c8f363e82a114e04a165ec04609ae5e6",
              "version_major": 2,
              "version_minor": 0
            },
            "text/plain": [
              "  0%|          | 0/6 [00:00<?, ?it/s]"
            ]
          },
          "metadata": {},
          "output_type": "display_data"
        },
        {
          "data": {
            "application/vnd.jupyter.widget-view+json": {
              "model_id": "d67aa3c10ed54495adb130db9b886faa",
              "version_major": 2,
              "version_minor": 0
            },
            "text/plain": [
              "0 examples [00:00, ? examples/s]"
            ]
          },
          "metadata": {},
          "output_type": "display_data"
        },
        {
          "data": {
            "application/vnd.jupyter.widget-view+json": {
              "model_id": "8fe2f77c55c449438af52b26079e13c9",
              "version_major": 2,
              "version_minor": 0
            },
            "text/plain": [
              "0 examples [00:00, ? examples/s]"
            ]
          },
          "metadata": {},
          "output_type": "display_data"
        },
        {
          "data": {
            "application/vnd.jupyter.widget-view+json": {
              "model_id": "697ec722b4734ed59228472738d2041e",
              "version_major": 2,
              "version_minor": 0
            },
            "text/plain": [
              "0 examples [00:00, ? examples/s]"
            ]
          },
          "metadata": {},
          "output_type": "display_data"
        },
        {
          "name": "stdout",
          "output_type": "stream",
          "text": [
            "Dataset tweet_eval downloaded and prepared to /root/.cache/huggingface/datasets/tweet_eval/emotion/1.1.0/12aee5282b8784f3e95459466db4cdf45c6bf49719c25cdb0743d71ed0410343. Subsequent calls will reuse this data.\n"
          ]
        },
        {
          "data": {
            "text/html": [
              "\n",
              "  <div id=\"df-e9e3a509-9c7d-42f8-a247-7d394f0cd7f8\">\n",
              "    <div class=\"colab-df-container\">\n",
              "      <div>\n",
              "<style scoped>\n",
              "    .dataframe tbody tr th:only-of-type {\n",
              "        vertical-align: middle;\n",
              "    }\n",
              "\n",
              "    .dataframe tbody tr th {\n",
              "        vertical-align: top;\n",
              "    }\n",
              "\n",
              "    .dataframe thead th {\n",
              "        text-align: right;\n",
              "    }\n",
              "</style>\n",
              "<table border=\"1\" class=\"dataframe\">\n",
              "  <thead>\n",
              "    <tr style=\"text-align: right;\">\n",
              "      <th></th>\n",
              "      <th>topic</th>\n",
              "      <th>text</th>\n",
              "    </tr>\n",
              "  </thead>\n",
              "  <tbody>\n",
              "    <tr>\n",
              "      <th>1491</th>\n",
              "      <td>anger</td>\n",
              "      <td>Spurs radio commentator referred to Mauricio P...</td>\n",
              "    </tr>\n",
              "    <tr>\n",
              "      <th>1313</th>\n",
              "      <td>sadness</td>\n",
              "      <td>@user I know smh. My heart sunk into my stomach.</td>\n",
              "    </tr>\n",
              "    <tr>\n",
              "      <th>2392</th>\n",
              "      <td>anger</td>\n",
              "      <td>When your sister is 19 and throws legitimate t...</td>\n",
              "    </tr>\n",
              "    <tr>\n",
              "      <th>2655</th>\n",
              "      <td>anger</td>\n",
              "      <td>@user Yikes. The wrath of Maddie...</td>\n",
              "    </tr>\n",
              "    <tr>\n",
              "      <th>1331</th>\n",
              "      <td>sadness</td>\n",
              "      <td>also i had an awful nightmare involving being ...</td>\n",
              "    </tr>\n",
              "  </tbody>\n",
              "</table>\n",
              "</div>\n",
              "      <button class=\"colab-df-convert\" onclick=\"convertToInteractive('df-e9e3a509-9c7d-42f8-a247-7d394f0cd7f8')\"\n",
              "              title=\"Convert this dataframe to an interactive table.\"\n",
              "              style=\"display:none;\">\n",
              "        \n",
              "  <svg xmlns=\"http://www.w3.org/2000/svg\" height=\"24px\"viewBox=\"0 0 24 24\"\n",
              "       width=\"24px\">\n",
              "    <path d=\"M0 0h24v24H0V0z\" fill=\"none\"/>\n",
              "    <path d=\"M18.56 5.44l.94 2.06.94-2.06 2.06-.94-2.06-.94-.94-2.06-.94 2.06-2.06.94zm-11 1L8.5 8.5l.94-2.06 2.06-.94-2.06-.94L8.5 2.5l-.94 2.06-2.06.94zm10 10l.94 2.06.94-2.06 2.06-.94-2.06-.94-.94-2.06-.94 2.06-2.06.94z\"/><path d=\"M17.41 7.96l-1.37-1.37c-.4-.4-.92-.59-1.43-.59-.52 0-1.04.2-1.43.59L10.3 9.45l-7.72 7.72c-.78.78-.78 2.05 0 2.83L4 21.41c.39.39.9.59 1.41.59.51 0 1.02-.2 1.41-.59l7.78-7.78 2.81-2.81c.8-.78.8-2.07 0-2.86zM5.41 20L4 18.59l7.72-7.72 1.47 1.35L5.41 20z\"/>\n",
              "  </svg>\n",
              "      </button>\n",
              "      \n",
              "  <style>\n",
              "    .colab-df-container {\n",
              "      display:flex;\n",
              "      flex-wrap:wrap;\n",
              "      gap: 12px;\n",
              "    }\n",
              "\n",
              "    .colab-df-convert {\n",
              "      background-color: #E8F0FE;\n",
              "      border: none;\n",
              "      border-radius: 50%;\n",
              "      cursor: pointer;\n",
              "      display: none;\n",
              "      fill: #1967D2;\n",
              "      height: 32px;\n",
              "      padding: 0 0 0 0;\n",
              "      width: 32px;\n",
              "    }\n",
              "\n",
              "    .colab-df-convert:hover {\n",
              "      background-color: #E2EBFA;\n",
              "      box-shadow: 0px 1px 2px rgba(60, 64, 67, 0.3), 0px 1px 3px 1px rgba(60, 64, 67, 0.15);\n",
              "      fill: #174EA6;\n",
              "    }\n",
              "\n",
              "    [theme=dark] .colab-df-convert {\n",
              "      background-color: #3B4455;\n",
              "      fill: #D2E3FC;\n",
              "    }\n",
              "\n",
              "    [theme=dark] .colab-df-convert:hover {\n",
              "      background-color: #434B5C;\n",
              "      box-shadow: 0px 1px 3px 1px rgba(0, 0, 0, 0.15);\n",
              "      filter: drop-shadow(0px 1px 2px rgba(0, 0, 0, 0.3));\n",
              "      fill: #FFFFFF;\n",
              "    }\n",
              "  </style>\n",
              "\n",
              "      <script>\n",
              "        const buttonEl =\n",
              "          document.querySelector('#df-e9e3a509-9c7d-42f8-a247-7d394f0cd7f8 button.colab-df-convert');\n",
              "        buttonEl.style.display =\n",
              "          google.colab.kernel.accessAllowed ? 'block' : 'none';\n",
              "\n",
              "        async function convertToInteractive(key) {\n",
              "          const element = document.querySelector('#df-e9e3a509-9c7d-42f8-a247-7d394f0cd7f8');\n",
              "          const dataTable =\n",
              "            await google.colab.kernel.invokeFunction('convertToInteractive',\n",
              "                                                     [key], {});\n",
              "          if (!dataTable) return;\n",
              "\n",
              "          const docLinkHtml = 'Like what you see? Visit the ' +\n",
              "            '<a target=\"_blank\" href=https://colab.research.google.com/notebooks/data_table.ipynb>data table notebook</a>'\n",
              "            + ' to learn more about interactive tables.';\n",
              "          element.innerHTML = '';\n",
              "          dataTable['output_type'] = 'display_data';\n",
              "          await google.colab.output.renderOutput(dataTable, element);\n",
              "          const docLink = document.createElement('div');\n",
              "          docLink.innerHTML = docLinkHtml;\n",
              "          element.appendChild(docLink);\n",
              "        }\n",
              "      </script>\n",
              "    </div>\n",
              "  </div>\n",
              "  "
            ],
            "text/plain": [
              "        topic                                               text\n",
              "1491    anger  Spurs radio commentator referred to Mauricio P...\n",
              "1313  sadness   @user I know smh. My heart sunk into my stomach.\n",
              "2392    anger  When your sister is 19 and throws legitimate t...\n",
              "2655    anger                @user Yikes. The wrath of Maddie...\n",
              "1331  sadness  also i had an awful nightmare involving being ..."
            ]
          },
          "execution_count": 120,
          "metadata": {},
          "output_type": "execute_result"
        }
      ],
      "source": [
        "## tweet eval emotion \n",
        "\n",
        "tweet_emotion = load_dataset(\"tweet_eval\", \"emotion\", split = \"train\")\n",
        "tweet_emotion_text = tweet_emotion['text']\n",
        "tweet_emotion_topic = tweet_emotion['label']\n",
        "emotion_df = pd.DataFrame({\"topic\":tweet_emotion_topic, \"text\": tweet_emotion_text})\n",
        "\n",
        "# re-mapping the labels \n",
        "\n",
        "names_list_emotion =  tweet_emotion.features[\"label\"].names\n",
        "num_list_emotion = list(range(len(names_list_emotion )))\n",
        "zip_iterator_emotion = zip(num_list_emotion, names_list_emotion)\n",
        "\n",
        "reference_levels_emotion = dict(zip_iterator_emotion)\n",
        "emotion_df['topic'] = emotion_df['topic'].map(reference_levels_emotion)\n",
        "\n",
        "\n",
        "emotion_df_val = emotion_df.sample(n = 1000,  replace = False, random_state = 123)\n",
        "emotion_df_train = emotion_df.drop(emotion_df_val.index)\n",
        "\n",
        "\n",
        "emotion_df_val.head()"
      ]
    },
    {
      "cell_type": "code",
      "execution_count": null,
      "metadata": {
        "id": "LdIyM7qjl5Yr"
      },
      "outputs": [],
      "source": [
        "# saving to csv\n",
        "emotion_df_train.to_csv('/content/gdrive/My Drive/DS405B_NLP/emotion_df_train.csv')\n",
        "emotion_df_val.to_csv('/content/gdrive/My Drive/DS405B_NLP/emotion_df_val.csv')\n"
      ]
    },
    {
      "cell_type": "code",
      "execution_count": null,
      "metadata": {
        "colab": {
          "base_uri": "https://localhost:8080/",
          "height": 520,
          "referenced_widgets": [
            "e0f7293bec7743f499393eb7fa4647fd",
            "77e28126fc534b829f8205bc9ecabe75",
            "f227515afdb746ecb77c1a8020ee9930",
            "cbcd4081c69c4e27b631ecf5ff7516c9",
            "1cbb98d02304431293231eb28d1eaa47",
            "69d7790864964505a70b529aa439b966",
            "aac7c63cf8934064a3a98d05f359e564",
            "f0c8c82a4b9c4df19548a5aeb5f8108f",
            "f0929bcbe692484191ea3fae3363aba7",
            "4a722462ca3640d0a0a3425b3b97367c",
            "7232ced562e644cba2bffe5246bdec46",
            "f899784ff66a411b9db855f09e727d42",
            "eebed6a6d1574b3d92873ec8060a5317",
            "b69b291557634ce796df5a85bc5b8e38",
            "3414bc08d57c45408fb0166978951c42",
            "3d123337652d4cbc862d225d76bb6c9a",
            "4034fc9dfc4a4a5196dc9a42d4cbea19",
            "1be4e4a40005427492ae9326229ed5d0",
            "ca87b6f621ae48b9ba2aa2e64dfcc794",
            "a33a14b0c0c348aa8a9c60f268fbc35a",
            "d1dbd5cfa8174847ab84291b954d2634",
            "013ab8d9a2f24e5fb21e384a090f25b7",
            "5a0e513d738e4de5b0bf0d1abb652b5e",
            "d5b7ec4cb7354dc68c56eb65f0a89e02",
            "88481630c7df4818a0008f16a0ed958d",
            "5e46044c1144469abffbde5cd1523388",
            "93e56874a972416da323565ac07e995c",
            "ed5b3b6c15f240228b1ad8a093d413fd",
            "7ddea92589754ecea10734c5d6da6902",
            "cffce02666cb42ddadcb4c2596d7ff76",
            "1dc9fe86276f4762835bb85f6b0762ac",
            "d7327a906e734807b0db63e32e9a2167",
            "7234247d51904ff6990946a7728925d8",
            "c860cde1239a446c9051ad21f5919680",
            "2ad16c404a874bb2a6830f77590287fa",
            "4a3468f8244a464582be14e7170d4475",
            "3f138ff2667a4aaeb1c8debb9660cdb3",
            "f3f4afefbdde4203ac3cc90688f4869b",
            "29bd7c9d8aa742c496841fc3cc2cbb15",
            "919a72407b924fc995a2a1d914703766",
            "83a67270f88d4620a37db75fb0ad9b01",
            "19ad9fbebb6a4de98fda1dc65e995e20",
            "12ff81c51a5c4f24a43ccd51f7cc7898",
            "865f749c99c1448e9f193e6d458a1068",
            "0e62a821e4d743eca7fb4091b4742d69",
            "d48692c23ad34d20893be8efbc14ef21",
            "b1e720e60a5a46438127fd34fae1efe5",
            "1e02b07b2fc849d381a667c9b5c9b8ab",
            "7b89b606aefa4602827083aeab90541f",
            "2617e939f925487aa8402b793e2a9ecd",
            "6b3fdd33affc4b5cb28c65f072b35847",
            "c7815cf5d59a47eca991603ac8e588d9",
            "cfa07699f1a3428e8b497e82fdc41d1c",
            "ad0bf24eca7149c79ed10ccaf68b4707",
            "41b640476cc34c52a7af1dcab4fc6a7f",
            "f7fe7a527bf24df8a78754ee52f213ab",
            "e78a131242d6479caaeeb86533e0fd0a",
            "878e14e2bd984bf3a49744fcbc87ce7f",
            "5a8d3a6dfe16450d9b641096949b491f",
            "f9bf32a03ba34ca5b2e1c422776522b2",
            "bdb8b71fdd084c399b2fc7ab540ccd9b",
            "b3fe30f140e9494d87607db77fdec92e",
            "1af1eb119a3743238830d2483dc5d284",
            "d2b2fb4057b94da5b6949cc443493f37",
            "f9bdc9c3ab4747d28811f6bee10fa514",
            "c4eaa4e3d7e940ba9bf5a21d67961abe",
            "b5b4db17232d4f34b491025ade29ae2c",
            "53324c0090d445c9b82564349ea6eda9",
            "dfcea59d6f5b46578ca3598083c19e29",
            "583fac85882d4ac8a9d886fd27ebcb3b",
            "864553c504704dbbbd415cbc63e23f90",
            "3df45ed81c2748afbc0b27c65d44e092",
            "48db3dc3712e4e6d94e00c0a8bc3c9b2",
            "b57652bfad244432a7792d134c5cbfab",
            "59270651454e4607b530617ad99a6a68",
            "86808a361000443db5dd755622e0c276",
            "4279df59faca464c940eda5f8586f0d4",
            "c6019f0892de40ed951d27f79790ccfd",
            "8a63e5083b314fa7a51700de1e51a143",
            "0fe99bbd303541e490815f4187d87b4b",
            "29480ef20d294fcf8146b1006b6c8bf4",
            "998d1e9310b9417e853339db875e8b65",
            "0175223bd1d74c3ba7d687713ca20f56",
            "20b3327b049343cf8d4fc9f1a21848de",
            "83f7a23b172b46dfa3a9c35799ebc40e",
            "86bbf14bb3dd4e858a9c98322c0f0e53",
            "e2e39eec7f9845379ee5384db90f1811",
            "a2af08af476c46b5bbe5aaa2b46d235a",
            "fac46a35ebcd4eee8f8067be1d97d979",
            "ec859df443e24196b4dcd784666879cc",
            "bc28f7e171a14f12ba7c4211df23adf4",
            "97d1a9f9e3be4190ad7d3531a16fe057",
            "f18c90cc02994e5a8d57166270ed941a",
            "7c8d9032567a417fbc9db6176466aa63",
            "78c7750f09514faa99e1bdc47698d93b",
            "b4de49a73aa14fc1be75ba53796fb55a",
            "318f104ca8a948d092b0bb22cb0c485d",
            "0b5a265610234381ad352c66f7a0fa83",
            "ec95aeb9fdf04deeaac10b3702d9d248",
            "ddcfd371b4e141a8a1711afb4bb48a9e",
            "671faca6ea9a40ecb06ff20e1f73cfd3",
            "d741339f61bc407aa7795817d8a75e57",
            "93fcb4a0b8aa4a90aa1626c41f1d2168",
            "04b75f7dd441407eb6d622b6311cd329",
            "edf98de5f8544826a34201b17d6abdd1",
            "63cb6f2807334189931a4b7ce9b36d14",
            "f7bae9b920004b639c213565ae7c7ecc",
            "b51cfea47ac8424ba8027e5338ee71fa",
            "ea2de0bf6c294f93bf0e1af54f28370d",
            "cf50e005f4d14ba499119d8a9c2ab07d",
            "51deab05f77942c4954409e69d9bb55f",
            "224d871cc3594b22bd608329bd054bff",
            "59f591fac4a7449098cf06f6b2e36ffe",
            "9140cf6e8af140819b01923314828b87",
            "17df740891ec42c2be57183c4105f353",
            "21e60156d56b4981877cded602c26030",
            "d1ce320a39d54ea7aafe490e17dd864e",
            "6ad902127c374a89876f79c1ecd2e1e8",
            "7b0264bd9f8a4f4a9d9b3dda576cce83",
            "f75a748017b9420cb928cb7b5376f09d",
            "291196f17d2543378cc13e074bd02d68"
          ]
        },
        "id": "CecCdMhA52Hg",
        "outputId": "db9130c1-e3bb-4fe3-a614-a4388dc2a002"
      },
      "outputs": [
        {
          "name": "stdout",
          "output_type": "stream",
          "text": [
            "Downloading and preparing dataset tweet_eval/sentiment (download: 6.17 MiB, generated: 6.62 MiB, post-processed: Unknown size, total: 12.79 MiB) to /root/.cache/huggingface/datasets/tweet_eval/sentiment/1.1.0/12aee5282b8784f3e95459466db4cdf45c6bf49719c25cdb0743d71ed0410343...\n"
          ]
        },
        {
          "data": {
            "application/vnd.jupyter.widget-view+json": {
              "model_id": "e0f7293bec7743f499393eb7fa4647fd",
              "version_major": 2,
              "version_minor": 0
            },
            "text/plain": [
              "  0%|          | 0/6 [00:00<?, ?it/s]"
            ]
          },
          "metadata": {},
          "output_type": "display_data"
        },
        {
          "data": {
            "application/vnd.jupyter.widget-view+json": {
              "model_id": "f899784ff66a411b9db855f09e727d42",
              "version_major": 2,
              "version_minor": 0
            },
            "text/plain": [
              "Downloading:   0%|          | 0.00/2.24M [00:00<?, ?B/s]"
            ]
          },
          "metadata": {},
          "output_type": "display_data"
        },
        {
          "data": {
            "application/vnd.jupyter.widget-view+json": {
              "model_id": "5a0e513d738e4de5b0bf0d1abb652b5e",
              "version_major": 2,
              "version_minor": 0
            },
            "text/plain": [
              "Downloading:   0%|          | 0.00/12.7k [00:00<?, ?B/s]"
            ]
          },
          "metadata": {},
          "output_type": "display_data"
        },
        {
          "data": {
            "application/vnd.jupyter.widget-view+json": {
              "model_id": "c860cde1239a446c9051ad21f5919680",
              "version_major": 2,
              "version_minor": 0
            },
            "text/plain": [
              "Downloading:   0%|          | 0.00/527k [00:00<?, ?B/s]"
            ]
          },
          "metadata": {},
          "output_type": "display_data"
        },
        {
          "data": {
            "application/vnd.jupyter.widget-view+json": {
              "model_id": "0e62a821e4d743eca7fb4091b4742d69",
              "version_major": 2,
              "version_minor": 0
            },
            "text/plain": [
              "Downloading:   0%|          | 0.00/3.53k [00:00<?, ?B/s]"
            ]
          },
          "metadata": {},
          "output_type": "display_data"
        },
        {
          "data": {
            "application/vnd.jupyter.widget-view+json": {
              "model_id": "f7fe7a527bf24df8a78754ee52f213ab",
              "version_major": 2,
              "version_minor": 0
            },
            "text/plain": [
              "Downloading:   0%|          | 0.00/99.7k [00:00<?, ?B/s]"
            ]
          },
          "metadata": {},
          "output_type": "display_data"
        },
        {
          "data": {
            "application/vnd.jupyter.widget-view+json": {
              "model_id": "b5b4db17232d4f34b491025ade29ae2c",
              "version_major": 2,
              "version_minor": 0
            },
            "text/plain": [
              "Downloading:   0%|          | 0.00/629 [00:00<?, ?B/s]"
            ]
          },
          "metadata": {},
          "output_type": "display_data"
        },
        {
          "data": {
            "application/vnd.jupyter.widget-view+json": {
              "model_id": "c6019f0892de40ed951d27f79790ccfd",
              "version_major": 2,
              "version_minor": 0
            },
            "text/plain": [
              "  0%|          | 0/6 [00:00<?, ?it/s]"
            ]
          },
          "metadata": {},
          "output_type": "display_data"
        },
        {
          "data": {
            "application/vnd.jupyter.widget-view+json": {
              "model_id": "fac46a35ebcd4eee8f8067be1d97d979",
              "version_major": 2,
              "version_minor": 0
            },
            "text/plain": [
              "0 examples [00:00, ? examples/s]"
            ]
          },
          "metadata": {},
          "output_type": "display_data"
        },
        {
          "data": {
            "application/vnd.jupyter.widget-view+json": {
              "model_id": "ddcfd371b4e141a8a1711afb4bb48a9e",
              "version_major": 2,
              "version_minor": 0
            },
            "text/plain": [
              "0 examples [00:00, ? examples/s]"
            ]
          },
          "metadata": {},
          "output_type": "display_data"
        },
        {
          "data": {
            "application/vnd.jupyter.widget-view+json": {
              "model_id": "51deab05f77942c4954409e69d9bb55f",
              "version_major": 2,
              "version_minor": 0
            },
            "text/plain": [
              "0 examples [00:00, ? examples/s]"
            ]
          },
          "metadata": {},
          "output_type": "display_data"
        },
        {
          "name": "stdout",
          "output_type": "stream",
          "text": [
            "Dataset tweet_eval downloaded and prepared to /root/.cache/huggingface/datasets/tweet_eval/sentiment/1.1.0/12aee5282b8784f3e95459466db4cdf45c6bf49719c25cdb0743d71ed0410343. Subsequent calls will reuse this data.\n"
          ]
        },
        {
          "data": {
            "text/html": [
              "\n",
              "  <div id=\"df-ccb80ea6-6c4e-4c45-a38e-b09664e95232\">\n",
              "    <div class=\"colab-df-container\">\n",
              "      <div>\n",
              "<style scoped>\n",
              "    .dataframe tbody tr th:only-of-type {\n",
              "        vertical-align: middle;\n",
              "    }\n",
              "\n",
              "    .dataframe tbody tr th {\n",
              "        vertical-align: top;\n",
              "    }\n",
              "\n",
              "    .dataframe thead th {\n",
              "        text-align: right;\n",
              "    }\n",
              "</style>\n",
              "<table border=\"1\" class=\"dataframe\">\n",
              "  <thead>\n",
              "    <tr style=\"text-align: right;\">\n",
              "      <th></th>\n",
              "      <th>topic</th>\n",
              "      <th>text</th>\n",
              "    </tr>\n",
              "  </thead>\n",
              "  <tbody>\n",
              "    <tr>\n",
              "      <th>42070</th>\n",
              "      <td>neutral</td>\n",
              "      <td>another week. C. wants to take him to a gay ba...</td>\n",
              "    </tr>\n",
              "    <tr>\n",
              "      <th>1563</th>\n",
              "      <td>neutral</td>\n",
              "      <td>Gucci may be a famous rapper but he's still in...</td>\n",
              "    </tr>\n",
              "    <tr>\n",
              "      <th>19179</th>\n",
              "      <td>positive</td>\n",
              "      <td>Please join me in welcoming our next US Senato...</td>\n",
              "    </tr>\n",
              "    <tr>\n",
              "      <th>36335</th>\n",
              "      <td>positive</td>\n",
              "      <td>Drew Peterson is #Untouchable no more! Check o...</td>\n",
              "    </tr>\n",
              "    <tr>\n",
              "      <th>40434</th>\n",
              "      <td>positive</td>\n",
              "      <td>@user @user yes ga!!! I may not know how to dr...</td>\n",
              "    </tr>\n",
              "  </tbody>\n",
              "</table>\n",
              "</div>\n",
              "      <button class=\"colab-df-convert\" onclick=\"convertToInteractive('df-ccb80ea6-6c4e-4c45-a38e-b09664e95232')\"\n",
              "              title=\"Convert this dataframe to an interactive table.\"\n",
              "              style=\"display:none;\">\n",
              "        \n",
              "  <svg xmlns=\"http://www.w3.org/2000/svg\" height=\"24px\"viewBox=\"0 0 24 24\"\n",
              "       width=\"24px\">\n",
              "    <path d=\"M0 0h24v24H0V0z\" fill=\"none\"/>\n",
              "    <path d=\"M18.56 5.44l.94 2.06.94-2.06 2.06-.94-2.06-.94-.94-2.06-.94 2.06-2.06.94zm-11 1L8.5 8.5l.94-2.06 2.06-.94-2.06-.94L8.5 2.5l-.94 2.06-2.06.94zm10 10l.94 2.06.94-2.06 2.06-.94-2.06-.94-.94-2.06-.94 2.06-2.06.94z\"/><path d=\"M17.41 7.96l-1.37-1.37c-.4-.4-.92-.59-1.43-.59-.52 0-1.04.2-1.43.59L10.3 9.45l-7.72 7.72c-.78.78-.78 2.05 0 2.83L4 21.41c.39.39.9.59 1.41.59.51 0 1.02-.2 1.41-.59l7.78-7.78 2.81-2.81c.8-.78.8-2.07 0-2.86zM5.41 20L4 18.59l7.72-7.72 1.47 1.35L5.41 20z\"/>\n",
              "  </svg>\n",
              "      </button>\n",
              "      \n",
              "  <style>\n",
              "    .colab-df-container {\n",
              "      display:flex;\n",
              "      flex-wrap:wrap;\n",
              "      gap: 12px;\n",
              "    }\n",
              "\n",
              "    .colab-df-convert {\n",
              "      background-color: #E8F0FE;\n",
              "      border: none;\n",
              "      border-radius: 50%;\n",
              "      cursor: pointer;\n",
              "      display: none;\n",
              "      fill: #1967D2;\n",
              "      height: 32px;\n",
              "      padding: 0 0 0 0;\n",
              "      width: 32px;\n",
              "    }\n",
              "\n",
              "    .colab-df-convert:hover {\n",
              "      background-color: #E2EBFA;\n",
              "      box-shadow: 0px 1px 2px rgba(60, 64, 67, 0.3), 0px 1px 3px 1px rgba(60, 64, 67, 0.15);\n",
              "      fill: #174EA6;\n",
              "    }\n",
              "\n",
              "    [theme=dark] .colab-df-convert {\n",
              "      background-color: #3B4455;\n",
              "      fill: #D2E3FC;\n",
              "    }\n",
              "\n",
              "    [theme=dark] .colab-df-convert:hover {\n",
              "      background-color: #434B5C;\n",
              "      box-shadow: 0px 1px 3px 1px rgba(0, 0, 0, 0.15);\n",
              "      filter: drop-shadow(0px 1px 2px rgba(0, 0, 0, 0.3));\n",
              "      fill: #FFFFFF;\n",
              "    }\n",
              "  </style>\n",
              "\n",
              "      <script>\n",
              "        const buttonEl =\n",
              "          document.querySelector('#df-ccb80ea6-6c4e-4c45-a38e-b09664e95232 button.colab-df-convert');\n",
              "        buttonEl.style.display =\n",
              "          google.colab.kernel.accessAllowed ? 'block' : 'none';\n",
              "\n",
              "        async function convertToInteractive(key) {\n",
              "          const element = document.querySelector('#df-ccb80ea6-6c4e-4c45-a38e-b09664e95232');\n",
              "          const dataTable =\n",
              "            await google.colab.kernel.invokeFunction('convertToInteractive',\n",
              "                                                     [key], {});\n",
              "          if (!dataTable) return;\n",
              "\n",
              "          const docLinkHtml = 'Like what you see? Visit the ' +\n",
              "            '<a target=\"_blank\" href=https://colab.research.google.com/notebooks/data_table.ipynb>data table notebook</a>'\n",
              "            + ' to learn more about interactive tables.';\n",
              "          element.innerHTML = '';\n",
              "          dataTable['output_type'] = 'display_data';\n",
              "          await google.colab.output.renderOutput(dataTable, element);\n",
              "          const docLink = document.createElement('div');\n",
              "          docLink.innerHTML = docLinkHtml;\n",
              "          element.appendChild(docLink);\n",
              "        }\n",
              "      </script>\n",
              "    </div>\n",
              "  </div>\n",
              "  "
            ],
            "text/plain": [
              "          topic                                               text\n",
              "42070   neutral  another week. C. wants to take him to a gay ba...\n",
              "1563    neutral  Gucci may be a famous rapper but he's still in...\n",
              "19179  positive  Please join me in welcoming our next US Senato...\n",
              "36335  positive  Drew Peterson is #Untouchable no more! Check o...\n",
              "40434  positive  @user @user yes ga!!! I may not know how to dr..."
            ]
          },
          "execution_count": 12,
          "metadata": {},
          "output_type": "execute_result"
        }
      ],
      "source": [
        "## tweet eval sentiment\n",
        "\n",
        "tweet_sentiment = load_dataset(\"tweet_eval\", \"sentiment\", split = \"train\")\n",
        "tweet_sentiment_text = tweet_sentiment['text']\n",
        "tweet_sentiment_topic = tweet_sentiment['label']\n",
        "\n",
        "sentiment_df = pd.DataFrame({\"topic\":tweet_sentiment_topic, \"text\": tweet_sentiment_text})\n",
        "\n",
        "\n",
        "# re-mapping the labels \n",
        "\n",
        "names_list =  tweet_sentiment.features[\"label\"].names\n",
        "num_list = list(range(len(names_list )))\n",
        "zip_iterator = zip(num_list, names_list)\n",
        "\n",
        "reference_levels_sentiment = dict(zip_iterator)\n",
        "sentiment_df['topic'] = sentiment_df['topic'].map(reference_levels_sentiment)\n",
        "\n",
        "\n",
        "sentiment_df_val = sentiment_df.sample(n = 1000,  replace = False, random_state = 123)\n",
        "sentiment_df_train = sentiment_df.drop(sentiment_df_val.index)\n",
        "\n",
        "\n",
        "sentiment_df_val.head()"
      ]
    },
    {
      "cell_type": "code",
      "execution_count": null,
      "metadata": {
        "id": "2X8VtV5YmAWv"
      },
      "outputs": [],
      "source": [
        "# saving to csv\n",
        "\n",
        "sentiment_df_train.to_csv('/content/gdrive/My Drive/DS405B_NLP/sentiment_df_train.csv')\n",
        "sentiment_df_val.to_csv('/content/gdrive/My Drive/DS405B_NLP/sentiment_df_val.csv')\n"
      ]
    },
    {
      "cell_type": "markdown",
      "metadata": {
        "id": "IVeUiprZ4ZEN"
      },
      "source": [
        "Now, I shall retrieve the 5000 most comon tokens form each training dataset and remove those words for which ones does not have the glove embeddings. Without the glove embeddings, no mapping to a latent space can be trained!\n",
        "\n",
        "This step is relevant for tasks 3 and 4!\n"
      ]
    },
    {
      "cell_type": "code",
      "execution_count": null,
      "metadata": {
        "id": "PtcKR-y37kln"
      },
      "outputs": [],
      "source": [
        "from torchtext.data.utils import get_tokenizer\n",
        "from collections import Counter\n",
        "\n",
        "tokenizer = get_tokenizer('basic_english')\n",
        "list_glove_words = list(model_w2v.vocab)\n"
      ]
    },
    {
      "cell_type": "code",
      "execution_count": null,
      "metadata": {
        "id": "s3MyW8hzmRZE"
      },
      "outputs": [],
      "source": [
        "# for the yahoo answer data\n",
        "\n",
        "yahoo_df_train = pd.read_csv('/content/gdrive/My Drive/DS405B_NLP/yahoo_df_train.csv')\n",
        "\n",
        "list_yahoo = []\n",
        "\n",
        "for i in range(yahoo_df_train.shape[0]):\n",
        "  text = tokenizer(str(yahoo_df_train.text[i]))\n",
        "\n",
        "  list_yahoo.append(text)\n",
        "  print(i)\n",
        "\n",
        "# flattening list \n",
        "list_yahoo = [y for x in list_yahoo for y in x]\n",
        "\n",
        "Count_yahoo = Counter(list_yahoo)\n",
        "top_5000_yahoo = Count_yahoo.most_common(5000)\n",
        "\n",
        "top_5000_yahoo = pd.DataFrame(top_5000_yahoo)\n",
        "top_5000_yahoo.to_csv('/content/gdrive/My Drive/DS405B_NLP/top_5000_yahoo.csv')\n",
        "\n",
        "# another df with only those words for which one has glove embeddings \n",
        "\n",
        "top_yahoo_glove = top_5000_yahoo[top_5000_yahoo[0].isin(list_glove_words)]\n",
        "top_yahoo_glove.to_csv('/content/gdrive/My Drive/DS405B_NLP/top_yahoo_glove.csv')\n"
      ]
    },
    {
      "cell_type": "code",
      "execution_count": null,
      "metadata": {
        "id": "SFIigxEO5IM8"
      },
      "outputs": [],
      "source": [
        "## for the banking data \n",
        "\n",
        "banking_df_train = pd.read_csv('/content/gdrive/My Drive/DS405B_NLP/banking_df_train.csv')\n",
        "\n",
        "list_banking = []\n",
        "\n",
        "for i in range(banking_df_train.shape[0]):\n",
        "  text = tokenizer(str(banking_df_train.text[i]))\n",
        "  list_banking.append(text)\n",
        "\n",
        "\n",
        "# flattening list \n",
        "list_banking = [y for x in list_banking for y in x]\n",
        "\n",
        "\n",
        "Count_banking = Counter(list_banking)\n",
        "top_5000_banking = Count_banking.most_common(5000)\n",
        "\n",
        "top_5000_banking = pd.DataFrame(top_5000_banking)\n",
        "top_5000_banking.to_csv('/content/gdrive/My Drive/DS405B_NLP/top_5000_banking.csv')\n",
        "\n",
        "# another df with only those words for which one has glove embeddings \n",
        "\n",
        "top_banking_glove = top_5000_banking[top_5000_banking[0].isin(list_glove_words)]\n",
        "top_banking_glove.to_csv('/content/gdrive/My Drive/DS405B_NLP/top_banking_glove.csv')\n"
      ]
    },
    {
      "cell_type": "code",
      "execution_count": null,
      "metadata": {
        "id": "23ZUP_NV6fOh"
      },
      "outputs": [],
      "source": [
        "## for the emotion data \n",
        "\n",
        "emotion_df_train = pd.read_csv('/content/gdrive/My Drive/DS405B_NLP/emotion_df_train.csv')\n",
        "\n",
        "list_emotion = []\n",
        "\n",
        "for i in range(emotion_df_train.shape[0]):\n",
        "  text = tokenizer(str(emotion_df_train.text[i]))\n",
        "  list_emotion.append(text)\n",
        "\n",
        "# flattening list \n",
        "list_emotion = [y for x in list_emotion for y in x]\n",
        "\n",
        "Count_emotion = Counter(list_emotion)\n",
        "top_5000_emotion = Count_emotion.most_common(5000)\n",
        "\n",
        "top_5000_emotion = pd.DataFrame(top_5000_emotion)\n",
        "top_5000_emotion.to_csv('/content/gdrive/My Drive/DS405B_NLP/top_5000_emotion.csv')\n",
        "\n",
        "\n",
        "# another df with only those words for which one has glove embeddings \n",
        "\n",
        "top_emotion_glove = top_5000_emotion[top_5000_emotion[0].isin(list_glove_words)]\n",
        "top_emotion_glove.to_csv('/content/gdrive/My Drive/DS405B_NLP/top_emotion_glove.csv')\n",
        "\n"
      ]
    },
    {
      "cell_type": "code",
      "execution_count": null,
      "metadata": {
        "id": "bMmxrLDy8WMw"
      },
      "outputs": [],
      "source": [
        "## for the sentiment data \n",
        "\n",
        "sentiment_df_train = pd.read_csv('/content/gdrive/My Drive/DS405B_NLP/sentiment_df_train.csv')\n",
        "\n",
        "list_sentiment = []\n",
        "\n",
        "for i in range(sentiment_df_train.shape[0]):\n",
        "  text = tokenizer(str(sentiment_df_train.text[i]))\n",
        "  list_sentiment.append(text)\n",
        "\n",
        "# flattening list \n",
        "list_sentiment = [y for x in list_sentiment for y in x]\n",
        "\n",
        "Count_sentiment = Counter(list_sentiment)\n",
        "top_5000_sentiment = Count_sentiment.most_common(5000)\n",
        "\n",
        "top_5000_sentiment = pd.DataFrame(top_5000_sentiment)\n",
        "top_5000_sentiment.to_csv('/content/gdrive/My Drive/DS405B_NLP/top_5000_sentiment.csv')\n",
        "\n",
        "# another df with only those words for which one has glove embeddings \n",
        "\n",
        "top_sentiment_glove = top_5000_sentiment[top_5000_sentiment[0].isin(list_glove_words)]\n",
        "top_sentiment_glove.to_csv('/content/gdrive/My Drive/DS405B_NLP/top_sentiment_glove.csv')\n",
        "\n"
      ]
    },
    {
      "cell_type": "markdown",
      "metadata": {
        "id": "Nf-B5DDFMekX"
      },
      "source": [
        "## 1) Implementing Method 1 \n",
        "\n",
        "The first method relys on computing the mean of all Glove embeddings per token."
      ]
    },
    {
      "cell_type": "code",
      "execution_count": null,
      "metadata": {
        "id": "ITxO8JAmM6cP"
      },
      "outputs": [],
      "source": [
        "from torchtext.data.utils import get_tokenizer\n",
        "\n",
        "tokenizer = get_tokenizer('basic_english')\n",
        "list_glove_words = list(model_w2v.vocab) ## list of all words for which one has the glove embeddings!\n"
      ]
    },
    {
      "cell_type": "markdown",
      "metadata": {
        "id": "SgNrgwq4Mq-U"
      },
      "source": [
        "### Yahoo Answer Data"
      ]
    },
    {
      "cell_type": "code",
      "execution_count": null,
      "metadata": {
        "id": "Do-_OsNVNNH6"
      },
      "outputs": [],
      "source": [
        "yahoo_df_val = pd.read_csv('/content/gdrive/My Drive/DS405B_NLP/yahoo_df_val.csv')\n"
      ]
    },
    {
      "cell_type": "code",
      "execution_count": null,
      "metadata": {
        "id": "ncndvXNgZzZK"
      },
      "outputs": [],
      "source": [
        "# setting a new index so that a loop ofver a range can be called\n",
        "\n",
        "yahoo_df_val.index = list(range(yahoo_df_val.shape[0]))"
      ]
    },
    {
      "cell_type": "code",
      "execution_count": null,
      "metadata": {
        "colab": {
          "base_uri": "https://localhost:8080/"
        },
        "id": "X8sgCRFPSHGM",
        "outputId": "56dbba9b-4abb-4284-b2f7-edd4d18c681e"
      },
      "outputs": [
        {
          "data": {
            "text/plain": [
              "20"
            ]
          },
          "execution_count": 97,
          "metadata": {},
          "output_type": "execute_result"
        }
      ],
      "source": [
        "# checking for nans \n",
        "\n",
        "yahoo_df_val.isnull().any(axis=1).sum()"
      ]
    },
    {
      "cell_type": "markdown",
      "metadata": {
        "id": "_qnsKLzrSXn0"
      },
      "source": [
        "Since tere are some NA vlaues, I shall remove them. If either the topic or the text is a NA, the classification will fail (of course)."
      ]
    },
    {
      "cell_type": "code",
      "execution_count": null,
      "metadata": {
        "id": "10tUWyFPSWmm"
      },
      "outputs": [],
      "source": [
        "## removing nans\n",
        "\n",
        "yahoo_df_val = yahoo_df_val.dropna()"
      ]
    },
    {
      "cell_type": "code",
      "execution_count": null,
      "metadata": {
        "id": "QLvWmg9NaJj0"
      },
      "outputs": [],
      "source": [
        "## now the index needs to be re-set :D\n",
        "\n",
        "yahoo_df_val.index = list(range(yahoo_df_val.shape[0]))"
      ]
    },
    {
      "cell_type": "code",
      "execution_count": null,
      "metadata": {
        "id": "VcYY-CPIPRkO"
      },
      "outputs": [],
      "source": [
        "## mean glove embeddings per topic description\n",
        "\n",
        "embeddings_yahoo_topics = []\n",
        "\n",
        "list_true_yahoo_topics = list(yahoo_df_val.topic)\n",
        "list_yahoo_topics = list(np.unique(list_true_yahoo_topics))\n",
        "\n",
        "for topic in list_yahoo_topics:\n",
        "  \n",
        "  text_topic = tokenizer(topic)\n",
        "  \n",
        "  # get the embeddings of all all words for which one has the glove embeddigs \n",
        "  embeddings = []\n",
        "\n",
        "  for word in text_topic:\n",
        "    if (word in list_glove_words) == True:\n",
        "      embeddings.append(model_w2v[str(word)])\n",
        "\n",
        "  mean_embedding = np.mean(embeddings, axis = 0)\n",
        "  embeddings_yahoo_topics.append(mean_embedding)\n"
      ]
    },
    {
      "cell_type": "markdown",
      "metadata": {
        "id": "zuXmN7i9MfHG"
      },
      "source": [
        "Since it might be the case that for some texts, not a single word is in the Glove Vocab, I have implemented a counter instead of just blindly assuming that for all 1000 texts, there is at least one embedding."
      ]
    },
    {
      "cell_type": "code",
      "execution_count": null,
      "metadata": {
        "id": "PnQIBR_vOVk3"
      },
      "outputs": [],
      "source": [
        "tp_yahoo = 0\n",
        "counter_texts = 0\n",
        "\n",
        "for i in range(yahoo_df_val.shape[0]):\n",
        "\n",
        "  text = tokenizer(str(yahoo_df_val.text[i]))\n",
        "\n",
        "  # get the embeddings of all all words for which one has the glove embeddigs \n",
        "  embeddings = []\n",
        "\n",
        "  for word in text:\n",
        "    if (word in list_glove_words) == True:\n",
        "      embeddings.append(model_w2v[str(word)])\n",
        "\n",
        "  # only considering texts for which at least one word is in the Glove vocab \n",
        "  if len(embeddings) > 0:\n",
        "    mean_embedding_text = np.mean(embeddings, axis = 0)\n",
        "\n",
        "    # computing similarities\n",
        "    cos_sims = np.ones(len(list_yahoo_topics))\n",
        "\n",
        "    for j in range(len(list_yahoo_topics)):\n",
        "      cos_sims[j] = cos_sim(embeddings_yahoo_topics[j], mean_embedding_text)\n",
        "\n",
        "    max_cos_sim = np.argmax(cos_sims)\n",
        "    pred_topic = list_yahoo_topics[max_cos_sim]\n",
        "\n",
        "    if pred_topic == list_true_yahoo_topics[i]:\n",
        "      tp_yahoo += 1 \n",
        "    \n",
        "    counter_texts += 1\n",
        "\n",
        "\n"
      ]
    },
    {
      "cell_type": "code",
      "execution_count": null,
      "metadata": {
        "colab": {
          "base_uri": "https://localhost:8080/"
        },
        "id": "tMraBA2CSMwG",
        "outputId": "e7f85d12-b5a5-42ec-8b02-7fdedd45e6f3"
      },
      "outputs": [
        {
          "name": "stdout",
          "output_type": "stream",
          "text": [
            "The accuracy score for the validation set of the yahoo answer DF based on the first method is 0.15487179487179487\n"
          ]
        }
      ],
      "source": [
        "print(f\"The accuracy score for the validation set of the yahoo answer DF based on the first method is {tp_yahoo/counter_texts}\")"
      ]
    },
    {
      "cell_type": "markdown",
      "metadata": {
        "id": "aN75RtAdTQym"
      },
      "source": [
        "### Banking 77 Data"
      ]
    },
    {
      "cell_type": "code",
      "execution_count": null,
      "metadata": {
        "id": "pjhCRj7CTQyo"
      },
      "outputs": [],
      "source": [
        "banking_df_val = pd.read_csv('/content/gdrive/My Drive/DS405B_NLP/banking_df_val.csv')\n"
      ]
    },
    {
      "cell_type": "code",
      "execution_count": null,
      "metadata": {
        "id": "pgaVLkr3ZDBK"
      },
      "outputs": [],
      "source": [
        "# setting a new index so that a loop ofver a range can be called\n",
        "\n",
        "banking_df_val.index = list(range(banking_df_val.shape[0]))"
      ]
    },
    {
      "cell_type": "code",
      "execution_count": null,
      "metadata": {
        "colab": {
          "base_uri": "https://localhost:8080/"
        },
        "id": "vqQvud46TQyp",
        "outputId": "d7441bf2-4bcc-46ab-990a-ef92534da387"
      },
      "outputs": [
        {
          "data": {
            "text/plain": [
              "0"
            ]
          },
          "execution_count": 83,
          "metadata": {},
          "output_type": "execute_result"
        }
      ],
      "source": [
        "# checking for nans \n",
        "banking_df_val.isnull().any(axis=1).sum()"
      ]
    },
    {
      "cell_type": "code",
      "execution_count": null,
      "metadata": {
        "id": "AfqbTeKUUSxq"
      },
      "outputs": [],
      "source": [
        "list_true_banking_topics = list(banking_df_val.topic)\n",
        "list_banking_topics = list(np.unique(list_true_banking_topics))\n"
      ]
    },
    {
      "cell_type": "code",
      "execution_count": null,
      "metadata": {
        "id": "EqYSE82CTQyq"
      },
      "outputs": [],
      "source": [
        "## mean glove embeddings per topic description\n",
        "\n",
        "embeddings_banking_topics = []\n",
        "\n",
        "list_true_banking_topics = list(banking_df_val.topic)\n",
        "list_banking_topics = list(np.unique(list_true_banking_topics))\n",
        "\n",
        "for topic in list_banking_topics:\n",
        "  \n",
        "  text_topic = tokenizer(topic)\n",
        "  \n",
        "  # get the embeddings of all all words for which one has the glove embeddigs \n",
        "  embeddings = []\n",
        "\n",
        "  for word in text_topic:\n",
        "    if (word in list_glove_words) == True:\n",
        "      embeddings.append(model_w2v[str(word)])\n",
        "\n",
        "  mean_embedding = np.mean(embeddings, axis = 0)\n",
        "  embeddings_banking_topics.append(mean_embedding)\n"
      ]
    },
    {
      "cell_type": "code",
      "execution_count": null,
      "metadata": {
        "id": "s5f6thBETQyr"
      },
      "outputs": [],
      "source": [
        "tp_banking = 0\n",
        "counter_texts_banking = 0\n",
        "\n",
        "\n",
        "for i in range(banking_df_val.shape[0]):\n",
        "\n",
        "  text = tokenizer(str(banking_df_val.text[i]))\n",
        "\n",
        "  # get the embeddings of all all words for which one has the glove embeddigs \n",
        "  embeddings = []\n",
        "\n",
        "  for word in text:\n",
        "    if (word in list_glove_words) == True:\n",
        "      embeddings.append(model_w2v[str(word)])\n",
        "\n",
        "\n",
        "  # only considering texts for which at least one word is in the Glove vocab \n",
        "  if len(embeddings) > 0:\n",
        "\n",
        "    mean_embedding_text = np.mean(embeddings, axis = 0)\n",
        "\n",
        "    # computing similarities\n",
        "    cos_sims = np.ones(len(list_banking_topics))\n",
        "\n",
        "    for j in range(len(list_banking_topics)):\n",
        "      cos_sims[j] = cos_sim(embeddings_banking_topics[j], mean_embedding_text)\n",
        "\n",
        "    max_cos_sim = np.argmax(cos_sims)\n",
        "    pred_topic = list_banking_topics[max_cos_sim]\n",
        "\n",
        "    if pred_topic == list_true_banking_topics[i]:\n",
        "      tp_banking += 1 \n",
        "\n",
        "    counter_texts_banking += 1\n",
        "\n"
      ]
    },
    {
      "cell_type": "code",
      "execution_count": null,
      "metadata": {
        "colab": {
          "base_uri": "https://localhost:8080/"
        },
        "id": "FeqmZAJ-TQys",
        "outputId": "bd0b02d4-8dcf-483f-b2d2-8019889687a2"
      },
      "outputs": [
        {
          "name": "stdout",
          "output_type": "stream",
          "text": [
            "The accuracy score for the validation set of the Banking data DF based on the first method is 0.109\n"
          ]
        }
      ],
      "source": [
        "\n",
        "print(f\"The accuracy score for the validation set of the Banking data DF based on the first method is {tp_banking/counter_texts_banking}\")"
      ]
    },
    {
      "cell_type": "markdown",
      "metadata": {
        "id": "Po7WCufcK7U2"
      },
      "source": [
        "### Emotion Data"
      ]
    },
    {
      "cell_type": "code",
      "execution_count": null,
      "metadata": {
        "id": "hB74ZMexK7U4"
      },
      "outputs": [],
      "source": [
        "emotion_df_val = pd.read_csv('/content/gdrive/My Drive/DS405B_NLP/emotion_df_val.csv')\n"
      ]
    },
    {
      "cell_type": "code",
      "execution_count": null,
      "metadata": {
        "id": "6u0HyhO-K7U4"
      },
      "outputs": [],
      "source": [
        "# setting a new index so that a loop ofver a range can be called\n",
        "\n",
        "emotion_df_val.index = list(range(emotion_df_val.shape[0]))"
      ]
    },
    {
      "cell_type": "code",
      "execution_count": null,
      "metadata": {
        "colab": {
          "base_uri": "https://localhost:8080/"
        },
        "id": "Nh8lbGkVK7U5",
        "outputId": "d4e4c4ef-2154-4bb6-a3c2-22778fc55643"
      },
      "outputs": [
        {
          "data": {
            "text/plain": [
              "0"
            ]
          },
          "execution_count": 11,
          "metadata": {},
          "output_type": "execute_result"
        }
      ],
      "source": [
        "# checking for nans \n",
        "emotion_df_val.isnull().any(axis=1).sum()"
      ]
    },
    {
      "cell_type": "code",
      "execution_count": null,
      "metadata": {
        "id": "iCSItA37K7U6"
      },
      "outputs": [],
      "source": [
        "list_true_emotion_topics = list(emotion_df_val.topic)\n",
        "list_emotion_topics = list(np.unique(list_true_emotion_topics))\n"
      ]
    },
    {
      "cell_type": "code",
      "execution_count": null,
      "metadata": {
        "id": "J58pNn5qK7U6"
      },
      "outputs": [],
      "source": [
        "## mean glove embeddings per topic description\n",
        "\n",
        "embeddings_emotion_topics = []\n",
        "\n",
        "list_true_emotion_topics = list(emotion_df_val.topic)\n",
        "list_emotion_topics = list(np.unique(list_true_emotion_topics))\n",
        "\n",
        "for topic in list_emotion_topics:\n",
        "  \n",
        "  text_topic = tokenizer(topic)\n",
        "  \n",
        "  # get the embeddings of all all words for which one has the glove embeddigs \n",
        "  embeddings = []\n",
        "\n",
        "  for word in text_topic:\n",
        "    if (word in list_glove_words) == True:\n",
        "      embeddings.append(model_w2v[str(word)])\n",
        "\n",
        "  mean_embedding = np.mean(embeddings, axis = 0)\n",
        "  embeddings_emotion_topics.append(mean_embedding)\n"
      ]
    },
    {
      "cell_type": "code",
      "execution_count": null,
      "metadata": {
        "id": "ALgEbNp3K7U7"
      },
      "outputs": [],
      "source": [
        "tp_emotion = 0\n",
        "counter_texts_emotion = 0\n",
        "\n",
        "\n",
        "for i in range(emotion_df_val.shape[0]):\n",
        "\n",
        "  text = tokenizer(str(emotion_df_val.text[i]))\n",
        "\n",
        "  # get the embeddings of all all words for which one has the glove embeddigs \n",
        "  embeddings = []\n",
        "\n",
        "  for word in text:\n",
        "    if (word in list_glove_words) == True:\n",
        "      embeddings.append(model_w2v[str(word)])\n",
        "\n",
        "\n",
        "  # only considering texts for which at least one word is in the Glove vocab \n",
        "  if len(embeddings) > 0:\n",
        "\n",
        "    mean_embedding_text = np.mean(embeddings, axis = 0)\n",
        "\n",
        "    # computing similarities\n",
        "    cos_sims = np.ones(len(list_emotion_topics))\n",
        "\n",
        "    for j in range(len(list_emotion_topics)):\n",
        "      cos_sims[j] = cos_sim(embeddings_emotion_topics[j], mean_embedding_text)\n",
        "\n",
        "    max_cos_sim = np.argmax(cos_sims)\n",
        "    pred_topic = list_emotion_topics[max_cos_sim]\n",
        "\n",
        "    if pred_topic == list_true_emotion_topics[i]:\n",
        "      tp_emotion += 1 \n",
        "\n",
        "    counter_texts_emotion += 1\n",
        "\n"
      ]
    },
    {
      "cell_type": "code",
      "execution_count": null,
      "metadata": {
        "colab": {
          "base_uri": "https://localhost:8080/"
        },
        "id": "atllu-QHK7U7",
        "outputId": "a6b77bae-d046-4a1c-ae91-51cad1832e3f"
      },
      "outputs": [
        {
          "name": "stdout",
          "output_type": "stream",
          "text": [
            "The accuracy score for the validation set of the Emotion Data based on the first method is 0.463\n"
          ]
        }
      ],
      "source": [
        "\n",
        "print(f\"The accuracy score for the validation set of the Emotion Data based on the first method is {tp_emotion/counter_texts_emotion}\")"
      ]
    },
    {
      "cell_type": "markdown",
      "metadata": {
        "id": "oA-oEJ5wNar1"
      },
      "source": [
        "### Sentiment Data"
      ]
    },
    {
      "cell_type": "code",
      "execution_count": null,
      "metadata": {
        "id": "vE_KLwrxNar2"
      },
      "outputs": [],
      "source": [
        "sentiment_df_val = pd.read_csv('/content/gdrive/My Drive/DS405B_NLP/sentiment_df_val.csv')\n"
      ]
    },
    {
      "cell_type": "code",
      "execution_count": null,
      "metadata": {
        "id": "Rw0fHF5SNar3"
      },
      "outputs": [],
      "source": [
        "# setting a new index so that a loop ofver a range can be called\n",
        "\n",
        "sentiment_df_val.index = list(range(sentiment_df_val.shape[0]))"
      ]
    },
    {
      "cell_type": "code",
      "execution_count": null,
      "metadata": {
        "colab": {
          "base_uri": "https://localhost:8080/"
        },
        "id": "fDrl9djUNar4",
        "outputId": "7b301635-73e5-41b9-fcab-ded88388ab47"
      },
      "outputs": [
        {
          "data": {
            "text/plain": [
              "0"
            ]
          },
          "execution_count": 18,
          "metadata": {},
          "output_type": "execute_result"
        }
      ],
      "source": [
        "# checking for nans \n",
        "sentiment_df_val.isnull().any(axis=1).sum()"
      ]
    },
    {
      "cell_type": "code",
      "execution_count": null,
      "metadata": {
        "id": "J8xhLQLJNar5"
      },
      "outputs": [],
      "source": [
        "list_true_sentiment_topics = list(sentiment_df_val.topic)\n",
        "list_sentiment_topics = list(np.unique(list_true_sentiment_topics))\n"
      ]
    },
    {
      "cell_type": "code",
      "execution_count": null,
      "metadata": {
        "id": "Qp7lSawKNar6"
      },
      "outputs": [],
      "source": [
        "## mean glove embeddings per topic description\n",
        "\n",
        "embeddings_sentiment_topics = []\n",
        "\n",
        "list_true_sentiment_topics = list(sentiment_df_val.topic)\n",
        "list_sentiment_topics = list(np.unique(list_true_sentiment_topics))\n",
        "\n",
        "for topic in list_sentiment_topics:\n",
        "  \n",
        "  text_topic = tokenizer(topic)\n",
        "  \n",
        "  # get the embeddings of all all words for which one has the glove embeddigs \n",
        "  embeddings = []\n",
        "\n",
        "  for word in text_topic:\n",
        "    if (word in list_glove_words) == True:\n",
        "      embeddings.append(model_w2v[str(word)])\n",
        "\n",
        "  mean_embedding = np.mean(embeddings, axis = 0)\n",
        "  embeddings_sentiment_topics.append(mean_embedding)\n"
      ]
    },
    {
      "cell_type": "code",
      "execution_count": null,
      "metadata": {
        "id": "uWkBqyVrNar6"
      },
      "outputs": [],
      "source": [
        "tp_sentiment = 0\n",
        "counter_texts_sentiment = 0\n",
        "\n",
        "\n",
        "for i in range(sentiment_df_val.shape[0]):\n",
        "\n",
        "  text = tokenizer(str(sentiment_df_val.text[i]))\n",
        "\n",
        "  # get the embeddings of all all words for which one has the glove embeddigs \n",
        "  embeddings = []\n",
        "\n",
        "  for word in text:\n",
        "    if (word in list_glove_words) == True:\n",
        "      embeddings.append(model_w2v[str(word)])\n",
        "\n",
        "\n",
        "  # only considering texts for which at least one word is in the Glove vocab \n",
        "  if len(embeddings) > 0:\n",
        "\n",
        "    mean_embedding_text = np.mean(embeddings, axis = 0)\n",
        "\n",
        "    # computing similarities\n",
        "    cos_sims = np.ones(len(list_sentiment_topics))\n",
        "\n",
        "    for j in range(len(list_sentiment_topics)):\n",
        "      cos_sims[j] = cos_sim(embeddings_sentiment_topics[j], mean_embedding_text)\n",
        "\n",
        "    max_cos_sim = np.argmax(cos_sims)\n",
        "    pred_topic = list_sentiment_topics[max_cos_sim]\n",
        "\n",
        "    if pred_topic == list_true_sentiment_topics[i]:\n",
        "      tp_sentiment += 1 \n",
        "\n",
        "    counter_texts_sentiment += 1\n",
        "\n"
      ]
    },
    {
      "cell_type": "code",
      "execution_count": null,
      "metadata": {
        "colab": {
          "base_uri": "https://localhost:8080/"
        },
        "id": "nQePyzIANar8",
        "outputId": "4b2f1f1f-0b85-4162-9dea-c087f1232c04"
      },
      "outputs": [
        {
          "name": "stdout",
          "output_type": "stream",
          "text": [
            "The accuracy score for the validation set of the Sentiment Data based on the first method is 0.415\n"
          ]
        }
      ],
      "source": [
        "\n",
        "print(f\"The accuracy score for the validation set of the Sentiment Data based on the first method is {tp_sentiment/counter_texts_sentiment}\")"
      ]
    },
    {
      "cell_type": "markdown",
      "metadata": {
        "id": "llqOdMUB9vzF"
      },
      "source": [
        "## 2) Implementing Method 2"
      ]
    },
    {
      "cell_type": "markdown",
      "metadata": {
        "id": "8l9vsTUb_THb"
      },
      "source": [
        "Now, I shall implement the second method based on the 'all-mpnet-base-v2'- Sentence Transformer"
      ]
    },
    {
      "cell_type": "code",
      "execution_count": null,
      "metadata": {
        "id": "T_IK_KNV-1KF"
      },
      "outputs": [],
      "source": [
        "model_2 = SentenceTransformer('sentence-transformers/all-mpnet-base-v2')\n",
        "\n",
        "device = torch.device(\"cuda\")\n",
        "model_2 = model_2.to(device)"
      ]
    },
    {
      "cell_type": "markdown",
      "metadata": {
        "id": "S-qWtgm1xuqv"
      },
      "source": [
        "#### For the Yahoo Answers DF"
      ]
    },
    {
      "cell_type": "code",
      "execution_count": null,
      "metadata": {
        "id": "SIQK1J-WTGY8"
      },
      "outputs": [],
      "source": [
        "yahoo_df_val = pd.read_csv('/content/gdrive/My Drive/DS405B_NLP/yahoo_df_val.csv')\n"
      ]
    },
    {
      "cell_type": "markdown",
      "metadata": {
        "id": "iUkeLTpZSilP"
      },
      "source": [
        "Again, the NAs have to be removed!"
      ]
    },
    {
      "cell_type": "code",
      "execution_count": null,
      "metadata": {
        "id": "AsdIQQ4AXqCK"
      },
      "outputs": [],
      "source": [
        "## removing nans\n",
        "\n",
        "yahoo_df_val = yahoo_df_val.dropna()"
      ]
    },
    {
      "cell_type": "code",
      "execution_count": null,
      "metadata": {
        "id": "LeukW7Xo_Qn9"
      },
      "outputs": [],
      "source": [
        "## embedding the text and the topics\n",
        "list_true_yahoo_topics = list(yahoo_df_val.topic)\n",
        "list_yahoo_topics = list(np.unique(list_true_yahoo_topics))\n",
        "\n",
        "embeddings_yahoo_2 = model_2.encode(list(pd.Series(yahoo_df_val.text, dtype='str')))\n",
        "embeddings_yahoo_2_topics = model_2.encode(list_yahoo_topics)"
      ]
    },
    {
      "cell_type": "code",
      "execution_count": null,
      "metadata": {
        "id": "A-MG_yM3C_hL"
      },
      "outputs": [],
      "source": [
        "## computing cosine similarities between each embedding and each label embedding\n",
        "## counting correct assignment to the labels\n",
        "\n",
        "counter_tp_yahoo = 0\n",
        "\n",
        "for i in range(embeddings_yahoo_2.shape[0]):\n",
        "\n",
        "  embedding_here = list(embeddings_yahoo_2[i])\n",
        "\n",
        "  cos_sims = torch.tensor([cos_sim(embedding_here, x ) for x in list(embeddings_yahoo_2_topics)]).flatten(0).detach().numpy()\n",
        "  most_similar_label = list_yahoo_topics[np.argmax(cos_sims)]\n",
        "\n",
        "  if most_similar_label == list_true_yahoo_topics[i]:\n",
        "    counter_tp_yahoo += 1 \n"
      ]
    },
    {
      "cell_type": "code",
      "execution_count": null,
      "metadata": {
        "colab": {
          "base_uri": "https://localhost:8080/"
        },
        "id": "Z4pj0WKUwfl2",
        "outputId": "83609d91-3fb1-4902-db16-7b2c75a50085"
      },
      "outputs": [
        {
          "name": "stdout",
          "output_type": "stream",
          "text": [
            "The accuracy score for the validation set of the yahoo answer DF based on the second method is 0.497\n"
          ]
        }
      ],
      "source": [
        "print(f\"The accuracy score for the validation set of the yahoo answer DF based on the second method is {counter_tp_yahoo/yahoo_df_val.shape[0]}\")"
      ]
    },
    {
      "cell_type": "markdown",
      "metadata": {
        "id": "Yjtckrl7x0Gv"
      },
      "source": [
        "#### For the Banking 77 DF"
      ]
    },
    {
      "cell_type": "code",
      "execution_count": null,
      "metadata": {
        "id": "xkdTGBxrWeAa"
      },
      "outputs": [],
      "source": [
        "banking_df_val = pd.read_csv('/content/gdrive/My Drive/DS405B_NLP/banking_df_val.csv')\n"
      ]
    },
    {
      "cell_type": "code",
      "execution_count": null,
      "metadata": {
        "id": "UEmgwT6Ux3CV"
      },
      "outputs": [],
      "source": [
        "## embedding the text and the topics\n",
        "list_true_banking_topics = list(banking_df_val.topic)\n",
        "list_banking_topics = list(np.unique(list_true_banking_topics))\n",
        "\n",
        "\n",
        "embeddings_banking_2 = model_2.encode(list(pd.Series(banking_df_val.text, dtype='str')))\n",
        "embeddings_banking_2_topics = model_2.encode(list_banking_topics)"
      ]
    },
    {
      "cell_type": "code",
      "execution_count": null,
      "metadata": {
        "id": "Rp920Z5NyguJ"
      },
      "outputs": [],
      "source": [
        "## computing cosine similarities between each embedding and each label embedding\n",
        "## counting correct assignment to the labels\n",
        "\n",
        "counter_tp_banking = 0\n",
        "\n",
        "for i in range(embeddings_banking_2.shape[0]):\n",
        "\n",
        "  embedding_here = list(embeddings_banking_2[i])\n",
        "\n",
        "  cos_sims = torch.tensor([cos_sim(embedding_here, x ) for x in list(embeddings_banking_2_topics)]).flatten(0).detach().numpy()\n",
        "  most_similar_label = list_banking_topics[np.argmax(cos_sims)]\n",
        "\n",
        "  if most_similar_label == list_true_banking_topics[i]:\n",
        "    counter_tp_banking += 1 \n"
      ]
    },
    {
      "cell_type": "code",
      "execution_count": null,
      "metadata": {
        "colab": {
          "base_uri": "https://localhost:8080/"
        },
        "id": "jsgkOZMSywvL",
        "outputId": "7c7acf8a-b7ae-4900-a1fd-5f743fbcb9b0"
      },
      "outputs": [
        {
          "name": "stdout",
          "output_type": "stream",
          "text": [
            "The accuracy score for the validation set of the banking 77 DF based on the second method is 0.595\n"
          ]
        }
      ],
      "source": [
        "print(f\"The accuracy score for the validation set of the banking 77 DF based on the second method is {counter_tp_banking/1000}\")"
      ]
    },
    {
      "cell_type": "markdown",
      "metadata": {
        "id": "ROHr_-c-0Bte"
      },
      "source": [
        "#### For the Tweet Emotion DF"
      ]
    },
    {
      "cell_type": "code",
      "execution_count": null,
      "metadata": {
        "id": "UudyeZnCbLN4"
      },
      "outputs": [],
      "source": [
        "emotion_df_val = pd.read_csv('/content/gdrive/My Drive/DS405B_NLP/emotion_df_val.csv')\n"
      ]
    },
    {
      "cell_type": "code",
      "execution_count": null,
      "metadata": {
        "id": "_1ogAzVx0E_J"
      },
      "outputs": [],
      "source": [
        "## embedding the text and the topics\n",
        "list_true_emotion_topics = list(emotion_df_val.topic)\n",
        "list_emotion_topics = list(np.unique(list_true_emotion_topics))\n",
        "\n",
        "embeddings_emotion_2 = model_2.encode(list(emotion_df_val.text))\n",
        "embeddings_emotion_2_topics = model_2.encode(list_emotion_topics)"
      ]
    },
    {
      "cell_type": "code",
      "execution_count": null,
      "metadata": {
        "id": "4YD9A6Mz0Wbs"
      },
      "outputs": [],
      "source": [
        "## computing cosine similarities between each embedding and each label embedding\n",
        "## counting correct assignment to the labels\n",
        "\n",
        "counter_tp_emotion = 0\n",
        "\n",
        "for i in range(embeddings_emotion_2.shape[0]):\n",
        "\n",
        "  embedding_here = list(embeddings_emotion_2[i])\n",
        "\n",
        "  cos_sims = torch.tensor([cos_sim(embedding_here, x ) for x in list(embeddings_emotion_2_topics)]).flatten(0).detach().numpy()\n",
        "  most_similar_label = list_emotion_topics[np.argmax(cos_sims)]\n",
        "\n",
        "  if most_similar_label == list_true_emotion_topics[i]:\n",
        "    counter_tp_emotion += 1 \n"
      ]
    },
    {
      "cell_type": "code",
      "execution_count": null,
      "metadata": {
        "colab": {
          "base_uri": "https://localhost:8080/"
        },
        "id": "ZUAOiYpd0slu",
        "outputId": "aecc60f7-1ed8-47a4-9fe8-b52445fdc32c"
      },
      "outputs": [
        {
          "name": "stdout",
          "output_type": "stream",
          "text": [
            "The accuracy score for the validation set of the Emotion Tweets DF based on the second method is 0.609\n"
          ]
        }
      ],
      "source": [
        "print(f\"The accuracy score for the validation set of the Emotion Tweets DF based on the second method is {counter_tp_emotion/1000}\")"
      ]
    },
    {
      "cell_type": "markdown",
      "metadata": {
        "id": "FyUYCYmu0yhk"
      },
      "source": [
        "#### For the Tweet Sentiment DF"
      ]
    },
    {
      "cell_type": "code",
      "execution_count": null,
      "metadata": {
        "id": "j4b0JChHcmBP"
      },
      "outputs": [],
      "source": [
        "sentiment_df_val = pd.read_csv('/content/gdrive/My Drive/DS405B_NLP/sentiment_df_val.csv')\n"
      ]
    },
    {
      "cell_type": "code",
      "execution_count": null,
      "metadata": {
        "id": "V06sLwl01BpN"
      },
      "outputs": [],
      "source": [
        "## embedding the text and the topics\n",
        "list_true_sentiment_topics = list(sentiment_df_val.topic)\n",
        "list_sentiment_topics = list(np.unique(list_true_sentiment_topics))\n",
        "\n",
        "embeddings_sentiment_2 = model_2.encode(list(sentiment_df_val.text))\n",
        "embeddings_sentiment_2_topics = model_2.encode(list_sentiment_topics)"
      ]
    },
    {
      "cell_type": "code",
      "execution_count": null,
      "metadata": {
        "id": "j05QIKPk1M2G"
      },
      "outputs": [],
      "source": [
        "## computing cosine similarities between each embedding and each label embedding\n",
        "## counting correct assignment to the labels\n",
        "\n",
        "counter_tp_sentiment = 0\n",
        "\n",
        "for i in range(embeddings_sentiment_2.shape[0]):\n",
        "\n",
        "  embedding_here = list(embeddings_sentiment_2[i])\n",
        "\n",
        "  cos_sims = torch.tensor([cos_sim(embedding_here, x ) for x in list(embeddings_sentiment_2_topics)]).flatten(0).detach().numpy()\n",
        "  most_similar_label = list_sentiment_topics[np.argmax(cos_sims)]\n",
        "\n",
        "\n",
        "  if most_similar_label == list_true_sentiment_topics[i]:\n",
        "    counter_tp_sentiment += 1 \n"
      ]
    },
    {
      "cell_type": "code",
      "execution_count": null,
      "metadata": {
        "colab": {
          "base_uri": "https://localhost:8080/"
        },
        "id": "5usjzwrJ1hbm",
        "outputId": "5f842dad-185c-4c0f-c7ae-eaf07df39941"
      },
      "outputs": [
        {
          "name": "stdout",
          "output_type": "stream",
          "text": [
            "The accuracy score for the validation set of the Sentiment Tweets DF based on the second method is 0.461\n"
          ]
        }
      ],
      "source": [
        "print(f\"The accuracy score for the validation set of the Sentiment Tweets DF based on the second method is {counter_tp_sentiment/1000}\")"
      ]
    },
    {
      "cell_type": "markdown",
      "metadata": {
        "id": "bf5AoNX332Qi"
      },
      "source": [
        "## 3) Third Method"
      ]
    },
    {
      "cell_type": "markdown",
      "metadata": {
        "id": "BwvrqPPFTNCN"
      },
      "source": [
        "Note that the SBERT model is task 2 and task 3 is the same one, so it can be re-used!"
      ]
    },
    {
      "cell_type": "code",
      "execution_count": null,
      "metadata": {
        "id": "TjmXIrwR-rFC"
      },
      "outputs": [],
      "source": [
        "from sklearn.linear_model import Ridge\n"
      ]
    },
    {
      "cell_type": "markdown",
      "metadata": {
        "id": "umCt15ViQOuK"
      },
      "source": [
        "### For the Yahoo Answer Data\n",
        "\n",
        "I shall now get the mapping from SBERT to Glove Dimension for the Yahoo Train Data using the top 1000 words to start with."
      ]
    },
    {
      "cell_type": "code",
      "execution_count": null,
      "metadata": {
        "id": "L4B4K0md94B0"
      },
      "outputs": [],
      "source": [
        "top_yahoo_glove = pd.read_csv('/content/gdrive/My Drive/DS405B_NLP/top_yahoo_glove.csv')\n"
      ]
    },
    {
      "cell_type": "code",
      "execution_count": null,
      "metadata": {
        "colab": {
          "base_uri": "https://localhost:8080/"
        },
        "id": "CptdBodN-N21",
        "outputId": "58fb46ed-0331-4917-9c23-21c4848d70fa"
      },
      "outputs": [
        {
          "data": {
            "text/plain": [
              "Ridge(alpha=0.1)"
            ]
          },
          "execution_count": 46,
          "metadata": {},
          "output_type": "execute_result"
        }
      ],
      "source": [
        "# getting top 1000 words (tht are in glove vocabulary)\n",
        "\n",
        "\n",
        "top_yahoo_glove_1000 = top_yahoo_glove.iloc[0:1000,]\n",
        "\n",
        "## getting SBERT embeddings \n",
        "SBERT_yahoo_1000 = model_2.encode(list(top_yahoo_glove_1000['0']))\n",
        "\n",
        "## getting Glove Embeddings\n",
        "Glove_1000_yahoo = []\n",
        "\n",
        "for i in list(top_yahoo_glove_1000['0']):\n",
        "  Glove_1000_yahoo.append(model_w2v[str(i)] )\n",
        "\n",
        "Glove_1000_yahoo = np.array(Glove_1000_yahoo)\n",
        "\n",
        "# setting up ridge regression \n",
        "\n",
        "ridge_yahoo = Ridge(alpha=0.1) \n",
        "ridge_yahoo.fit(SBERT_yahoo_1000, Glove_1000_yahoo)"
      ]
    },
    {
      "cell_type": "markdown",
      "metadata": {
        "id": "MMD6SpGASI-5"
      },
      "source": [
        "Now, having learned the mapping from the top 1000 words in the training data, we can use that mapping to map all sentence embeddings of the validation texts and labels and perform the cosine similarity classification procedure.\n",
        "\n",
        "Some intermediary results such as the embeddings of the topics and the texts can be re-used from task 2."
      ]
    },
    {
      "cell_type": "code",
      "execution_count": null,
      "metadata": {
        "id": "28rQch94Uh3r"
      },
      "outputs": [],
      "source": [
        "## mapping to 300-dimensional subspace\n",
        "\n",
        "subspace_yahoo = ridge_yahoo.predict(embeddings_yahoo_2)\n",
        "subspace_yahoo_topics = ridge_yahoo.predict(embeddings_yahoo_2_topics)\n",
        "\n"
      ]
    },
    {
      "cell_type": "code",
      "execution_count": null,
      "metadata": {
        "id": "1Vl-K3BiUgkt"
      },
      "outputs": [],
      "source": [
        "## computing cosine similarities between each embedding and each label embedding\n",
        "## counting correct assignment to the labels\n",
        "\n",
        "counter_tp_yahoo = 0\n",
        "\n",
        "for i in range(subspace_yahoo.shape[0]):\n",
        "\n",
        "  embedding_here = list(subspace_yahoo[i])\n",
        "\n",
        "  cos_sims = torch.tensor([cos_sim(embedding_here, x ) for x in list(subspace_yahoo_topics)]).flatten(0).detach().numpy()\n",
        "  most_similar_label = list_yahoo_topics[np.argmax(cos_sims)]\n",
        "\n",
        "  if most_similar_label == list_true_yahoo_topics[i]:\n",
        "    counter_tp_yahoo += 1 \n"
      ]
    },
    {
      "cell_type": "code",
      "execution_count": null,
      "metadata": {
        "colab": {
          "base_uri": "https://localhost:8080/"
        },
        "id": "MkeLWgFTV2gf",
        "outputId": "590ce230-f165-444b-a282-3308fbd24abe"
      },
      "outputs": [
        {
          "name": "stdout",
          "output_type": "stream",
          "text": [
            "The accuracy score for the validation set of the Yahoo DF based on the third method is 0.431\n"
          ]
        }
      ],
      "source": [
        "print(f\"The accuracy score for the validation set of the Yahoo DF based on the third method is {counter_tp_yahoo/subspace_yahoo.shape[0]}\")"
      ]
    },
    {
      "cell_type": "markdown",
      "metadata": {
        "id": "K2PJkxdcZm98"
      },
      "source": [
        "### For the Banking Data\n",
        "\n",
        "I shall now get the mapping from SBERT to Glove Dimension for the Banking Train Data using the top 1000 words to start with."
      ]
    },
    {
      "cell_type": "code",
      "execution_count": null,
      "metadata": {
        "id": "ekDOdNK2Zm99"
      },
      "outputs": [],
      "source": [
        "top_banking_glove = pd.read_csv('/content/gdrive/My Drive/DS405B_NLP/top_banking_glove.csv')\n"
      ]
    },
    {
      "cell_type": "code",
      "execution_count": null,
      "metadata": {
        "colab": {
          "base_uri": "https://localhost:8080/"
        },
        "id": "OGEnP_DsZm99",
        "outputId": "eb2bbc7b-dfc2-4a2c-c3e8-3a5e039c028c"
      },
      "outputs": [
        {
          "data": {
            "text/plain": [
              "Ridge(alpha=0.1)"
            ]
          },
          "execution_count": 58,
          "metadata": {},
          "output_type": "execute_result"
        }
      ],
      "source": [
        "# getting top 1000 words (tht are in glove vocabulary)\n",
        "\n",
        "top_banking_glove_1000 = top_banking_glove.iloc[0:1000,]\n",
        "\n",
        "## getting SBERT embeddings \n",
        "SBERT_banking_1000 = model_2.encode(list(top_banking_glove_1000['0']))\n",
        "\n",
        "## getting Glove Embeddings\n",
        "Glove_1000_banking = []\n",
        "\n",
        "for i in list(top_banking_glove_1000['0']):\n",
        "  Glove_1000_banking.append(model_w2v[str(i)] )\n",
        "\n",
        "Glove_1000_banking = np.array(Glove_1000_banking)\n",
        "\n",
        "# setting up ridge regression \n",
        "\n",
        "ridge_banking = Ridge(alpha=0.1) \n",
        "ridge_banking.fit(SBERT_banking_1000, Glove_1000_banking)"
      ]
    },
    {
      "cell_type": "markdown",
      "metadata": {
        "id": "krVAGJcvZm9_"
      },
      "source": [
        "Now, having learned the mapping from the top 1000 words in the training data, we can use that mapping to map all sentence embeddings of the validation texts and labels and perform the cosine similarity classification procedure.\n",
        "\n",
        "Some intermediary results such as the embeddings of the topics and the texts can be re-used from task 2."
      ]
    },
    {
      "cell_type": "code",
      "execution_count": null,
      "metadata": {
        "id": "1xqS2aiIZm-B"
      },
      "outputs": [],
      "source": [
        "## mapping to 300-dimensional subspace\n",
        "\n",
        "subspace_banking = ridge_banking.predict(embeddings_banking_2)\n",
        "subspace_banking_topics = ridge_banking.predict(embeddings_banking_2_topics)\n",
        "\n"
      ]
    },
    {
      "cell_type": "code",
      "execution_count": null,
      "metadata": {
        "id": "AXUcYvizZm-B"
      },
      "outputs": [],
      "source": [
        "## computing cosine similarities between each embedding and each label embedding\n",
        "## counting correct assignment to the labels\n",
        "\n",
        "counter_tp_banking = 0\n",
        "\n",
        "for i in range(subspace_banking.shape[0]):\n",
        "\n",
        "  embedding_here = list(subspace_banking[i])\n",
        "\n",
        "  cos_sims = torch.tensor([cos_sim(embedding_here, x ) for x in list(subspace_banking_topics)]).flatten(0).detach().numpy()\n",
        "  most_similar_label = list_banking_topics[np.argmax(cos_sims)]\n",
        "\n",
        "  if most_similar_label == list_true_banking_topics[i]:\n",
        "    counter_tp_banking += 1 \n"
      ]
    },
    {
      "cell_type": "code",
      "execution_count": null,
      "metadata": {
        "colab": {
          "base_uri": "https://localhost:8080/"
        },
        "id": "l6l9vhi8Zm-C",
        "outputId": "58c7b5d0-fc09-4f75-cf2b-6d6f5ee1ba2c"
      },
      "outputs": [
        {
          "name": "stdout",
          "output_type": "stream",
          "text": [
            "The accuracy score for the validation set of the Banking DF based on the third method is 0.578\n"
          ]
        }
      ],
      "source": [
        "print(f\"The accuracy score for the validation set of the Banking DF based on the third method is {counter_tp_banking/1000}\")"
      ]
    },
    {
      "cell_type": "markdown",
      "metadata": {
        "id": "rxo3kZ1MaZdT"
      },
      "source": [
        "### For the Tweet Emotion Data\n",
        "\n",
        "I shall now get the mapping from SBERT to Glove Dimension for the Emotion Data using the top 1000 words to start with."
      ]
    },
    {
      "cell_type": "code",
      "execution_count": null,
      "metadata": {
        "id": "r6WxtxtOaZdU"
      },
      "outputs": [],
      "source": [
        "top_emotion_glove = pd.read_csv('/content/gdrive/My Drive/DS405B_NLP/top_emotion_glove.csv')\n"
      ]
    },
    {
      "cell_type": "code",
      "execution_count": null,
      "metadata": {
        "colab": {
          "base_uri": "https://localhost:8080/"
        },
        "id": "0ueB6UiRaZdU",
        "outputId": "003840b1-e351-4cc4-d285-9c6f863ee7bd"
      },
      "outputs": [
        {
          "data": {
            "text/plain": [
              "Ridge(alpha=0.1)"
            ]
          },
          "execution_count": 192,
          "metadata": {},
          "output_type": "execute_result"
        }
      ],
      "source": [
        "# getting top 1000 words (tht are in glove vocabulary)\n",
        "\n",
        "top_emotion_glove_1000 = top_emotion_glove.iloc[0:1000,]\n",
        "\n",
        "## getting SBERT embeddings \n",
        "SBERT_emotion_1000 = model_2.encode(list(top_emotion_glove_1000['0']))\n",
        "\n",
        "## getting Glove Embeddings\n",
        "Glove_1000_emotion = []\n",
        "\n",
        "for i in list(top_emotion_glove_1000['0']):\n",
        "  Glove_1000_emotion.append(model_w2v[str(i)] )\n",
        "\n",
        "Glove_1000_emotion = np.array(Glove_1000_emotion)\n",
        "\n",
        "# setting up ridge regression \n",
        "\n",
        "ridge_emotion = Ridge(alpha=0.1) \n",
        "ridge_emotion.fit(SBERT_emotion_1000, Glove_1000_emotion)"
      ]
    },
    {
      "cell_type": "markdown",
      "metadata": {
        "id": "riU-vnQgaZdV"
      },
      "source": [
        "Now, having learned the mapping from the top 1000 words in the training data, we can use that mapping to map all sentence embeddings of the validation texts and labels and perform the cosine similarity classification procedure.\n",
        "\n",
        "Some intermediary results such as the embeddings of the topics and the texts can be re-used from task 2."
      ]
    },
    {
      "cell_type": "code",
      "execution_count": null,
      "metadata": {
        "id": "lkQh61JsaZdW"
      },
      "outputs": [],
      "source": [
        "## mapping to 300-dimensional subspace\n",
        "\n",
        "subspace_emotion = ridge_emotion.predict(embeddings_emotion_2)\n",
        "subspace_emotion_topics = ridge_emotion.predict(embeddings_emotion_2_topics)\n",
        "\n"
      ]
    },
    {
      "cell_type": "code",
      "execution_count": null,
      "metadata": {
        "id": "Df30e2d1aZdW"
      },
      "outputs": [],
      "source": [
        "## computing cosine similarities between each embedding and each label embedding\n",
        "## counting correct assignment to the labels\n",
        "\n",
        "counter_tp_emotion = 0\n",
        "\n",
        "for i in range(subspace_emotion.shape[0]):\n",
        "\n",
        "  embedding_here = list(subspace_emotion[i])\n",
        "\n",
        "  cos_sims = torch.tensor([cos_sim(embedding_here, x ) for x in list(subspace_emotion_topics)]).flatten(0).detach().numpy()\n",
        "  most_similar_label = list_emotion_topics[np.argmax(cos_sims)]\n",
        "\n",
        "  if most_similar_label == list_true_emotion_topics[i]:\n",
        "    counter_tp_emotion += 1 \n"
      ]
    },
    {
      "cell_type": "code",
      "execution_count": null,
      "metadata": {
        "colab": {
          "base_uri": "https://localhost:8080/"
        },
        "id": "7S0vsC7LaZdW",
        "outputId": "0e6acfba-6673-4ae6-f0d4-86b664fe01c8"
      },
      "outputs": [
        {
          "name": "stdout",
          "output_type": "stream",
          "text": [
            "The accuracy score for the validation set of the Emotion Tweets DF based on the third method is 0.629\n"
          ]
        }
      ],
      "source": [
        "print(f\"The accuracy score for the validation set of the Emotion Tweets DF based on the third method is {counter_tp_emotion/1000}\")"
      ]
    },
    {
      "cell_type": "markdown",
      "metadata": {
        "id": "Uzh_9J1dcGiv"
      },
      "source": [
        "### For the Tweet Sentiment Data\n",
        "\n",
        "I shall now get the mapping from SBERT to Glove Dimension for the Sentiment Data using the top 1000 words to start with."
      ]
    },
    {
      "cell_type": "code",
      "execution_count": null,
      "metadata": {
        "id": "QJnFUYY9cGiy"
      },
      "outputs": [],
      "source": [
        "top_sentiment_glove = pd.read_csv('/content/gdrive/My Drive/DS405B_NLP/top_sentiment_glove.csv')\n"
      ]
    },
    {
      "cell_type": "code",
      "execution_count": null,
      "metadata": {
        "colab": {
          "base_uri": "https://localhost:8080/"
        },
        "id": "I6h2vciFcGiy",
        "outputId": "3adc13d9-bd01-433e-eaf3-df21d9a3519f"
      },
      "outputs": [
        {
          "data": {
            "text/plain": [
              "Ridge(alpha=0.1)"
            ]
          },
          "execution_count": 205,
          "metadata": {},
          "output_type": "execute_result"
        }
      ],
      "source": [
        "# getting top 1000 words (tht are in glove vocabulary)\n",
        "\n",
        "top_sentiment_glove_1000 = top_sentiment_glove.iloc[0:1000,]\n",
        "\n",
        "## getting SBERT embeddings \n",
        "SBERT_sentiment_1000 = model_2.encode(list(top_sentiment_glove_1000['0']))\n",
        "\n",
        "## getting Glove Embeddings\n",
        "Glove_1000_sentiment = []\n",
        "\n",
        "for i in list(top_sentiment_glove_1000['0']):\n",
        "  Glove_1000_sentiment.append(model_w2v[str(i)] )\n",
        "\n",
        "Glove_1000_sentiment = np.array(Glove_1000_sentiment)\n",
        "\n",
        "# setting up ridge regression \n",
        "\n",
        "ridge_sentiment = Ridge(alpha=0.1) \n",
        "ridge_sentiment.fit(SBERT_sentiment_1000, Glove_1000_sentiment)"
      ]
    },
    {
      "cell_type": "markdown",
      "metadata": {
        "id": "5tR6_FiWcGiz"
      },
      "source": [
        "Now, having learned the mapping from the top 1000 words in the training data, we can use that mapping to map all sentence embeddings of the validation texts and labels and perform the cosine similarity classification procedure.\n",
        "\n",
        "Some intermediary results such as the embeddings of the topics and the texts can be re-used from task 2."
      ]
    },
    {
      "cell_type": "code",
      "execution_count": null,
      "metadata": {
        "id": "c0nO7lgYcGi0"
      },
      "outputs": [],
      "source": [
        "## mapping to 300-dimensional subspace\n",
        "\n",
        "subspace_sentiment = ridge_sentiment.predict(embeddings_sentiment_2)\n",
        "subspace_sentiment_topics = ridge_sentiment.predict(embeddings_sentiment_2_topics)\n",
        "\n"
      ]
    },
    {
      "cell_type": "code",
      "execution_count": null,
      "metadata": {
        "id": "PCXqlHclcGi1"
      },
      "outputs": [],
      "source": [
        "## computing cosine similarities between each embedding and each label embedding\n",
        "## counting correct assignment to the labels\n",
        "\n",
        "counter_tp_sentiment = 0\n",
        "\n",
        "for i in range(subspace_sentiment.shape[0]):\n",
        "\n",
        "  embedding_here = list(subspace_sentiment[i])\n",
        "\n",
        "  cos_sims = torch.tensor([cos_sim(embedding_here, x ) for x in list(subspace_sentiment_topics)]).flatten(0).detach().numpy()\n",
        "  most_similar_label = list_sentiment_topics[np.argmax(cos_sims)]\n",
        "\n",
        "  if most_similar_label == list_true_sentiment_topics[i]:\n",
        "    counter_tp_sentiment += 1 \n"
      ]
    },
    {
      "cell_type": "code",
      "execution_count": null,
      "metadata": {
        "colab": {
          "base_uri": "https://localhost:8080/"
        },
        "id": "JslVzjfJcGi1",
        "outputId": "1927c565-ddb3-41b7-9a41-c08a6b551380"
      },
      "outputs": [
        {
          "name": "stdout",
          "output_type": "stream",
          "text": [
            "The accuracy score for the validation set of the Sentiment Tweets DF based on the third method is 0.406\n"
          ]
        }
      ],
      "source": [
        "print(f\"The accuracy score for the validation set of the Sentiment Tweets DF based on the third method is {counter_tp_sentiment/1000}\")"
      ]
    },
    {
      "cell_type": "markdown",
      "metadata": {
        "id": "2Naf-vhSdUI1"
      },
      "source": [
        "## 4) Hyperparameter Search\n",
        "\n"
      ]
    },
    {
      "cell_type": "markdown",
      "metadata": {
        "id": "XKvzCNDRsrj0"
      },
      "source": [
        "Now, the best good number for the most frequent words shall be found. The numbers for which I shall conduct this hyper-parameter search for each dataset are 150,600,1200,1700,2200, 2700, 3200."
      ]
    },
    {
      "cell_type": "code",
      "execution_count": null,
      "metadata": {
        "id": "CYvwfnhDsrTb"
      },
      "outputs": [],
      "source": [
        "numbers = [150,600,1200,1700,2200, 3000, 4000]\n"
      ]
    },
    {
      "cell_type": "code",
      "execution_count": null,
      "metadata": {
        "id": "NKULBi-ftTZv"
      },
      "outputs": [],
      "source": [
        "from sklearn.linear_model import Ridge\n",
        "\n",
        "# calling another model so that the code above does not need to be executed for task 4)\n",
        "model_4 = SentenceTransformer('sentence-transformers/all-mpnet-base-v2')\n",
        "\n",
        "device = torch.device(\"cuda\")\n",
        "model_4 = model_4.to(device)"
      ]
    },
    {
      "cell_type": "markdown",
      "metadata": {
        "id": "9n7_260itTZw"
      },
      "source": [
        "#### For the Yahoo Answers DF"
      ]
    },
    {
      "cell_type": "code",
      "execution_count": null,
      "metadata": {
        "id": "GpHRwqVRtTZw"
      },
      "outputs": [],
      "source": [
        "yahoo_df_val = pd.read_csv('/content/gdrive/My Drive/DS405B_NLP/yahoo_df_val.csv')\n",
        "top_yahoo_glove = pd.read_csv('/content/gdrive/My Drive/DS405B_NLP/top_yahoo_glove.csv')\n"
      ]
    },
    {
      "cell_type": "code",
      "execution_count": null,
      "metadata": {
        "id": "hOYvS4sFy9SW"
      },
      "outputs": [],
      "source": [
        "## embedding the text and the topics - again so that the code above need not be executed again :)\n",
        "\n",
        "list_true_yahoo_topics = list(yahoo_df_val.topic)\n",
        "list_yahoo_topics = list(np.unique(list_true_yahoo_topics))\n",
        "\n",
        "embeddings_yahoo_4 = model_4.encode(list(pd.Series(yahoo_df_val.text, dtype='str')))\n",
        "embeddings_yahoo_4_topics = model_4.encode(list_yahoo_topics)"
      ]
    },
    {
      "cell_type": "code",
      "execution_count": null,
      "metadata": {
        "colab": {
          "base_uri": "https://localhost:8080/"
        },
        "id": "gVv54XFNuJ2V",
        "outputId": "cb31ff3e-3fd4-4fe1-e4df-6b724a4707f3"
      },
      "outputs": [
        {
          "name": "stdout",
          "output_type": "stream",
          "text": [
            "The accuracy score for the validation set of the Yahoo DF based on the fouth third method for the 150 most frequent words is 0.259\n",
            "The accuracy score for the validation set of the Yahoo DF based on the fouth third method for the 600 most frequent words is 0.41\n",
            "The accuracy score for the validation set of the Yahoo DF based on the fouth third method for the 1200 most frequent words is 0.427\n",
            "The accuracy score for the validation set of the Yahoo DF based on the fouth third method for the 1700 most frequent words is 0.448\n",
            "The accuracy score for the validation set of the Yahoo DF based on the fouth third method for the 2200 most frequent words is 0.456\n",
            "The accuracy score for the validation set of the Yahoo DF based on the fouth third method for the 3000 most frequent words is 0.441\n",
            "The accuracy score for the validation set of the Yahoo DF based on the fouth third method for the 4000 most frequent words is 0.462\n"
          ]
        }
      ],
      "source": [
        "for num in numbers:\n",
        "\n",
        "  # getting the X - most common words\n",
        "  top_yahoo_glove_x = top_yahoo_glove.iloc[0:num,]\n",
        "\n",
        "  ## getting SBERT embeddings \n",
        "  SBERT_yahoo_x = model_4.encode(list(top_yahoo_glove_x['0']))\n",
        "\n",
        "  ## getting Glove Embeddings\n",
        "  Glove_x_yahoo = []\n",
        "\n",
        "  for i in list(top_yahoo_glove_x['0']):\n",
        "    Glove_x_yahoo.append(model_w2v[str(i)] )\n",
        "\n",
        "  Glove_x_yahoo = np.array(Glove_x_yahoo)\n",
        "\n",
        "  # setting up ridge regression \n",
        "\n",
        "  ridge_yahoo = Ridge(alpha=0.1) \n",
        "  ridge_yahoo.fit(SBERT_yahoo_x, Glove_x_yahoo)\n",
        "\n",
        "  ## mapping to 300-dimensional subspace\n",
        "\n",
        "  subspace_yahoo = ridge_yahoo.predict(embeddings_yahoo_4)\n",
        "  subspace_yahoo_topics = ridge_yahoo.predict(embeddings_yahoo_4_topics)\n",
        "\n",
        "\n",
        "  ## computing cosine similarities between each embedding and each label embedding\n",
        "  ## counting correct assignment to the labels\n",
        "\n",
        "  counter_tp_yahoo = 0\n",
        "\n",
        "  for i in range(subspace_yahoo.shape[0]):\n",
        "\n",
        "    embedding_here = list(subspace_yahoo[i])\n",
        "\n",
        "    cos_sims = torch.tensor([cos_sim(embedding_here, x ) for x in list(subspace_yahoo_topics)]).flatten(0).detach().numpy()\n",
        "    most_similar_label = list_yahoo_topics[np.argmax(cos_sims)]\n",
        "\n",
        "    if most_similar_label == list_true_yahoo_topics[i]:\n",
        "      counter_tp_yahoo += 1 \n",
        "\n",
        "\n",
        "  print(f\"The accuracy score for the validation set of the Yahoo DF based on the fouth third method for the {num} most frequent words is {counter_tp_yahoo/subspace_yahoo.shape[0]}\")\n",
        "\n"
      ]
    },
    {
      "cell_type": "markdown",
      "metadata": {
        "id": "i3TqCp9u0oI1"
      },
      "source": [
        "Apparently, for a well-stuited number of the most frequent words for the Yahoo Answer Data is 2200."
      ]
    },
    {
      "cell_type": "markdown",
      "metadata": {
        "id": "e8Z76aDo1DVY"
      },
      "source": [
        "#### For the Banking DF"
      ]
    },
    {
      "cell_type": "code",
      "execution_count": null,
      "metadata": {
        "id": "hg2-npa31DVY"
      },
      "outputs": [],
      "source": [
        "banking_df_val = pd.read_csv('/content/gdrive/My Drive/DS405B_NLP/banking_df_val.csv')\n",
        "top_banking_glove = pd.read_csv('/content/gdrive/My Drive/DS405B_NLP/top_banking_glove.csv')\n"
      ]
    },
    {
      "cell_type": "code",
      "execution_count": null,
      "metadata": {
        "id": "cy3MJ7hz1DVY"
      },
      "outputs": [],
      "source": [
        "## embedding the text and the topics - again so that the code above need not be executed again :)\n",
        "\n",
        "list_true_banking_topics = list(banking_df_val.topic)\n",
        "list_banking_topics = list(np.unique(list_true_banking_topics))\n",
        "\n",
        "embeddings_banking_4 = model_4.encode(list(pd.Series(banking_df_val.text, dtype='str')))\n",
        "embeddings_banking_4_topics = model_4.encode(list_banking_topics)"
      ]
    },
    {
      "cell_type": "code",
      "execution_count": null,
      "metadata": {
        "colab": {
          "base_uri": "https://localhost:8080/"
        },
        "id": "fRZJ8Pjv1DVY",
        "outputId": "50a62ade-7c75-42da-8742-64783986087e"
      },
      "outputs": [
        {
          "name": "stdout",
          "output_type": "stream",
          "text": [
            "The accuracy score for the validation set of the Banking DF based on the fouth third method for the 150 most frequent words is 0.552\n",
            "The accuracy score for the validation set of the Banking DF based on the fouth third method for the 600 most frequent words is 0.586\n",
            "The accuracy score for the validation set of the Banking DF based on the fouth third method for the 1200 most frequent words is 0.586\n",
            "The accuracy score for the validation set of the Banking DF based on the fouth third method for the 1700 most frequent words is 0.581\n",
            "The accuracy score for the validation set of the Banking DF based on the fouth third method for the 2200 most frequent words is 0.573\n",
            "The accuracy score for the validation set of the Banking DF based on the fouth third method for the 3000 most frequent words is 0.575\n",
            "The accuracy score for the validation set of the Banking DF based on the fouth third method for the 4000 most frequent words is 0.575\n"
          ]
        }
      ],
      "source": [
        "for num in numbers:\n",
        "\n",
        "  # getting the X - most common words\n",
        "  top_banking_glove_x = top_banking_glove.iloc[0:num,]\n",
        "\n",
        "  ## getting SBERT embeddings \n",
        "  SBERT_banking_x = model_4.encode(list(top_banking_glove_x['0']))\n",
        "\n",
        "  ## getting Glove Embeddings\n",
        "  Glove_x_banking = []\n",
        "\n",
        "  for i in list(top_banking_glove_x['0']):\n",
        "    Glove_x_banking.append(model_w2v[str(i)] )\n",
        "\n",
        "  Glove_x_banking = np.array(Glove_x_banking)\n",
        "\n",
        "  # setting up ridge regression \n",
        "\n",
        "  ridge_banking = Ridge(alpha=0.1) \n",
        "  ridge_banking.fit(SBERT_banking_x, Glove_x_banking)\n",
        "\n",
        "  ## mapping to 300-dimensional subspace\n",
        "\n",
        "  subspace_banking = ridge_banking.predict(embeddings_banking_4)\n",
        "  subspace_banking_topics = ridge_banking.predict(embeddings_banking_4_topics)\n",
        "\n",
        "\n",
        "  ## computing cosine similarities between each embedding and each label embedding\n",
        "  ## counting correct assignment to the labels\n",
        "\n",
        "  counter_tp_banking = 0\n",
        "\n",
        "  for i in range(subspace_banking.shape[0]):\n",
        "\n",
        "    embedding_here = list(subspace_banking[i])\n",
        "\n",
        "    cos_sims = torch.tensor([cos_sim(embedding_here, x ) for x in list(subspace_banking_topics)]).flatten(0).detach().numpy()\n",
        "    most_similar_label = list_banking_topics[np.argmax(cos_sims)]\n",
        "\n",
        "    if most_similar_label == list_true_banking_topics[i]:\n",
        "      counter_tp_banking += 1 \n",
        "\n",
        "\n",
        "  print(f\"The accuracy score for the validation set of the Banking DF based on the fouth third method for the {num} most frequent words is {counter_tp_banking/subspace_banking.shape[0]}\")\n",
        "\n"
      ]
    },
    {
      "cell_type": "markdown",
      "metadata": {
        "id": "ugAR24A81DVZ"
      },
      "source": [
        "Apparently, for a well-stuited numbers of the most frequent words for the Banking Data are 600/1200."
      ]
    },
    {
      "cell_type": "markdown",
      "metadata": {
        "id": "EoD3DmyQ2eQa"
      },
      "source": [
        "#### For the Emotion DF"
      ]
    },
    {
      "cell_type": "code",
      "execution_count": null,
      "metadata": {
        "id": "Ag4eluI02eQa"
      },
      "outputs": [],
      "source": [
        "emotion_df_val = pd.read_csv('/content/gdrive/My Drive/DS405B_NLP/emotion_df_val.csv')\n",
        "top_emotion_glove = pd.read_csv('/content/gdrive/My Drive/DS405B_NLP/top_emotion_glove.csv')\n"
      ]
    },
    {
      "cell_type": "code",
      "execution_count": null,
      "metadata": {
        "id": "xfQ50Kvi2eQa"
      },
      "outputs": [],
      "source": [
        "## embedding the text and the topics - again so that the code above need not be executed again :)\n",
        "\n",
        "list_true_emotion_topics = list(emotion_df_val.topic)\n",
        "list_emotion_topics = list(np.unique(list_true_emotion_topics))\n",
        "\n",
        "embeddings_emotion_4 = model_4.encode(list(pd.Series(emotion_df_val.text, dtype='str')))\n",
        "embeddings_emotion_4_topics = model_4.encode(list_emotion_topics)"
      ]
    },
    {
      "cell_type": "code",
      "execution_count": null,
      "metadata": {
        "colab": {
          "base_uri": "https://localhost:8080/"
        },
        "id": "S9btJiMw2eQb",
        "outputId": "fa5058b6-4627-4b5e-e4d6-e027f4ab0cbb"
      },
      "outputs": [
        {
          "name": "stdout",
          "output_type": "stream",
          "text": [
            "The accuracy score for the validation set of the Emotion DF based on the fouth third method for the 150 most frequent words is 0.348\n",
            "The accuracy score for the validation set of the Emotion DF based on the fouth third method for the 600 most frequent words is 0.584\n",
            "The accuracy score for the validation set of the Emotion DF based on the fouth third method for the 1200 most frequent words is 0.595\n",
            "The accuracy score for the validation set of the Emotion DF based on the fouth third method for the 1700 most frequent words is 0.607\n",
            "The accuracy score for the validation set of the Emotion DF based on the fouth third method for the 2200 most frequent words is 0.601\n",
            "The accuracy score for the validation set of the Emotion DF based on the fouth third method for the 3000 most frequent words is 0.597\n",
            "The accuracy score for the validation set of the Emotion DF based on the fouth third method for the 4000 most frequent words is 0.575\n"
          ]
        }
      ],
      "source": [
        "for num in numbers:\n",
        "\n",
        "  # getting the X - most common words\n",
        "  top_emotion_glove_x = top_emotion_glove.iloc[0:num,]\n",
        "\n",
        "  ## getting SBERT embeddings \n",
        "  SBERT_emotion_x = model_4.encode(list(top_emotion_glove_x['0']))\n",
        "\n",
        "  ## getting Glove Embeddings\n",
        "  Glove_x_emotion = []\n",
        "\n",
        "  for i in list(top_emotion_glove_x['0']):\n",
        "    Glove_x_emotion.append(model_w2v[str(i)] )\n",
        "\n",
        "  Glove_x_emotion = np.array(Glove_x_emotion)\n",
        "\n",
        "  # setting up ridge regression \n",
        "\n",
        "  ridge_emotion = Ridge(alpha=0.1) \n",
        "  ridge_emotion.fit(SBERT_emotion_x, Glove_x_emotion)\n",
        "\n",
        "  ## mapping to 300-dimensional subspace\n",
        "\n",
        "  subspace_emotion = ridge_emotion.predict(embeddings_emotion_4)\n",
        "  subspace_emotion_topics = ridge_emotion.predict(embeddings_emotion_4_topics)\n",
        "\n",
        "  ## computing cosine similarities between each embedding and each label embedding\n",
        "  ## counting correct assignment to the labels\n",
        "\n",
        "  counter_tp_emotion = 0\n",
        "\n",
        "  for i in range(subspace_emotion.shape[0]):\n",
        "\n",
        "    embedding_here = list(subspace_emotion[i])\n",
        "\n",
        "    cos_sims = torch.tensor([cos_sim(embedding_here, x ) for x in list(subspace_emotion_topics)]).flatten(0).detach().numpy()\n",
        "    most_similar_label = list_emotion_topics[np.argmax(cos_sims)]\n",
        "\n",
        "    if most_similar_label == list_true_emotion_topics[i]:\n",
        "      counter_tp_emotion += 1 \n",
        "\n",
        "\n",
        "  print(f\"The accuracy score for the validation set of the Emotion DF based on the fouth third method for the {num} most frequent words is {counter_tp_emotion/subspace_emotion.shape[0]}\")\n",
        "\n"
      ]
    },
    {
      "cell_type": "markdown",
      "metadata": {
        "id": "0P92D9Rb2eQb"
      },
      "source": [
        "Apparently, for a well-stuited number of the most frequent words for the Emotion Data is 1000 as the accuracy reported from the third method is the highest."
      ]
    },
    {
      "cell_type": "markdown",
      "metadata": {
        "id": "RRBUX1zA_nMp"
      },
      "source": [
        "#### For the Sentiment DF"
      ]
    },
    {
      "cell_type": "code",
      "execution_count": null,
      "metadata": {
        "id": "h6KwSS_f_nMq"
      },
      "outputs": [],
      "source": [
        "sentiment_df_val = pd.read_csv('/content/gdrive/My Drive/DS405B_NLP/sentiment_df_val.csv')\n",
        "top_sentiment_glove = pd.read_csv('/content/gdrive/My Drive/DS405B_NLP/top_sentiment_glove.csv')\n"
      ]
    },
    {
      "cell_type": "code",
      "execution_count": null,
      "metadata": {
        "id": "SSZCaXa4_nMq"
      },
      "outputs": [],
      "source": [
        "## embedding the text and the topics - again so that the code above need not be executed again :)\n",
        "\n",
        "list_true_sentiment_topics = list(sentiment_df_val.topic)\n",
        "list_sentiment_topics = list(np.unique(list_true_sentiment_topics))\n",
        "\n",
        "embeddings_sentiment_4 = model_4.encode(list(pd.Series(sentiment_df_val.text, dtype='str')))\n",
        "embeddings_sentiment_4_topics = model_4.encode(list_sentiment_topics)"
      ]
    },
    {
      "cell_type": "code",
      "execution_count": null,
      "metadata": {
        "colab": {
          "base_uri": "https://localhost:8080/"
        },
        "id": "0sI_Ov4A_nMq",
        "outputId": "4670b6ed-986c-4729-e99b-776438c77faa"
      },
      "outputs": [
        {
          "name": "stdout",
          "output_type": "stream",
          "text": [
            "The accuracy score for the validation set of the Sentiment DF based on the fouth method for the 150 most frequent words is 0.462\n",
            "The accuracy score for the validation set of the Sentiment DF based on the fouth method for the 600 most frequent words is 0.419\n",
            "The accuracy score for the validation set of the Sentiment DF based on the fouth method for the 1200 most frequent words is 0.368\n",
            "The accuracy score for the validation set of the Sentiment DF based on the fouth method for the 1700 most frequent words is 0.405\n",
            "The accuracy score for the validation set of the Sentiment DF based on the fouth method for the 2200 most frequent words is 0.431\n",
            "The accuracy score for the validation set of the Sentiment DF based on the fouth method for the 3000 most frequent words is 0.381\n",
            "The accuracy score for the validation set of the Sentiment DF based on the fouth method for the 4000 most frequent words is 0.374\n"
          ]
        }
      ],
      "source": [
        "for num in numbers:\n",
        "\n",
        "  # getting the X - most common words\n",
        "  top_sentiment_glove_x = top_sentiment_glove.iloc[0:num,]\n",
        "\n",
        "  ## getting SBERT embeddings \n",
        "  SBERT_sentiment_x = model_4.encode(list(top_sentiment_glove_x['0']))\n",
        "\n",
        "  ## getting Glove Embeddings\n",
        "  Glove_x_sentiment = []\n",
        "\n",
        "  for i in list(top_sentiment_glove_x['0']):\n",
        "    Glove_x_sentiment.append(model_w2v[str(i)] )\n",
        "\n",
        "  Glove_x_sentiment = np.array(Glove_x_sentiment)\n",
        "\n",
        "  # setting up ridge regression \n",
        "\n",
        "  ridge_sentiment = Ridge(alpha=0.1) \n",
        "  ridge_sentiment.fit(SBERT_sentiment_x, Glove_x_sentiment)\n",
        "\n",
        "  ## mapping to 300-dimensional subspace\n",
        "\n",
        "  subspace_sentiment = ridge_sentiment.predict(embeddings_sentiment_4)\n",
        "  subspace_sentiment_topics = ridge_sentiment.predict(embeddings_sentiment_4_topics)\n",
        "\n",
        "  ## computing cosine similarities between each embedding and each label embedding\n",
        "  ## counting correct assignment to the labels\n",
        "\n",
        "  counter_tp_sentiment = 0\n",
        "\n",
        "  for i in range(subspace_sentiment.shape[0]):\n",
        "\n",
        "    embedding_here = list(subspace_sentiment[i])\n",
        "\n",
        "    cos_sims = torch.tensor([cos_sim(embedding_here, x ) for x in list(subspace_sentiment_topics)]).flatten(0).detach().numpy()\n",
        "    most_similar_label = list_sentiment_topics[np.argmax(cos_sims)]\n",
        "\n",
        "    if most_similar_label == list_true_sentiment_topics[i]:\n",
        "      counter_tp_sentiment += 1 \n",
        "\n",
        "\n",
        "  print(f\"The accuracy score for the validation set of the Sentiment DF based on the fouth method for the {num} most frequent words is {counter_tp_sentiment/subspace_sentiment.shape[0]}\")\n",
        "\n"
      ]
    },
    {
      "cell_type": "markdown",
      "metadata": {
        "id": "aPzqRY1E_nMr"
      },
      "source": [
        "Apparently, for a well-stuited number of the most frequent words for the Yahoo Answer Data is 1000 as the accuracy reported from the third method is the highest."
      ]
    },
    {
      "cell_type": "markdown",
      "metadata": {
        "id": "tIWMltd0o-G_"
      },
      "source": [
        "## 5) Training Supervised Models\n",
        "\n",
        "Now, supervised models basedn on the Banking 77 Data and the Tweet Emotion Data will be trained and evaluated on the validation datasets respectively."
      ]
    },
    {
      "cell_type": "markdown",
      "metadata": {
        "id": "MEgA6jPDpKjH"
      },
      "source": [
        "### Banking 77 Data"
      ]
    },
    {
      "cell_type": "code",
      "execution_count": null,
      "metadata": {
        "id": "UBw9GRF3ti69"
      },
      "outputs": [],
      "source": [
        "banking_df_train = pd.read_csv('/content/gdrive/My Drive/DS405B_NLP/banking_df_train.csv')\n",
        "banking_df_val = pd.read_csv('/content/gdrive/My Drive/DS405B_NLP/banking_df_val.csv')\n",
        "\n"
      ]
    },
    {
      "cell_type": "markdown",
      "metadata": {
        "id": "wRvaM6QP6tcx"
      },
      "source": [
        "Here, One can re-use the names list and the num list for the banking DF to create dictionaries to map the topic strings back to integers for the training of the supervised models. For the banking data, the underscores now have to be used again!"
      ]
    },
    {
      "cell_type": "code",
      "execution_count": null,
      "metadata": {
        "id": "XXP1wv4-52Iu"
      },
      "outputs": [],
      "source": [
        "# calling\n",
        "zip_iterator_banking_2 = zip(names_list_banking, num_list_banking)\n",
        "\n",
        "reference_levels_banking_2 = dict(zip_iterator_banking_2)\n",
        "\n",
        "# uusing underscores\n",
        "banking_df_train.topic = banking_df_train.topic.str.replace(' ','_')\n",
        "banking_df_val.topic = banking_df_val.topic.str.replace(' ','_')\n",
        "\n",
        "## re-map to integers for topic labels\n",
        "banking_df_train['topic'] = banking_df_train['topic'].map(reference_levels_banking_2)\n",
        "banking_df_val['topic'] = banking_df_val['topic'].map(reference_levels_banking_2)\n",
        "\n"
      ]
    },
    {
      "cell_type": "code",
      "execution_count": null,
      "metadata": {
        "id": "qDLYUu-Hw22v"
      },
      "outputs": [],
      "source": [
        "import torch\n",
        "import torch.nn as nn\n",
        "import transformers\n",
        "from transformers import AutoModel, BertTokenizerFast\n",
        "from torch.utils.data import TensorDataset, DataLoader, RandomSampler, SequentialSampler\n",
        "from sentence_transformers import losses\n",
        "from torch.utils.data import DataLoader\n",
        "from sentence_transformers import models, SentenceTransformer\n",
        "\n"
      ]
    },
    {
      "cell_type": "code",
      "execution_count": null,
      "metadata": {
        "colab": {
          "base_uri": "https://localhost:8080/",
          "height": 253,
          "referenced_widgets": [
            "8b053f477c8548d78bb096ff13d62034",
            "1797c144e0194dba8b8aaaf1d7d537d7",
            "734270dde8ef4229a5ddbf5c8edcfb4e",
            "c99f44f735ab41869984fb75bda0f747",
            "c38381d3a1094e3a8e4224e48af30e8c",
            "4ab2ab2dfbcd4812b5832b760fa9ebdf",
            "0db6010e5aec46f885f26d3974e456e8",
            "c492c87d2de8488889245655fe796c4a",
            "7ee010f1fc18483c840533c66dd67b3e",
            "15e7c5a7def44311bda543900a2d81fb",
            "4149f49655094d18928fac979664e0ce",
            "70973f7e3d5b4158a940c7f3f2d67686",
            "adf8e8edaa8743f8a667219f53f787a6",
            "08faa4385e374b0a84dd80710d56f3cb",
            "047b6bdfd37d4f89b9bdc1ff587acdf7",
            "1d1fbc56bb634575aa3986c11171b254",
            "6ee5b6c426aa42b183a1d17929738cbf",
            "244bd8ab1ad9422b9afe2b4e8dc65db6",
            "a7121ce40bb140c1b58cf48eb2d2a5fb",
            "6e2b4d03577c4b73805b01c2bf6e7822",
            "925a247968164d43a120c370613bae0e",
            "dfb0ac25047b444b93260d4354bb6f55",
            "67c836bb07b7425aa54a25a3b0167f0c",
            "2901bf8ca69a4cb2b7f70247a7c6a728",
            "6a6ad14e88cc43e7a12f287fd03b8f62",
            "559ae35bfa764c6e8ddad42dbf71ed63",
            "bf848f3da934415b980086903149b3b0",
            "2720ee98eb384248be4ada556411b216",
            "3053a89392e84877b28dc48f9cbe2d73",
            "4eda4fa784884d808d2f27190344d428",
            "1803cfb4ae0546c9b9bd7df506ca33cc",
            "2f2afabedc934d6ebc588400e58c55cf",
            "2bbbcd98269f4f96ba191e8334a060fd",
            "c0032b39926a46f996f907f6302eb98a",
            "983fba5140d0478584ea9a47eb6d8094",
            "024c251277694bda9ed4b02d607c6d29",
            "32856c075bec42d585dcaf88a8e6869e",
            "919e9304abb046dc8cd41f353c9958bf",
            "624e9d7e3810453c9b091f7985bdd1d2",
            "ea943ffe61414320b21c3efdc1566c36",
            "b4c048e55fb24ae0966a43950d2ca508",
            "c201e6642ff04f458c0a794259504727",
            "2409987a2c7f40718038909032276137",
            "89e64772f4e74d03ac1bfd80fc12da3a",
            "26ed762b18534864b176883203ffbac1",
            "2652b513ea264190a6adf5b527d7b232",
            "02774cf1483a43c9bb0431aebd66a38b",
            "29f72eb97ae04663a0aa5867f50cb0c5",
            "22a57a5502d441899e9f9f74c6346399",
            "7b7951bd67944472a3280f1395bb98e7",
            "7888d42179db40fe9fc002cd6f15bb7c",
            "e5861bd13bfa483b93896f1c0c3e85b9",
            "a79cc53e9c3b4d0aaafda245f4c42af2",
            "68c762f3e4834c3fb958388b1cb5155d",
            "2388b5811c134e5dbe8e17fd4ab0c5d2"
          ]
        },
        "id": "oJmqbg3k39Iy",
        "outputId": "cfe979e3-8e35-4862-9445-5815cfa51c19"
      },
      "outputs": [
        {
          "data": {
            "application/vnd.jupyter.widget-view+json": {
              "model_id": "8b053f477c8548d78bb096ff13d62034",
              "version_major": 2,
              "version_minor": 0
            },
            "text/plain": [
              "Downloading:   0%|          | 0.00/570 [00:00<?, ?B/s]"
            ]
          },
          "metadata": {},
          "output_type": "display_data"
        },
        {
          "data": {
            "application/vnd.jupyter.widget-view+json": {
              "model_id": "70973f7e3d5b4158a940c7f3f2d67686",
              "version_major": 2,
              "version_minor": 0
            },
            "text/plain": [
              "Downloading:   0%|          | 0.00/420M [00:00<?, ?B/s]"
            ]
          },
          "metadata": {},
          "output_type": "display_data"
        },
        {
          "name": "stderr",
          "output_type": "stream",
          "text": [
            "Some weights of the model checkpoint at bert-base-uncased were not used when initializing BertModel: ['cls.predictions.transform.dense.bias', 'cls.seq_relationship.bias', 'cls.predictions.bias', 'cls.predictions.decoder.weight', 'cls.seq_relationship.weight', 'cls.predictions.transform.LayerNorm.bias', 'cls.predictions.transform.dense.weight', 'cls.predictions.transform.LayerNorm.weight']\n",
            "- This IS expected if you are initializing BertModel from the checkpoint of a model trained on another task or with another architecture (e.g. initializing a BertForSequenceClassification model from a BertForPreTraining model).\n",
            "- This IS NOT expected if you are initializing BertModel from the checkpoint of a model that you expect to be exactly identical (initializing a BertForSequenceClassification model from a BertForSequenceClassification model).\n"
          ]
        },
        {
          "data": {
            "application/vnd.jupyter.widget-view+json": {
              "model_id": "67c836bb07b7425aa54a25a3b0167f0c",
              "version_major": 2,
              "version_minor": 0
            },
            "text/plain": [
              "Downloading:   0%|          | 0.00/28.0 [00:00<?, ?B/s]"
            ]
          },
          "metadata": {},
          "output_type": "display_data"
        },
        {
          "data": {
            "application/vnd.jupyter.widget-view+json": {
              "model_id": "c0032b39926a46f996f907f6302eb98a",
              "version_major": 2,
              "version_minor": 0
            },
            "text/plain": [
              "Downloading:   0%|          | 0.00/226k [00:00<?, ?B/s]"
            ]
          },
          "metadata": {},
          "output_type": "display_data"
        },
        {
          "data": {
            "application/vnd.jupyter.widget-view+json": {
              "model_id": "26ed762b18534864b176883203ffbac1",
              "version_major": 2,
              "version_minor": 0
            },
            "text/plain": [
              "Downloading:   0%|          | 0.00/455k [00:00<?, ?B/s]"
            ]
          },
          "metadata": {},
          "output_type": "display_data"
        }
      ],
      "source": [
        "bert = models.Transformer('bert-base-uncased')\n",
        "\n",
        "tokenizer = BertTokenizer.from_pretrained('bert-base-uncased')"
      ]
    },
    {
      "cell_type": "code",
      "execution_count": null,
      "metadata": {
        "colab": {
          "base_uri": "https://localhost:8080/"
        },
        "id": "DTwLynbrObQf",
        "outputId": "242c7e0f-f767-4fd0-8bcf-3ea44f7dbdf6"
      },
      "outputs": [
        {
          "data": {
            "text/plain": [
              "<bound method Module.get_parameter of Transformer({'max_seq_length': 512, 'do_lower_case': False}) with Transformer model: BertModel >"
            ]
          },
          "execution_count": 28,
          "metadata": {},
          "output_type": "execute_result"
        }
      ],
      "source": [
        "bert."
      ]
    },
    {
      "cell_type": "markdown",
      "metadata": {
        "id": "aXih9ds0pPfl"
      },
      "source": [
        "I shall check for the length of the texts to determine a useful maximum length! If one uses 512, the network training becomes extremely slow."
      ]
    },
    {
      "cell_type": "code",
      "execution_count": null,
      "metadata": {
        "id": "ZJHv6J1q4ceH"
      },
      "outputs": [],
      "source": [
        "# encode text\n",
        "tokenized_text_banking = tokenizer.batch_encode_plus(list(banking_df_train.text), padding=True)\n"
      ]
    },
    {
      "cell_type": "code",
      "execution_count": null,
      "metadata": {
        "id": "rbjcBnNj4n_P"
      },
      "outputs": [],
      "source": [
        "lengths_text_banking = [len(i.split()) for i in banking_df_train.text]\n"
      ]
    },
    {
      "cell_type": "code",
      "execution_count": null,
      "metadata": {
        "colab": {
          "base_uri": "https://localhost:8080/",
          "height": 284
        },
        "id": "BFsNKA5H4xd8",
        "outputId": "d83eb6b5-b9cf-47a7-d97d-b3f0437af31f"
      },
      "outputs": [
        {
          "data": {
            "text/plain": [
              "<matplotlib.axes._subplots.AxesSubplot at 0x7f14ea181d50>"
            ]
          },
          "execution_count": 60,
          "metadata": {},
          "output_type": "execute_result"
        },
        {
          "data": {
            "image/png": "[encoded data removed]",
            "text/plain": [
              "<Figure size 432x288 with 1 Axes>"
            ]
          },
          "metadata": {},
          "output_type": "display_data"
        }
      ],
      "source": [
        "pd.Series(lengths_text_banking).hist(bins = 20) # 50 good cut-off point!\n"
      ]
    },
    {
      "cell_type": "code",
      "execution_count": null,
      "metadata": {
        "colab": {
          "base_uri": "https://localhost:8080/"
        },
        "id": "dAc48cGR5A_x",
        "outputId": "22017c1e-f6a9-48a9-84ae-a3c55eb4e75a"
      },
      "outputs": [
        {
          "name": "stderr",
          "output_type": "stream",
          "text": [
            "/usr/local/lib/python3.7/dist-packages/transformers/tokenization_utils_base.py:2232: FutureWarning: The `pad_to_max_length` argument is deprecated and will be removed in a future version, use `padding=True` or `padding='longest'` to pad to the longest sequence in the batch, or use `padding='max_length'` to pad to a max length. In this case, you can give a specific length with `max_length` (e.g. `max_length=45`) or leave max_length to None to pad to the maximal input size of the model (e.g. 512 for Bert).\n",
            "  FutureWarning,\n"
          ]
        }
      ],
      "source": [
        "tokens_train_banking = tokenizer.batch_encode_plus(\n",
        "    list(banking_df_train.text),\n",
        "    max_length = 50,\n",
        "    pad_to_max_length=True,\n",
        "    truncation=True\n",
        ")\n",
        "\n",
        "# tokenize and encode sequences in the validation set\n",
        "tokens_val_banking = tokenizer.batch_encode_plus(\n",
        "   list(banking_df_val.text),\n",
        "    max_length = 50,\n",
        "    pad_to_max_length=True,\n",
        "    truncation=True\n",
        ")"
      ]
    },
    {
      "cell_type": "code",
      "execution_count": null,
      "metadata": {
        "id": "PTxXUNzt8Ije"
      },
      "outputs": [],
      "source": [
        "## convert lists to tensors\n",
        "\n",
        "train_seq_banking = torch.tensor(tokens_train_banking['input_ids'])\n",
        "train_mask_banking = torch.tensor(tokens_train_banking['attention_mask'])\n",
        "train_y_banking = torch.tensor(list(banking_df_train.topic))\n",
        "\n",
        "val_seq_banking = torch.tensor(tokens_val_banking['input_ids'])\n",
        "val_mask_banking = torch.tensor(tokens_val_banking['attention_mask'])\n",
        "val_y_banking = torch.tensor(list(banking_df_val.topic))\n"
      ]
    },
    {
      "cell_type": "code",
      "execution_count": null,
      "metadata": {
        "id": "pohZNUox8ai-"
      },
      "outputs": [],
      "source": [
        "from torch.utils.data import TensorDataset, DataLoader, RandomSampler, SequentialSampler\n",
        "\n",
        "# Batch Size\n",
        "batch_size = 120\n",
        "\n",
        "## Training Dataloader\n",
        "\n",
        "train_data_banking = TensorDataset(train_seq_banking, train_mask_banking, train_y_banking)\n",
        "train_sampler_banking = RandomSampler(train_data_banking)\n",
        "train_dataloader_banking = DataLoader(train_data_banking, sampler=train_sampler_banking, batch_size=batch_size)\n",
        "\n",
        "\n",
        "## Validation Dataloader\n",
        "\n",
        "val_data_banking = TensorDataset(val_seq_banking, val_mask_banking, val_y_banking)\n",
        "val_sampler_banking = SequentialSampler(val_data_banking)\n",
        "val_dataloader_banking = DataLoader(val_data_banking, sampler = val_sampler_banking, batch_size=batch_size)"
      ]
    },
    {
      "cell_type": "code",
      "execution_count": null,
      "metadata": {
        "colab": {
          "base_uri": "https://localhost:8080/"
        },
        "id": "01nDhdCBCGTq",
        "outputId": "a1874fde-b8ea-4ee9-c50c-bfcf40bee5e9"
      },
      "outputs": [
        {
          "data": {
            "text/plain": [
              "77"
            ]
          },
          "execution_count": 36,
          "metadata": {},
          "output_type": "execute_result"
        }
      ],
      "source": [
        "len(np.unique(banking_77_topic))"
      ]
    },
    {
      "cell_type": "markdown",
      "metadata": {
        "id": "HyIYBsdulVwO"
      },
      "source": [
        "Setting up the entire model.  To make sure that the pooling layer is not freezed, I shall take a look at all parameters!"
      ]
    },
    {
      "cell_type": "code",
      "execution_count": null,
      "metadata": {
        "id": "9JzAexXwlZTI"
      },
      "outputs": [],
      "source": [
        "for name, param in bert.named_parameters():\n",
        "    if param.requires_grad == True:\n",
        "        print(name) "
      ]
    },
    {
      "cell_type": "code",
      "execution_count": null,
      "metadata": {
        "colab": {
          "base_uri": "https://localhost:8080/"
        },
        "id": "g0B3AAumlz5T",
        "outputId": "c3d76694-8fe3-41be-ad4d-e888a73fb264"
      },
      "outputs": [
        {
          "name": "stdout",
          "output_type": "stream",
          "text": [
            "torch.Size([768, 768])\n",
            "torch.Size([768])\n"
          ]
        }
      ],
      "source": [
        "# freeze all BERT parameters\n",
        "for param in list(bert.parameters())[-2:]:\n",
        "  print(param.shape)\n"
      ]
    },
    {
      "cell_type": "markdown",
      "metadata": {
        "id": "rs8PYj6DnUfs"
      },
      "source": [
        "The last 2 layers shall not be freezed!"
      ]
    },
    {
      "cell_type": "code",
      "execution_count": null,
      "metadata": {
        "id": "vYeP--sTGmOP"
      },
      "outputs": [],
      "source": [
        "class BertClassifier(nn.Module):\n",
        "\n",
        "    def __init__(self, dropout, output_dim):\n",
        "\n",
        "        super(BertClassifier, self).__init__()\n",
        "\n",
        "        self.bert = BertModel.from_pretrained('bert-base-uncased')\n",
        "\n",
        "        # freeze all BERT parameters but pooling ones\n",
        "        for param in list(self.bert.parameters())[:-2]:\n",
        "          param.requires_grad = False\n",
        "\n",
        "        self.dropout = nn.Dropout(dropout)\n",
        "        self.linear = nn.Linear(768, output_dim)\n",
        "\n",
        "    def forward(self, input_id, mask):\n",
        "\n",
        "\n",
        "        # just the pooled output\n",
        "        _, pooled_output = self.bert(input_ids= input_id, attention_mask=mask,return_dict=False)\n",
        "        dropout_output = self.dropout(pooled_output)\n",
        "        linear_output = self.linear(dropout_output)\n",
        "       \n",
        "        return linear_output\n",
        "\n"
      ]
    },
    {
      "cell_type": "code",
      "execution_count": null,
      "metadata": {
        "colab": {
          "base_uri": "https://localhost:8080/"
        },
        "id": "bgdGkXaBHznQ",
        "outputId": "c753616d-6648-44ee-ff8e-293023d9aa5a"
      },
      "outputs": [
        {
          "name": "stderr",
          "output_type": "stream",
          "text": [
            "Some weights of the model checkpoint at bert-base-uncased were not used when initializing BertModel: ['cls.predictions.transform.dense.bias', 'cls.seq_relationship.bias', 'cls.predictions.bias', 'cls.predictions.decoder.weight', 'cls.seq_relationship.weight', 'cls.predictions.transform.LayerNorm.bias', 'cls.predictions.transform.dense.weight', 'cls.predictions.transform.LayerNorm.weight']\n",
            "- This IS expected if you are initializing BertModel from the checkpoint of a model trained on another task or with another architecture (e.g. initializing a BertForSequenceClassification model from a BertForPreTraining model).\n",
            "- This IS NOT expected if you are initializing BertModel from the checkpoint of a model that you expect to be exactly identical (initializing a BertForSequenceClassification model from a BertForSequenceClassification model).\n"
          ]
        }
      ],
      "source": [
        "model_banking = BertClassifier(0.1, 77)\n",
        "\n",
        "device = torch.device(\"cuda\")\n",
        "model_banking = model_banking.to(device)\n"
      ]
    },
    {
      "cell_type": "code",
      "execution_count": null,
      "metadata": {
        "id": "srnQhmR_Gni_"
      },
      "outputs": [],
      "source": [
        "criterion = torch.nn.CrossEntropyLoss() \n",
        "optimizer = torch.optim.Adam(model_banking.parameters(), lr = 1e-3) # I have found a LR of 1e-3 to be working well here!\n"
      ]
    },
    {
      "cell_type": "markdown",
      "metadata": {
        "id": "mmc4TfU8WVs4"
      },
      "source": [
        "Now, I shall train the model on the banking training data."
      ]
    },
    {
      "cell_type": "markdown",
      "metadata": {
        "id": "wZXZ64KolNZU"
      },
      "source": [
        "The last 2 appear to be the params of the pooling layer!"
      ]
    },
    {
      "cell_type": "code",
      "execution_count": null,
      "metadata": {
        "colab": {
          "base_uri": "https://localhost:8080/"
        },
        "id": "JIxvIhMTIccu",
        "outputId": "b79df6f0-590c-434c-de3e-40cc8e828821"
      },
      "outputs": [
        {
          "name": "stdout",
          "output_type": "stream",
          "text": [
            "Epoch 0  Training Loss: 3.5492628185372603\n",
            "Epoch 0  Validation Loss: 2.3846404975966404\n",
            "Epoch 1  Training Loss: 2.098107298738078\n",
            "Epoch 1  Validation Loss: 1.3993677591022693\n",
            "Epoch 2  Training Loss: 1.4948227107524872\n",
            "Epoch 2  Validation Loss: 1.049220093771031\n",
            "Epoch 3  Training Loss: 1.2326196287023394\n",
            "Epoch 3  Validation Loss: 0.8745109493795195\n",
            "Epoch 4  Training Loss: 1.058110191633827\n",
            "Epoch 4  Validation Loss: 0.7232479986391569\n",
            "Epoch 5  Training Loss: 0.9802935813602648\n",
            "Epoch 5  Validation Loss: 0.657535042025541\n",
            "Epoch 6  Training Loss: 0.8876249296100516\n",
            "Epoch 6  Validation Loss: 0.5909783977426981\n",
            "Epoch 7  Training Loss: 0.8347815939862477\n",
            "Epoch 7  Validation Loss: 0.5189783777061262\n",
            "Epoch 8  Training Loss: 0.7772260425906432\n",
            "Epoch 8  Validation Loss: 0.5200571123706667\n",
            "Epoch 9  Training Loss: 0.786676889971683\n",
            "Epoch 9  Validation Loss: 0.4618757422523279\n",
            "Epoch 10  Training Loss: 0.766774277153768\n",
            "Epoch 10  Validation Loss: 0.42450727120433984\n",
            "Epoch 11  Training Loss: 0.7127506070231137\n",
            "Epoch 11  Validation Loss: 0.3889771781273578\n",
            "Epoch 12  Training Loss: 0.6607609106913993\n",
            "Epoch 12  Validation Loss: 0.3725955163765895\n",
            "Epoch 13  Training Loss: 0.6517895504489148\n",
            "Epoch 13  Validation Loss: 0.3394456769486791\n",
            "Epoch 14  Training Loss: 0.6300289575990877\n",
            "Epoch 14  Validation Loss: 0.39484451142580884\n",
            "Epoch 15  Training Loss: 0.6288151518490753\n",
            "Epoch 15  Validation Loss: 0.3248505216876143\n",
            "Epoch 16  Training Loss: 0.6059174292573803\n",
            "Epoch 16  Validation Loss: 0.3038870876556949\n",
            "Epoch 17  Training Loss: 0.576973718272424\n",
            "Epoch 17  Validation Loss: 0.28115155214541837\n",
            "Epoch 18  Training Loss: 0.5497740474284479\n",
            "Epoch 18  Validation Loss: 0.27804662953866155\n",
            "Epoch 19  Training Loss: 0.553831825424966\n",
            "Epoch 19  Validation Loss: 0.29065263585040446\n",
            "Epoch 20  Training Loss: 0.562304610092389\n",
            "Epoch 20  Validation Loss: 0.32487524889017405\n",
            "Epoch 21  Training Loss: 0.589805602635208\n",
            "Epoch 21  Validation Loss: 0.26170555673735707\n",
            "Epoch 22  Training Loss: 0.5895297609661755\n",
            "Epoch 22  Validation Loss: 0.2624209160475354\n",
            "Epoch 23  Training Loss: 0.6154178114313829\n",
            "Epoch 23  Validation Loss: 0.25777074949521767\n",
            "Epoch 24  Training Loss: 0.544654319258897\n",
            "Epoch 24  Validation Loss: 0.24279573893076495\n",
            "Epoch 25  Training Loss: 0.5001218336585321\n",
            "Epoch 25  Validation Loss: 0.23341961513812604\n",
            "Epoch 26  Training Loss: 0.505912105895971\n",
            "Epoch 26  Validation Loss: 0.21514428426560603\n",
            "Epoch 27  Training Loss: 0.5017646594267142\n",
            "Epoch 27  Validation Loss: 0.29036433524207067\n",
            "Epoch 28  Training Loss: 0.6288208267406413\n",
            "Epoch 28  Validation Loss: 0.22123842270995833\n",
            "Epoch 29  Training Loss: 0.484606610905183\n",
            "Epoch 29  Validation Loss: 0.19379593412342824\n",
            "Epoch 30  Training Loss: 0.49823165135948283\n",
            "Epoch 30  Validation Loss: 0.2031267819141871\n"
          ]
        }
      ],
      "source": [
        "train_loss_epoch = []\n",
        "val_loss_epoch = []\n",
        "\n",
        "num_epochs = 100\n",
        "\n",
        "for epoch in range(num_epochs):\n",
        "\n",
        "  train_loss_batch = []\n",
        "\n",
        "  model_banking.train()\n",
        "  for batch in train_dataloader_banking:\n",
        "\n",
        "    optimizer.zero_grad()\n",
        "    sent_id, mask, labels = batch[0], batch[1], batch[2]\n",
        "    preds = model_banking(sent_id.to(device), mask.to(device))\n",
        "    loss = criterion(preds, labels.to(device))\n",
        "    train_loss_batch.append(loss.item())\n",
        "    loss.backward()\n",
        "    optimizer.step()\n",
        "\n",
        "  model_banking.eval()\n",
        "  val_loss_batch = []\n",
        "\n",
        "  with torch.no_grad():\n",
        "    for batch in train_dataloader_banking:\n",
        "\n",
        "      sent_id, mask, labels = batch[0], batch[1], batch[2]\n",
        "      preds = model_banking(sent_id.to(device), mask.to(device))\n",
        "      loss = criterion(preds,labels.to(device))\n",
        "      val_loss_batch.append(loss.item())\n",
        "\n",
        "  train_loss_epoch.append(np.mean(np.array(train_loss_batch)  ))\n",
        "  val_loss_epoch.append(np.mean(np.array(val_loss_batch)))\n",
        "\n",
        "  ## implementing early stopping\n",
        "  if (epoch > 30) & (np.argmax(val_loss_epoch[-3::])  == 2 ):\n",
        "    break\n",
        "\n",
        "\n",
        "\n",
        "  print(f'Epoch {epoch}  Training Loss: {train_loss_epoch[epoch]}')\n",
        "  print(f'Epoch {epoch}  Validation Loss: {val_loss_epoch[epoch]}')"
      ]
    },
    {
      "cell_type": "code",
      "execution_count": null,
      "metadata": {
        "colab": {
          "base_uri": "https://localhost:8080/",
          "height": 265
        },
        "id": "cNVZ0QFCbe8W",
        "outputId": "c7d0df7b-fe18-49a8-a3db-c5cf0ddd4c36"
      },
      "outputs": [
        {
          "data": {
            "image/png": "[encoded data removed]",
            "text/plain": [
              "<Figure size 432x288 with 1 Axes>"
            ]
          },
          "metadata": {},
          "output_type": "display_data"
        }
      ],
      "source": [
        "import matplotlib.pyplot as plt \n",
        "\n",
        "length = len(train_loss_epoch)\n",
        "epochs = list(range(length))\n",
        "\n",
        "plt.plot(epochs, train_loss_epoch)\n",
        "plt.plot(epochs, val_loss_epoch)\n",
        "\n",
        "plt.legend([\"Training Loss\", \"Validation Loss\"], loc='upper right')\n",
        "plt.show()\n",
        "\n"
      ]
    },
    {
      "cell_type": "markdown",
      "metadata": {
        "id": "lhVwyC3Eze72"
      },
      "source": [
        "The performace seems to be even better on the validation data, which is nice!"
      ]
    },
    {
      "cell_type": "code",
      "execution_count": null,
      "metadata": {
        "id": "r3gNb35GWe7n"
      },
      "outputs": [],
      "source": [
        "## saving Model \n",
        "\n",
        "#saving the model \n",
        "model_save_name = 'exam_3_model_banking.pth'\n",
        "path = F\"/content/gdrive/My Drive/DS405B_NLP/{model_save_name}\" \n",
        "torch.save(model_banking, path)\n",
        "\n",
        "\n"
      ]
    },
    {
      "cell_type": "code",
      "execution_count": null,
      "metadata": {
        "id": "oK97CoRgXKTf"
      },
      "outputs": [],
      "source": [
        "## evaluating accuracy-wise \n",
        "\n",
        "all_data_banking = 0\n",
        "tp_banking = 0\n",
        "\n",
        "\n",
        "with torch.no_grad():\n",
        "  \n",
        "  for batch in train_dataloader_banking:\n",
        "    sent_id, mask, labels = batch[0], batch[1], batch[2]\n",
        "    preds = model_banking(sent_id.to(device), mask.to(device))\n",
        "\n",
        "    # getting the predictions\n",
        "    prediction_list = list(np.argmax(preds.cpu().detach().numpy(), axis = 1))\n",
        "\n",
        "    labels_list = list(labels.cpu().detach().numpy())\n",
        "\n",
        "    ## computing true positives and summing up all data points \n",
        "    for i in range(len(prediction_list)):\n",
        "      all_data_banking += 1\n",
        "      if prediction_list[i] == labels_list[i]:\n",
        "        tp_banking += 1\n",
        "   \n",
        "   "
      ]
    },
    {
      "cell_type": "code",
      "execution_count": null,
      "metadata": {
        "colab": {
          "base_uri": "https://localhost:8080/"
        },
        "id": "Bf4gZhiVyum4",
        "outputId": "9bbfac57-8115-4dcb-aecc-56c7de6bf858"
      },
      "outputs": [
        {
          "name": "stdout",
          "output_type": "stream",
          "text": [
            "The accuracy score for the validation set of the Banking Data based on the supervised method is 0.9324669554592914\n"
          ]
        }
      ],
      "source": [
        "print(f\"The accuracy score for the validation set of the Banking Data based on the supervised method is {tp_banking/all_data_banking}\")"
      ]
    },
    {
      "cell_type": "markdown",
      "metadata": {
        "id": "Nt4a4a3RzPh1"
      },
      "source": [
        "### Tweet Emotion Data"
      ]
    },
    {
      "cell_type": "code",
      "execution_count": null,
      "metadata": {
        "id": "vpKVnnrazPh3"
      },
      "outputs": [],
      "source": [
        "emotion_df_train = pd.read_csv('/content/gdrive/My Drive/DS405B_NLP/emotion_df_train.csv')\n",
        "emotion_df_val = pd.read_csv('/content/gdrive/My Drive/DS405B_NLP/emotion_df_val.csv')\n",
        "\n"
      ]
    },
    {
      "cell_type": "markdown",
      "metadata": {
        "id": "vdzyjhl0zPh5"
      },
      "source": [
        "Here, One can re-use the names list and the num list for the emotion Data  to create dictionaries to map the topic strings back to integers for the training of the supervised models."
      ]
    },
    {
      "cell_type": "code",
      "execution_count": null,
      "metadata": {
        "id": "soEymHDwzPh5"
      },
      "outputs": [],
      "source": [
        "# calling\n",
        "zip_iterator_emotion_2 = zip(names_list_emotion, num_list_emotion)\n",
        "\n",
        "reference_levels_emotion_2 = dict(zip_iterator_emotion_2)\n",
        "\n",
        "## re-map to integers for topic labels\n",
        "emotion_df_train['topic'] = emotion_df_train['topic'].map(reference_levels_emotion_2)\n",
        "emotion_df_val['topic'] = emotion_df_val['topic'].map(reference_levels_emotion_2)\n",
        "\n"
      ]
    },
    {
      "cell_type": "markdown",
      "metadata": {
        "id": "527onrI5zPh8"
      },
      "source": [
        "I shall check for the length of the texts to determine a useful maximum length!"
      ]
    },
    {
      "cell_type": "code",
      "execution_count": null,
      "metadata": {
        "id": "BWGe8eIdzPh9"
      },
      "outputs": [],
      "source": [
        "# encode text\n",
        "tokenized_text_emotion = tokenizer.batch_encode_plus(list(emotion_df_train.text), padding=True)\n"
      ]
    },
    {
      "cell_type": "code",
      "execution_count": null,
      "metadata": {
        "id": "OfRIXnjRzPh9"
      },
      "outputs": [],
      "source": [
        "lengths_text_emotion = [len(i.split()) for i in emotion_df_train.text]\n",
        "\n",
        "\n",
        "pd.Series(lengths_text_emotion).hist(bins = 20) # 30 good cut-off point!\n",
        "\n"
      ]
    },
    {
      "cell_type": "code",
      "execution_count": null,
      "metadata": {
        "colab": {
          "base_uri": "https://localhost:8080/",
          "height": 284
        },
        "id": "hpLb2iU9zPh-",
        "outputId": "6a9eff5c-9ac7-499a-aa3c-4aa50c29bfc6"
      },
      "outputs": [
        {
          "data": {
            "text/plain": [
              "<matplotlib.axes._subplots.AxesSubplot at 0x7f3633a60f50>"
            ]
          },
          "execution_count": 124,
          "metadata": {},
          "output_type": "execute_result"
        },
        {
          "data": {
            "image/png": "[encoded data removed]",
            "text/plain": [
              "<Figure size 432x288 with 1 Axes>"
            ]
          },
          "metadata": {},
          "output_type": "display_data"
        }
      ],
      "source": [
        "pd.Series(lengths_text_emotion).hist(bins = 20) # 30 good cut-off point!\n"
      ]
    },
    {
      "cell_type": "code",
      "execution_count": null,
      "metadata": {
        "colab": {
          "base_uri": "https://localhost:8080/"
        },
        "id": "Gdj5amgtzPh-",
        "outputId": "66545138-c968-49ee-ee72-62b05a3b6002"
      },
      "outputs": [
        {
          "name": "stderr",
          "output_type": "stream",
          "text": [
            "/usr/local/lib/python3.7/dist-packages/transformers/tokenization_utils_base.py:2232: FutureWarning: The `pad_to_max_length` argument is deprecated and will be removed in a future version, use `padding=True` or `padding='longest'` to pad to the longest sequence in the batch, or use `padding='max_length'` to pad to a max length. In this case, you can give a specific length with `max_length` (e.g. `max_length=45`) or leave max_length to None to pad to the maximal input size of the model (e.g. 512 for Bert).\n",
            "  FutureWarning,\n"
          ]
        }
      ],
      "source": [
        "## tokenization \n",
        "\n",
        "tokens_train_emotion = tokenizer.batch_encode_plus(\n",
        "    list(emotion_df_train.text),\n",
        "    max_length = 30,\n",
        "    pad_to_max_length=True,\n",
        "    truncation=True\n",
        ")\n",
        "\n",
        "\n",
        "tokens_val_emotion = tokenizer.batch_encode_plus(\n",
        "   list(emotion_df_val.text),\n",
        "    max_length = 30,\n",
        "    pad_to_max_length=True,\n",
        "    truncation=True\n",
        ")"
      ]
    },
    {
      "cell_type": "code",
      "execution_count": null,
      "metadata": {
        "id": "9oiKTG8nzPh_"
      },
      "outputs": [],
      "source": [
        "## convert lists to tensors\n",
        "\n",
        "train_seq_emotion = torch.tensor(tokens_train_emotion['input_ids'])\n",
        "train_mask_emotion = torch.tensor(tokens_train_emotion['attention_mask'])\n",
        "train_y_emotion = torch.tensor(list(emotion_df_train.topic))\n",
        "\n",
        "val_seq_emotion = torch.tensor(tokens_val_emotion['input_ids'])\n",
        "val_mask_emotion = torch.tensor(tokens_val_emotion['attention_mask'])\n",
        "val_y_emotion = torch.tensor(list(emotion_df_val.topic))\n"
      ]
    },
    {
      "cell_type": "code",
      "execution_count": null,
      "metadata": {
        "id": "ZyXych9KzPiA"
      },
      "outputs": [],
      "source": [
        "# Batch Size\n",
        "batch_size = 120\n",
        "\n",
        "## Training Dataloader\n",
        "\n",
        "train_data_emotion = TensorDataset(train_seq_emotion, train_mask_emotion, train_y_emotion)\n",
        "train_sampler_emotion = RandomSampler(train_data_emotion)\n",
        "train_dataloader_emotion = DataLoader(train_data_emotion, sampler=train_sampler_emotion, batch_size=batch_size)\n",
        "\n",
        "## Validation Dataloader\n",
        "\n",
        "val_data_emotion = TensorDataset(val_seq_emotion, val_mask_emotion, val_y_emotion)\n",
        "val_sampler_emotion = SequentialSampler(val_data_emotion)\n",
        "val_dataloader_emotion = DataLoader(val_data_emotion, sampler = val_sampler_emotion, batch_size=batch_size)\n",
        "\n",
        "\n"
      ]
    },
    {
      "cell_type": "markdown",
      "metadata": {
        "id": "EJzGUcf717q8"
      },
      "source": [
        "Now, we can create another instance of the BERT Classifier object created above. I shall later the output dimension to fit this dataset!"
      ]
    },
    {
      "cell_type": "code",
      "execution_count": null,
      "metadata": {
        "id": "7IFxFBFt2Gpb"
      },
      "outputs": [],
      "source": [
        "num_topics_emotion = len(np.unique(emotion_df_train.topic))"
      ]
    },
    {
      "cell_type": "code",
      "execution_count": null,
      "metadata": {
        "colab": {
          "base_uri": "https://localhost:8080/"
        },
        "id": "WyCpA2fFzPiE",
        "outputId": "0c1120b7-d8e4-40ed-bf2d-99392e396214"
      },
      "outputs": [
        {
          "name": "stderr",
          "output_type": "stream",
          "text": [
            "Some weights of the model checkpoint at bert-base-uncased were not used when initializing BertModel: ['cls.predictions.transform.dense.bias', 'cls.seq_relationship.bias', 'cls.predictions.bias', 'cls.predictions.decoder.weight', 'cls.seq_relationship.weight', 'cls.predictions.transform.LayerNorm.bias', 'cls.predictions.transform.dense.weight', 'cls.predictions.transform.LayerNorm.weight']\n",
            "- This IS expected if you are initializing BertModel from the checkpoint of a model trained on another task or with another architecture (e.g. initializing a BertForSequenceClassification model from a BertForPreTraining model).\n",
            "- This IS NOT expected if you are initializing BertModel from the checkpoint of a model that you expect to be exactly identical (initializing a BertForSequenceClassification model from a BertForSequenceClassification model).\n"
          ]
        }
      ],
      "source": [
        "model_emotion = BertClassifier(0.05, num_topics_emotion)\n",
        "\n",
        "device = torch.device(\"cuda\")\n",
        "model_emotion = model_emotion.to(device)\n"
      ]
    },
    {
      "cell_type": "code",
      "execution_count": null,
      "metadata": {
        "id": "v5o1rVQ5zPiE"
      },
      "outputs": [],
      "source": [
        "\n",
        "criterion = torch.nn.CrossEntropyLoss() \n",
        "optimizer = torch.optim.Adam(model_emotion.parameters(), lr = 1e-3)\n"
      ]
    },
    {
      "cell_type": "markdown",
      "metadata": {
        "id": "-uzzqyLzzPiE"
      },
      "source": [
        "Now, I shall train the model on the banking training data."
      ]
    },
    {
      "cell_type": "code",
      "execution_count": null,
      "metadata": {
        "colab": {
          "base_uri": "https://localhost:8080/"
        },
        "id": "e_0zt-IWzPiF",
        "outputId": "8d58243a-7b2e-454d-b3e1-a3d9913caf52"
      },
      "outputs": [
        {
          "name": "stdout",
          "output_type": "stream",
          "text": [
            "Epoch 0  Training Loss: 1.2006981247349788\n",
            "Epoch 0  Validation Loss: 0.9939360744074771\n",
            "Epoch 1  Training Loss: 0.9456141747926411\n",
            "Epoch 1  Validation Loss: 0.8056035355517739\n",
            "Epoch 2  Training Loss: 0.841471486969998\n",
            "Epoch 2  Validation Loss: 0.7493905456442582\n",
            "Epoch 3  Training Loss: 0.8079493767336795\n",
            "Epoch 3  Validation Loss: 0.7245936832929912\n",
            "Epoch 4  Training Loss: 0.7920995574248465\n",
            "Epoch 4  Validation Loss: 0.6766295119335777\n",
            "Epoch 5  Training Loss: 0.7716056359441656\n",
            "Epoch 5  Validation Loss: 0.665596394162429\n",
            "Epoch 6  Training Loss: 0.7726800316258481\n",
            "Epoch 6  Validation Loss: 0.6517924572292128\n",
            "Epoch 7  Training Loss: 0.7537407184901991\n",
            "Epoch 7  Validation Loss: 0.6482247114181519\n",
            "Epoch 8  Training Loss: 0.7399670920873943\n",
            "Epoch 8  Validation Loss: 0.6505730152130127\n",
            "Epoch 9  Training Loss: 0.7539607913870561\n",
            "Epoch 9  Validation Loss: 0.6242128626296395\n",
            "Epoch 10  Training Loss: 0.7221822801389193\n",
            "Epoch 10  Validation Loss: 0.6234516250459772\n",
            "Epoch 11  Training Loss: 0.7237297265153182\n",
            "Epoch 11  Validation Loss: 0.6164420247077942\n",
            "Epoch 12  Training Loss: 0.6970882509884081\n",
            "Epoch 12  Validation Loss: 0.5960215737945155\n",
            "Epoch 13  Training Loss: 0.7211605592777854\n",
            "Epoch 13  Validation Loss: 0.5898995681812889\n",
            "Epoch 14  Training Loss: 0.7199754997303611\n",
            "Epoch 14  Validation Loss: 0.5990830440270273\n",
            "Epoch 15  Training Loss: 0.7042405699428759\n",
            "Epoch 15  Validation Loss: 0.5609280278808192\n",
            "Epoch 16  Training Loss: 0.7217395933050859\n",
            "Epoch 16  Validation Loss: 0.5991109986054269\n",
            "Epoch 17  Training Loss: 0.710486794772901\n",
            "Epoch 17  Validation Loss: 0.5614178165009147\n",
            "Epoch 18  Training Loss: 0.6938265452259466\n",
            "Epoch 18  Validation Loss: 0.5553853354955974\n",
            "Epoch 19  Training Loss: 0.6796816179626867\n",
            "Epoch 19  Validation Loss: 0.5322565906926205\n",
            "Epoch 20  Training Loss: 0.6761358192092494\n",
            "Epoch 20  Validation Loss: 0.5545997462774578\n",
            "Epoch 21  Training Loss: 0.6805302783062583\n",
            "Epoch 21  Validation Loss: 0.5242371512086768\n",
            "Epoch 22  Training Loss: 0.6810254893804851\n",
            "Epoch 22  Validation Loss: 0.5707652380591944\n",
            "Epoch 23  Training Loss: 0.673802375793457\n",
            "Epoch 23  Validation Loss: 0.5071618823628676\n",
            "Epoch 24  Training Loss: 0.6633277096246418\n",
            "Epoch 24  Validation Loss: 0.549900150612781\n",
            "Epoch 25  Training Loss: 0.6455248531542326\n",
            "Epoch 25  Validation Loss: 0.5380608643356123\n",
            "Epoch 26  Training Loss: 0.6699707727683218\n",
            "Epoch 26  Validation Loss: 0.49029821314309774\n",
            "Epoch 27  Training Loss: 0.6247339060432032\n",
            "Epoch 27  Validation Loss: 0.5049561073905543\n",
            "Epoch 28  Training Loss: 0.6578564487005535\n",
            "Epoch 28  Validation Loss: 0.5309234857559204\n",
            "Epoch 29  Training Loss: 0.6368928990866008\n",
            "Epoch 29  Validation Loss: 0.4996526445213117\n",
            "Epoch 30  Training Loss: 0.6447605176975852\n",
            "Epoch 30  Validation Loss: 0.5181330238517962\n",
            "Epoch 31  Training Loss: 0.6693552732467651\n",
            "Epoch 31  Validation Loss: 0.46923969293895523\n",
            "Epoch 32  Training Loss: 0.6090365177706668\n",
            "Epoch 32  Validation Loss: 0.4697042436976182\n"
          ]
        }
      ],
      "source": [
        "train_loss_epoch = []\n",
        "val_loss_epoch = []\n",
        "\n",
        "num_epochs = 100\n",
        "\n",
        "for epoch in range(num_epochs):\n",
        "\n",
        "\n",
        "  train_loss_batch = []\n",
        "\n",
        "  model_emotion.train()\n",
        "  for batch in train_dataloader_emotion:\n",
        "\n",
        "    optimizer.zero_grad()\n",
        "    sent_id, mask, labels = batch[0], batch[1], batch[2]\n",
        "    preds = model_emotion(sent_id.to(device), mask.to(device))\n",
        "    loss = criterion(preds,labels.to(device))\n",
        "    train_loss_batch.append(loss.item())\n",
        "    loss.backward()\n",
        "    optimizer.step()\n",
        "\n",
        "  model_emotion.eval()\n",
        "  val_loss_batch = []\n",
        "\n",
        "  with torch.no_grad():\n",
        "    for batch in train_dataloader_emotion:\n",
        "\n",
        "      sent_id, mask, labels = batch[0], batch[1], batch[2]\n",
        "      preds = model_emotion(sent_id.to(device), mask.to(device))\n",
        "      loss = criterion(preds,labels.to(device))\n",
        "      val_loss_batch.append(loss.item())\n",
        "\n",
        "  train_loss_epoch.append(np.mean(np.array(train_loss_batch)  ))\n",
        "  val_loss_epoch.append(np.mean(np.array(val_loss_batch)))\n",
        "\n",
        "  ## implementing early stopping\n",
        "  if (epoch > 30) & (np.argmax(val_loss_epoch[-3::])  == 2 ):\n",
        "    break\n",
        "\n",
        "\n",
        "\n",
        "  print(f'Epoch {epoch}  Training Loss: {train_loss_epoch[epoch]}')\n",
        "  print(f'Epoch {epoch}  Validation Loss: {val_loss_epoch[epoch]}')"
      ]
    },
    {
      "cell_type": "code",
      "execution_count": null,
      "metadata": {
        "colab": {
          "base_uri": "https://localhost:8080/",
          "height": 265
        },
        "id": "ZUpNsbeCzPiF",
        "outputId": "833793eb-f2ea-4076-98fd-0f566bac9810"
      },
      "outputs": [
        {
          "data": {
            "image/png": "[encoded data removed]",
            "text/plain": [
              "<Figure size 432x288 with 1 Axes>"
            ]
          },
          "metadata": {},
          "output_type": "display_data"
        }
      ],
      "source": [
        "length = len(train_loss_epoch)\n",
        "epochs = list(range(length))\n",
        "\n",
        "plt.plot(epochs, train_loss_epoch)\n",
        "plt.plot(epochs, val_loss_epoch)\n",
        "\n",
        "plt.legend([\"Training Loss\", \"Validation Loss\"], loc='upper right')\n",
        "plt.show()\n",
        "\n"
      ]
    },
    {
      "cell_type": "code",
      "execution_count": null,
      "metadata": {
        "id": "ieFQU0IlzPiF"
      },
      "outputs": [],
      "source": [
        "## saving Model \n",
        "\n",
        "#saving the model \n",
        "model_save_name = 'exam_3_model_emotion.pth'\n",
        "path = F\"/content/gdrive/My Drive/DS405B_NLP/{model_save_name}\" \n",
        "torch.save(model_emotion, path)\n",
        "\n",
        "\n"
      ]
    },
    {
      "cell_type": "code",
      "execution_count": null,
      "metadata": {
        "id": "qF_8S2KvzPiF"
      },
      "outputs": [],
      "source": [
        "## evaluating accuracy-wise \n",
        "\n",
        "all_data_emotion = 0\n",
        "tp_emotion = 0\n",
        "\n",
        "\n",
        "with torch.no_grad():\n",
        "  \n",
        "  for batch in train_dataloader_emotion:\n",
        "    sent_id, mask, labels = batch[0], batch[1], batch[2]\n",
        "    preds = model_emotion(sent_id.to(device), mask.to(device))\n",
        "\n",
        "    # getting the predictions\n",
        "    prediction_list = list(np.argmax(preds.cpu().detach().numpy(), axis = 1))\n",
        "\n",
        "    labels_list = list(labels.cpu().detach().numpy())\n",
        "\n",
        "    ## computing true positives and summing up all data points \n",
        "    for i in range(len(prediction_list)):\n",
        "      all_data_emotion += 1\n",
        "      if prediction_list[i] == labels_list[i]:\n",
        "        tp_emotion += 1\n",
        "   \n",
        "   "
      ]
    },
    {
      "cell_type": "code",
      "execution_count": null,
      "metadata": {
        "colab": {
          "base_uri": "https://localhost:8080/"
        },
        "id": "2W05PxgMzPiG",
        "outputId": "ec2e0dfb-60c4-48f9-aeae-1c0004248c30"
      },
      "outputs": [
        {
          "name": "stdout",
          "output_type": "stream",
          "text": [
            "The accuracy score for the validation set of the Emotion Data based on the supervised method is 0.819672131147541\n"
          ]
        }
      ],
      "source": [
        "print(f\"The accuracy score for the validation set of the Emotion Data based on the supervised method is {tp_emotion/all_data_emotion}\")"
      ]
    },
    {
      "cell_type": "markdown",
      "metadata": {
        "id": "Rpai1f5j74YY"
      },
      "source": [
        "## Performance Comparison"
      ]
    },
    {
      "cell_type": "markdown",
      "metadata": {
        "id": "kgsTpKS4-2Q_"
      },
      "source": [
        "Finally, here is an overview of all results"
      ]
    },
    {
      "cell_type": "code",
      "execution_count": null,
      "metadata": {
        "colab": {
          "background_save": true
        },
        "id": "3lgWh2o27644"
      },
      "outputs": [],
      "source": [
        "import pandas as pd \n",
        "\n",
        "data = [\"Yahoo Answer\", \"Banking\", \"Emotion\", \"Sentiment\"]\n",
        "Yahoo_Answer = [0.155, 0.487, 0.431, 0.456, 'NaN']\n",
        "Banking = [0.109, 0.595, 0.561, 0.586, 0.932]\n",
        "Emotion = [0.463, 0.609, 0.629, 0.629, 0.819]\n",
        "Sentiment = [0.155, 0.487, 0.406, 0.431, 'NaN']\n",
        "\n",
        "\n",
        "methods = [\"Method 1\", \"Method 2\", \"Method 3\", \"Method 4 (best value)\", \"Supervised method\"]\n"
      ]
    },
    {
      "cell_type": "code",
      "execution_count": null,
      "metadata": {
        "colab": {
          "base_uri": "https://localhost:8080/"
        },
        "id": "K6dGOMDR-6qK",
        "outputId": "01923179-67d9-4cea-fb57-3ec37c4318cd"
      },
      "outputs": [
        {
          "name": "stdout",
          "output_type": "stream",
          "text": [
            "                      Yahoo_Answer  Banking  Emotion Sentiment\n",
            "Method 1                     0.155    0.109    0.463     0.155\n",
            "Method 2                     0.487    0.595    0.609     0.487\n",
            "Method 3                     0.431    0.561    0.629     0.406\n",
            "Method 4 (best value)        0.456    0.586    0.629     0.431\n",
            "Supervised method              NaN    0.932    0.819       NaN\n"
          ]
        }
      ],
      "source": [
        "results = pd.DataFrame({'Yahoo_Answer':Yahoo_Answer, 'Banking': Banking, 'Emotion': Emotion, 'Sentiment':Sentiment})\n",
        "\n",
        "results.index = methods\n",
        "\n",
        "print(results)"
      ]
    }
  ],
  "metadata": {
    "colab": {
      "collapsed_sections": [
        "ROHr_-c-0Bte",
        "FyUYCYmu0yhk"
      ],
      "name": "Exam_No_3_DS_405.ipynb",
      "provenance": [],
      "authorship_tag": "ABX9TyPx65EmEarQIEfY6u+p3vEK"
    },
    "kernelspec": {
      "display_name": "Python 3",
      "name": "python3"
    },
    "language_info": {
      "name": "python"
    },
    "widgets": {
      "application/vnd.jupyter.widget-state+json": {
        "013ab8d9a2f24e5fb21e384a090f25b7": {
          "model_module": "@jupyter-widgets/controls",
          "model_module_version": "1.5.0",
          "model_name": "DescriptionStyleModel",
          "state": {
            "_model_module": "@jupyter-widgets/controls",
            "_model_module_version": "1.5.0",
            "_model_name": "DescriptionStyleModel",
            "_view_count": null,
            "_view_module": "@jupyter-widgets/base",
            "_view_module_version": "1.2.0",
            "_view_name": "StyleView",
            "description_width": ""
          }
        },
        "0175223bd1d74c3ba7d687713ca20f56": {
          "model_module": "@jupyter-widgets/base",
          "model_module_version": "1.2.0",
          "model_name": "LayoutModel",
          "state": {
            "_model_module": "@jupyter-widgets/base",
            "_model_module_version": "1.2.0",
            "_model_name": "LayoutModel",
            "_view_count": null,
            "_view_module": "@jupyter-widgets/base",
            "_view_module_version": "1.2.0",
            "_view_name": "LayoutView",
            "align_content": null,
            "align_items": null,
            "align_self": null,
            "border": null,
            "bottom": null,
            "display": null,
            "flex": null,
            "flex_flow": null,
            "grid_area": null,
            "grid_auto_columns": null,
            "grid_auto_flow": null,
            "grid_auto_rows": null,
            "grid_column": null,
            "grid_gap": null,
            "grid_row": null,
            "grid_template_areas": null,
            "grid_template_columns": null,
            "grid_template_rows": null,
            "height": null,
            "justify_content": null,
            "justify_items": null,
            "left": null,
            "margin": null,
            "max_height": null,
            "max_width": null,
            "min_height": null,
            "min_width": null,
            "object_fit": null,
            "object_position": null,
            "order": null,
            "overflow": null,
            "overflow_x": null,
            "overflow_y": null,
            "padding": null,
            "right": null,
            "top": null,
            "visibility": null,
            "width": null
          }
        },
        "024c251277694bda9ed4b02d607c6d29": {
          "model_module": "@jupyter-widgets/controls",
          "model_module_version": "1.5.0",
          "model_name": "FloatProgressModel",
          "state": {
            "_dom_classes": [],
            "_model_module": "@jupyter-widgets/controls",
            "_model_module_version": "1.5.0",
            "_model_name": "FloatProgressModel",
            "_view_count": null,
            "_view_module": "@jupyter-widgets/controls",
            "_view_module_version": "1.5.0",
            "_view_name": "ProgressView",
            "bar_style": "success",
            "description": "",
            "description_tooltip": null,
            "layout": "IPY_MODEL_b4c048e55fb24ae0966a43950d2ca508",
            "max": 231508,
            "min": 0,
            "orientation": "horizontal",
            "style": "IPY_MODEL_c201e6642ff04f458c0a794259504727",
            "value": 231508
          }
        },
        "0275455afcc0465cb95d2cc88a931a5e": {
          "model_module": "@jupyter-widgets/controls",
          "model_module_version": "1.5.0",
          "model_name": "DescriptionStyleModel",
          "state": {
            "_model_module": "@jupyter-widgets/controls",
            "_model_module_version": "1.5.0",
            "_model_name": "DescriptionStyleModel",
            "_view_count": null,
            "_view_module": "@jupyter-widgets/base",
            "_view_module_version": "1.2.0",
            "_view_name": "StyleView",
            "description_width": ""
          }
        },
        "02774cf1483a43c9bb0431aebd66a38b": {
          "model_module": "@jupyter-widgets/controls",
          "model_module_version": "1.5.0",
          "model_name": "FloatProgressModel",
          "state": {
            "_dom_classes": [],
            "_model_module": "@jupyter-widgets/controls",
            "_model_module_version": "1.5.0",
            "_model_name": "FloatProgressModel",
            "_view_count": null,
            "_view_module": "@jupyter-widgets/controls",
            "_view_module_version": "1.5.0",
            "_view_name": "ProgressView",
            "bar_style": "success",
            "description": "",
            "description_tooltip": null,
            "layout": "IPY_MODEL_e5861bd13bfa483b93896f1c0c3e85b9",
            "max": 466062,
            "min": 0,
            "orientation": "horizontal",
            "style": "IPY_MODEL_a79cc53e9c3b4d0aaafda245f4c42af2",
            "value": 466062
          }
        },
        "03c8ff83e74449629600f961d13b9570": {
          "model_module": "@jupyter-widgets/base",
          "model_module_version": "1.2.0",
          "model_name": "LayoutModel",
          "state": {
            "_model_module": "@jupyter-widgets/base",
            "_model_module_version": "1.2.0",
            "_model_name": "LayoutModel",
            "_view_count": null,
            "_view_module": "@jupyter-widgets/base",
            "_view_module_version": "1.2.0",
            "_view_name": "LayoutView",
            "align_content": null,
            "align_items": null,
            "align_self": null,
            "border": null,
            "bottom": null,
            "display": null,
            "flex": null,
            "flex_flow": null,
            "grid_area": null,
            "grid_auto_columns": null,
            "grid_auto_flow": null,
            "grid_auto_rows": null,
            "grid_column": null,
            "grid_gap": null,
            "grid_row": null,
            "grid_template_areas": null,
            "grid_template_columns": null,
            "grid_template_rows": null,
            "height": null,
            "justify_content": null,
            "justify_items": null,
            "left": null,
            "margin": null,
            "max_height": null,
            "max_width": null,
            "min_height": null,
            "min_width": null,
            "object_fit": null,
            "object_position": null,
            "order": null,
            "overflow": null,
            "overflow_x": null,
            "overflow_y": null,
            "padding": null,
            "right": null,
            "top": null,
            "visibility": null,
            "width": null
          }
        },
        "047b6bdfd37d4f89b9bdc1ff587acdf7": {
          "model_module": "@jupyter-widgets/controls",
          "model_module_version": "1.5.0",
          "model_name": "HTMLModel",
          "state": {
            "_dom_classes": [],
            "_model_module": "@jupyter-widgets/controls",
            "_model_module_version": "1.5.0",
            "_model_name": "HTMLModel",
            "_view_count": null,
            "_view_module": "@jupyter-widgets/controls",
            "_view_module_version": "1.5.0",
            "_view_name": "HTMLView",
            "description": "",
            "description_tooltip": null,
            "layout": "IPY_MODEL_925a247968164d43a120c370613bae0e",
            "placeholder": "​",
            "style": "IPY_MODEL_dfb0ac25047b444b93260d4354bb6f55",
            "value": " 420M/420M [00:28&lt;00:00, 33.5MB/s]"
          }
        },
        "04b75f7dd441407eb6d622b6311cd329": {
          "model_module": "@jupyter-widgets/base",
          "model_module_version": "1.2.0",
          "model_name": "LayoutModel",
          "state": {
            "_model_module": "@jupyter-widgets/base",
            "_model_module_version": "1.2.0",
            "_model_name": "LayoutModel",
            "_view_count": null,
            "_view_module": "@jupyter-widgets/base",
            "_view_module_version": "1.2.0",
            "_view_name": "LayoutView",
            "align_content": null,
            "align_items": null,
            "align_self": null,
            "border": null,
            "bottom": null,
            "display": null,
            "flex": null,
            "flex_flow": null,
            "grid_area": null,
            "grid_auto_columns": null,
            "grid_auto_flow": null,
            "grid_auto_rows": null,
            "grid_column": null,
            "grid_gap": null,
            "grid_row": null,
            "grid_template_areas": null,
            "grid_template_columns": null,
            "grid_template_rows": null,
            "height": null,
            "justify_content": null,
            "justify_items": null,
            "left": null,
            "margin": null,
            "max_height": null,
            "max_width": null,
            "min_height": null,
            "min_width": null,
            "object_fit": null,
            "object_position": null,
            "order": null,
            "overflow": null,
            "overflow_x": null,
            "overflow_y": null,
            "padding": null,
            "right": null,
            "top": null,
            "visibility": null,
            "width": null
          }
        },
        "051c6949a56340a682100ab3e5ebf406": {
          "model_module": "@jupyter-widgets/controls",
          "model_module_version": "1.5.0",
          "model_name": "HTMLModel",
          "state": {
            "_dom_classes": [],
            "_model_module": "@jupyter-widgets/controls",
            "_model_module_version": "1.5.0",
            "_model_name": "HTMLModel",
            "_view_count": null,
            "_view_module": "@jupyter-widgets/controls",
            "_view_module_version": "1.5.0",
            "_view_name": "HTMLView",
            "description": "",
            "description_tooltip": null,
            "layout": "IPY_MODEL_f2bad06f17e745bb93fe8661221f270a",
            "placeholder": "​",
            "style": "IPY_MODEL_538a5af2e03147a8aea49003ed82d25d",
            "value": "Downloading: "
          }
        },
        "0522dff94edf4064afdf839a7d00933b": {
          "model_module": "@jupyter-widgets/base",
          "model_module_version": "1.2.0",
          "model_name": "LayoutModel",
          "state": {
            "_model_module": "@jupyter-widgets/base",
            "_model_module_version": "1.2.0",
            "_model_name": "LayoutModel",
            "_view_count": null,
            "_view_module": "@jupyter-widgets/base",
            "_view_module_version": "1.2.0",
            "_view_name": "LayoutView",
            "align_content": null,
            "align_items": null,
            "align_self": null,
            "border": null,
            "bottom": null,
            "display": null,
            "flex": null,
            "flex_flow": null,
            "grid_area": null,
            "grid_auto_columns": null,
            "grid_auto_flow": null,
            "grid_auto_rows": null,
            "grid_column": null,
            "grid_gap": null,
            "grid_row": null,
            "grid_template_areas": null,
            "grid_template_columns": null,
            "grid_template_rows": null,
            "height": null,
            "justify_content": null,
            "justify_items": null,
            "left": null,
            "margin": null,
            "max_height": null,
            "max_width": null,
            "min_height": null,
            "min_width": null,
            "object_fit": null,
            "object_position": null,
            "order": null,
            "overflow": null,
            "overflow_x": null,
            "overflow_y": null,
            "padding": null,
            "right": null,
            "top": null,
            "visibility": null,
            "width": null
          }
        },
        "053b9d52ed68417891783417bb29e8a0": {
          "model_module": "@jupyter-widgets/controls",
          "model_module_version": "1.5.0",
          "model_name": "DescriptionStyleModel",
          "state": {
            "_model_module": "@jupyter-widgets/controls",
            "_model_module_version": "1.5.0",
            "_model_name": "DescriptionStyleModel",
            "_view_count": null,
            "_view_module": "@jupyter-widgets/base",
            "_view_module_version": "1.2.0",
            "_view_name": "StyleView",
            "description_width": ""
          }
        },
        "06c80f01e9ab41d6983f60f1d17f2165": {
          "model_module": "@jupyter-widgets/base",
          "model_module_version": "1.2.0",
          "model_name": "LayoutModel",
          "state": {
            "_model_module": "@jupyter-widgets/base",
            "_model_module_version": "1.2.0",
            "_model_name": "LayoutModel",
            "_view_count": null,
            "_view_module": "@jupyter-widgets/base",
            "_view_module_version": "1.2.0",
            "_view_name": "LayoutView",
            "align_content": null,
            "align_items": null,
            "align_self": null,
            "border": null,
            "bottom": null,
            "display": null,
            "flex": null,
            "flex_flow": null,
            "grid_area": null,
            "grid_auto_columns": null,
            "grid_auto_flow": null,
            "grid_auto_rows": null,
            "grid_column": null,
            "grid_gap": null,
            "grid_row": null,
            "grid_template_areas": null,
            "grid_template_columns": null,
            "grid_template_rows": null,
            "height": null,
            "justify_content": null,
            "justify_items": null,
            "left": null,
            "margin": null,
            "max_height": null,
            "max_width": null,
            "min_height": null,
            "min_width": null,
            "object_fit": null,
            "object_position": null,
            "order": null,
            "overflow": null,
            "overflow_x": null,
            "overflow_y": null,
            "padding": null,
            "right": null,
            "top": null,
            "visibility": null,
            "width": null
          }
        },
        "07c2d3a0ce56420681df10b50790c594": {
          "model_module": "@jupyter-widgets/base",
          "model_module_version": "1.2.0",
          "model_name": "LayoutModel",
          "state": {
            "_model_module": "@jupyter-widgets/base",
            "_model_module_version": "1.2.0",
            "_model_name": "LayoutModel",
            "_view_count": null,
            "_view_module": "@jupyter-widgets/base",
            "_view_module_version": "1.2.0",
            "_view_name": "LayoutView",
            "align_content": null,
            "align_items": null,
            "align_self": null,
            "border": null,
            "bottom": null,
            "display": null,
            "flex": null,
            "flex_flow": null,
            "grid_area": null,
            "grid_auto_columns": null,
            "grid_auto_flow": null,
            "grid_auto_rows": null,
            "grid_column": null,
            "grid_gap": null,
            "grid_row": null,
            "grid_template_areas": null,
            "grid_template_columns": null,
            "grid_template_rows": null,
            "height": null,
            "justify_content": null,
            "justify_items": null,
            "left": null,
            "margin": null,
            "max_height": null,
            "max_width": null,
            "min_height": null,
            "min_width": null,
            "object_fit": null,
            "object_position": null,
            "order": null,
            "overflow": null,
            "overflow_x": null,
            "overflow_y": null,
            "padding": null,
            "right": null,
            "top": null,
            "visibility": null,
            "width": null
          }
        },
        "08a15a823cc24e40be38f529da194939": {
          "model_module": "@jupyter-widgets/base",
          "model_module_version": "1.2.0",
          "model_name": "LayoutModel",
          "state": {
            "_model_module": "@jupyter-widgets/base",
            "_model_module_version": "1.2.0",
            "_model_name": "LayoutModel",
            "_view_count": null,
            "_view_module": "@jupyter-widgets/base",
            "_view_module_version": "1.2.0",
            "_view_name": "LayoutView",
            "align_content": null,
            "align_items": null,
            "align_self": null,
            "border": null,
            "bottom": null,
            "display": null,
            "flex": null,
            "flex_flow": null,
            "grid_area": null,
            "grid_auto_columns": null,
            "grid_auto_flow": null,
            "grid_auto_rows": null,
            "grid_column": null,
            "grid_gap": null,
            "grid_row": null,
            "grid_template_areas": null,
            "grid_template_columns": null,
            "grid_template_rows": null,
            "height": null,
            "justify_content": null,
            "justify_items": null,
            "left": null,
            "margin": null,
            "max_height": null,
            "max_width": null,
            "min_height": null,
            "min_width": null,
            "object_fit": null,
            "object_position": null,
            "order": null,
            "overflow": null,
            "overflow_x": null,
            "overflow_y": null,
            "padding": null,
            "right": null,
            "top": null,
            "visibility": null,
            "width": null
          }
        },
        "08bebbd4592a4118bc1e76b45da67cd2": {
          "model_module": "@jupyter-widgets/controls",
          "model_module_version": "1.5.0",
          "model_name": "HTMLModel",
          "state": {
            "_dom_classes": [],
            "_model_module": "@jupyter-widgets/controls",
            "_model_module_version": "1.5.0",
            "_model_name": "HTMLModel",
            "_view_count": null,
            "_view_module": "@jupyter-widgets/controls",
            "_view_module_version": "1.5.0",
            "_view_name": "HTMLView",
            "description": "",
            "description_tooltip": null,
            "layout": "IPY_MODEL_1f7331b6a1274cdd867d1591da53ec8b",
            "placeholder": "​",
            "style": "IPY_MODEL_3ab9d23e7d9146d48019694808a833f1",
            "value": "Downloading: "
          }
        },
        "08faa4385e374b0a84dd80710d56f3cb": {
          "model_module": "@jupyter-widgets/controls",
          "model_module_version": "1.5.0",
          "model_name": "FloatProgressModel",
          "state": {
            "_dom_classes": [],
            "_model_module": "@jupyter-widgets/controls",
            "_model_module_version": "1.5.0",
            "_model_name": "FloatProgressModel",
            "_view_count": null,
            "_view_module": "@jupyter-widgets/controls",
            "_view_module_version": "1.5.0",
            "_view_name": "ProgressView",
            "bar_style": "success",
            "description": "",
            "description_tooltip": null,
            "layout": "IPY_MODEL_a7121ce40bb140c1b58cf48eb2d2a5fb",
            "max": 440473133,
            "min": 0,
            "orientation": "horizontal",
            "style": "IPY_MODEL_6e2b4d03577c4b73805b01c2bf6e7822",
            "value": 440473133
          }
        },
        "0a31b76918f24adb85b1f1f2b1ce50bf": {
          "model_module": "@jupyter-widgets/controls",
          "model_module_version": "1.5.0",
          "model_name": "DescriptionStyleModel",
          "state": {
            "_model_module": "@jupyter-widgets/controls",
            "_model_module_version": "1.5.0",
            "_model_name": "DescriptionStyleModel",
            "_view_count": null,
            "_view_module": "@jupyter-widgets/base",
            "_view_module_version": "1.2.0",
            "_view_name": "StyleView",
            "description_width": ""
          }
        },
        "0a7f19be45694ca2bc66183dd4ad753a": {
          "model_module": "@jupyter-widgets/controls",
          "model_module_version": "1.5.0",
          "model_name": "HTMLModel",
          "state": {
            "_dom_classes": [],
            "_model_module": "@jupyter-widgets/controls",
            "_model_module_version": "1.5.0",
            "_model_name": "HTMLModel",
            "_view_count": null,
            "_view_module": "@jupyter-widgets/controls",
            "_view_module_version": "1.5.0",
            "_view_name": "HTMLView",
            "description": "",
            "description_tooltip": null,
            "layout": "IPY_MODEL_03c8ff83e74449629600f961d13b9570",
            "placeholder": "​",
            "style": "IPY_MODEL_ef7e38a10a53443cba262fa3549fbeda",
            "value": "100%"
          }
        },
        "0b5318bbbc99494f823675e52c5b8374": {
          "model_module": "@jupyter-widgets/controls",
          "model_module_version": "1.5.0",
          "model_name": "HTMLModel",
          "state": {
            "_dom_classes": [],
            "_model_module": "@jupyter-widgets/controls",
            "_model_module_version": "1.5.0",
            "_model_name": "HTMLModel",
            "_view_count": null,
            "_view_module": "@jupyter-widgets/controls",
            "_view_module_version": "1.5.0",
            "_view_name": "HTMLView",
            "description": "",
            "description_tooltip": null,
            "layout": "IPY_MODEL_57f89ba1dae14106aa88beb3b123805b",
            "placeholder": "​",
            "style": "IPY_MODEL_34f6481894dd4892ac6bd7c4da632db9",
            "value": " 34.6k/? [00:00&lt;00:00, 747kB/s]"
          }
        },
        "0b5a265610234381ad352c66f7a0fa83": {
          "model_module": "@jupyter-widgets/base",
          "model_module_version": "1.2.0",
          "model_name": "LayoutModel",
          "state": {
            "_model_module": "@jupyter-widgets/base",
            "_model_module_version": "1.2.0",
            "_model_name": "LayoutModel",
            "_view_count": null,
            "_view_module": "@jupyter-widgets/base",
            "_view_module_version": "1.2.0",
            "_view_name": "LayoutView",
            "align_content": null,
            "align_items": null,
            "align_self": null,
            "border": null,
            "bottom": null,
            "display": null,
            "flex": null,
            "flex_flow": null,
            "grid_area": null,
            "grid_auto_columns": null,
            "grid_auto_flow": null,
            "grid_auto_rows": null,
            "grid_column": null,
            "grid_gap": null,
            "grid_row": null,
            "grid_template_areas": null,
            "grid_template_columns": null,
            "grid_template_rows": null,
            "height": null,
            "justify_content": null,
            "justify_items": null,
            "left": null,
            "margin": null,
            "max_height": null,
            "max_width": null,
            "min_height": null,
            "min_width": null,
            "object_fit": null,
            "object_position": null,
            "order": null,
            "overflow": null,
            "overflow_x": null,
            "overflow_y": null,
            "padding": null,
            "right": null,
            "top": null,
            "visibility": null,
            "width": null
          }
        },
        "0b7e00c438c14941b7974d16701eedc1": {
          "model_module": "@jupyter-widgets/controls",
          "model_module_version": "1.5.0",
          "model_name": "HTMLModel",
          "state": {
            "_dom_classes": [],
            "_model_module": "@jupyter-widgets/controls",
            "_model_module_version": "1.5.0",
            "_model_name": "HTMLModel",
            "_view_count": null,
            "_view_module": "@jupyter-widgets/controls",
            "_view_module_version": "1.5.0",
            "_view_name": "HTMLView",
            "description": "",
            "description_tooltip": null,
            "layout": "IPY_MODEL_5b7b863af4954913aef4627d33b54b31",
            "placeholder": "​",
            "style": "IPY_MODEL_6ff1ccb9362f4efd81e50d5e6e772c48",
            "value": "Downloading: "
          }
        },
        "0db6010e5aec46f885f26d3974e456e8": {
          "model_module": "@jupyter-widgets/controls",
          "model_module_version": "1.5.0",
          "model_name": "DescriptionStyleModel",
          "state": {
            "_model_module": "@jupyter-widgets/controls",
            "_model_module_version": "1.5.0",
            "_model_name": "DescriptionStyleModel",
            "_view_count": null,
            "_view_module": "@jupyter-widgets/base",
            "_view_module_version": "1.2.0",
            "_view_name": "StyleView",
            "description_width": ""
          }
        },
        "0e62a821e4d743eca7fb4091b4742d69": {
          "model_module": "@jupyter-widgets/controls",
          "model_module_version": "1.5.0",
          "model_name": "HBoxModel",
          "state": {
            "_dom_classes": [],
            "_model_module": "@jupyter-widgets/controls",
            "_model_module_version": "1.5.0",
            "_model_name": "HBoxModel",
            "_view_count": null,
            "_view_module": "@jupyter-widgets/controls",
            "_view_module_version": "1.5.0",
            "_view_name": "HBoxView",
            "box_style": "",
            "children": [
              "IPY_MODEL_d48692c23ad34d20893be8efbc14ef21",
              "IPY_MODEL_b1e720e60a5a46438127fd34fae1efe5",
              "IPY_MODEL_1e02b07b2fc849d381a667c9b5c9b8ab"
            ],
            "layout": "IPY_MODEL_7b89b606aefa4602827083aeab90541f"
          }
        },
        "0fe99bbd303541e490815f4187d87b4b": {
          "model_module": "@jupyter-widgets/controls",
          "model_module_version": "1.5.0",
          "model_name": "FloatProgressModel",
          "state": {
            "_dom_classes": [],
            "_model_module": "@jupyter-widgets/controls",
            "_model_module_version": "1.5.0",
            "_model_name": "FloatProgressModel",
            "_view_count": null,
            "_view_module": "@jupyter-widgets/controls",
            "_view_module_version": "1.5.0",
            "_view_name": "ProgressView",
            "bar_style": "success",
            "description": "",
            "description_tooltip": null,
            "layout": "IPY_MODEL_83f7a23b172b46dfa3a9c35799ebc40e",
            "max": 6,
            "min": 0,
            "orientation": "horizontal",
            "style": "IPY_MODEL_86bbf14bb3dd4e858a9c98322c0f0e53",
            "value": 6
          }
        },
        "101d17e2ac6f41518a21435816b04435": {
          "model_module": "@jupyter-widgets/controls",
          "model_module_version": "1.5.0",
          "model_name": "DescriptionStyleModel",
          "state": {
            "_model_module": "@jupyter-widgets/controls",
            "_model_module_version": "1.5.0",
            "_model_name": "DescriptionStyleModel",
            "_view_count": null,
            "_view_module": "@jupyter-widgets/base",
            "_view_module_version": "1.2.0",
            "_view_name": "StyleView",
            "description_width": ""
          }
        },
        "110769b67e37469da6266036e6ecf741": {
          "model_module": "@jupyter-widgets/controls",
          "model_module_version": "1.5.0",
          "model_name": "FloatProgressModel",
          "state": {
            "_dom_classes": [],
            "_model_module": "@jupyter-widgets/controls",
            "_model_module_version": "1.5.0",
            "_model_name": "FloatProgressModel",
            "_view_count": null,
            "_view_module": "@jupyter-widgets/controls",
            "_view_module_version": "1.5.0",
            "_view_name": "ProgressView",
            "bar_style": "success",
            "description": "",
            "description_tooltip": null,
            "layout": "IPY_MODEL_07c2d3a0ce56420681df10b50790c594",
            "max": 134062,
            "min": 0,
            "orientation": "horizontal",
            "style": "IPY_MODEL_577fbb08fd1e40d28c2ad1c511dcab10",
            "value": 134062
          }
        },
        "12ff81c51a5c4f24a43ccd51f7cc7898": {
          "model_module": "@jupyter-widgets/base",
          "model_module_version": "1.2.0",
          "model_name": "LayoutModel",
          "state": {
            "_model_module": "@jupyter-widgets/base",
            "_model_module_version": "1.2.0",
            "_model_name": "LayoutModel",
            "_view_count": null,
            "_view_module": "@jupyter-widgets/base",
            "_view_module_version": "1.2.0",
            "_view_name": "LayoutView",
            "align_content": null,
            "align_items": null,
            "align_self": null,
            "border": null,
            "bottom": null,
            "display": null,
            "flex": null,
            "flex_flow": null,
            "grid_area": null,
            "grid_auto_columns": null,
            "grid_auto_flow": null,
            "grid_auto_rows": null,
            "grid_column": null,
            "grid_gap": null,
            "grid_row": null,
            "grid_template_areas": null,
            "grid_template_columns": null,
            "grid_template_rows": null,
            "height": null,
            "justify_content": null,
            "justify_items": null,
            "left": null,
            "margin": null,
            "max_height": null,
            "max_width": null,
            "min_height": null,
            "min_width": null,
            "object_fit": null,
            "object_position": null,
            "order": null,
            "overflow": null,
            "overflow_x": null,
            "overflow_y": null,
            "padding": null,
            "right": null,
            "top": null,
            "visibility": null,
            "width": null
          }
        },
        "136d3d1ac4194f998577faeef9bc5443": {
          "model_module": "@jupyter-widgets/base",
          "model_module_version": "1.2.0",
          "model_name": "LayoutModel",
          "state": {
            "_model_module": "@jupyter-widgets/base",
            "_model_module_version": "1.2.0",
            "_model_name": "LayoutModel",
            "_view_count": null,
            "_view_module": "@jupyter-widgets/base",
            "_view_module_version": "1.2.0",
            "_view_name": "LayoutView",
            "align_content": null,
            "align_items": null,
            "align_self": null,
            "border": null,
            "bottom": null,
            "display": null,
            "flex": null,
            "flex_flow": null,
            "grid_area": null,
            "grid_auto_columns": null,
            "grid_auto_flow": null,
            "grid_auto_rows": null,
            "grid_column": null,
            "grid_gap": null,
            "grid_row": null,
            "grid_template_areas": null,
            "grid_template_columns": null,
            "grid_template_rows": null,
            "height": null,
            "justify_content": null,
            "justify_items": null,
            "left": null,
            "margin": null,
            "max_height": null,
            "max_width": null,
            "min_height": null,
            "min_width": null,
            "object_fit": null,
            "object_position": null,
            "order": null,
            "overflow": null,
            "overflow_x": null,
            "overflow_y": null,
            "padding": null,
            "right": null,
            "top": null,
            "visibility": null,
            "width": null
          }
        },
        "15e7c5a7def44311bda543900a2d81fb": {
          "model_module": "@jupyter-widgets/base",
          "model_module_version": "1.2.0",
          "model_name": "LayoutModel",
          "state": {
            "_model_module": "@jupyter-widgets/base",
            "_model_module_version": "1.2.0",
            "_model_name": "LayoutModel",
            "_view_count": null,
            "_view_module": "@jupyter-widgets/base",
            "_view_module_version": "1.2.0",
            "_view_name": "LayoutView",
            "align_content": null,
            "align_items": null,
            "align_self": null,
            "border": null,
            "bottom": null,
            "display": null,
            "flex": null,
            "flex_flow": null,
            "grid_area": null,
            "grid_auto_columns": null,
            "grid_auto_flow": null,
            "grid_auto_rows": null,
            "grid_column": null,
            "grid_gap": null,
            "grid_row": null,
            "grid_template_areas": null,
            "grid_template_columns": null,
            "grid_template_rows": null,
            "height": null,
            "justify_content": null,
            "justify_items": null,
            "left": null,
            "margin": null,
            "max_height": null,
            "max_width": null,
            "min_height": null,
            "min_width": null,
            "object_fit": null,
            "object_position": null,
            "order": null,
            "overflow": null,
            "overflow_x": null,
            "overflow_y": null,
            "padding": null,
            "right": null,
            "top": null,
            "visibility": null,
            "width": null
          }
        },
        "15f7a1ab5d224c8396f3d8898101386f": {
          "model_module": "@jupyter-widgets/controls",
          "model_module_version": "1.5.0",
          "model_name": "HBoxModel",
          "state": {
            "_dom_classes": [],
            "_model_module": "@jupyter-widgets/controls",
            "_model_module_version": "1.5.0",
            "_model_name": "HBoxModel",
            "_view_count": null,
            "_view_module": "@jupyter-widgets/controls",
            "_view_module_version": "1.5.0",
            "_view_name": "HBoxView",
            "box_style": "",
            "children": [
              "IPY_MODEL_2ee037aa7e15454ba791ea4e1dd5f6fb",
              "IPY_MODEL_3e7302ba66d3498da1b28b309d60400b",
              "IPY_MODEL_a4b5c9c779f041a0b2fd1b56537883e1"
            ],
            "layout": "IPY_MODEL_f6327e4059c14d92871a27ca2e31586e"
          }
        },
        "1797c144e0194dba8b8aaaf1d7d537d7": {
          "model_module": "@jupyter-widgets/controls",
          "model_module_version": "1.5.0",
          "model_name": "HTMLModel",
          "state": {
            "_dom_classes": [],
            "_model_module": "@jupyter-widgets/controls",
            "_model_module_version": "1.5.0",
            "_model_name": "HTMLModel",
            "_view_count": null,
            "_view_module": "@jupyter-widgets/controls",
            "_view_module_version": "1.5.0",
            "_view_name": "HTMLView",
            "description": "",
            "description_tooltip": null,
            "layout": "IPY_MODEL_4ab2ab2dfbcd4812b5832b760fa9ebdf",
            "placeholder": "​",
            "style": "IPY_MODEL_0db6010e5aec46f885f26d3974e456e8",
            "value": "Downloading: 100%"
          }
        },
        "17b6c85f872c4ddda32e1dffa229ffa0": {
          "model_module": "@jupyter-widgets/base",
          "model_module_version": "1.2.0",
          "model_name": "LayoutModel",
          "state": {
            "_model_module": "@jupyter-widgets/base",
            "_model_module_version": "1.2.0",
            "_model_name": "LayoutModel",
            "_view_count": null,
            "_view_module": "@jupyter-widgets/base",
            "_view_module_version": "1.2.0",
            "_view_name": "LayoutView",
            "align_content": null,
            "align_items": null,
            "align_self": null,
            "border": null,
            "bottom": null,
            "display": null,
            "flex": null,
            "flex_flow": null,
            "grid_area": null,
            "grid_auto_columns": null,
            "grid_auto_flow": null,
            "grid_auto_rows": null,
            "grid_column": null,
            "grid_gap": null,
            "grid_row": null,
            "grid_template_areas": null,
            "grid_template_columns": null,
            "grid_template_rows": null,
            "height": null,
            "justify_content": null,
            "justify_items": null,
            "left": null,
            "margin": null,
            "max_height": null,
            "max_width": null,
            "min_height": null,
            "min_width": null,
            "object_fit": null,
            "object_position": null,
            "order": null,
            "overflow": null,
            "overflow_x": null,
            "overflow_y": null,
            "padding": null,
            "right": null,
            "top": null,
            "visibility": null,
            "width": null
          }
        },
        "17df740891ec42c2be57183c4105f353": {
          "model_module": "@jupyter-widgets/base",
          "model_module_version": "1.2.0",
          "model_name": "LayoutModel",
          "state": {
            "_model_module": "@jupyter-widgets/base",
            "_model_module_version": "1.2.0",
            "_model_name": "LayoutModel",
            "_view_count": null,
            "_view_module": "@jupyter-widgets/base",
            "_view_module_version": "1.2.0",
            "_view_name": "LayoutView",
            "align_content": null,
            "align_items": null,
            "align_self": null,
            "border": null,
            "bottom": null,
            "display": null,
            "flex": null,
            "flex_flow": null,
            "grid_area": null,
            "grid_auto_columns": null,
            "grid_auto_flow": null,
            "grid_auto_rows": null,
            "grid_column": null,
            "grid_gap": null,
            "grid_row": null,
            "grid_template_areas": null,
            "grid_template_columns": null,
            "grid_template_rows": null,
            "height": null,
            "justify_content": null,
            "justify_items": null,
            "left": null,
            "margin": null,
            "max_height": null,
            "max_width": null,
            "min_height": null,
            "min_width": null,
            "object_fit": null,
            "object_position": null,
            "order": null,
            "overflow": null,
            "overflow_x": null,
            "overflow_y": null,
            "padding": null,
            "right": null,
            "top": null,
            "visibility": null,
            "width": null
          }
        },
        "1803cfb4ae0546c9b9bd7df506ca33cc": {
          "model_module": "@jupyter-widgets/controls",
          "model_module_version": "1.5.0",
          "model_name": "ProgressStyleModel",
          "state": {
            "_model_module": "@jupyter-widgets/controls",
            "_model_module_version": "1.5.0",
            "_model_name": "ProgressStyleModel",
            "_view_count": null,
            "_view_module": "@jupyter-widgets/base",
            "_view_module_version": "1.2.0",
            "_view_name": "StyleView",
            "bar_color": null,
            "description_width": ""
          }
        },
        "19ad9fbebb6a4de98fda1dc65e995e20": {
          "model_module": "@jupyter-widgets/controls",
          "model_module_version": "1.5.0",
          "model_name": "ProgressStyleModel",
          "state": {
            "_model_module": "@jupyter-widgets/controls",
            "_model_module_version": "1.5.0",
            "_model_name": "ProgressStyleModel",
            "_view_count": null,
            "_view_module": "@jupyter-widgets/base",
            "_view_module_version": "1.2.0",
            "_view_name": "StyleView",
            "bar_color": null,
            "description_width": ""
          }
        },
        "19cb0ebb84e34f1aa269e064bbb07c96": {
          "model_module": "@jupyter-widgets/controls",
          "model_module_version": "1.5.0",
          "model_name": "DescriptionStyleModel",
          "state": {
            "_model_module": "@jupyter-widgets/controls",
            "_model_module_version": "1.5.0",
            "_model_name": "DescriptionStyleModel",
            "_view_count": null,
            "_view_module": "@jupyter-widgets/base",
            "_view_module_version": "1.2.0",
            "_view_name": "StyleView",
            "description_width": ""
          }
        },
        "1abd5078651947758d5e2e0365c30794": {
          "model_module": "@jupyter-widgets/controls",
          "model_module_version": "1.5.0",
          "model_name": "FloatProgressModel",
          "state": {
            "_dom_classes": [],
            "_model_module": "@jupyter-widgets/controls",
            "_model_module_version": "1.5.0",
            "_model_name": "FloatProgressModel",
            "_view_count": null,
            "_view_module": "@jupyter-widgets/controls",
            "_view_module_version": "1.5.0",
            "_view_name": "ProgressView",
            "bar_style": "success",
            "description": "",
            "description_tooltip": null,
            "layout": "IPY_MODEL_9d7e59330b3a498c8e915080510797fd",
            "max": 569,
            "min": 0,
            "orientation": "horizontal",
            "style": "IPY_MODEL_2c9a1888c96b4eed82d5933561fbd0f7",
            "value": 569
          }
        },
        "1abe5dfd5b194bbca7ee67ca7a2da6d5": {
          "model_module": "@jupyter-widgets/controls",
          "model_module_version": "1.5.0",
          "model_name": "ProgressStyleModel",
          "state": {
            "_model_module": "@jupyter-widgets/controls",
            "_model_module_version": "1.5.0",
            "_model_name": "ProgressStyleModel",
            "_view_count": null,
            "_view_module": "@jupyter-widgets/base",
            "_view_module_version": "1.2.0",
            "_view_name": "StyleView",
            "bar_color": null,
            "description_width": ""
          }
        },
        "1af1eb119a3743238830d2483dc5d284": {
          "model_module": "@jupyter-widgets/base",
          "model_module_version": "1.2.0",
          "model_name": "LayoutModel",
          "state": {
            "_model_module": "@jupyter-widgets/base",
            "_model_module_version": "1.2.0",
            "_model_name": "LayoutModel",
            "_view_count": null,
            "_view_module": "@jupyter-widgets/base",
            "_view_module_version": "1.2.0",
            "_view_name": "LayoutView",
            "align_content": null,
            "align_items": null,
            "align_self": null,
            "border": null,
            "bottom": null,
            "display": null,
            "flex": null,
            "flex_flow": null,
            "grid_area": null,
            "grid_auto_columns": null,
            "grid_auto_flow": null,
            "grid_auto_rows": null,
            "grid_column": null,
            "grid_gap": null,
            "grid_row": null,
            "grid_template_areas": null,
            "grid_template_columns": null,
            "grid_template_rows": null,
            "height": null,
            "justify_content": null,
            "justify_items": null,
            "left": null,
            "margin": null,
            "max_height": null,
            "max_width": null,
            "min_height": null,
            "min_width": null,
            "object_fit": null,
            "object_position": null,
            "order": null,
            "overflow": null,
            "overflow_x": null,
            "overflow_y": null,
            "padding": null,
            "right": null,
            "top": null,
            "visibility": null,
            "width": null
          }
        },
        "1b368f6f583649fe9ff8b4a47556510c": {
          "model_module": "@jupyter-widgets/controls",
          "model_module_version": "1.5.0",
          "model_name": "ProgressStyleModel",
          "state": {
            "_model_module": "@jupyter-widgets/controls",
            "_model_module_version": "1.5.0",
            "_model_name": "ProgressStyleModel",
            "_view_count": null,
            "_view_module": "@jupyter-widgets/base",
            "_view_module_version": "1.2.0",
            "_view_name": "StyleView",
            "bar_color": null,
            "description_width": ""
          }
        },
        "1be4e4a40005427492ae9326229ed5d0": {
          "model_module": "@jupyter-widgets/controls",
          "model_module_version": "1.5.0",
          "model_name": "DescriptionStyleModel",
          "state": {
            "_model_module": "@jupyter-widgets/controls",
            "_model_module_version": "1.5.0",
            "_model_name": "DescriptionStyleModel",
            "_view_count": null,
            "_view_module": "@jupyter-widgets/base",
            "_view_module_version": "1.2.0",
            "_view_name": "StyleView",
            "description_width": ""
          }
        },
        "1cbb98d02304431293231eb28d1eaa47": {
          "model_module": "@jupyter-widgets/base",
          "model_module_version": "1.2.0",
          "model_name": "LayoutModel",
          "state": {
            "_model_module": "@jupyter-widgets/base",
            "_model_module_version": "1.2.0",
            "_model_name": "LayoutModel",
            "_view_count": null,
            "_view_module": "@jupyter-widgets/base",
            "_view_module_version": "1.2.0",
            "_view_name": "LayoutView",
            "align_content": null,
            "align_items": null,
            "align_self": null,
            "border": null,
            "bottom": null,
            "display": null,
            "flex": null,
            "flex_flow": null,
            "grid_area": null,
            "grid_auto_columns": null,
            "grid_auto_flow": null,
            "grid_auto_rows": null,
            "grid_column": null,
            "grid_gap": null,
            "grid_row": null,
            "grid_template_areas": null,
            "grid_template_columns": null,
            "grid_template_rows": null,
            "height": null,
            "justify_content": null,
            "justify_items": null,
            "left": null,
            "margin": null,
            "max_height": null,
            "max_width": null,
            "min_height": null,
            "min_width": null,
            "object_fit": null,
            "object_position": null,
            "order": null,
            "overflow": null,
            "overflow_x": null,
            "overflow_y": null,
            "padding": null,
            "right": null,
            "top": null,
            "visibility": null,
            "width": null
          }
        },
        "1cbbc9ef4eab4657882651086fd44a0f": {
          "model_module": "@jupyter-widgets/controls",
          "model_module_version": "1.5.0",
          "model_name": "DescriptionStyleModel",
          "state": {
            "_model_module": "@jupyter-widgets/controls",
            "_model_module_version": "1.5.0",
            "_model_name": "DescriptionStyleModel",
            "_view_count": null,
            "_view_module": "@jupyter-widgets/base",
            "_view_module_version": "1.2.0",
            "_view_name": "StyleView",
            "description_width": ""
          }
        },
        "1cf3cac6f8084c29bbcd4e9ee6895d19": {
          "model_module": "@jupyter-widgets/controls",
          "model_module_version": "1.5.0",
          "model_name": "HTMLModel",
          "state": {
            "_dom_classes": [],
            "_model_module": "@jupyter-widgets/controls",
            "_model_module_version": "1.5.0",
            "_model_name": "HTMLModel",
            "_view_count": null,
            "_view_module": "@jupyter-widgets/controls",
            "_view_module_version": "1.5.0",
            "_view_name": "HTMLView",
            "description": "",
            "description_tooltip": null,
            "layout": "IPY_MODEL_60f813c44b9348bbb4258e3ad2fcb36b",
            "placeholder": "​",
            "style": "IPY_MODEL_b67bd5a904ba4002b26eec59709b6ac2",
            "value": ""
          }
        },
        "1d1fbc56bb634575aa3986c11171b254": {
          "model_module": "@jupyter-widgets/base",
          "model_module_version": "1.2.0",
          "model_name": "LayoutModel",
          "state": {
            "_model_module": "@jupyter-widgets/base",
            "_model_module_version": "1.2.0",
            "_model_name": "LayoutModel",
            "_view_count": null,
            "_view_module": "@jupyter-widgets/base",
            "_view_module_version": "1.2.0",
            "_view_name": "LayoutView",
            "align_content": null,
            "align_items": null,
            "align_self": null,
            "border": null,
            "bottom": null,
            "display": null,
            "flex": null,
            "flex_flow": null,
            "grid_area": null,
            "grid_auto_columns": null,
            "grid_auto_flow": null,
            "grid_auto_rows": null,
            "grid_column": null,
            "grid_gap": null,
            "grid_row": null,
            "grid_template_areas": null,
            "grid_template_columns": null,
            "grid_template_rows": null,
            "height": null,
            "justify_content": null,
            "justify_items": null,
            "left": null,
            "margin": null,
            "max_height": null,
            "max_width": null,
            "min_height": null,
            "min_width": null,
            "object_fit": null,
            "object_position": null,
            "order": null,
            "overflow": null,
            "overflow_x": null,
            "overflow_y": null,
            "padding": null,
            "right": null,
            "top": null,
            "visibility": null,
            "width": null
          }
        },
        "1dc9fe86276f4762835bb85f6b0762ac": {
          "model_module": "@jupyter-widgets/controls",
          "model_module_version": "1.5.0",
          "model_name": "ProgressStyleModel",
          "state": {
            "_model_module": "@jupyter-widgets/controls",
            "_model_module_version": "1.5.0",
            "_model_name": "ProgressStyleModel",
            "_view_count": null,
            "_view_module": "@jupyter-widgets/base",
            "_view_module_version": "1.2.0",
            "_view_name": "StyleView",
            "bar_color": null,
            "description_width": ""
          }
        },
        "1e02b07b2fc849d381a667c9b5c9b8ab": {
          "model_module": "@jupyter-widgets/controls",
          "model_module_version": "1.5.0",
          "model_name": "HTMLModel",
          "state": {
            "_dom_classes": [],
            "_model_module": "@jupyter-widgets/controls",
            "_model_module_version": "1.5.0",
            "_model_name": "HTMLModel",
            "_view_count": null,
            "_view_module": "@jupyter-widgets/controls",
            "_view_module_version": "1.5.0",
            "_view_name": "HTMLView",
            "description": "",
            "description_tooltip": null,
            "layout": "IPY_MODEL_ad0bf24eca7149c79ed10ccaf68b4707",
            "placeholder": "​",
            "style": "IPY_MODEL_41b640476cc34c52a7af1dcab4fc6a7f",
            "value": " 24.6k/? [00:00&lt;00:00, 452kB/s]"
          }
        },
        "1f7331b6a1274cdd867d1591da53ec8b": {
          "model_module": "@jupyter-widgets/base",
          "model_module_version": "1.2.0",
          "model_name": "LayoutModel",
          "state": {
            "_model_module": "@jupyter-widgets/base",
            "_model_module_version": "1.2.0",
            "_model_name": "LayoutModel",
            "_view_count": null,
            "_view_module": "@jupyter-widgets/base",
            "_view_module_version": "1.2.0",
            "_view_name": "LayoutView",
            "align_content": null,
            "align_items": null,
            "align_self": null,
            "border": null,
            "bottom": null,
            "display": null,
            "flex": null,
            "flex_flow": null,
            "grid_area": null,
            "grid_auto_columns": null,
            "grid_auto_flow": null,
            "grid_auto_rows": null,
            "grid_column": null,
            "grid_gap": null,
            "grid_row": null,
            "grid_template_areas": null,
            "grid_template_columns": null,
            "grid_template_rows": null,
            "height": null,
            "justify_content": null,
            "justify_items": null,
            "left": null,
            "margin": null,
            "max_height": null,
            "max_width": null,
            "min_height": null,
            "min_width": null,
            "object_fit": null,
            "object_position": null,
            "order": null,
            "overflow": null,
            "overflow_x": null,
            "overflow_y": null,
            "padding": null,
            "right": null,
            "top": null,
            "visibility": null,
            "width": null
          }
        },
        "200696e80fd6408eae315afd168bd897": {
          "model_module": "@jupyter-widgets/controls",
          "model_module_version": "1.5.0",
          "model_name": "DescriptionStyleModel",
          "state": {
            "_model_module": "@jupyter-widgets/controls",
            "_model_module_version": "1.5.0",
            "_model_name": "DescriptionStyleModel",
            "_view_count": null,
            "_view_module": "@jupyter-widgets/base",
            "_view_module_version": "1.2.0",
            "_view_name": "StyleView",
            "description_width": ""
          }
        },
        "206b53df7e64419c93dcd74e4028fda0": {
          "model_module": "@jupyter-widgets/controls",
          "model_module_version": "1.5.0",
          "model_name": "HTMLModel",
          "state": {
            "_dom_classes": [],
            "_model_module": "@jupyter-widgets/controls",
            "_model_module_version": "1.5.0",
            "_model_name": "HTMLModel",
            "_view_count": null,
            "_view_module": "@jupyter-widgets/controls",
            "_view_module_version": "1.5.0",
            "_view_name": "HTMLView",
            "description": "",
            "description_tooltip": null,
            "layout": "IPY_MODEL_447cd1b3643040518d5a9fd0402abb3c",
            "placeholder": "​",
            "style": "IPY_MODEL_dc86ba59988245c19f08304e64bee55d",
            "value": " 6/6 [00:01&lt;00:00,  3.54it/s]"
          }
        },
        "20b3327b049343cf8d4fc9f1a21848de": {
          "model_module": "@jupyter-widgets/controls",
          "model_module_version": "1.5.0",
          "model_name": "DescriptionStyleModel",
          "state": {
            "_model_module": "@jupyter-widgets/controls",
            "_model_module_version": "1.5.0",
            "_model_name": "DescriptionStyleModel",
            "_view_count": null,
            "_view_module": "@jupyter-widgets/base",
            "_view_module_version": "1.2.0",
            "_view_name": "StyleView",
            "description_width": ""
          }
        },
        "20d854683e804214bbde01f08eb02361": {
          "model_module": "@jupyter-widgets/controls",
          "model_module_version": "1.5.0",
          "model_name": "ProgressStyleModel",
          "state": {
            "_model_module": "@jupyter-widgets/controls",
            "_model_module_version": "1.5.0",
            "_model_name": "ProgressStyleModel",
            "_view_count": null,
            "_view_module": "@jupyter-widgets/base",
            "_view_module_version": "1.2.0",
            "_view_name": "StyleView",
            "bar_color": null,
            "description_width": ""
          }
        },
        "21e60156d56b4981877cded602c26030": {
          "model_module": "@jupyter-widgets/base",
          "model_module_version": "1.2.0",
          "model_name": "LayoutModel",
          "state": {
            "_model_module": "@jupyter-widgets/base",
            "_model_module_version": "1.2.0",
            "_model_name": "LayoutModel",
            "_view_count": null,
            "_view_module": "@jupyter-widgets/base",
            "_view_module_version": "1.2.0",
            "_view_name": "LayoutView",
            "align_content": null,
            "align_items": null,
            "align_self": null,
            "border": null,
            "bottom": null,
            "display": null,
            "flex": null,
            "flex_flow": null,
            "grid_area": null,
            "grid_auto_columns": null,
            "grid_auto_flow": null,
            "grid_auto_rows": null,
            "grid_column": null,
            "grid_gap": null,
            "grid_row": null,
            "grid_template_areas": null,
            "grid_template_columns": null,
            "grid_template_rows": null,
            "height": null,
            "justify_content": null,
            "justify_items": null,
            "left": null,
            "margin": null,
            "max_height": null,
            "max_width": null,
            "min_height": null,
            "min_width": null,
            "object_fit": null,
            "object_position": null,
            "order": null,
            "overflow": null,
            "overflow_x": null,
            "overflow_y": null,
            "padding": null,
            "right": null,
            "top": null,
            "visibility": null,
            "width": null
          }
        },
        "224d871cc3594b22bd608329bd054bff": {
          "model_module": "@jupyter-widgets/controls",
          "model_module_version": "1.5.0",
          "model_name": "HTMLModel",
          "state": {
            "_dom_classes": [],
            "_model_module": "@jupyter-widgets/controls",
            "_model_module_version": "1.5.0",
            "_model_name": "HTMLModel",
            "_view_count": null,
            "_view_module": "@jupyter-widgets/controls",
            "_view_module_version": "1.5.0",
            "_view_name": "HTMLView",
            "description": "",
            "description_tooltip": null,
            "layout": "IPY_MODEL_21e60156d56b4981877cded602c26030",
            "placeholder": "​",
            "style": "IPY_MODEL_d1ce320a39d54ea7aafe490e17dd864e",
            "value": ""
          }
        },
        "22a57a5502d441899e9f9f74c6346399": {
          "model_module": "@jupyter-widgets/base",
          "model_module_version": "1.2.0",
          "model_name": "LayoutModel",
          "state": {
            "_model_module": "@jupyter-widgets/base",
            "_model_module_version": "1.2.0",
            "_model_name": "LayoutModel",
            "_view_count": null,
            "_view_module": "@jupyter-widgets/base",
            "_view_module_version": "1.2.0",
            "_view_name": "LayoutView",
            "align_content": null,
            "align_items": null,
            "align_self": null,
            "border": null,
            "bottom": null,
            "display": null,
            "flex": null,
            "flex_flow": null,
            "grid_area": null,
            "grid_auto_columns": null,
            "grid_auto_flow": null,
            "grid_auto_rows": null,
            "grid_column": null,
            "grid_gap": null,
            "grid_row": null,
            "grid_template_areas": null,
            "grid_template_columns": null,
            "grid_template_rows": null,
            "height": null,
            "justify_content": null,
            "justify_items": null,
            "left": null,
            "margin": null,
            "max_height": null,
            "max_width": null,
            "min_height": null,
            "min_width": null,
            "object_fit": null,
            "object_position": null,
            "order": null,
            "overflow": null,
            "overflow_x": null,
            "overflow_y": null,
            "padding": null,
            "right": null,
            "top": null,
            "visibility": null,
            "width": null
          }
        },
        "2388b5811c134e5dbe8e17fd4ab0c5d2": {
          "model_module": "@jupyter-widgets/controls",
          "model_module_version": "1.5.0",
          "model_name": "DescriptionStyleModel",
          "state": {
            "_model_module": "@jupyter-widgets/controls",
            "_model_module_version": "1.5.0",
            "_model_name": "DescriptionStyleModel",
            "_view_count": null,
            "_view_module": "@jupyter-widgets/base",
            "_view_module_version": "1.2.0",
            "_view_name": "StyleView",
            "description_width": ""
          }
        },
        "2409987a2c7f40718038909032276137": {
          "model_module": "@jupyter-widgets/base",
          "model_module_version": "1.2.0",
          "model_name": "LayoutModel",
          "state": {
            "_model_module": "@jupyter-widgets/base",
            "_model_module_version": "1.2.0",
            "_model_name": "LayoutModel",
            "_view_count": null,
            "_view_module": "@jupyter-widgets/base",
            "_view_module_version": "1.2.0",
            "_view_name": "LayoutView",
            "align_content": null,
            "align_items": null,
            "align_self": null,
            "border": null,
            "bottom": null,
            "display": null,
            "flex": null,
            "flex_flow": null,
            "grid_area": null,
            "grid_auto_columns": null,
            "grid_auto_flow": null,
            "grid_auto_rows": null,
            "grid_column": null,
            "grid_gap": null,
            "grid_row": null,
            "grid_template_areas": null,
            "grid_template_columns": null,
            "grid_template_rows": null,
            "height": null,
            "justify_content": null,
            "justify_items": null,
            "left": null,
            "margin": null,
            "max_height": null,
            "max_width": null,
            "min_height": null,
            "min_width": null,
            "object_fit": null,
            "object_position": null,
            "order": null,
            "overflow": null,
            "overflow_x": null,
            "overflow_y": null,
            "padding": null,
            "right": null,
            "top": null,
            "visibility": null,
            "width": null
          }
        },
        "244bd8ab1ad9422b9afe2b4e8dc65db6": {
          "model_module": "@jupyter-widgets/controls",
          "model_module_version": "1.5.0",
          "model_name": "DescriptionStyleModel",
          "state": {
            "_model_module": "@jupyter-widgets/controls",
            "_model_module_version": "1.5.0",
            "_model_name": "DescriptionStyleModel",
            "_view_count": null,
            "_view_module": "@jupyter-widgets/base",
            "_view_module_version": "1.2.0",
            "_view_name": "StyleView",
            "description_width": ""
          }
        },
        "24f3f7cbb1b9497a8c35b01d5c9d4d73": {
          "model_module": "@jupyter-widgets/base",
          "model_module_version": "1.2.0",
          "model_name": "LayoutModel",
          "state": {
            "_model_module": "@jupyter-widgets/base",
            "_model_module_version": "1.2.0",
            "_model_name": "LayoutModel",
            "_view_count": null,
            "_view_module": "@jupyter-widgets/base",
            "_view_module_version": "1.2.0",
            "_view_name": "LayoutView",
            "align_content": null,
            "align_items": null,
            "align_self": null,
            "border": null,
            "bottom": null,
            "display": null,
            "flex": null,
            "flex_flow": null,
            "grid_area": null,
            "grid_auto_columns": null,
            "grid_auto_flow": null,
            "grid_auto_rows": null,
            "grid_column": null,
            "grid_gap": null,
            "grid_row": null,
            "grid_template_areas": null,
            "grid_template_columns": null,
            "grid_template_rows": null,
            "height": null,
            "justify_content": null,
            "justify_items": null,
            "left": null,
            "margin": null,
            "max_height": null,
            "max_width": null,
            "min_height": null,
            "min_width": null,
            "object_fit": null,
            "object_position": null,
            "order": null,
            "overflow": null,
            "overflow_x": null,
            "overflow_y": null,
            "padding": null,
            "right": null,
            "top": null,
            "visibility": null,
            "width": null
          }
        },
        "25c2fc62cbc24f4a9cc10687ee03a3f0": {
          "model_module": "@jupyter-widgets/controls",
          "model_module_version": "1.5.0",
          "model_name": "ProgressStyleModel",
          "state": {
            "_model_module": "@jupyter-widgets/controls",
            "_model_module_version": "1.5.0",
            "_model_name": "ProgressStyleModel",
            "_view_count": null,
            "_view_module": "@jupyter-widgets/base",
            "_view_module_version": "1.2.0",
            "_view_name": "StyleView",
            "bar_color": null,
            "description_width": ""
          }
        },
        "2617e939f925487aa8402b793e2a9ecd": {
          "model_module": "@jupyter-widgets/base",
          "model_module_version": "1.2.0",
          "model_name": "LayoutModel",
          "state": {
            "_model_module": "@jupyter-widgets/base",
            "_model_module_version": "1.2.0",
            "_model_name": "LayoutModel",
            "_view_count": null,
            "_view_module": "@jupyter-widgets/base",
            "_view_module_version": "1.2.0",
            "_view_name": "LayoutView",
            "align_content": null,
            "align_items": null,
            "align_self": null,
            "border": null,
            "bottom": null,
            "display": null,
            "flex": null,
            "flex_flow": null,
            "grid_area": null,
            "grid_auto_columns": null,
            "grid_auto_flow": null,
            "grid_auto_rows": null,
            "grid_column": null,
            "grid_gap": null,
            "grid_row": null,
            "grid_template_areas": null,
            "grid_template_columns": null,
            "grid_template_rows": null,
            "height": null,
            "justify_content": null,
            "justify_items": null,
            "left": null,
            "margin": null,
            "max_height": null,
            "max_width": null,
            "min_height": null,
            "min_width": null,
            "object_fit": null,
            "object_position": null,
            "order": null,
            "overflow": null,
            "overflow_x": null,
            "overflow_y": null,
            "padding": null,
            "right": null,
            "top": null,
            "visibility": null,
            "width": null
          }
        },
        "2652b513ea264190a6adf5b527d7b232": {
          "model_module": "@jupyter-widgets/controls",
          "model_module_version": "1.5.0",
          "model_name": "HTMLModel",
          "state": {
            "_dom_classes": [],
            "_model_module": "@jupyter-widgets/controls",
            "_model_module_version": "1.5.0",
            "_model_name": "HTMLModel",
            "_view_count": null,
            "_view_module": "@jupyter-widgets/controls",
            "_view_module_version": "1.5.0",
            "_view_name": "HTMLView",
            "description": "",
            "description_tooltip": null,
            "layout": "IPY_MODEL_7b7951bd67944472a3280f1395bb98e7",
            "placeholder": "​",
            "style": "IPY_MODEL_7888d42179db40fe9fc002cd6f15bb7c",
            "value": "Downloading: 100%"
          }
        },
        "26ed762b18534864b176883203ffbac1": {
          "model_module": "@jupyter-widgets/controls",
          "model_module_version": "1.5.0",
          "model_name": "HBoxModel",
          "state": {
            "_dom_classes": [],
            "_model_module": "@jupyter-widgets/controls",
            "_model_module_version": "1.5.0",
            "_model_name": "HBoxModel",
            "_view_count": null,
            "_view_module": "@jupyter-widgets/controls",
            "_view_module_version": "1.5.0",
            "_view_name": "HBoxView",
            "box_style": "",
            "children": [
              "IPY_MODEL_2652b513ea264190a6adf5b527d7b232",
              "IPY_MODEL_02774cf1483a43c9bb0431aebd66a38b",
              "IPY_MODEL_29f72eb97ae04663a0aa5867f50cb0c5"
            ],
            "layout": "IPY_MODEL_22a57a5502d441899e9f9f74c6346399"
          }
        },
        "2720ee98eb384248be4ada556411b216": {
          "model_module": "@jupyter-widgets/base",
          "model_module_version": "1.2.0",
          "model_name": "LayoutModel",
          "state": {
            "_model_module": "@jupyter-widgets/base",
            "_model_module_version": "1.2.0",
            "_model_name": "LayoutModel",
            "_view_count": null,
            "_view_module": "@jupyter-widgets/base",
            "_view_module_version": "1.2.0",
            "_view_name": "LayoutView",
            "align_content": null,
            "align_items": null,
            "align_self": null,
            "border": null,
            "bottom": null,
            "display": null,
            "flex": null,
            "flex_flow": null,
            "grid_area": null,
            "grid_auto_columns": null,
            "grid_auto_flow": null,
            "grid_auto_rows": null,
            "grid_column": null,
            "grid_gap": null,
            "grid_row": null,
            "grid_template_areas": null,
            "grid_template_columns": null,
            "grid_template_rows": null,
            "height": null,
            "justify_content": null,
            "justify_items": null,
            "left": null,
            "margin": null,
            "max_height": null,
            "max_width": null,
            "min_height": null,
            "min_width": null,
            "object_fit": null,
            "object_position": null,
            "order": null,
            "overflow": null,
            "overflow_x": null,
            "overflow_y": null,
            "padding": null,
            "right": null,
            "top": null,
            "visibility": null,
            "width": null
          }
        },
        "2901bf8ca69a4cb2b7f70247a7c6a728": {
          "model_module": "@jupyter-widgets/controls",
          "model_module_version": "1.5.0",
          "model_name": "HTMLModel",
          "state": {
            "_dom_classes": [],
            "_model_module": "@jupyter-widgets/controls",
            "_model_module_version": "1.5.0",
            "_model_name": "HTMLModel",
            "_view_count": null,
            "_view_module": "@jupyter-widgets/controls",
            "_view_module_version": "1.5.0",
            "_view_name": "HTMLView",
            "description": "",
            "description_tooltip": null,
            "layout": "IPY_MODEL_2720ee98eb384248be4ada556411b216",
            "placeholder": "​",
            "style": "IPY_MODEL_3053a89392e84877b28dc48f9cbe2d73",
            "value": "Downloading: 100%"
          }
        },
        "291196f17d2543378cc13e074bd02d68": {
          "model_module": "@jupyter-widgets/controls",
          "model_module_version": "1.5.0",
          "model_name": "DescriptionStyleModel",
          "state": {
            "_model_module": "@jupyter-widgets/controls",
            "_model_module_version": "1.5.0",
            "_model_name": "DescriptionStyleModel",
            "_view_count": null,
            "_view_module": "@jupyter-widgets/base",
            "_view_module_version": "1.2.0",
            "_view_name": "StyleView",
            "description_width": ""
          }
        },
        "29480ef20d294fcf8146b1006b6c8bf4": {
          "model_module": "@jupyter-widgets/controls",
          "model_module_version": "1.5.0",
          "model_name": "HTMLModel",
          "state": {
            "_dom_classes": [],
            "_model_module": "@jupyter-widgets/controls",
            "_model_module_version": "1.5.0",
            "_model_name": "HTMLModel",
            "_view_count": null,
            "_view_module": "@jupyter-widgets/controls",
            "_view_module_version": "1.5.0",
            "_view_name": "HTMLView",
            "description": "",
            "description_tooltip": null,
            "layout": "IPY_MODEL_e2e39eec7f9845379ee5384db90f1811",
            "placeholder": "​",
            "style": "IPY_MODEL_a2af08af476c46b5bbe5aaa2b46d235a",
            "value": " 6/6 [00:00&lt;00:00, 110.94it/s]"
          }
        },
        "295cc97c0e3c4da882714e7eab7c4192": {
          "model_module": "@jupyter-widgets/controls",
          "model_module_version": "1.5.0",
          "model_name": "FloatProgressModel",
          "state": {
            "_dom_classes": [],
            "_model_module": "@jupyter-widgets/controls",
            "_model_module_version": "1.5.0",
            "_model_name": "FloatProgressModel",
            "_view_count": null,
            "_view_module": "@jupyter-widgets/controls",
            "_view_module_version": "1.5.0",
            "_view_name": "ProgressView",
            "bar_style": "info",
            "description": "",
            "description_tooltip": null,
            "layout": "IPY_MODEL_4d531a46bbc2491386410eb2cbc13faa",
            "max": 1,
            "min": 0,
            "orientation": "horizontal",
            "style": "IPY_MODEL_85aa7ec9c88c4d97808ec74e5a7e2c43",
            "value": 1
          }
        },
        "29bd7c9d8aa742c496841fc3cc2cbb15": {
          "model_module": "@jupyter-widgets/base",
          "model_module_version": "1.2.0",
          "model_name": "LayoutModel",
          "state": {
            "_model_module": "@jupyter-widgets/base",
            "_model_module_version": "1.2.0",
            "_model_name": "LayoutModel",
            "_view_count": null,
            "_view_module": "@jupyter-widgets/base",
            "_view_module_version": "1.2.0",
            "_view_name": "LayoutView",
            "align_content": null,
            "align_items": null,
            "align_self": null,
            "border": null,
            "bottom": null,
            "display": null,
            "flex": null,
            "flex_flow": null,
            "grid_area": null,
            "grid_auto_columns": null,
            "grid_auto_flow": null,
            "grid_auto_rows": null,
            "grid_column": null,
            "grid_gap": null,
            "grid_row": null,
            "grid_template_areas": null,
            "grid_template_columns": null,
            "grid_template_rows": null,
            "height": null,
            "justify_content": null,
            "justify_items": null,
            "left": null,
            "margin": null,
            "max_height": null,
            "max_width": null,
            "min_height": null,
            "min_width": null,
            "object_fit": null,
            "object_position": null,
            "order": null,
            "overflow": null,
            "overflow_x": null,
            "overflow_y": null,
            "padding": null,
            "right": null,
            "top": null,
            "visibility": null,
            "width": null
          }
        },
        "29f72eb97ae04663a0aa5867f50cb0c5": {
          "model_module": "@jupyter-widgets/controls",
          "model_module_version": "1.5.0",
          "model_name": "HTMLModel",
          "state": {
            "_dom_classes": [],
            "_model_module": "@jupyter-widgets/controls",
            "_model_module_version": "1.5.0",
            "_model_name": "HTMLModel",
            "_view_count": null,
            "_view_module": "@jupyter-widgets/controls",
            "_view_module_version": "1.5.0",
            "_view_name": "HTMLView",
            "description": "",
            "description_tooltip": null,
            "layout": "IPY_MODEL_68c762f3e4834c3fb958388b1cb5155d",
            "placeholder": "​",
            "style": "IPY_MODEL_2388b5811c134e5dbe8e17fd4ab0c5d2",
            "value": " 455k/455k [00:00&lt;00:00, 1.04MB/s]"
          }
        },
        "2a0b9cd1aab44a7fb529383f2c3d16ad": {
          "model_module": "@jupyter-widgets/base",
          "model_module_version": "1.2.0",
          "model_name": "LayoutModel",
          "state": {
            "_model_module": "@jupyter-widgets/base",
            "_model_module_version": "1.2.0",
            "_model_name": "LayoutModel",
            "_view_count": null,
            "_view_module": "@jupyter-widgets/base",
            "_view_module_version": "1.2.0",
            "_view_name": "LayoutView",
            "align_content": null,
            "align_items": null,
            "align_self": null,
            "border": null,
            "bottom": null,
            "display": null,
            "flex": null,
            "flex_flow": null,
            "grid_area": null,
            "grid_auto_columns": null,
            "grid_auto_flow": null,
            "grid_auto_rows": null,
            "grid_column": null,
            "grid_gap": null,
            "grid_row": null,
            "grid_template_areas": null,
            "grid_template_columns": null,
            "grid_template_rows": null,
            "height": null,
            "justify_content": null,
            "justify_items": null,
            "left": null,
            "margin": null,
            "max_height": null,
            "max_width": null,
            "min_height": null,
            "min_width": null,
            "object_fit": null,
            "object_position": null,
            "order": null,
            "overflow": null,
            "overflow_x": null,
            "overflow_y": null,
            "padding": null,
            "right": null,
            "top": null,
            "visibility": null,
            "width": null
          }
        },
        "2ad16c404a874bb2a6830f77590287fa": {
          "model_module": "@jupyter-widgets/controls",
          "model_module_version": "1.5.0",
          "model_name": "HTMLModel",
          "state": {
            "_dom_classes": [],
            "_model_module": "@jupyter-widgets/controls",
            "_model_module_version": "1.5.0",
            "_model_name": "HTMLModel",
            "_view_count": null,
            "_view_module": "@jupyter-widgets/controls",
            "_view_module_version": "1.5.0",
            "_view_name": "HTMLView",
            "description": "",
            "description_tooltip": null,
            "layout": "IPY_MODEL_29bd7c9d8aa742c496841fc3cc2cbb15",
            "placeholder": "​",
            "style": "IPY_MODEL_919a72407b924fc995a2a1d914703766",
            "value": "Downloading: "
          }
        },
        "2bbbcd98269f4f96ba191e8334a060fd": {
          "model_module": "@jupyter-widgets/controls",
          "model_module_version": "1.5.0",
          "model_name": "DescriptionStyleModel",
          "state": {
            "_model_module": "@jupyter-widgets/controls",
            "_model_module_version": "1.5.0",
            "_model_name": "DescriptionStyleModel",
            "_view_count": null,
            "_view_module": "@jupyter-widgets/base",
            "_view_module_version": "1.2.0",
            "_view_name": "StyleView",
            "description_width": ""
          }
        },
        "2c9a1888c96b4eed82d5933561fbd0f7": {
          "model_module": "@jupyter-widgets/controls",
          "model_module_version": "1.5.0",
          "model_name": "ProgressStyleModel",
          "state": {
            "_model_module": "@jupyter-widgets/controls",
            "_model_module_version": "1.5.0",
            "_model_name": "ProgressStyleModel",
            "_view_count": null,
            "_view_module": "@jupyter-widgets/base",
            "_view_module_version": "1.2.0",
            "_view_name": "StyleView",
            "bar_color": null,
            "description_width": ""
          }
        },
        "2ee037aa7e15454ba791ea4e1dd5f6fb": {
          "model_module": "@jupyter-widgets/controls",
          "model_module_version": "1.5.0",
          "model_name": "HTMLModel",
          "state": {
            "_dom_classes": [],
            "_model_module": "@jupyter-widgets/controls",
            "_model_module_version": "1.5.0",
            "_model_name": "HTMLModel",
            "_view_count": null,
            "_view_module": "@jupyter-widgets/controls",
            "_view_module_version": "1.5.0",
            "_view_name": "HTMLView",
            "description": "",
            "description_tooltip": null,
            "layout": "IPY_MODEL_e3c62880937a48e79d79753ae2d4cda4",
            "placeholder": "​",
            "style": "IPY_MODEL_bd59ebbbd9994095b0f499b785544efb",
            "value": "Downloading: "
          }
        },
        "2f2afabedc934d6ebc588400e58c55cf": {
          "model_module": "@jupyter-widgets/base",
          "model_module_version": "1.2.0",
          "model_name": "LayoutModel",
          "state": {
            "_model_module": "@jupyter-widgets/base",
            "_model_module_version": "1.2.0",
            "_model_name": "LayoutModel",
            "_view_count": null,
            "_view_module": "@jupyter-widgets/base",
            "_view_module_version": "1.2.0",
            "_view_name": "LayoutView",
            "align_content": null,
            "align_items": null,
            "align_self": null,
            "border": null,
            "bottom": null,
            "display": null,
            "flex": null,
            "flex_flow": null,
            "grid_area": null,
            "grid_auto_columns": null,
            "grid_auto_flow": null,
            "grid_auto_rows": null,
            "grid_column": null,
            "grid_gap": null,
            "grid_row": null,
            "grid_template_areas": null,
            "grid_template_columns": null,
            "grid_template_rows": null,
            "height": null,
            "justify_content": null,
            "justify_items": null,
            "left": null,
            "margin": null,
            "max_height": null,
            "max_width": null,
            "min_height": null,
            "min_width": null,
            "object_fit": null,
            "object_position": null,
            "order": null,
            "overflow": null,
            "overflow_x": null,
            "overflow_y": null,
            "padding": null,
            "right": null,
            "top": null,
            "visibility": null,
            "width": null
          }
        },
        "2fd6f93296114a6ca622a6e8c591616a": {
          "model_module": "@jupyter-widgets/controls",
          "model_module_version": "1.5.0",
          "model_name": "FloatProgressModel",
          "state": {
            "_dom_classes": [],
            "_model_module": "@jupyter-widgets/controls",
            "_model_module_version": "1.5.0",
            "_model_name": "FloatProgressModel",
            "_view_count": null,
            "_view_module": "@jupyter-widgets/controls",
            "_view_module_version": "1.5.0",
            "_view_name": "ProgressView",
            "bar_style": "success",
            "description": "",
            "description_tooltip": null,
            "layout": "IPY_MODEL_6b795226ab434e7e98b38cc48b0eb9d1",
            "max": 5173,
            "min": 0,
            "orientation": "horizontal",
            "style": "IPY_MODEL_20d854683e804214bbde01f08eb02361",
            "value": 5173
          }
        },
        "3053a89392e84877b28dc48f9cbe2d73": {
          "model_module": "@jupyter-widgets/controls",
          "model_module_version": "1.5.0",
          "model_name": "DescriptionStyleModel",
          "state": {
            "_model_module": "@jupyter-widgets/controls",
            "_model_module_version": "1.5.0",
            "_model_name": "DescriptionStyleModel",
            "_view_count": null,
            "_view_module": "@jupyter-widgets/base",
            "_view_module_version": "1.2.0",
            "_view_name": "StyleView",
            "description_width": ""
          }
        },
        "318f104ca8a948d092b0bb22cb0c485d": {
          "model_module": "@jupyter-widgets/controls",
          "model_module_version": "1.5.0",
          "model_name": "ProgressStyleModel",
          "state": {
            "_model_module": "@jupyter-widgets/controls",
            "_model_module_version": "1.5.0",
            "_model_name": "ProgressStyleModel",
            "_view_count": null,
            "_view_module": "@jupyter-widgets/base",
            "_view_module_version": "1.2.0",
            "_view_name": "StyleView",
            "bar_color": null,
            "description_width": ""
          }
        },
        "32856c075bec42d585dcaf88a8e6869e": {
          "model_module": "@jupyter-widgets/controls",
          "model_module_version": "1.5.0",
          "model_name": "HTMLModel",
          "state": {
            "_dom_classes": [],
            "_model_module": "@jupyter-widgets/controls",
            "_model_module_version": "1.5.0",
            "_model_name": "HTMLModel",
            "_view_count": null,
            "_view_module": "@jupyter-widgets/controls",
            "_view_module_version": "1.5.0",
            "_view_name": "HTMLView",
            "description": "",
            "description_tooltip": null,
            "layout": "IPY_MODEL_2409987a2c7f40718038909032276137",
            "placeholder": "​",
            "style": "IPY_MODEL_89e64772f4e74d03ac1bfd80fc12da3a",
            "value": " 226k/226k [00:00&lt;00:00, 1.09MB/s]"
          }
        },
        "33301cef0b6840918620fe9b05e27877": {
          "model_module": "@jupyter-widgets/controls",
          "model_module_version": "1.5.0",
          "model_name": "HTMLModel",
          "state": {
            "_dom_classes": [],
            "_model_module": "@jupyter-widgets/controls",
            "_model_module_version": "1.5.0",
            "_model_name": "HTMLModel",
            "_view_count": null,
            "_view_module": "@jupyter-widgets/controls",
            "_view_module_version": "1.5.0",
            "_view_name": "HTMLView",
            "description": "",
            "description_tooltip": null,
            "layout": "IPY_MODEL_8e15bc128b5b4107ae371ec142612ab9",
            "placeholder": "​",
            "style": "IPY_MODEL_ffadfc3d8aa84f1796801497ce990a93",
            "value": " 645/0 [00:00&lt;00:00, 6446.44 examples/s]"
          }
        },
        "3379c07ecaad44ceba9d30f1dfb0699a": {
          "model_module": "@jupyter-widgets/controls",
          "model_module_version": "1.5.0",
          "model_name": "HTMLModel",
          "state": {
            "_dom_classes": [],
            "_model_module": "@jupyter-widgets/controls",
            "_model_module_version": "1.5.0",
            "_model_name": "HTMLModel",
            "_view_count": null,
            "_view_module": "@jupyter-widgets/controls",
            "_view_module_version": "1.5.0",
            "_view_name": "HTMLView",
            "description": "",
            "description_tooltip": null,
            "layout": "IPY_MODEL_3c664232a5f24045b1841d619ffb5c63",
            "placeholder": "​",
            "style": "IPY_MODEL_053b9d52ed68417891783417bb29e8a0",
            "value": " 2.84k/? [00:00&lt;00:00, 44.1kB/s]"
          }
        },
        "33eb33f512b749f18af5552457ea539a": {
          "model_module": "@jupyter-widgets/controls",
          "model_module_version": "1.5.0",
          "model_name": "HBoxModel",
          "state": {
            "_dom_classes": [],
            "_model_module": "@jupyter-widgets/controls",
            "_model_module_version": "1.5.0",
            "_model_name": "HBoxModel",
            "_view_count": null,
            "_view_module": "@jupyter-widgets/controls",
            "_view_module_version": "1.5.0",
            "_view_name": "HBoxView",
            "box_style": "",
            "children": [
              "IPY_MODEL_9ead53f71bc144508caacc02575316cf",
              "IPY_MODEL_59a2d1e2585843498598a4183ba35a89",
              "IPY_MODEL_206b53df7e64419c93dcd74e4028fda0"
            ],
            "layout": "IPY_MODEL_652a0dbfb1cc4671a2b91f03bea9e606"
          }
        },
        "3414bc08d57c45408fb0166978951c42": {
          "model_module": "@jupyter-widgets/controls",
          "model_module_version": "1.5.0",
          "model_name": "HTMLModel",
          "state": {
            "_dom_classes": [],
            "_model_module": "@jupyter-widgets/controls",
            "_model_module_version": "1.5.0",
            "_model_name": "HTMLModel",
            "_view_count": null,
            "_view_module": "@jupyter-widgets/controls",
            "_view_module_version": "1.5.0",
            "_view_name": "HTMLView",
            "description": "",
            "description_tooltip": null,
            "layout": "IPY_MODEL_d1dbd5cfa8174847ab84291b954d2634",
            "placeholder": "​",
            "style": "IPY_MODEL_013ab8d9a2f24e5fb21e384a090f25b7",
            "value": " 4.97M/? [00:00&lt;00:00, 14.9MB/s]"
          }
        },
        "34f6481894dd4892ac6bd7c4da632db9": {
          "model_module": "@jupyter-widgets/controls",
          "model_module_version": "1.5.0",
          "model_name": "DescriptionStyleModel",
          "state": {
            "_model_module": "@jupyter-widgets/controls",
            "_model_module_version": "1.5.0",
            "_model_name": "DescriptionStyleModel",
            "_view_count": null,
            "_view_module": "@jupyter-widgets/base",
            "_view_module_version": "1.2.0",
            "_view_name": "StyleView",
            "description_width": ""
          }
        },
        "3a6dafb7fa3848c2817aaaccadfe05e7": {
          "model_module": "@jupyter-widgets/controls",
          "model_module_version": "1.5.0",
          "model_name": "ProgressStyleModel",
          "state": {
            "_model_module": "@jupyter-widgets/controls",
            "_model_module_version": "1.5.0",
            "_model_name": "ProgressStyleModel",
            "_view_count": null,
            "_view_module": "@jupyter-widgets/base",
            "_view_module_version": "1.2.0",
            "_view_name": "StyleView",
            "bar_color": null,
            "description_width": ""
          }
        },
        "3ab9d23e7d9146d48019694808a833f1": {
          "model_module": "@jupyter-widgets/controls",
          "model_module_version": "1.5.0",
          "model_name": "DescriptionStyleModel",
          "state": {
            "_model_module": "@jupyter-widgets/controls",
            "_model_module_version": "1.5.0",
            "_model_name": "DescriptionStyleModel",
            "_view_count": null,
            "_view_module": "@jupyter-widgets/base",
            "_view_module_version": "1.2.0",
            "_view_name": "StyleView",
            "description_width": ""
          }
        },
        "3b41d42013074e0f96e285282b73d0e0": {
          "model_module": "@jupyter-widgets/base",
          "model_module_version": "1.2.0",
          "model_name": "LayoutModel",
          "state": {
            "_model_module": "@jupyter-widgets/base",
            "_model_module_version": "1.2.0",
            "_model_name": "LayoutModel",
            "_view_count": null,
            "_view_module": "@jupyter-widgets/base",
            "_view_module_version": "1.2.0",
            "_view_name": "LayoutView",
            "align_content": null,
            "align_items": null,
            "align_self": null,
            "border": null,
            "bottom": null,
            "display": null,
            "flex": null,
            "flex_flow": null,
            "grid_area": null,
            "grid_auto_columns": null,
            "grid_auto_flow": null,
            "grid_auto_rows": null,
            "grid_column": null,
            "grid_gap": null,
            "grid_row": null,
            "grid_template_areas": null,
            "grid_template_columns": null,
            "grid_template_rows": null,
            "height": null,
            "justify_content": null,
            "justify_items": null,
            "left": null,
            "margin": null,
            "max_height": null,
            "max_width": null,
            "min_height": null,
            "min_width": null,
            "object_fit": null,
            "object_position": null,
            "order": null,
            "overflow": null,
            "overflow_x": null,
            "overflow_y": null,
            "padding": null,
            "right": null,
            "top": null,
            "visibility": null,
            "width": null
          }
        },
        "3c664232a5f24045b1841d619ffb5c63": {
          "model_module": "@jupyter-widgets/base",
          "model_module_version": "1.2.0",
          "model_name": "LayoutModel",
          "state": {
            "_model_module": "@jupyter-widgets/base",
            "_model_module_version": "1.2.0",
            "_model_name": "LayoutModel",
            "_view_count": null,
            "_view_module": "@jupyter-widgets/base",
            "_view_module_version": "1.2.0",
            "_view_name": "LayoutView",
            "align_content": null,
            "align_items": null,
            "align_self": null,
            "border": null,
            "bottom": null,
            "display": null,
            "flex": null,
            "flex_flow": null,
            "grid_area": null,
            "grid_auto_columns": null,
            "grid_auto_flow": null,
            "grid_auto_rows": null,
            "grid_column": null,
            "grid_gap": null,
            "grid_row": null,
            "grid_template_areas": null,
            "grid_template_columns": null,
            "grid_template_rows": null,
            "height": null,
            "justify_content": null,
            "justify_items": null,
            "left": null,
            "margin": null,
            "max_height": null,
            "max_width": null,
            "min_height": null,
            "min_width": null,
            "object_fit": null,
            "object_position": null,
            "order": null,
            "overflow": null,
            "overflow_x": null,
            "overflow_y": null,
            "padding": null,
            "right": null,
            "top": null,
            "visibility": null,
            "width": null
          }
        },
        "3c80e65f16ef4dd49f2e0f38f6f6046b": {
          "model_module": "@jupyter-widgets/controls",
          "model_module_version": "1.5.0",
          "model_name": "ProgressStyleModel",
          "state": {
            "_model_module": "@jupyter-widgets/controls",
            "_model_module_version": "1.5.0",
            "_model_name": "ProgressStyleModel",
            "_view_count": null,
            "_view_module": "@jupyter-widgets/base",
            "_view_module_version": "1.2.0",
            "_view_name": "StyleView",
            "bar_color": null,
            "description_width": ""
          }
        },
        "3c87983f03e54e94bf653ff4fc252ae6": {
          "model_module": "@jupyter-widgets/controls",
          "model_module_version": "1.5.0",
          "model_name": "FloatProgressModel",
          "state": {
            "_dom_classes": [],
            "_model_module": "@jupyter-widgets/controls",
            "_model_module_version": "1.5.0",
            "_model_name": "FloatProgressModel",
            "_view_count": null,
            "_view_module": "@jupyter-widgets/controls",
            "_view_module_version": "1.5.0",
            "_view_name": "ProgressView",
            "bar_style": "success",
            "description": "",
            "description_tooltip": null,
            "layout": "IPY_MODEL_b980ba0e690c4348a8d27dac96ab5bab",
            "max": 16856,
            "min": 0,
            "orientation": "horizontal",
            "style": "IPY_MODEL_d391a6f1be074f939ede4933ee7d1589",
            "value": 16856
          }
        },
        "3d123337652d4cbc862d225d76bb6c9a": {
          "model_module": "@jupyter-widgets/base",
          "model_module_version": "1.2.0",
          "model_name": "LayoutModel",
          "state": {
            "_model_module": "@jupyter-widgets/base",
            "_model_module_version": "1.2.0",
            "_model_name": "LayoutModel",
            "_view_count": null,
            "_view_module": "@jupyter-widgets/base",
            "_view_module_version": "1.2.0",
            "_view_name": "LayoutView",
            "align_content": null,
            "align_items": null,
            "align_self": null,
            "border": null,
            "bottom": null,
            "display": null,
            "flex": null,
            "flex_flow": null,
            "grid_area": null,
            "grid_auto_columns": null,
            "grid_auto_flow": null,
            "grid_auto_rows": null,
            "grid_column": null,
            "grid_gap": null,
            "grid_row": null,
            "grid_template_areas": null,
            "grid_template_columns": null,
            "grid_template_rows": null,
            "height": null,
            "justify_content": null,
            "justify_items": null,
            "left": null,
            "margin": null,
            "max_height": null,
            "max_width": null,
            "min_height": null,
            "min_width": null,
            "object_fit": null,
            "object_position": null,
            "order": null,
            "overflow": null,
            "overflow_x": null,
            "overflow_y": null,
            "padding": null,
            "right": null,
            "top": null,
            "visibility": null,
            "width": null
          }
        },
        "3df45ed81c2748afbc0b27c65d44e092": {
          "model_module": "@jupyter-widgets/base",
          "model_module_version": "1.2.0",
          "model_name": "LayoutModel",
          "state": {
            "_model_module": "@jupyter-widgets/base",
            "_model_module_version": "1.2.0",
            "_model_name": "LayoutModel",
            "_view_count": null,
            "_view_module": "@jupyter-widgets/base",
            "_view_module_version": "1.2.0",
            "_view_name": "LayoutView",
            "align_content": null,
            "align_items": null,
            "align_self": null,
            "border": null,
            "bottom": null,
            "display": null,
            "flex": null,
            "flex_flow": null,
            "grid_area": null,
            "grid_auto_columns": null,
            "grid_auto_flow": null,
            "grid_auto_rows": null,
            "grid_column": null,
            "grid_gap": null,
            "grid_row": null,
            "grid_template_areas": null,
            "grid_template_columns": null,
            "grid_template_rows": null,
            "height": null,
            "justify_content": null,
            "justify_items": null,
            "left": null,
            "margin": null,
            "max_height": null,
            "max_width": null,
            "min_height": null,
            "min_width": null,
            "object_fit": null,
            "object_position": null,
            "order": null,
            "overflow": null,
            "overflow_x": null,
            "overflow_y": null,
            "padding": null,
            "right": null,
            "top": null,
            "visibility": null,
            "width": null
          }
        },
        "3e7302ba66d3498da1b28b309d60400b": {
          "model_module": "@jupyter-widgets/controls",
          "model_module_version": "1.5.0",
          "model_name": "FloatProgressModel",
          "state": {
            "_dom_classes": [],
            "_model_module": "@jupyter-widgets/controls",
            "_model_module_version": "1.5.0",
            "_model_name": "FloatProgressModel",
            "_view_count": null,
            "_view_module": "@jupyter-widgets/controls",
            "_view_module_version": "1.5.0",
            "_view_name": "ProgressView",
            "bar_style": "success",
            "description": "",
            "description_tooltip": null,
            "layout": "IPY_MODEL_86d06c2152be459eb23731ea2c8a37ca",
            "max": 2368,
            "min": 0,
            "orientation": "horizontal",
            "style": "IPY_MODEL_1b368f6f583649fe9ff8b4a47556510c",
            "value": 2368
          }
        },
        "3f138ff2667a4aaeb1c8debb9660cdb3": {
          "model_module": "@jupyter-widgets/controls",
          "model_module_version": "1.5.0",
          "model_name": "HTMLModel",
          "state": {
            "_dom_classes": [],
            "_model_module": "@jupyter-widgets/controls",
            "_model_module_version": "1.5.0",
            "_model_name": "HTMLModel",
            "_view_count": null,
            "_view_module": "@jupyter-widgets/controls",
            "_view_module_version": "1.5.0",
            "_view_name": "HTMLView",
            "description": "",
            "description_tooltip": null,
            "layout": "IPY_MODEL_12ff81c51a5c4f24a43ccd51f7cc7898",
            "placeholder": "​",
            "style": "IPY_MODEL_865f749c99c1448e9f193e6d458a1068",
            "value": " 1.16M/? [00:00&lt;00:00, 1.60MB/s]"
          }
        },
        "4034fc9dfc4a4a5196dc9a42d4cbea19": {
          "model_module": "@jupyter-widgets/base",
          "model_module_version": "1.2.0",
          "model_name": "LayoutModel",
          "state": {
            "_model_module": "@jupyter-widgets/base",
            "_model_module_version": "1.2.0",
            "_model_name": "LayoutModel",
            "_view_count": null,
            "_view_module": "@jupyter-widgets/base",
            "_view_module_version": "1.2.0",
            "_view_name": "LayoutView",
            "align_content": null,
            "align_items": null,
            "align_self": null,
            "border": null,
            "bottom": null,
            "display": null,
            "flex": null,
            "flex_flow": null,
            "grid_area": null,
            "grid_auto_columns": null,
            "grid_auto_flow": null,
            "grid_auto_rows": null,
            "grid_column": null,
            "grid_gap": null,
            "grid_row": null,
            "grid_template_areas": null,
            "grid_template_columns": null,
            "grid_template_rows": null,
            "height": null,
            "justify_content": null,
            "justify_items": null,
            "left": null,
            "margin": null,
            "max_height": null,
            "max_width": null,
            "min_height": null,
            "min_width": null,
            "object_fit": null,
            "object_position": null,
            "order": null,
            "overflow": null,
            "overflow_x": null,
            "overflow_y": null,
            "padding": null,
            "right": null,
            "top": null,
            "visibility": null,
            "width": null
          }
        },
        "4149f49655094d18928fac979664e0ce": {
          "model_module": "@jupyter-widgets/controls",
          "model_module_version": "1.5.0",
          "model_name": "DescriptionStyleModel",
          "state": {
            "_model_module": "@jupyter-widgets/controls",
            "_model_module_version": "1.5.0",
            "_model_name": "DescriptionStyleModel",
            "_view_count": null,
            "_view_module": "@jupyter-widgets/base",
            "_view_module_version": "1.2.0",
            "_view_name": "StyleView",
            "description_width": ""
          }
        },
        "41b640476cc34c52a7af1dcab4fc6a7f": {
          "model_module": "@jupyter-widgets/controls",
          "model_module_version": "1.5.0",
          "model_name": "DescriptionStyleModel",
          "state": {
            "_model_module": "@jupyter-widgets/controls",
            "_model_module_version": "1.5.0",
            "_model_name": "DescriptionStyleModel",
            "_view_count": null,
            "_view_module": "@jupyter-widgets/base",
            "_view_module_version": "1.2.0",
            "_view_name": "StyleView",
            "description_width": ""
          }
        },
        "42176f4f86f24cd389cfb634ba03f874": {
          "model_module": "@jupyter-widgets/controls",
          "model_module_version": "1.5.0",
          "model_name": "HBoxModel",
          "state": {
            "_dom_classes": [],
            "_model_module": "@jupyter-widgets/controls",
            "_model_module_version": "1.5.0",
            "_model_name": "HBoxModel",
            "_view_count": null,
            "_view_module": "@jupyter-widgets/controls",
            "_view_module_version": "1.5.0",
            "_view_name": "HBoxView",
            "box_style": "",
            "children": [
              "IPY_MODEL_90914ef557214e588c426e417ad69468",
              "IPY_MODEL_1abd5078651947758d5e2e0365c30794",
              "IPY_MODEL_3379c07ecaad44ceba9d30f1dfb0699a"
            ],
            "layout": "IPY_MODEL_9f51dee94ca642788a319cfeb6ab30d8"
          }
        },
        "4279df59faca464c940eda5f8586f0d4": {
          "model_module": "@jupyter-widgets/controls",
          "model_module_version": "1.5.0",
          "model_name": "DescriptionStyleModel",
          "state": {
            "_model_module": "@jupyter-widgets/controls",
            "_model_module_version": "1.5.0",
            "_model_name": "DescriptionStyleModel",
            "_view_count": null,
            "_view_module": "@jupyter-widgets/base",
            "_view_module_version": "1.2.0",
            "_view_name": "StyleView",
            "description_width": ""
          }
        },
        "447cd1b3643040518d5a9fd0402abb3c": {
          "model_module": "@jupyter-widgets/base",
          "model_module_version": "1.2.0",
          "model_name": "LayoutModel",
          "state": {
            "_model_module": "@jupyter-widgets/base",
            "_model_module_version": "1.2.0",
            "_model_name": "LayoutModel",
            "_view_count": null,
            "_view_module": "@jupyter-widgets/base",
            "_view_module_version": "1.2.0",
            "_view_name": "LayoutView",
            "align_content": null,
            "align_items": null,
            "align_self": null,
            "border": null,
            "bottom": null,
            "display": null,
            "flex": null,
            "flex_flow": null,
            "grid_area": null,
            "grid_auto_columns": null,
            "grid_auto_flow": null,
            "grid_auto_rows": null,
            "grid_column": null,
            "grid_gap": null,
            "grid_row": null,
            "grid_template_areas": null,
            "grid_template_columns": null,
            "grid_template_rows": null,
            "height": null,
            "justify_content": null,
            "justify_items": null,
            "left": null,
            "margin": null,
            "max_height": null,
            "max_width": null,
            "min_height": null,
            "min_width": null,
            "object_fit": null,
            "object_position": null,
            "order": null,
            "overflow": null,
            "overflow_x": null,
            "overflow_y": null,
            "padding": null,
            "right": null,
            "top": null,
            "visibility": null,
            "width": null
          }
        },
        "478e4a157d28491ea97ad2d6c72b60f2": {
          "model_module": "@jupyter-widgets/controls",
          "model_module_version": "1.5.0",
          "model_name": "DescriptionStyleModel",
          "state": {
            "_model_module": "@jupyter-widgets/controls",
            "_model_module_version": "1.5.0",
            "_model_name": "DescriptionStyleModel",
            "_view_count": null,
            "_view_module": "@jupyter-widgets/base",
            "_view_module_version": "1.2.0",
            "_view_name": "StyleView",
            "description_width": ""
          }
        },
        "48594bf30aa84b59b0506f132fa330f2": {
          "model_module": "@jupyter-widgets/controls",
          "model_module_version": "1.5.0",
          "model_name": "DescriptionStyleModel",
          "state": {
            "_model_module": "@jupyter-widgets/controls",
            "_model_module_version": "1.5.0",
            "_model_name": "DescriptionStyleModel",
            "_view_count": null,
            "_view_module": "@jupyter-widgets/base",
            "_view_module_version": "1.2.0",
            "_view_name": "StyleView",
            "description_width": ""
          }
        },
        "48db3dc3712e4e6d94e00c0a8bc3c9b2": {
          "model_module": "@jupyter-widgets/controls",
          "model_module_version": "1.5.0",
          "model_name": "DescriptionStyleModel",
          "state": {
            "_model_module": "@jupyter-widgets/controls",
            "_model_module_version": "1.5.0",
            "_model_name": "DescriptionStyleModel",
            "_view_count": null,
            "_view_module": "@jupyter-widgets/base",
            "_view_module_version": "1.2.0",
            "_view_name": "StyleView",
            "description_width": ""
          }
        },
        "49bd7708340340aa914653a35d2fc910": {
          "model_module": "@jupyter-widgets/controls",
          "model_module_version": "1.5.0",
          "model_name": "ProgressStyleModel",
          "state": {
            "_model_module": "@jupyter-widgets/controls",
            "_model_module_version": "1.5.0",
            "_model_name": "ProgressStyleModel",
            "_view_count": null,
            "_view_module": "@jupyter-widgets/base",
            "_view_module_version": "1.2.0",
            "_view_name": "StyleView",
            "bar_color": null,
            "description_width": ""
          }
        },
        "4a3468f8244a464582be14e7170d4475": {
          "model_module": "@jupyter-widgets/controls",
          "model_module_version": "1.5.0",
          "model_name": "FloatProgressModel",
          "state": {
            "_dom_classes": [],
            "_model_module": "@jupyter-widgets/controls",
            "_model_module_version": "1.5.0",
            "_model_name": "FloatProgressModel",
            "_view_count": null,
            "_view_module": "@jupyter-widgets/controls",
            "_view_module_version": "1.5.0",
            "_view_name": "ProgressView",
            "bar_style": "success",
            "description": "",
            "description_tooltip": null,
            "layout": "IPY_MODEL_83a67270f88d4620a37db75fb0ad9b01",
            "max": 526981,
            "min": 0,
            "orientation": "horizontal",
            "style": "IPY_MODEL_19ad9fbebb6a4de98fda1dc65e995e20",
            "value": 526981
          }
        },
        "4a722462ca3640d0a0a3425b3b97367c": {
          "model_module": "@jupyter-widgets/base",
          "model_module_version": "1.2.0",
          "model_name": "LayoutModel",
          "state": {
            "_model_module": "@jupyter-widgets/base",
            "_model_module_version": "1.2.0",
            "_model_name": "LayoutModel",
            "_view_count": null,
            "_view_module": "@jupyter-widgets/base",
            "_view_module_version": "1.2.0",
            "_view_name": "LayoutView",
            "align_content": null,
            "align_items": null,
            "align_self": null,
            "border": null,
            "bottom": null,
            "display": null,
            "flex": null,
            "flex_flow": null,
            "grid_area": null,
            "grid_auto_columns": null,
            "grid_auto_flow": null,
            "grid_auto_rows": null,
            "grid_column": null,
            "grid_gap": null,
            "grid_row": null,
            "grid_template_areas": null,
            "grid_template_columns": null,
            "grid_template_rows": null,
            "height": null,
            "justify_content": null,
            "justify_items": null,
            "left": null,
            "margin": null,
            "max_height": null,
            "max_width": null,
            "min_height": null,
            "min_width": null,
            "object_fit": null,
            "object_position": null,
            "order": null,
            "overflow": null,
            "overflow_x": null,
            "overflow_y": null,
            "padding": null,
            "right": null,
            "top": null,
            "visibility": null,
            "width": null
          }
        },
        "4ab2ab2dfbcd4812b5832b760fa9ebdf": {
          "model_module": "@jupyter-widgets/base",
          "model_module_version": "1.2.0",
          "model_name": "LayoutModel",
          "state": {
            "_model_module": "@jupyter-widgets/base",
            "_model_module_version": "1.2.0",
            "_model_name": "LayoutModel",
            "_view_count": null,
            "_view_module": "@jupyter-widgets/base",
            "_view_module_version": "1.2.0",
            "_view_name": "LayoutView",
            "align_content": null,
            "align_items": null,
            "align_self": null,
            "border": null,
            "bottom": null,
            "display": null,
            "flex": null,
            "flex_flow": null,
            "grid_area": null,
            "grid_auto_columns": null,
            "grid_auto_flow": null,
            "grid_auto_rows": null,
            "grid_column": null,
            "grid_gap": null,
            "grid_row": null,
            "grid_template_areas": null,
            "grid_template_columns": null,
            "grid_template_rows": null,
            "height": null,
            "justify_content": null,
            "justify_items": null,
            "left": null,
            "margin": null,
            "max_height": null,
            "max_width": null,
            "min_height": null,
            "min_width": null,
            "object_fit": null,
            "object_position": null,
            "order": null,
            "overflow": null,
            "overflow_x": null,
            "overflow_y": null,
            "padding": null,
            "right": null,
            "top": null,
            "visibility": null,
            "width": null
          }
        },
        "4d1acaa520a04e70a37a00ba7153793f": {
          "model_module": "@jupyter-widgets/controls",
          "model_module_version": "1.5.0",
          "model_name": "HTMLModel",
          "state": {
            "_dom_classes": [],
            "_model_module": "@jupyter-widgets/controls",
            "_model_module_version": "1.5.0",
            "_model_name": "HTMLModel",
            "_view_count": null,
            "_view_module": "@jupyter-widgets/controls",
            "_view_module_version": "1.5.0",
            "_view_name": "HTMLView",
            "description": "",
            "description_tooltip": null,
            "layout": "IPY_MODEL_17b6c85f872c4ddda32e1dffa229ffa0",
            "placeholder": "​",
            "style": "IPY_MODEL_959809d580764b938dca2c8fe5a266c5",
            "value": " 1752/0 [00:00&lt;00:00, 9977.21 examples/s]"
          }
        },
        "4d531a46bbc2491386410eb2cbc13faa": {
          "model_module": "@jupyter-widgets/base",
          "model_module_version": "1.2.0",
          "model_name": "LayoutModel",
          "state": {
            "_model_module": "@jupyter-widgets/base",
            "_model_module_version": "1.2.0",
            "_model_name": "LayoutModel",
            "_view_count": null,
            "_view_module": "@jupyter-widgets/base",
            "_view_module_version": "1.2.0",
            "_view_name": "LayoutView",
            "align_content": null,
            "align_items": null,
            "align_self": null,
            "border": null,
            "bottom": null,
            "display": null,
            "flex": null,
            "flex_flow": null,
            "grid_area": null,
            "grid_auto_columns": null,
            "grid_auto_flow": null,
            "grid_auto_rows": null,
            "grid_column": null,
            "grid_gap": null,
            "grid_row": null,
            "grid_template_areas": null,
            "grid_template_columns": null,
            "grid_template_rows": null,
            "height": null,
            "justify_content": null,
            "justify_items": null,
            "left": null,
            "margin": null,
            "max_height": null,
            "max_width": null,
            "min_height": null,
            "min_width": null,
            "object_fit": null,
            "object_position": null,
            "order": null,
            "overflow": null,
            "overflow_x": null,
            "overflow_y": null,
            "padding": null,
            "right": null,
            "top": null,
            "visibility": null,
            "width": "20px"
          }
        },
        "4eda4fa784884d808d2f27190344d428": {
          "model_module": "@jupyter-widgets/base",
          "model_module_version": "1.2.0",
          "model_name": "LayoutModel",
          "state": {
            "_model_module": "@jupyter-widgets/base",
            "_model_module_version": "1.2.0",
            "_model_name": "LayoutModel",
            "_view_count": null,
            "_view_module": "@jupyter-widgets/base",
            "_view_module_version": "1.2.0",
            "_view_name": "LayoutView",
            "align_content": null,
            "align_items": null,
            "align_self": null,
            "border": null,
            "bottom": null,
            "display": null,
            "flex": null,
            "flex_flow": null,
            "grid_area": null,
            "grid_auto_columns": null,
            "grid_auto_flow": null,
            "grid_auto_rows": null,
            "grid_column": null,
            "grid_gap": null,
            "grid_row": null,
            "grid_template_areas": null,
            "grid_template_columns": null,
            "grid_template_rows": null,
            "height": null,
            "justify_content": null,
            "justify_items": null,
            "left": null,
            "margin": null,
            "max_height": null,
            "max_width": null,
            "min_height": null,
            "min_width": null,
            "object_fit": null,
            "object_position": null,
            "order": null,
            "overflow": null,
            "overflow_x": null,
            "overflow_y": null,
            "padding": null,
            "right": null,
            "top": null,
            "visibility": null,
            "width": null
          }
        },
        "51deab05f77942c4954409e69d9bb55f": {
          "model_module": "@jupyter-widgets/controls",
          "model_module_version": "1.5.0",
          "model_name": "HBoxModel",
          "state": {
            "_dom_classes": [],
            "_model_module": "@jupyter-widgets/controls",
            "_model_module_version": "1.5.0",
            "_model_name": "HBoxModel",
            "_view_count": null,
            "_view_module": "@jupyter-widgets/controls",
            "_view_module_version": "1.5.0",
            "_view_name": "HBoxView",
            "box_style": "",
            "children": [
              "IPY_MODEL_224d871cc3594b22bd608329bd054bff",
              "IPY_MODEL_59f591fac4a7449098cf06f6b2e36ffe",
              "IPY_MODEL_9140cf6e8af140819b01923314828b87"
            ],
            "layout": "IPY_MODEL_17df740891ec42c2be57183c4105f353"
          }
        },
        "52317450a63e4e0e8249f9bcb0ea8868": {
          "model_module": "@jupyter-widgets/controls",
          "model_module_version": "1.5.0",
          "model_name": "HBoxModel",
          "state": {
            "_dom_classes": [],
            "_model_module": "@jupyter-widgets/controls",
            "_model_module_version": "1.5.0",
            "_model_name": "HBoxModel",
            "_view_count": null,
            "_view_module": "@jupyter-widgets/controls",
            "_view_module_version": "1.5.0",
            "_view_name": "HBoxView",
            "box_style": "",
            "children": [
              "IPY_MODEL_051c6949a56340a682100ab3e5ebf406",
              "IPY_MODEL_d02ce2b8c8a84245b6b0430ab2e63f8b",
              "IPY_MODEL_738be42137794e7ab3a8033eccb4e0b2"
            ],
            "layout": "IPY_MODEL_136d3d1ac4194f998577faeef9bc5443"
          }
        },
        "53324c0090d445c9b82564349ea6eda9": {
          "model_module": "@jupyter-widgets/controls",
          "model_module_version": "1.5.0",
          "model_name": "HTMLModel",
          "state": {
            "_dom_classes": [],
            "_model_module": "@jupyter-widgets/controls",
            "_model_module_version": "1.5.0",
            "_model_name": "HTMLModel",
            "_view_count": null,
            "_view_module": "@jupyter-widgets/controls",
            "_view_module_version": "1.5.0",
            "_view_name": "HTMLView",
            "description": "",
            "description_tooltip": null,
            "layout": "IPY_MODEL_3df45ed81c2748afbc0b27c65d44e092",
            "placeholder": "​",
            "style": "IPY_MODEL_48db3dc3712e4e6d94e00c0a8bc3c9b2",
            "value": "Downloading: "
          }
        },
        "538a5af2e03147a8aea49003ed82d25d": {
          "model_module": "@jupyter-widgets/controls",
          "model_module_version": "1.5.0",
          "model_name": "DescriptionStyleModel",
          "state": {
            "_model_module": "@jupyter-widgets/controls",
            "_model_module_version": "1.5.0",
            "_model_name": "DescriptionStyleModel",
            "_view_count": null,
            "_view_module": "@jupyter-widgets/base",
            "_view_module_version": "1.2.0",
            "_view_name": "StyleView",
            "description_width": ""
          }
        },
        "53a377f881f74286878be45006584554": {
          "model_module": "@jupyter-widgets/controls",
          "model_module_version": "1.5.0",
          "model_name": "DescriptionStyleModel",
          "state": {
            "_model_module": "@jupyter-widgets/controls",
            "_model_module_version": "1.5.0",
            "_model_name": "DescriptionStyleModel",
            "_view_count": null,
            "_view_module": "@jupyter-widgets/base",
            "_view_module_version": "1.2.0",
            "_view_name": "StyleView",
            "description_width": ""
          }
        },
        "559ae35bfa764c6e8ddad42dbf71ed63": {
          "model_module": "@jupyter-widgets/controls",
          "model_module_version": "1.5.0",
          "model_name": "HTMLModel",
          "state": {
            "_dom_classes": [],
            "_model_module": "@jupyter-widgets/controls",
            "_model_module_version": "1.5.0",
            "_model_name": "HTMLModel",
            "_view_count": null,
            "_view_module": "@jupyter-widgets/controls",
            "_view_module_version": "1.5.0",
            "_view_name": "HTMLView",
            "description": "",
            "description_tooltip": null,
            "layout": "IPY_MODEL_2f2afabedc934d6ebc588400e58c55cf",
            "placeholder": "​",
            "style": "IPY_MODEL_2bbbcd98269f4f96ba191e8334a060fd",
            "value": " 28.0/28.0 [00:00&lt;00:00, 686B/s]"
          }
        },
        "570c885e990343ff8aa2e49f6075501a": {
          "model_module": "@jupyter-widgets/base",
          "model_module_version": "1.2.0",
          "model_name": "LayoutModel",
          "state": {
            "_model_module": "@jupyter-widgets/base",
            "_model_module_version": "1.2.0",
            "_model_name": "LayoutModel",
            "_view_count": null,
            "_view_module": "@jupyter-widgets/base",
            "_view_module_version": "1.2.0",
            "_view_name": "LayoutView",
            "align_content": null,
            "align_items": null,
            "align_self": null,
            "border": null,
            "bottom": null,
            "display": null,
            "flex": null,
            "flex_flow": null,
            "grid_area": null,
            "grid_auto_columns": null,
            "grid_auto_flow": null,
            "grid_auto_rows": null,
            "grid_column": null,
            "grid_gap": null,
            "grid_row": null,
            "grid_template_areas": null,
            "grid_template_columns": null,
            "grid_template_rows": null,
            "height": null,
            "justify_content": null,
            "justify_items": null,
            "left": null,
            "margin": null,
            "max_height": null,
            "max_width": null,
            "min_height": null,
            "min_width": null,
            "object_fit": null,
            "object_position": null,
            "order": null,
            "overflow": null,
            "overflow_x": null,
            "overflow_y": null,
            "padding": null,
            "right": null,
            "top": null,
            "visibility": null,
            "width": null
          }
        },
        "577fbb08fd1e40d28c2ad1c511dcab10": {
          "model_module": "@jupyter-widgets/controls",
          "model_module_version": "1.5.0",
          "model_name": "ProgressStyleModel",
          "state": {
            "_model_module": "@jupyter-widgets/controls",
            "_model_module_version": "1.5.0",
            "_model_name": "ProgressStyleModel",
            "_view_count": null,
            "_view_module": "@jupyter-widgets/base",
            "_view_module_version": "1.2.0",
            "_view_name": "StyleView",
            "bar_color": null,
            "description_width": ""
          }
        },
        "57f89ba1dae14106aa88beb3b123805b": {
          "model_module": "@jupyter-widgets/base",
          "model_module_version": "1.2.0",
          "model_name": "LayoutModel",
          "state": {
            "_model_module": "@jupyter-widgets/base",
            "_model_module_version": "1.2.0",
            "_model_name": "LayoutModel",
            "_view_count": null,
            "_view_module": "@jupyter-widgets/base",
            "_view_module_version": "1.2.0",
            "_view_name": "LayoutView",
            "align_content": null,
            "align_items": null,
            "align_self": null,
            "border": null,
            "bottom": null,
            "display": null,
            "flex": null,
            "flex_flow": null,
            "grid_area": null,
            "grid_auto_columns": null,
            "grid_auto_flow": null,
            "grid_auto_rows": null,
            "grid_column": null,
            "grid_gap": null,
            "grid_row": null,
            "grid_template_areas": null,
            "grid_template_columns": null,
            "grid_template_rows": null,
            "height": null,
            "justify_content": null,
            "justify_items": null,
            "left": null,
            "margin": null,
            "max_height": null,
            "max_width": null,
            "min_height": null,
            "min_width": null,
            "object_fit": null,
            "object_position": null,
            "order": null,
            "overflow": null,
            "overflow_x": null,
            "overflow_y": null,
            "padding": null,
            "right": null,
            "top": null,
            "visibility": null,
            "width": null
          }
        },
        "583fac85882d4ac8a9d886fd27ebcb3b": {
          "model_module": "@jupyter-widgets/controls",
          "model_module_version": "1.5.0",
          "model_name": "HTMLModel",
          "state": {
            "_dom_classes": [],
            "_model_module": "@jupyter-widgets/controls",
            "_model_module_version": "1.5.0",
            "_model_name": "HTMLModel",
            "_view_count": null,
            "_view_module": "@jupyter-widgets/controls",
            "_view_module_version": "1.5.0",
            "_view_name": "HTMLView",
            "description": "",
            "description_tooltip": null,
            "layout": "IPY_MODEL_86808a361000443db5dd755622e0c276",
            "placeholder": "​",
            "style": "IPY_MODEL_4279df59faca464c940eda5f8586f0d4",
            "value": " 4.00k/? [00:00&lt;00:00, 74.0kB/s]"
          }
        },
        "5851473bbb2d4dc58e4f48c74781c516": {
          "model_module": "@jupyter-widgets/base",
          "model_module_version": "1.2.0",
          "model_name": "LayoutModel",
          "state": {
            "_model_module": "@jupyter-widgets/base",
            "_model_module_version": "1.2.0",
            "_model_name": "LayoutModel",
            "_view_count": null,
            "_view_module": "@jupyter-widgets/base",
            "_view_module_version": "1.2.0",
            "_view_name": "LayoutView",
            "align_content": null,
            "align_items": null,
            "align_self": null,
            "border": null,
            "bottom": null,
            "display": null,
            "flex": null,
            "flex_flow": null,
            "grid_area": null,
            "grid_auto_columns": null,
            "grid_auto_flow": null,
            "grid_auto_rows": null,
            "grid_column": null,
            "grid_gap": null,
            "grid_row": null,
            "grid_template_areas": null,
            "grid_template_columns": null,
            "grid_template_rows": null,
            "height": null,
            "justify_content": null,
            "justify_items": null,
            "left": null,
            "margin": null,
            "max_height": null,
            "max_width": null,
            "min_height": null,
            "min_width": null,
            "object_fit": null,
            "object_position": null,
            "order": null,
            "overflow": null,
            "overflow_x": null,
            "overflow_y": null,
            "padding": null,
            "right": null,
            "top": null,
            "visibility": null,
            "width": null
          }
        },
        "59270651454e4607b530617ad99a6a68": {
          "model_module": "@jupyter-widgets/controls",
          "model_module_version": "1.5.0",
          "model_name": "ProgressStyleModel",
          "state": {
            "_model_module": "@jupyter-widgets/controls",
            "_model_module_version": "1.5.0",
            "_model_name": "ProgressStyleModel",
            "_view_count": null,
            "_view_module": "@jupyter-widgets/base",
            "_view_module_version": "1.2.0",
            "_view_name": "StyleView",
            "bar_color": null,
            "description_width": ""
          }
        },
        "59a2d1e2585843498598a4183ba35a89": {
          "model_module": "@jupyter-widgets/controls",
          "model_module_version": "1.5.0",
          "model_name": "FloatProgressModel",
          "state": {
            "_dom_classes": [],
            "_model_module": "@jupyter-widgets/controls",
            "_model_module_version": "1.5.0",
            "_model_name": "FloatProgressModel",
            "_view_count": null,
            "_view_module": "@jupyter-widgets/controls",
            "_view_module_version": "1.5.0",
            "_view_name": "ProgressView",
            "bar_style": "success",
            "description": "",
            "description_tooltip": null,
            "layout": "IPY_MODEL_6089086b88f640cf903eaff26f73a0e4",
            "max": 6,
            "min": 0,
            "orientation": "horizontal",
            "style": "IPY_MODEL_25c2fc62cbc24f4a9cc10687ee03a3f0",
            "value": 6
          }
        },
        "59f591fac4a7449098cf06f6b2e36ffe": {
          "model_module": "@jupyter-widgets/controls",
          "model_module_version": "1.5.0",
          "model_name": "FloatProgressModel",
          "state": {
            "_dom_classes": [],
            "_model_module": "@jupyter-widgets/controls",
            "_model_module_version": "1.5.0",
            "_model_name": "FloatProgressModel",
            "_view_count": null,
            "_view_module": "@jupyter-widgets/controls",
            "_view_module_version": "1.5.0",
            "_view_name": "ProgressView",
            "bar_style": "info",
            "description": "",
            "description_tooltip": null,
            "layout": "IPY_MODEL_6ad902127c374a89876f79c1ecd2e1e8",
            "max": 1,
            "min": 0,
            "orientation": "horizontal",
            "style": "IPY_MODEL_7b0264bd9f8a4f4a9d9b3dda576cce83",
            "value": 1
          }
        },
        "5a0e513d738e4de5b0bf0d1abb652b5e": {
          "model_module": "@jupyter-widgets/controls",
          "model_module_version": "1.5.0",
          "model_name": "HBoxModel",
          "state": {
            "_dom_classes": [],
            "_model_module": "@jupyter-widgets/controls",
            "_model_module_version": "1.5.0",
            "_model_name": "HBoxModel",
            "_view_count": null,
            "_view_module": "@jupyter-widgets/controls",
            "_view_module_version": "1.5.0",
            "_view_name": "HBoxView",
            "box_style": "",
            "children": [
              "IPY_MODEL_d5b7ec4cb7354dc68c56eb65f0a89e02",
              "IPY_MODEL_88481630c7df4818a0008f16a0ed958d",
              "IPY_MODEL_5e46044c1144469abffbde5cd1523388"
            ],
            "layout": "IPY_MODEL_93e56874a972416da323565ac07e995c"
          }
        },
        "5a8d3a6dfe16450d9b641096949b491f": {
          "model_module": "@jupyter-widgets/controls",
          "model_module_version": "1.5.0",
          "model_name": "HTMLModel",
          "state": {
            "_dom_classes": [],
            "_model_module": "@jupyter-widgets/controls",
            "_model_module_version": "1.5.0",
            "_model_name": "HTMLModel",
            "_view_count": null,
            "_view_module": "@jupyter-widgets/controls",
            "_view_module_version": "1.5.0",
            "_view_name": "HTMLView",
            "description": "",
            "description_tooltip": null,
            "layout": "IPY_MODEL_f9bdc9c3ab4747d28811f6bee10fa514",
            "placeholder": "​",
            "style": "IPY_MODEL_c4eaa4e3d7e940ba9bf5a21d67961abe",
            "value": " 219k/? [00:00&lt;00:00, 4.67MB/s]"
          }
        },
        "5b683ad962274fd4b8b204aaf98616c1": {
          "model_module": "@jupyter-widgets/controls",
          "model_module_version": "1.5.0",
          "model_name": "HTMLModel",
          "state": {
            "_dom_classes": [],
            "_model_module": "@jupyter-widgets/controls",
            "_model_module_version": "1.5.0",
            "_model_name": "HTMLModel",
            "_view_count": null,
            "_view_module": "@jupyter-widgets/controls",
            "_view_module_version": "1.5.0",
            "_view_name": "HTMLView",
            "description": "",
            "description_tooltip": null,
            "layout": "IPY_MODEL_b401fee189c341aca1a516c180e0765c",
            "placeholder": "​",
            "style": "IPY_MODEL_99b90cf94d2144cdb6725ed3eb99f3f3",
            "value": "Downloading: "
          }
        },
        "5b7b863af4954913aef4627d33b54b31": {
          "model_module": "@jupyter-widgets/base",
          "model_module_version": "1.2.0",
          "model_name": "LayoutModel",
          "state": {
            "_model_module": "@jupyter-widgets/base",
            "_model_module_version": "1.2.0",
            "_model_name": "LayoutModel",
            "_view_count": null,
            "_view_module": "@jupyter-widgets/base",
            "_view_module_version": "1.2.0",
            "_view_name": "LayoutView",
            "align_content": null,
            "align_items": null,
            "align_self": null,
            "border": null,
            "bottom": null,
            "display": null,
            "flex": null,
            "flex_flow": null,
            "grid_area": null,
            "grid_auto_columns": null,
            "grid_auto_flow": null,
            "grid_auto_rows": null,
            "grid_column": null,
            "grid_gap": null,
            "grid_row": null,
            "grid_template_areas": null,
            "grid_template_columns": null,
            "grid_template_rows": null,
            "height": null,
            "justify_content": null,
            "justify_items": null,
            "left": null,
            "margin": null,
            "max_height": null,
            "max_width": null,
            "min_height": null,
            "min_width": null,
            "object_fit": null,
            "object_position": null,
            "order": null,
            "overflow": null,
            "overflow_x": null,
            "overflow_y": null,
            "padding": null,
            "right": null,
            "top": null,
            "visibility": null,
            "width": null
          }
        },
        "5cee0726fcdc497aa2527269a02b88a7": {
          "model_module": "@jupyter-widgets/base",
          "model_module_version": "1.2.0",
          "model_name": "LayoutModel",
          "state": {
            "_model_module": "@jupyter-widgets/base",
            "_model_module_version": "1.2.0",
            "_model_name": "LayoutModel",
            "_view_count": null,
            "_view_module": "@jupyter-widgets/base",
            "_view_module_version": "1.2.0",
            "_view_name": "LayoutView",
            "align_content": null,
            "align_items": null,
            "align_self": null,
            "border": null,
            "bottom": null,
            "display": null,
            "flex": null,
            "flex_flow": null,
            "grid_area": null,
            "grid_auto_columns": null,
            "grid_auto_flow": null,
            "grid_auto_rows": null,
            "grid_column": null,
            "grid_gap": null,
            "grid_row": null,
            "grid_template_areas": null,
            "grid_template_columns": null,
            "grid_template_rows": null,
            "height": null,
            "justify_content": null,
            "justify_items": null,
            "left": null,
            "margin": null,
            "max_height": null,
            "max_width": null,
            "min_height": null,
            "min_width": null,
            "object_fit": null,
            "object_position": null,
            "order": null,
            "overflow": null,
            "overflow_x": null,
            "overflow_y": null,
            "padding": null,
            "right": null,
            "top": null,
            "visibility": null,
            "width": null
          }
        },
        "5e46044c1144469abffbde5cd1523388": {
          "model_module": "@jupyter-widgets/controls",
          "model_module_version": "1.5.0",
          "model_name": "HTMLModel",
          "state": {
            "_dom_classes": [],
            "_model_module": "@jupyter-widgets/controls",
            "_model_module_version": "1.5.0",
            "_model_name": "HTMLModel",
            "_view_count": null,
            "_view_module": "@jupyter-widgets/controls",
            "_view_module_version": "1.5.0",
            "_view_name": "HTMLView",
            "description": "",
            "description_tooltip": null,
            "layout": "IPY_MODEL_d7327a906e734807b0db63e32e9a2167",
            "placeholder": "​",
            "style": "IPY_MODEL_7234247d51904ff6990946a7728925d8",
            "value": " 91.2k/? [00:00&lt;00:00, 2.37MB/s]"
          }
        },
        "6089086b88f640cf903eaff26f73a0e4": {
          "model_module": "@jupyter-widgets/base",
          "model_module_version": "1.2.0",
          "model_name": "LayoutModel",
          "state": {
            "_model_module": "@jupyter-widgets/base",
            "_model_module_version": "1.2.0",
            "_model_name": "LayoutModel",
            "_view_count": null,
            "_view_module": "@jupyter-widgets/base",
            "_view_module_version": "1.2.0",
            "_view_name": "LayoutView",
            "align_content": null,
            "align_items": null,
            "align_self": null,
            "border": null,
            "bottom": null,
            "display": null,
            "flex": null,
            "flex_flow": null,
            "grid_area": null,
            "grid_auto_columns": null,
            "grid_auto_flow": null,
            "grid_auto_rows": null,
            "grid_column": null,
            "grid_gap": null,
            "grid_row": null,
            "grid_template_areas": null,
            "grid_template_columns": null,
            "grid_template_rows": null,
            "height": null,
            "justify_content": null,
            "justify_items": null,
            "left": null,
            "margin": null,
            "max_height": null,
            "max_width": null,
            "min_height": null,
            "min_width": null,
            "object_fit": null,
            "object_position": null,
            "order": null,
            "overflow": null,
            "overflow_x": null,
            "overflow_y": null,
            "padding": null,
            "right": null,
            "top": null,
            "visibility": null,
            "width": null
          }
        },
        "60f813c44b9348bbb4258e3ad2fcb36b": {
          "model_module": "@jupyter-widgets/base",
          "model_module_version": "1.2.0",
          "model_name": "LayoutModel",
          "state": {
            "_model_module": "@jupyter-widgets/base",
            "_model_module_version": "1.2.0",
            "_model_name": "LayoutModel",
            "_view_count": null,
            "_view_module": "@jupyter-widgets/base",
            "_view_module_version": "1.2.0",
            "_view_name": "LayoutView",
            "align_content": null,
            "align_items": null,
            "align_self": null,
            "border": null,
            "bottom": null,
            "display": null,
            "flex": null,
            "flex_flow": null,
            "grid_area": null,
            "grid_auto_columns": null,
            "grid_auto_flow": null,
            "grid_auto_rows": null,
            "grid_column": null,
            "grid_gap": null,
            "grid_row": null,
            "grid_template_areas": null,
            "grid_template_columns": null,
            "grid_template_rows": null,
            "height": null,
            "justify_content": null,
            "justify_items": null,
            "left": null,
            "margin": null,
            "max_height": null,
            "max_width": null,
            "min_height": null,
            "min_width": null,
            "object_fit": null,
            "object_position": null,
            "order": null,
            "overflow": null,
            "overflow_x": null,
            "overflow_y": null,
            "padding": null,
            "right": null,
            "top": null,
            "visibility": null,
            "width": null
          }
        },
        "624e9d7e3810453c9b091f7985bdd1d2": {
          "model_module": "@jupyter-widgets/base",
          "model_module_version": "1.2.0",
          "model_name": "LayoutModel",
          "state": {
            "_model_module": "@jupyter-widgets/base",
            "_model_module_version": "1.2.0",
            "_model_name": "LayoutModel",
            "_view_count": null,
            "_view_module": "@jupyter-widgets/base",
            "_view_module_version": "1.2.0",
            "_view_name": "LayoutView",
            "align_content": null,
            "align_items": null,
            "align_self": null,
            "border": null,
            "bottom": null,
            "display": null,
            "flex": null,
            "flex_flow": null,
            "grid_area": null,
            "grid_auto_columns": null,
            "grid_auto_flow": null,
            "grid_auto_rows": null,
            "grid_column": null,
            "grid_gap": null,
            "grid_row": null,
            "grid_template_areas": null,
            "grid_template_columns": null,
            "grid_template_rows": null,
            "height": null,
            "justify_content": null,
            "justify_items": null,
            "left": null,
            "margin": null,
            "max_height": null,
            "max_width": null,
            "min_height": null,
            "min_width": null,
            "object_fit": null,
            "object_position": null,
            "order": null,
            "overflow": null,
            "overflow_x": null,
            "overflow_y": null,
            "padding": null,
            "right": null,
            "top": null,
            "visibility": null,
            "width": null
          }
        },
        "632b13b9a33349478d71e1103ede1de2": {
          "model_module": "@jupyter-widgets/base",
          "model_module_version": "1.2.0",
          "model_name": "LayoutModel",
          "state": {
            "_model_module": "@jupyter-widgets/base",
            "_model_module_version": "1.2.0",
            "_model_name": "LayoutModel",
            "_view_count": null,
            "_view_module": "@jupyter-widgets/base",
            "_view_module_version": "1.2.0",
            "_view_name": "LayoutView",
            "align_content": null,
            "align_items": null,
            "align_self": null,
            "border": null,
            "bottom": null,
            "display": null,
            "flex": null,
            "flex_flow": null,
            "grid_area": null,
            "grid_auto_columns": null,
            "grid_auto_flow": null,
            "grid_auto_rows": null,
            "grid_column": null,
            "grid_gap": null,
            "grid_row": null,
            "grid_template_areas": null,
            "grid_template_columns": null,
            "grid_template_rows": null,
            "height": null,
            "justify_content": null,
            "justify_items": null,
            "left": null,
            "margin": null,
            "max_height": null,
            "max_width": null,
            "min_height": null,
            "min_width": null,
            "object_fit": null,
            "object_position": null,
            "order": null,
            "overflow": null,
            "overflow_x": null,
            "overflow_y": null,
            "padding": null,
            "right": null,
            "top": null,
            "visibility": null,
            "width": null
          }
        },
        "63cb6f2807334189931a4b7ce9b36d14": {
          "model_module": "@jupyter-widgets/controls",
          "model_module_version": "1.5.0",
          "model_name": "DescriptionStyleModel",
          "state": {
            "_model_module": "@jupyter-widgets/controls",
            "_model_module_version": "1.5.0",
            "_model_name": "DescriptionStyleModel",
            "_view_count": null,
            "_view_module": "@jupyter-widgets/base",
            "_view_module_version": "1.2.0",
            "_view_name": "StyleView",
            "description_width": ""
          }
        },
        "652a0dbfb1cc4671a2b91f03bea9e606": {
          "model_module": "@jupyter-widgets/base",
          "model_module_version": "1.2.0",
          "model_name": "LayoutModel",
          "state": {
            "_model_module": "@jupyter-widgets/base",
            "_model_module_version": "1.2.0",
            "_model_name": "LayoutModel",
            "_view_count": null,
            "_view_module": "@jupyter-widgets/base",
            "_view_module_version": "1.2.0",
            "_view_name": "LayoutView",
            "align_content": null,
            "align_items": null,
            "align_self": null,
            "border": null,
            "bottom": null,
            "display": null,
            "flex": null,
            "flex_flow": null,
            "grid_area": null,
            "grid_auto_columns": null,
            "grid_auto_flow": null,
            "grid_auto_rows": null,
            "grid_column": null,
            "grid_gap": null,
            "grid_row": null,
            "grid_template_areas": null,
            "grid_template_columns": null,
            "grid_template_rows": null,
            "height": null,
            "justify_content": null,
            "justify_items": null,
            "left": null,
            "margin": null,
            "max_height": null,
            "max_width": null,
            "min_height": null,
            "min_width": null,
            "object_fit": null,
            "object_position": null,
            "order": null,
            "overflow": null,
            "overflow_x": null,
            "overflow_y": null,
            "padding": null,
            "right": null,
            "top": null,
            "visibility": null,
            "width": null
          }
        },
        "671faca6ea9a40ecb06ff20e1f73cfd3": {
          "model_module": "@jupyter-widgets/controls",
          "model_module_version": "1.5.0",
          "model_name": "HTMLModel",
          "state": {
            "_dom_classes": [],
            "_model_module": "@jupyter-widgets/controls",
            "_model_module_version": "1.5.0",
            "_model_name": "HTMLModel",
            "_view_count": null,
            "_view_module": "@jupyter-widgets/controls",
            "_view_module_version": "1.5.0",
            "_view_name": "HTMLView",
            "description": "",
            "description_tooltip": null,
            "layout": "IPY_MODEL_edf98de5f8544826a34201b17d6abdd1",
            "placeholder": "​",
            "style": "IPY_MODEL_63cb6f2807334189931a4b7ce9b36d14",
            "value": ""
          }
        },
        "67c836bb07b7425aa54a25a3b0167f0c": {
          "model_module": "@jupyter-widgets/controls",
          "model_module_version": "1.5.0",
          "model_name": "HBoxModel",
          "state": {
            "_dom_classes": [],
            "_model_module": "@jupyter-widgets/controls",
            "_model_module_version": "1.5.0",
            "_model_name": "HBoxModel",
            "_view_count": null,
            "_view_module": "@jupyter-widgets/controls",
            "_view_module_version": "1.5.0",
            "_view_name": "HBoxView",
            "box_style": "",
            "children": [
              "IPY_MODEL_2901bf8ca69a4cb2b7f70247a7c6a728",
              "IPY_MODEL_6a6ad14e88cc43e7a12f287fd03b8f62",
              "IPY_MODEL_559ae35bfa764c6e8ddad42dbf71ed63"
            ],
            "layout": "IPY_MODEL_bf848f3da934415b980086903149b3b0"
          }
        },
        "67e11d8608cc464aa150174aaac22d70": {
          "model_module": "@jupyter-widgets/controls",
          "model_module_version": "1.5.0",
          "model_name": "FloatProgressModel",
          "state": {
            "_dom_classes": [],
            "_model_module": "@jupyter-widgets/controls",
            "_model_module_version": "1.5.0",
            "_model_name": "FloatProgressModel",
            "_view_count": null,
            "_view_module": "@jupyter-widgets/controls",
            "_view_module_version": "1.5.0",
            "_view_name": "ProgressView",
            "bar_style": "success",
            "description": "",
            "description_tooltip": null,
            "layout": "IPY_MODEL_948bbccefaad49d2a545c2b8b7f36028",
            "max": 60327,
            "min": 0,
            "orientation": "horizontal",
            "style": "IPY_MODEL_49bd7708340340aa914653a35d2fc910",
            "value": 60327
          }
        },
        "68c762f3e4834c3fb958388b1cb5155d": {
          "model_module": "@jupyter-widgets/base",
          "model_module_version": "1.2.0",
          "model_name": "LayoutModel",
          "state": {
            "_model_module": "@jupyter-widgets/base",
            "_model_module_version": "1.2.0",
            "_model_name": "LayoutModel",
            "_view_count": null,
            "_view_module": "@jupyter-widgets/base",
            "_view_module_version": "1.2.0",
            "_view_name": "LayoutView",
            "align_content": null,
            "align_items": null,
            "align_self": null,
            "border": null,
            "bottom": null,
            "display": null,
            "flex": null,
            "flex_flow": null,
            "grid_area": null,
            "grid_auto_columns": null,
            "grid_auto_flow": null,
            "grid_auto_rows": null,
            "grid_column": null,
            "grid_gap": null,
            "grid_row": null,
            "grid_template_areas": null,
            "grid_template_columns": null,
            "grid_template_rows": null,
            "height": null,
            "justify_content": null,
            "justify_items": null,
            "left": null,
            "margin": null,
            "max_height": null,
            "max_width": null,
            "min_height": null,
            "min_width": null,
            "object_fit": null,
            "object_position": null,
            "order": null,
            "overflow": null,
            "overflow_x": null,
            "overflow_y": null,
            "padding": null,
            "right": null,
            "top": null,
            "visibility": null,
            "width": null
          }
        },
        "697ec722b4734ed59228472738d2041e": {
          "model_module": "@jupyter-widgets/controls",
          "model_module_version": "1.5.0",
          "model_name": "HBoxModel",
          "state": {
            "_dom_classes": [],
            "_model_module": "@jupyter-widgets/controls",
            "_model_module_version": "1.5.0",
            "_model_name": "HBoxModel",
            "_view_count": null,
            "_view_module": "@jupyter-widgets/controls",
            "_view_module_version": "1.5.0",
            "_view_name": "HBoxView",
            "box_style": "",
            "children": [
              "IPY_MODEL_1cf3cac6f8084c29bbcd4e9ee6895d19",
              "IPY_MODEL_295cc97c0e3c4da882714e7eab7c4192",
              "IPY_MODEL_eba0eb25acec43d4b7bed33b94f00dba"
            ],
            "layout": "IPY_MODEL_d552f4c83fe741a6b380a02188b3b565"
          }
        },
        "69d7790864964505a70b529aa439b966": {
          "model_module": "@jupyter-widgets/base",
          "model_module_version": "1.2.0",
          "model_name": "LayoutModel",
          "state": {
            "_model_module": "@jupyter-widgets/base",
            "_model_module_version": "1.2.0",
            "_model_name": "LayoutModel",
            "_view_count": null,
            "_view_module": "@jupyter-widgets/base",
            "_view_module_version": "1.2.0",
            "_view_name": "LayoutView",
            "align_content": null,
            "align_items": null,
            "align_self": null,
            "border": null,
            "bottom": null,
            "display": null,
            "flex": null,
            "flex_flow": null,
            "grid_area": null,
            "grid_auto_columns": null,
            "grid_auto_flow": null,
            "grid_auto_rows": null,
            "grid_column": null,
            "grid_gap": null,
            "grid_row": null,
            "grid_template_areas": null,
            "grid_template_columns": null,
            "grid_template_rows": null,
            "height": null,
            "justify_content": null,
            "justify_items": null,
            "left": null,
            "margin": null,
            "max_height": null,
            "max_width": null,
            "min_height": null,
            "min_width": null,
            "object_fit": null,
            "object_position": null,
            "order": null,
            "overflow": null,
            "overflow_x": null,
            "overflow_y": null,
            "padding": null,
            "right": null,
            "top": null,
            "visibility": null,
            "width": null
          }
        },
        "6a6ad14e88cc43e7a12f287fd03b8f62": {
          "model_module": "@jupyter-widgets/controls",
          "model_module_version": "1.5.0",
          "model_name": "FloatProgressModel",
          "state": {
            "_dom_classes": [],
            "_model_module": "@jupyter-widgets/controls",
            "_model_module_version": "1.5.0",
            "_model_name": "FloatProgressModel",
            "_view_count": null,
            "_view_module": "@jupyter-widgets/controls",
            "_view_module_version": "1.5.0",
            "_view_name": "ProgressView",
            "bar_style": "success",
            "description": "",
            "description_tooltip": null,
            "layout": "IPY_MODEL_4eda4fa784884d808d2f27190344d428",
            "max": 28,
            "min": 0,
            "orientation": "horizontal",
            "style": "IPY_MODEL_1803cfb4ae0546c9b9bd7df506ca33cc",
            "value": 28
          }
        },
        "6a91dc5c15854b51b15ca2e839e7a3ab": {
          "model_module": "@jupyter-widgets/base",
          "model_module_version": "1.2.0",
          "model_name": "LayoutModel",
          "state": {
            "_model_module": "@jupyter-widgets/base",
            "_model_module_version": "1.2.0",
            "_model_name": "LayoutModel",
            "_view_count": null,
            "_view_module": "@jupyter-widgets/base",
            "_view_module_version": "1.2.0",
            "_view_name": "LayoutView",
            "align_content": null,
            "align_items": null,
            "align_self": null,
            "border": null,
            "bottom": null,
            "display": null,
            "flex": null,
            "flex_flow": null,
            "grid_area": null,
            "grid_auto_columns": null,
            "grid_auto_flow": null,
            "grid_auto_rows": null,
            "grid_column": null,
            "grid_gap": null,
            "grid_row": null,
            "grid_template_areas": null,
            "grid_template_columns": null,
            "grid_template_rows": null,
            "height": null,
            "justify_content": null,
            "justify_items": null,
            "left": null,
            "margin": null,
            "max_height": null,
            "max_width": null,
            "min_height": null,
            "min_width": null,
            "object_fit": null,
            "object_position": null,
            "order": null,
            "overflow": null,
            "overflow_x": null,
            "overflow_y": null,
            "padding": null,
            "right": null,
            "top": null,
            "visibility": null,
            "width": null
          }
        },
        "6ad902127c374a89876f79c1ecd2e1e8": {
          "model_module": "@jupyter-widgets/base",
          "model_module_version": "1.2.0",
          "model_name": "LayoutModel",
          "state": {
            "_model_module": "@jupyter-widgets/base",
            "_model_module_version": "1.2.0",
            "_model_name": "LayoutModel",
            "_view_count": null,
            "_view_module": "@jupyter-widgets/base",
            "_view_module_version": "1.2.0",
            "_view_name": "LayoutView",
            "align_content": null,
            "align_items": null,
            "align_self": null,
            "border": null,
            "bottom": null,
            "display": null,
            "flex": null,
            "flex_flow": null,
            "grid_area": null,
            "grid_auto_columns": null,
            "grid_auto_flow": null,
            "grid_auto_rows": null,
            "grid_column": null,
            "grid_gap": null,
            "grid_row": null,
            "grid_template_areas": null,
            "grid_template_columns": null,
            "grid_template_rows": null,
            "height": null,
            "justify_content": null,
            "justify_items": null,
            "left": null,
            "margin": null,
            "max_height": null,
            "max_width": null,
            "min_height": null,
            "min_width": null,
            "object_fit": null,
            "object_position": null,
            "order": null,
            "overflow": null,
            "overflow_x": null,
            "overflow_y": null,
            "padding": null,
            "right": null,
            "top": null,
            "visibility": null,
            "width": "20px"
          }
        },
        "6b3fdd33affc4b5cb28c65f072b35847": {
          "model_module": "@jupyter-widgets/controls",
          "model_module_version": "1.5.0",
          "model_name": "DescriptionStyleModel",
          "state": {
            "_model_module": "@jupyter-widgets/controls",
            "_model_module_version": "1.5.0",
            "_model_name": "DescriptionStyleModel",
            "_view_count": null,
            "_view_module": "@jupyter-widgets/base",
            "_view_module_version": "1.2.0",
            "_view_name": "StyleView",
            "description_width": ""
          }
        },
        "6b75b0c550514cb6832930f9970221fa": {
          "model_module": "@jupyter-widgets/base",
          "model_module_version": "1.2.0",
          "model_name": "LayoutModel",
          "state": {
            "_model_module": "@jupyter-widgets/base",
            "_model_module_version": "1.2.0",
            "_model_name": "LayoutModel",
            "_view_count": null,
            "_view_module": "@jupyter-widgets/base",
            "_view_module_version": "1.2.0",
            "_view_name": "LayoutView",
            "align_content": null,
            "align_items": null,
            "align_self": null,
            "border": null,
            "bottom": null,
            "display": null,
            "flex": null,
            "flex_flow": null,
            "grid_area": null,
            "grid_auto_columns": null,
            "grid_auto_flow": null,
            "grid_auto_rows": null,
            "grid_column": null,
            "grid_gap": null,
            "grid_row": null,
            "grid_template_areas": null,
            "grid_template_columns": null,
            "grid_template_rows": null,
            "height": null,
            "justify_content": null,
            "justify_items": null,
            "left": null,
            "margin": null,
            "max_height": null,
            "max_width": null,
            "min_height": null,
            "min_width": null,
            "object_fit": null,
            "object_position": null,
            "order": null,
            "overflow": null,
            "overflow_x": null,
            "overflow_y": null,
            "padding": null,
            "right": null,
            "top": null,
            "visibility": null,
            "width": null
          }
        },
        "6b795226ab434e7e98b38cc48b0eb9d1": {
          "model_module": "@jupyter-widgets/base",
          "model_module_version": "1.2.0",
          "model_name": "LayoutModel",
          "state": {
            "_model_module": "@jupyter-widgets/base",
            "_model_module_version": "1.2.0",
            "_model_name": "LayoutModel",
            "_view_count": null,
            "_view_module": "@jupyter-widgets/base",
            "_view_module_version": "1.2.0",
            "_view_name": "LayoutView",
            "align_content": null,
            "align_items": null,
            "align_self": null,
            "border": null,
            "bottom": null,
            "display": null,
            "flex": null,
            "flex_flow": null,
            "grid_area": null,
            "grid_auto_columns": null,
            "grid_auto_flow": null,
            "grid_auto_rows": null,
            "grid_column": null,
            "grid_gap": null,
            "grid_row": null,
            "grid_template_areas": null,
            "grid_template_columns": null,
            "grid_template_rows": null,
            "height": null,
            "justify_content": null,
            "justify_items": null,
            "left": null,
            "margin": null,
            "max_height": null,
            "max_width": null,
            "min_height": null,
            "min_width": null,
            "object_fit": null,
            "object_position": null,
            "order": null,
            "overflow": null,
            "overflow_x": null,
            "overflow_y": null,
            "padding": null,
            "right": null,
            "top": null,
            "visibility": null,
            "width": null
          }
        },
        "6cc52397d70e4bdca5b3b8693ddac9ab": {
          "model_module": "@jupyter-widgets/controls",
          "model_module_version": "1.5.0",
          "model_name": "HTMLModel",
          "state": {
            "_dom_classes": [],
            "_model_module": "@jupyter-widgets/controls",
            "_model_module_version": "1.5.0",
            "_model_name": "HTMLModel",
            "_view_count": null,
            "_view_module": "@jupyter-widgets/controls",
            "_view_module_version": "1.5.0",
            "_view_name": "HTMLView",
            "description": "",
            "description_tooltip": null,
            "layout": "IPY_MODEL_5cee0726fcdc497aa2527269a02b88a7",
            "placeholder": "​",
            "style": "IPY_MODEL_83b361fdd02d4d118f8b53160d65e4b0",
            "value": "Downloading: "
          }
        },
        "6e2b4d03577c4b73805b01c2bf6e7822": {
          "model_module": "@jupyter-widgets/controls",
          "model_module_version": "1.5.0",
          "model_name": "ProgressStyleModel",
          "state": {
            "_model_module": "@jupyter-widgets/controls",
            "_model_module_version": "1.5.0",
            "_model_name": "ProgressStyleModel",
            "_view_count": null,
            "_view_module": "@jupyter-widgets/base",
            "_view_module_version": "1.2.0",
            "_view_name": "StyleView",
            "bar_color": null,
            "description_width": ""
          }
        },
        "6ee5b6c426aa42b183a1d17929738cbf": {
          "model_module": "@jupyter-widgets/base",
          "model_module_version": "1.2.0",
          "model_name": "LayoutModel",
          "state": {
            "_model_module": "@jupyter-widgets/base",
            "_model_module_version": "1.2.0",
            "_model_name": "LayoutModel",
            "_view_count": null,
            "_view_module": "@jupyter-widgets/base",
            "_view_module_version": "1.2.0",
            "_view_name": "LayoutView",
            "align_content": null,
            "align_items": null,
            "align_self": null,
            "border": null,
            "bottom": null,
            "display": null,
            "flex": null,
            "flex_flow": null,
            "grid_area": null,
            "grid_auto_columns": null,
            "grid_auto_flow": null,
            "grid_auto_rows": null,
            "grid_column": null,
            "grid_gap": null,
            "grid_row": null,
            "grid_template_areas": null,
            "grid_template_columns": null,
            "grid_template_rows": null,
            "height": null,
            "justify_content": null,
            "justify_items": null,
            "left": null,
            "margin": null,
            "max_height": null,
            "max_width": null,
            "min_height": null,
            "min_width": null,
            "object_fit": null,
            "object_position": null,
            "order": null,
            "overflow": null,
            "overflow_x": null,
            "overflow_y": null,
            "padding": null,
            "right": null,
            "top": null,
            "visibility": null,
            "width": null
          }
        },
        "6ff1ccb9362f4efd81e50d5e6e772c48": {
          "model_module": "@jupyter-widgets/controls",
          "model_module_version": "1.5.0",
          "model_name": "DescriptionStyleModel",
          "state": {
            "_model_module": "@jupyter-widgets/controls",
            "_model_module_version": "1.5.0",
            "_model_name": "DescriptionStyleModel",
            "_view_count": null,
            "_view_module": "@jupyter-widgets/base",
            "_view_module_version": "1.2.0",
            "_view_name": "StyleView",
            "description_width": ""
          }
        },
        "70973f7e3d5b4158a940c7f3f2d67686": {
          "model_module": "@jupyter-widgets/controls",
          "model_module_version": "1.5.0",
          "model_name": "HBoxModel",
          "state": {
            "_dom_classes": [],
            "_model_module": "@jupyter-widgets/controls",
            "_model_module_version": "1.5.0",
            "_model_name": "HBoxModel",
            "_view_count": null,
            "_view_module": "@jupyter-widgets/controls",
            "_view_module_version": "1.5.0",
            "_view_name": "HBoxView",
            "box_style": "",
            "children": [
              "IPY_MODEL_adf8e8edaa8743f8a667219f53f787a6",
              "IPY_MODEL_08faa4385e374b0a84dd80710d56f3cb",
              "IPY_MODEL_047b6bdfd37d4f89b9bdc1ff587acdf7"
            ],
            "layout": "IPY_MODEL_1d1fbc56bb634575aa3986c11171b254"
          }
        },
        "7232ced562e644cba2bffe5246bdec46": {
          "model_module": "@jupyter-widgets/controls",
          "model_module_version": "1.5.0",
          "model_name": "DescriptionStyleModel",
          "state": {
            "_model_module": "@jupyter-widgets/controls",
            "_model_module_version": "1.5.0",
            "_model_name": "DescriptionStyleModel",
            "_view_count": null,
            "_view_module": "@jupyter-widgets/base",
            "_view_module_version": "1.2.0",
            "_view_name": "StyleView",
            "description_width": ""
          }
        },
        "7234247d51904ff6990946a7728925d8": {
          "model_module": "@jupyter-widgets/controls",
          "model_module_version": "1.5.0",
          "model_name": "DescriptionStyleModel",
          "state": {
            "_model_module": "@jupyter-widgets/controls",
            "_model_module_version": "1.5.0",
            "_model_name": "DescriptionStyleModel",
            "_view_count": null,
            "_view_module": "@jupyter-widgets/base",
            "_view_module_version": "1.2.0",
            "_view_name": "StyleView",
            "description_width": ""
          }
        },
        "734270dde8ef4229a5ddbf5c8edcfb4e": {
          "model_module": "@jupyter-widgets/controls",
          "model_module_version": "1.5.0",
          "model_name": "FloatProgressModel",
          "state": {
            "_dom_classes": [],
            "_model_module": "@jupyter-widgets/controls",
            "_model_module_version": "1.5.0",
            "_model_name": "FloatProgressModel",
            "_view_count": null,
            "_view_module": "@jupyter-widgets/controls",
            "_view_module_version": "1.5.0",
            "_view_name": "ProgressView",
            "bar_style": "success",
            "description": "",
            "description_tooltip": null,
            "layout": "IPY_MODEL_c492c87d2de8488889245655fe796c4a",
            "max": 570,
            "min": 0,
            "orientation": "horizontal",
            "style": "IPY_MODEL_7ee010f1fc18483c840533c66dd67b3e",
            "value": 570
          }
        },
        "738be42137794e7ab3a8033eccb4e0b2": {
          "model_module": "@jupyter-widgets/controls",
          "model_module_version": "1.5.0",
          "model_name": "HTMLModel",
          "state": {
            "_dom_classes": [],
            "_model_module": "@jupyter-widgets/controls",
            "_model_module_version": "1.5.0",
            "_model_name": "HTMLModel",
            "_view_count": null,
            "_view_module": "@jupyter-widgets/controls",
            "_view_module_version": "1.5.0",
            "_view_name": "HTMLView",
            "description": "",
            "description_tooltip": null,
            "layout": "IPY_MODEL_fe7a74fc8f2c4e10bef7210f21d0ee37",
            "placeholder": "​",
            "style": "IPY_MODEL_e8be11975d494fc5bcef4a95ea5e038f",
            "value": " 6.51k/? [00:00&lt;00:00, 172kB/s]"
          }
        },
        "73e8d5973f6046df98e332d4e07b002b": {
          "model_module": "@jupyter-widgets/base",
          "model_module_version": "1.2.0",
          "model_name": "LayoutModel",
          "state": {
            "_model_module": "@jupyter-widgets/base",
            "_model_module_version": "1.2.0",
            "_model_name": "LayoutModel",
            "_view_count": null,
            "_view_module": "@jupyter-widgets/base",
            "_view_module_version": "1.2.0",
            "_view_name": "LayoutView",
            "align_content": null,
            "align_items": null,
            "align_self": null,
            "border": null,
            "bottom": null,
            "display": null,
            "flex": null,
            "flex_flow": null,
            "grid_area": null,
            "grid_auto_columns": null,
            "grid_auto_flow": null,
            "grid_auto_rows": null,
            "grid_column": null,
            "grid_gap": null,
            "grid_row": null,
            "grid_template_areas": null,
            "grid_template_columns": null,
            "grid_template_rows": null,
            "height": null,
            "justify_content": null,
            "justify_items": null,
            "left": null,
            "margin": null,
            "max_height": null,
            "max_width": null,
            "min_height": null,
            "min_width": null,
            "object_fit": null,
            "object_position": null,
            "order": null,
            "overflow": null,
            "overflow_x": null,
            "overflow_y": null,
            "padding": null,
            "right": null,
            "top": null,
            "visibility": null,
            "width": null
          }
        },
        "75abab274cfc49918ea5f38de506a19f": {
          "model_module": "@jupyter-widgets/base",
          "model_module_version": "1.2.0",
          "model_name": "LayoutModel",
          "state": {
            "_model_module": "@jupyter-widgets/base",
            "_model_module_version": "1.2.0",
            "_model_name": "LayoutModel",
            "_view_count": null,
            "_view_module": "@jupyter-widgets/base",
            "_view_module_version": "1.2.0",
            "_view_name": "LayoutView",
            "align_content": null,
            "align_items": null,
            "align_self": null,
            "border": null,
            "bottom": null,
            "display": null,
            "flex": null,
            "flex_flow": null,
            "grid_area": null,
            "grid_auto_columns": null,
            "grid_auto_flow": null,
            "grid_auto_rows": null,
            "grid_column": null,
            "grid_gap": null,
            "grid_row": null,
            "grid_template_areas": null,
            "grid_template_columns": null,
            "grid_template_rows": null,
            "height": null,
            "justify_content": null,
            "justify_items": null,
            "left": null,
            "margin": null,
            "max_height": null,
            "max_width": null,
            "min_height": null,
            "min_width": null,
            "object_fit": null,
            "object_position": null,
            "order": null,
            "overflow": null,
            "overflow_x": null,
            "overflow_y": null,
            "padding": null,
            "right": null,
            "top": null,
            "visibility": null,
            "width": null
          }
        },
        "77533e6d859b48bc8a71ff3ae1fc95df": {
          "model_module": "@jupyter-widgets/controls",
          "model_module_version": "1.5.0",
          "model_name": "HTMLModel",
          "state": {
            "_dom_classes": [],
            "_model_module": "@jupyter-widgets/controls",
            "_model_module_version": "1.5.0",
            "_model_name": "HTMLModel",
            "_view_count": null,
            "_view_module": "@jupyter-widgets/controls",
            "_view_module_version": "1.5.0",
            "_view_name": "HTMLView",
            "description": "",
            "description_tooltip": null,
            "layout": "IPY_MODEL_cd409dac0aa942b6ae5303fb7db946d8",
            "placeholder": "​",
            "style": "IPY_MODEL_95ca66e48de04ad6a47de0aa58d382c9",
            "value": " 133k/? [00:00&lt;00:00, 2.55MB/s]"
          }
        },
        "77e28126fc534b829f8205bc9ecabe75": {
          "model_module": "@jupyter-widgets/controls",
          "model_module_version": "1.5.0",
          "model_name": "HTMLModel",
          "state": {
            "_dom_classes": [],
            "_model_module": "@jupyter-widgets/controls",
            "_model_module_version": "1.5.0",
            "_model_name": "HTMLModel",
            "_view_count": null,
            "_view_module": "@jupyter-widgets/controls",
            "_view_module_version": "1.5.0",
            "_view_name": "HTMLView",
            "description": "",
            "description_tooltip": null,
            "layout": "IPY_MODEL_69d7790864964505a70b529aa439b966",
            "placeholder": "​",
            "style": "IPY_MODEL_aac7c63cf8934064a3a98d05f359e564",
            "value": "100%"
          }
        },
        "7888d42179db40fe9fc002cd6f15bb7c": {
          "model_module": "@jupyter-widgets/controls",
          "model_module_version": "1.5.0",
          "model_name": "DescriptionStyleModel",
          "state": {
            "_model_module": "@jupyter-widgets/controls",
            "_model_module_version": "1.5.0",
            "_model_name": "DescriptionStyleModel",
            "_view_count": null,
            "_view_module": "@jupyter-widgets/base",
            "_view_module_version": "1.2.0",
            "_view_name": "StyleView",
            "description_width": ""
          }
        },
        "78c7750f09514faa99e1bdc47698d93b": {
          "model_module": "@jupyter-widgets/controls",
          "model_module_version": "1.5.0",
          "model_name": "DescriptionStyleModel",
          "state": {
            "_model_module": "@jupyter-widgets/controls",
            "_model_module_version": "1.5.0",
            "_model_name": "DescriptionStyleModel",
            "_view_count": null,
            "_view_module": "@jupyter-widgets/base",
            "_view_module_version": "1.2.0",
            "_view_name": "StyleView",
            "description_width": ""
          }
        },
        "7b0264bd9f8a4f4a9d9b3dda576cce83": {
          "model_module": "@jupyter-widgets/controls",
          "model_module_version": "1.5.0",
          "model_name": "ProgressStyleModel",
          "state": {
            "_model_module": "@jupyter-widgets/controls",
            "_model_module_version": "1.5.0",
            "_model_name": "ProgressStyleModel",
            "_view_count": null,
            "_view_module": "@jupyter-widgets/base",
            "_view_module_version": "1.2.0",
            "_view_name": "StyleView",
            "bar_color": null,
            "description_width": ""
          }
        },
        "7b56d9b4c240492db0eb50e0f4668aec": {
          "model_module": "@jupyter-widgets/base",
          "model_module_version": "1.2.0",
          "model_name": "LayoutModel",
          "state": {
            "_model_module": "@jupyter-widgets/base",
            "_model_module_version": "1.2.0",
            "_model_name": "LayoutModel",
            "_view_count": null,
            "_view_module": "@jupyter-widgets/base",
            "_view_module_version": "1.2.0",
            "_view_name": "LayoutView",
            "align_content": null,
            "align_items": null,
            "align_self": null,
            "border": null,
            "bottom": null,
            "display": null,
            "flex": null,
            "flex_flow": null,
            "grid_area": null,
            "grid_auto_columns": null,
            "grid_auto_flow": null,
            "grid_auto_rows": null,
            "grid_column": null,
            "grid_gap": null,
            "grid_row": null,
            "grid_template_areas": null,
            "grid_template_columns": null,
            "grid_template_rows": null,
            "height": null,
            "justify_content": null,
            "justify_items": null,
            "left": null,
            "margin": null,
            "max_height": null,
            "max_width": null,
            "min_height": null,
            "min_width": null,
            "object_fit": null,
            "object_position": null,
            "order": null,
            "overflow": null,
            "overflow_x": null,
            "overflow_y": null,
            "padding": null,
            "right": null,
            "top": null,
            "visibility": null,
            "width": "20px"
          }
        },
        "7b7951bd67944472a3280f1395bb98e7": {
          "model_module": "@jupyter-widgets/base",
          "model_module_version": "1.2.0",
          "model_name": "LayoutModel",
          "state": {
            "_model_module": "@jupyter-widgets/base",
            "_model_module_version": "1.2.0",
            "_model_name": "LayoutModel",
            "_view_count": null,
            "_view_module": "@jupyter-widgets/base",
            "_view_module_version": "1.2.0",
            "_view_name": "LayoutView",
            "align_content": null,
            "align_items": null,
            "align_self": null,
            "border": null,
            "bottom": null,
            "display": null,
            "flex": null,
            "flex_flow": null,
            "grid_area": null,
            "grid_auto_columns": null,
            "grid_auto_flow": null,
            "grid_auto_rows": null,
            "grid_column": null,
            "grid_gap": null,
            "grid_row": null,
            "grid_template_areas": null,
            "grid_template_columns": null,
            "grid_template_rows": null,
            "height": null,
            "justify_content": null,
            "justify_items": null,
            "left": null,
            "margin": null,
            "max_height": null,
            "max_width": null,
            "min_height": null,
            "min_width": null,
            "object_fit": null,
            "object_position": null,
            "order": null,
            "overflow": null,
            "overflow_x": null,
            "overflow_y": null,
            "padding": null,
            "right": null,
            "top": null,
            "visibility": null,
            "width": null
          }
        },
        "7b89b606aefa4602827083aeab90541f": {
          "model_module": "@jupyter-widgets/base",
          "model_module_version": "1.2.0",
          "model_name": "LayoutModel",
          "state": {
            "_model_module": "@jupyter-widgets/base",
            "_model_module_version": "1.2.0",
            "_model_name": "LayoutModel",
            "_view_count": null,
            "_view_module": "@jupyter-widgets/base",
            "_view_module_version": "1.2.0",
            "_view_name": "LayoutView",
            "align_content": null,
            "align_items": null,
            "align_self": null,
            "border": null,
            "bottom": null,
            "display": null,
            "flex": null,
            "flex_flow": null,
            "grid_area": null,
            "grid_auto_columns": null,
            "grid_auto_flow": null,
            "grid_auto_rows": null,
            "grid_column": null,
            "grid_gap": null,
            "grid_row": null,
            "grid_template_areas": null,
            "grid_template_columns": null,
            "grid_template_rows": null,
            "height": null,
            "justify_content": null,
            "justify_items": null,
            "left": null,
            "margin": null,
            "max_height": null,
            "max_width": null,
            "min_height": null,
            "min_width": null,
            "object_fit": null,
            "object_position": null,
            "order": null,
            "overflow": null,
            "overflow_x": null,
            "overflow_y": null,
            "padding": null,
            "right": null,
            "top": null,
            "visibility": null,
            "width": null
          }
        },
        "7bcbadae064843269579e06f2a45bece": {
          "model_module": "@jupyter-widgets/controls",
          "model_module_version": "1.5.0",
          "model_name": "HBoxModel",
          "state": {
            "_dom_classes": [],
            "_model_module": "@jupyter-widgets/controls",
            "_model_module_version": "1.5.0",
            "_model_name": "HBoxModel",
            "_view_count": null,
            "_view_module": "@jupyter-widgets/controls",
            "_view_module_version": "1.5.0",
            "_view_name": "HBoxView",
            "box_style": "",
            "children": [
              "IPY_MODEL_5b683ad962274fd4b8b204aaf98616c1",
              "IPY_MODEL_3c87983f03e54e94bf653ff4fc252ae6",
              "IPY_MODEL_0b5318bbbc99494f823675e52c5b8374"
            ],
            "layout": "IPY_MODEL_8c750feb07c24768997fe2d46654fb18"
          }
        },
        "7c8d9032567a417fbc9db6176466aa63": {
          "model_module": "@jupyter-widgets/base",
          "model_module_version": "1.2.0",
          "model_name": "LayoutModel",
          "state": {
            "_model_module": "@jupyter-widgets/base",
            "_model_module_version": "1.2.0",
            "_model_name": "LayoutModel",
            "_view_count": null,
            "_view_module": "@jupyter-widgets/base",
            "_view_module_version": "1.2.0",
            "_view_name": "LayoutView",
            "align_content": null,
            "align_items": null,
            "align_self": null,
            "border": null,
            "bottom": null,
            "display": null,
            "flex": null,
            "flex_flow": null,
            "grid_area": null,
            "grid_auto_columns": null,
            "grid_auto_flow": null,
            "grid_auto_rows": null,
            "grid_column": null,
            "grid_gap": null,
            "grid_row": null,
            "grid_template_areas": null,
            "grid_template_columns": null,
            "grid_template_rows": null,
            "height": null,
            "justify_content": null,
            "justify_items": null,
            "left": null,
            "margin": null,
            "max_height": null,
            "max_width": null,
            "min_height": null,
            "min_width": null,
            "object_fit": null,
            "object_position": null,
            "order": null,
            "overflow": null,
            "overflow_x": null,
            "overflow_y": null,
            "padding": null,
            "right": null,
            "top": null,
            "visibility": null,
            "width": null
          }
        },
        "7ddea92589754ecea10734c5d6da6902": {
          "model_module": "@jupyter-widgets/controls",
          "model_module_version": "1.5.0",
          "model_name": "DescriptionStyleModel",
          "state": {
            "_model_module": "@jupyter-widgets/controls",
            "_model_module_version": "1.5.0",
            "_model_name": "DescriptionStyleModel",
            "_view_count": null,
            "_view_module": "@jupyter-widgets/base",
            "_view_module_version": "1.2.0",
            "_view_name": "StyleView",
            "description_width": ""
          }
        },
        "7dee311311dd4f98b141d1708c011176": {
          "model_module": "@jupyter-widgets/controls",
          "model_module_version": "1.5.0",
          "model_name": "HTMLModel",
          "state": {
            "_dom_classes": [],
            "_model_module": "@jupyter-widgets/controls",
            "_model_module_version": "1.5.0",
            "_model_name": "HTMLModel",
            "_view_count": null,
            "_view_module": "@jupyter-widgets/controls",
            "_view_module_version": "1.5.0",
            "_view_name": "HTMLView",
            "description": "",
            "description_tooltip": null,
            "layout": "IPY_MODEL_bc1cc04f9f2e4b058730317bdf304ac3",
            "placeholder": "​",
            "style": "IPY_MODEL_0a31b76918f24adb85b1f1f2b1ce50bf",
            "value": " 30.4k/? [00:00&lt;00:00, 723kB/s]"
          }
        },
        "7e3bf8b1c6ce4b7b811b2dfc45df3d85": {
          "model_module": "@jupyter-widgets/controls",
          "model_module_version": "1.5.0",
          "model_name": "HBoxModel",
          "state": {
            "_dom_classes": [],
            "_model_module": "@jupyter-widgets/controls",
            "_model_module_version": "1.5.0",
            "_model_name": "HBoxModel",
            "_view_count": null,
            "_view_module": "@jupyter-widgets/controls",
            "_view_module_version": "1.5.0",
            "_view_name": "HBoxView",
            "box_style": "",
            "children": [
              "IPY_MODEL_08bebbd4592a4118bc1e76b45da67cd2",
              "IPY_MODEL_2fd6f93296114a6ca622a6e8c591616a",
              "IPY_MODEL_7dee311311dd4f98b141d1708c011176"
            ],
            "layout": "IPY_MODEL_c68630d3222d4ce8bbca99751a10fecd"
          }
        },
        "7ee010f1fc18483c840533c66dd67b3e": {
          "model_module": "@jupyter-widgets/controls",
          "model_module_version": "1.5.0",
          "model_name": "ProgressStyleModel",
          "state": {
            "_model_module": "@jupyter-widgets/controls",
            "_model_module_version": "1.5.0",
            "_model_name": "ProgressStyleModel",
            "_view_count": null,
            "_view_module": "@jupyter-widgets/base",
            "_view_module_version": "1.2.0",
            "_view_name": "StyleView",
            "bar_color": null,
            "description_width": ""
          }
        },
        "805c9c799c7043d0a779f481d1546384": {
          "model_module": "@jupyter-widgets/controls",
          "model_module_version": "1.5.0",
          "model_name": "ProgressStyleModel",
          "state": {
            "_model_module": "@jupyter-widgets/controls",
            "_model_module_version": "1.5.0",
            "_model_name": "ProgressStyleModel",
            "_view_count": null,
            "_view_module": "@jupyter-widgets/base",
            "_view_module_version": "1.2.0",
            "_view_name": "StyleView",
            "bar_color": null,
            "description_width": ""
          }
        },
        "83a67270f88d4620a37db75fb0ad9b01": {
          "model_module": "@jupyter-widgets/base",
          "model_module_version": "1.2.0",
          "model_name": "LayoutModel",
          "state": {
            "_model_module": "@jupyter-widgets/base",
            "_model_module_version": "1.2.0",
            "_model_name": "LayoutModel",
            "_view_count": null,
            "_view_module": "@jupyter-widgets/base",
            "_view_module_version": "1.2.0",
            "_view_name": "LayoutView",
            "align_content": null,
            "align_items": null,
            "align_self": null,
            "border": null,
            "bottom": null,
            "display": null,
            "flex": null,
            "flex_flow": null,
            "grid_area": null,
            "grid_auto_columns": null,
            "grid_auto_flow": null,
            "grid_auto_rows": null,
            "grid_column": null,
            "grid_gap": null,
            "grid_row": null,
            "grid_template_areas": null,
            "grid_template_columns": null,
            "grid_template_rows": null,
            "height": null,
            "justify_content": null,
            "justify_items": null,
            "left": null,
            "margin": null,
            "max_height": null,
            "max_width": null,
            "min_height": null,
            "min_width": null,
            "object_fit": null,
            "object_position": null,
            "order": null,
            "overflow": null,
            "overflow_x": null,
            "overflow_y": null,
            "padding": null,
            "right": null,
            "top": null,
            "visibility": null,
            "width": null
          }
        },
        "83b361fdd02d4d118f8b53160d65e4b0": {
          "model_module": "@jupyter-widgets/controls",
          "model_module_version": "1.5.0",
          "model_name": "DescriptionStyleModel",
          "state": {
            "_model_module": "@jupyter-widgets/controls",
            "_model_module_version": "1.5.0",
            "_model_name": "DescriptionStyleModel",
            "_view_count": null,
            "_view_module": "@jupyter-widgets/base",
            "_view_module_version": "1.2.0",
            "_view_name": "StyleView",
            "description_width": ""
          }
        },
        "83f7a23b172b46dfa3a9c35799ebc40e": {
          "model_module": "@jupyter-widgets/base",
          "model_module_version": "1.2.0",
          "model_name": "LayoutModel",
          "state": {
            "_model_module": "@jupyter-widgets/base",
            "_model_module_version": "1.2.0",
            "_model_name": "LayoutModel",
            "_view_count": null,
            "_view_module": "@jupyter-widgets/base",
            "_view_module_version": "1.2.0",
            "_view_name": "LayoutView",
            "align_content": null,
            "align_items": null,
            "align_self": null,
            "border": null,
            "bottom": null,
            "display": null,
            "flex": null,
            "flex_flow": null,
            "grid_area": null,
            "grid_auto_columns": null,
            "grid_auto_flow": null,
            "grid_auto_rows": null,
            "grid_column": null,
            "grid_gap": null,
            "grid_row": null,
            "grid_template_areas": null,
            "grid_template_columns": null,
            "grid_template_rows": null,
            "height": null,
            "justify_content": null,
            "justify_items": null,
            "left": null,
            "margin": null,
            "max_height": null,
            "max_width": null,
            "min_height": null,
            "min_width": null,
            "object_fit": null,
            "object_position": null,
            "order": null,
            "overflow": null,
            "overflow_x": null,
            "overflow_y": null,
            "padding": null,
            "right": null,
            "top": null,
            "visibility": null,
            "width": null
          }
        },
        "85aa7ec9c88c4d97808ec74e5a7e2c43": {
          "model_module": "@jupyter-widgets/controls",
          "model_module_version": "1.5.0",
          "model_name": "ProgressStyleModel",
          "state": {
            "_model_module": "@jupyter-widgets/controls",
            "_model_module_version": "1.5.0",
            "_model_name": "ProgressStyleModel",
            "_view_count": null,
            "_view_module": "@jupyter-widgets/base",
            "_view_module_version": "1.2.0",
            "_view_name": "StyleView",
            "bar_color": null,
            "description_width": ""
          }
        },
        "864553c504704dbbbd415cbc63e23f90": {
          "model_module": "@jupyter-widgets/base",
          "model_module_version": "1.2.0",
          "model_name": "LayoutModel",
          "state": {
            "_model_module": "@jupyter-widgets/base",
            "_model_module_version": "1.2.0",
            "_model_name": "LayoutModel",
            "_view_count": null,
            "_view_module": "@jupyter-widgets/base",
            "_view_module_version": "1.2.0",
            "_view_name": "LayoutView",
            "align_content": null,
            "align_items": null,
            "align_self": null,
            "border": null,
            "bottom": null,
            "display": null,
            "flex": null,
            "flex_flow": null,
            "grid_area": null,
            "grid_auto_columns": null,
            "grid_auto_flow": null,
            "grid_auto_rows": null,
            "grid_column": null,
            "grid_gap": null,
            "grid_row": null,
            "grid_template_areas": null,
            "grid_template_columns": null,
            "grid_template_rows": null,
            "height": null,
            "justify_content": null,
            "justify_items": null,
            "left": null,
            "margin": null,
            "max_height": null,
            "max_width": null,
            "min_height": null,
            "min_width": null,
            "object_fit": null,
            "object_position": null,
            "order": null,
            "overflow": null,
            "overflow_x": null,
            "overflow_y": null,
            "padding": null,
            "right": null,
            "top": null,
            "visibility": null,
            "width": null
          }
        },
        "865f749c99c1448e9f193e6d458a1068": {
          "model_module": "@jupyter-widgets/controls",
          "model_module_version": "1.5.0",
          "model_name": "DescriptionStyleModel",
          "state": {
            "_model_module": "@jupyter-widgets/controls",
            "_model_module_version": "1.5.0",
            "_model_name": "DescriptionStyleModel",
            "_view_count": null,
            "_view_module": "@jupyter-widgets/base",
            "_view_module_version": "1.2.0",
            "_view_name": "StyleView",
            "description_width": ""
          }
        },
        "86808a361000443db5dd755622e0c276": {
          "model_module": "@jupyter-widgets/base",
          "model_module_version": "1.2.0",
          "model_name": "LayoutModel",
          "state": {
            "_model_module": "@jupyter-widgets/base",
            "_model_module_version": "1.2.0",
            "_model_name": "LayoutModel",
            "_view_count": null,
            "_view_module": "@jupyter-widgets/base",
            "_view_module_version": "1.2.0",
            "_view_name": "LayoutView",
            "align_content": null,
            "align_items": null,
            "align_self": null,
            "border": null,
            "bottom": null,
            "display": null,
            "flex": null,
            "flex_flow": null,
            "grid_area": null,
            "grid_auto_columns": null,
            "grid_auto_flow": null,
            "grid_auto_rows": null,
            "grid_column": null,
            "grid_gap": null,
            "grid_row": null,
            "grid_template_areas": null,
            "grid_template_columns": null,
            "grid_template_rows": null,
            "height": null,
            "justify_content": null,
            "justify_items": null,
            "left": null,
            "margin": null,
            "max_height": null,
            "max_width": null,
            "min_height": null,
            "min_width": null,
            "object_fit": null,
            "object_position": null,
            "order": null,
            "overflow": null,
            "overflow_x": null,
            "overflow_y": null,
            "padding": null,
            "right": null,
            "top": null,
            "visibility": null,
            "width": null
          }
        },
        "86bbf14bb3dd4e858a9c98322c0f0e53": {
          "model_module": "@jupyter-widgets/controls",
          "model_module_version": "1.5.0",
          "model_name": "ProgressStyleModel",
          "state": {
            "_model_module": "@jupyter-widgets/controls",
            "_model_module_version": "1.5.0",
            "_model_name": "ProgressStyleModel",
            "_view_count": null,
            "_view_module": "@jupyter-widgets/base",
            "_view_module_version": "1.2.0",
            "_view_name": "StyleView",
            "bar_color": null,
            "description_width": ""
          }
        },
        "86d06c2152be459eb23731ea2c8a37ca": {
          "model_module": "@jupyter-widgets/base",
          "model_module_version": "1.2.0",
          "model_name": "LayoutModel",
          "state": {
            "_model_module": "@jupyter-widgets/base",
            "_model_module_version": "1.2.0",
            "_model_name": "LayoutModel",
            "_view_count": null,
            "_view_module": "@jupyter-widgets/base",
            "_view_module_version": "1.2.0",
            "_view_name": "LayoutView",
            "align_content": null,
            "align_items": null,
            "align_self": null,
            "border": null,
            "bottom": null,
            "display": null,
            "flex": null,
            "flex_flow": null,
            "grid_area": null,
            "grid_auto_columns": null,
            "grid_auto_flow": null,
            "grid_auto_rows": null,
            "grid_column": null,
            "grid_gap": null,
            "grid_row": null,
            "grid_template_areas": null,
            "grid_template_columns": null,
            "grid_template_rows": null,
            "height": null,
            "justify_content": null,
            "justify_items": null,
            "left": null,
            "margin": null,
            "max_height": null,
            "max_width": null,
            "min_height": null,
            "min_width": null,
            "object_fit": null,
            "object_position": null,
            "order": null,
            "overflow": null,
            "overflow_x": null,
            "overflow_y": null,
            "padding": null,
            "right": null,
            "top": null,
            "visibility": null,
            "width": null
          }
        },
        "874b5b2aee9f4159a15d980fb7209fe9": {
          "model_module": "@jupyter-widgets/controls",
          "model_module_version": "1.5.0",
          "model_name": "HBoxModel",
          "state": {
            "_dom_classes": [],
            "_model_module": "@jupyter-widgets/controls",
            "_model_module_version": "1.5.0",
            "_model_name": "HBoxModel",
            "_view_count": null,
            "_view_module": "@jupyter-widgets/controls",
            "_view_module_version": "1.5.0",
            "_view_name": "HBoxView",
            "box_style": "",
            "children": [
              "IPY_MODEL_e34eedc7000047ca91ceb5136e3fa749",
              "IPY_MODEL_110769b67e37469da6266036e6ecf741",
              "IPY_MODEL_d50264138bc641b09d7fb204d6ee6e25"
            ],
            "layout": "IPY_MODEL_2a0b9cd1aab44a7fb529383f2c3d16ad"
          }
        },
        "878e14e2bd984bf3a49744fcbc87ce7f": {
          "model_module": "@jupyter-widgets/controls",
          "model_module_version": "1.5.0",
          "model_name": "FloatProgressModel",
          "state": {
            "_dom_classes": [],
            "_model_module": "@jupyter-widgets/controls",
            "_model_module_version": "1.5.0",
            "_model_name": "FloatProgressModel",
            "_view_count": null,
            "_view_module": "@jupyter-widgets/controls",
            "_view_module_version": "1.5.0",
            "_view_name": "ProgressView",
            "bar_style": "success",
            "description": "",
            "description_tooltip": null,
            "layout": "IPY_MODEL_1af1eb119a3743238830d2483dc5d284",
            "max": 99678,
            "min": 0,
            "orientation": "horizontal",
            "style": "IPY_MODEL_d2b2fb4057b94da5b6949cc443493f37",
            "value": 99678
          }
        },
        "88481630c7df4818a0008f16a0ed958d": {
          "model_module": "@jupyter-widgets/controls",
          "model_module_version": "1.5.0",
          "model_name": "FloatProgressModel",
          "state": {
            "_dom_classes": [],
            "_model_module": "@jupyter-widgets/controls",
            "_model_module_version": "1.5.0",
            "_model_name": "FloatProgressModel",
            "_view_count": null,
            "_view_module": "@jupyter-widgets/controls",
            "_view_module_version": "1.5.0",
            "_view_name": "ProgressView",
            "bar_style": "success",
            "description": "",
            "description_tooltip": null,
            "layout": "IPY_MODEL_cffce02666cb42ddadcb4c2596d7ff76",
            "max": 12715,
            "min": 0,
            "orientation": "horizontal",
            "style": "IPY_MODEL_1dc9fe86276f4762835bb85f6b0762ac",
            "value": 12715
          }
        },
        "89e64772f4e74d03ac1bfd80fc12da3a": {
          "model_module": "@jupyter-widgets/controls",
          "model_module_version": "1.5.0",
          "model_name": "DescriptionStyleModel",
          "state": {
            "_model_module": "@jupyter-widgets/controls",
            "_model_module_version": "1.5.0",
            "_model_name": "DescriptionStyleModel",
            "_view_count": null,
            "_view_module": "@jupyter-widgets/base",
            "_view_module_version": "1.2.0",
            "_view_name": "StyleView",
            "description_width": ""
          }
        },
        "8a63e5083b314fa7a51700de1e51a143": {
          "model_module": "@jupyter-widgets/controls",
          "model_module_version": "1.5.0",
          "model_name": "HTMLModel",
          "state": {
            "_dom_classes": [],
            "_model_module": "@jupyter-widgets/controls",
            "_model_module_version": "1.5.0",
            "_model_name": "HTMLModel",
            "_view_count": null,
            "_view_module": "@jupyter-widgets/controls",
            "_view_module_version": "1.5.0",
            "_view_name": "HTMLView",
            "description": "",
            "description_tooltip": null,
            "layout": "IPY_MODEL_0175223bd1d74c3ba7d687713ca20f56",
            "placeholder": "​",
            "style": "IPY_MODEL_20b3327b049343cf8d4fc9f1a21848de",
            "value": "100%"
          }
        },
        "8b053f477c8548d78bb096ff13d62034": {
          "model_module": "@jupyter-widgets/controls",
          "model_module_version": "1.5.0",
          "model_name": "HBoxModel",
          "state": {
            "_dom_classes": [],
            "_model_module": "@jupyter-widgets/controls",
            "_model_module_version": "1.5.0",
            "_model_name": "HBoxModel",
            "_view_count": null,
            "_view_module": "@jupyter-widgets/controls",
            "_view_module_version": "1.5.0",
            "_view_name": "HBoxView",
            "box_style": "",
            "children": [
              "IPY_MODEL_1797c144e0194dba8b8aaaf1d7d537d7",
              "IPY_MODEL_734270dde8ef4229a5ddbf5c8edcfb4e",
              "IPY_MODEL_c99f44f735ab41869984fb75bda0f747"
            ],
            "layout": "IPY_MODEL_c38381d3a1094e3a8e4224e48af30e8c"
          }
        },
        "8c750feb07c24768997fe2d46654fb18": {
          "model_module": "@jupyter-widgets/base",
          "model_module_version": "1.2.0",
          "model_name": "LayoutModel",
          "state": {
            "_model_module": "@jupyter-widgets/base",
            "_model_module_version": "1.2.0",
            "_model_name": "LayoutModel",
            "_view_count": null,
            "_view_module": "@jupyter-widgets/base",
            "_view_module_version": "1.2.0",
            "_view_name": "LayoutView",
            "align_content": null,
            "align_items": null,
            "align_self": null,
            "border": null,
            "bottom": null,
            "display": null,
            "flex": null,
            "flex_flow": null,
            "grid_area": null,
            "grid_auto_columns": null,
            "grid_auto_flow": null,
            "grid_auto_rows": null,
            "grid_column": null,
            "grid_gap": null,
            "grid_row": null,
            "grid_template_areas": null,
            "grid_template_columns": null,
            "grid_template_rows": null,
            "height": null,
            "justify_content": null,
            "justify_items": null,
            "left": null,
            "margin": null,
            "max_height": null,
            "max_width": null,
            "min_height": null,
            "min_width": null,
            "object_fit": null,
            "object_position": null,
            "order": null,
            "overflow": null,
            "overflow_x": null,
            "overflow_y": null,
            "padding": null,
            "right": null,
            "top": null,
            "visibility": null,
            "width": null
          }
        },
        "8e15bc128b5b4107ae371ec142612ab9": {
          "model_module": "@jupyter-widgets/base",
          "model_module_version": "1.2.0",
          "model_name": "LayoutModel",
          "state": {
            "_model_module": "@jupyter-widgets/base",
            "_model_module_version": "1.2.0",
            "_model_name": "LayoutModel",
            "_view_count": null,
            "_view_module": "@jupyter-widgets/base",
            "_view_module_version": "1.2.0",
            "_view_name": "LayoutView",
            "align_content": null,
            "align_items": null,
            "align_self": null,
            "border": null,
            "bottom": null,
            "display": null,
            "flex": null,
            "flex_flow": null,
            "grid_area": null,
            "grid_auto_columns": null,
            "grid_auto_flow": null,
            "grid_auto_rows": null,
            "grid_column": null,
            "grid_gap": null,
            "grid_row": null,
            "grid_template_areas": null,
            "grid_template_columns": null,
            "grid_template_rows": null,
            "height": null,
            "justify_content": null,
            "justify_items": null,
            "left": null,
            "margin": null,
            "max_height": null,
            "max_width": null,
            "min_height": null,
            "min_width": null,
            "object_fit": null,
            "object_position": null,
            "order": null,
            "overflow": null,
            "overflow_x": null,
            "overflow_y": null,
            "padding": null,
            "right": null,
            "top": null,
            "visibility": null,
            "width": null
          }
        },
        "8ea81446762045509297200da8671e7d": {
          "model_module": "@jupyter-widgets/controls",
          "model_module_version": "1.5.0",
          "model_name": "HBoxModel",
          "state": {
            "_dom_classes": [],
            "_model_module": "@jupyter-widgets/controls",
            "_model_module_version": "1.5.0",
            "_model_name": "HBoxModel",
            "_view_count": null,
            "_view_module": "@jupyter-widgets/controls",
            "_view_module_version": "1.5.0",
            "_view_name": "HBoxView",
            "box_style": "",
            "children": [
              "IPY_MODEL_0b7e00c438c14941b7974d16701eedc1",
              "IPY_MODEL_67e11d8608cc464aa150174aaac22d70",
              "IPY_MODEL_77533e6d859b48bc8a71ff3ae1fc95df"
            ],
            "layout": "IPY_MODEL_570c885e990343ff8aa2e49f6075501a"
          }
        },
        "8f654359031a401c929836d092e5652f": {
          "model_module": "@jupyter-widgets/base",
          "model_module_version": "1.2.0",
          "model_name": "LayoutModel",
          "state": {
            "_model_module": "@jupyter-widgets/base",
            "_model_module_version": "1.2.0",
            "_model_name": "LayoutModel",
            "_view_count": null,
            "_view_module": "@jupyter-widgets/base",
            "_view_module_version": "1.2.0",
            "_view_name": "LayoutView",
            "align_content": null,
            "align_items": null,
            "align_self": null,
            "border": null,
            "bottom": null,
            "display": null,
            "flex": null,
            "flex_flow": null,
            "grid_area": null,
            "grid_auto_columns": null,
            "grid_auto_flow": null,
            "grid_auto_rows": null,
            "grid_column": null,
            "grid_gap": null,
            "grid_row": null,
            "grid_template_areas": null,
            "grid_template_columns": null,
            "grid_template_rows": null,
            "height": null,
            "justify_content": null,
            "justify_items": null,
            "left": null,
            "margin": null,
            "max_height": null,
            "max_width": null,
            "min_height": null,
            "min_width": null,
            "object_fit": null,
            "object_position": null,
            "order": null,
            "overflow": null,
            "overflow_x": null,
            "overflow_y": null,
            "padding": null,
            "right": null,
            "top": null,
            "visibility": null,
            "width": null
          }
        },
        "8fe2f77c55c449438af52b26079e13c9": {
          "model_module": "@jupyter-widgets/controls",
          "model_module_version": "1.5.0",
          "model_name": "HBoxModel",
          "state": {
            "_dom_classes": [],
            "_model_module": "@jupyter-widgets/controls",
            "_model_module_version": "1.5.0",
            "_model_name": "HBoxModel",
            "_view_count": null,
            "_view_module": "@jupyter-widgets/controls",
            "_view_module_version": "1.5.0",
            "_view_name": "HBoxView",
            "box_style": "",
            "children": [
              "IPY_MODEL_fb84793276b640bda08018911c7edc9c",
              "IPY_MODEL_d2872570f40d4c729091aedee8893c94",
              "IPY_MODEL_33301cef0b6840918620fe9b05e27877"
            ],
            "layout": "IPY_MODEL_06c80f01e9ab41d6983f60f1d17f2165"
          }
        },
        "90914ef557214e588c426e417ad69468": {
          "model_module": "@jupyter-widgets/controls",
          "model_module_version": "1.5.0",
          "model_name": "HTMLModel",
          "state": {
            "_dom_classes": [],
            "_model_module": "@jupyter-widgets/controls",
            "_model_module_version": "1.5.0",
            "_model_name": "HTMLModel",
            "_view_count": null,
            "_view_module": "@jupyter-widgets/controls",
            "_view_module_version": "1.5.0",
            "_view_name": "HTMLView",
            "description": "",
            "description_tooltip": null,
            "layout": "IPY_MODEL_3b41d42013074e0f96e285282b73d0e0",
            "placeholder": "​",
            "style": "IPY_MODEL_53a377f881f74286878be45006584554",
            "value": "Downloading: "
          }
        },
        "90b7628bb04b4098a216bd3ef5116772": {
          "model_module": "@jupyter-widgets/controls",
          "model_module_version": "1.5.0",
          "model_name": "DescriptionStyleModel",
          "state": {
            "_model_module": "@jupyter-widgets/controls",
            "_model_module_version": "1.5.0",
            "_model_name": "DescriptionStyleModel",
            "_view_count": null,
            "_view_module": "@jupyter-widgets/base",
            "_view_module_version": "1.2.0",
            "_view_name": "StyleView",
            "description_width": ""
          }
        },
        "9140cf6e8af140819b01923314828b87": {
          "model_module": "@jupyter-widgets/controls",
          "model_module_version": "1.5.0",
          "model_name": "HTMLModel",
          "state": {
            "_dom_classes": [],
            "_model_module": "@jupyter-widgets/controls",
            "_model_module_version": "1.5.0",
            "_model_name": "HTMLModel",
            "_view_count": null,
            "_view_module": "@jupyter-widgets/controls",
            "_view_module_version": "1.5.0",
            "_view_name": "HTMLView",
            "description": "",
            "description_tooltip": null,
            "layout": "IPY_MODEL_f75a748017b9420cb928cb7b5376f09d",
            "placeholder": "​",
            "style": "IPY_MODEL_291196f17d2543378cc13e074bd02d68",
            "value": " 1015/0 [00:00&lt;00:00, 10147.37 examples/s]"
          }
        },
        "919a72407b924fc995a2a1d914703766": {
          "model_module": "@jupyter-widgets/controls",
          "model_module_version": "1.5.0",
          "model_name": "DescriptionStyleModel",
          "state": {
            "_model_module": "@jupyter-widgets/controls",
            "_model_module_version": "1.5.0",
            "_model_name": "DescriptionStyleModel",
            "_view_count": null,
            "_view_module": "@jupyter-widgets/base",
            "_view_module_version": "1.2.0",
            "_view_name": "StyleView",
            "description_width": ""
          }
        },
        "919e9304abb046dc8cd41f353c9958bf": {
          "model_module": "@jupyter-widgets/base",
          "model_module_version": "1.2.0",
          "model_name": "LayoutModel",
          "state": {
            "_model_module": "@jupyter-widgets/base",
            "_model_module_version": "1.2.0",
            "_model_name": "LayoutModel",
            "_view_count": null,
            "_view_module": "@jupyter-widgets/base",
            "_view_module_version": "1.2.0",
            "_view_name": "LayoutView",
            "align_content": null,
            "align_items": null,
            "align_self": null,
            "border": null,
            "bottom": null,
            "display": null,
            "flex": null,
            "flex_flow": null,
            "grid_area": null,
            "grid_auto_columns": null,
            "grid_auto_flow": null,
            "grid_auto_rows": null,
            "grid_column": null,
            "grid_gap": null,
            "grid_row": null,
            "grid_template_areas": null,
            "grid_template_columns": null,
            "grid_template_rows": null,
            "height": null,
            "justify_content": null,
            "justify_items": null,
            "left": null,
            "margin": null,
            "max_height": null,
            "max_width": null,
            "min_height": null,
            "min_width": null,
            "object_fit": null,
            "object_position": null,
            "order": null,
            "overflow": null,
            "overflow_x": null,
            "overflow_y": null,
            "padding": null,
            "right": null,
            "top": null,
            "visibility": null,
            "width": null
          }
        },
        "925a247968164d43a120c370613bae0e": {
          "model_module": "@jupyter-widgets/base",
          "model_module_version": "1.2.0",
          "model_name": "LayoutModel",
          "state": {
            "_model_module": "@jupyter-widgets/base",
            "_model_module_version": "1.2.0",
            "_model_name": "LayoutModel",
            "_view_count": null,
            "_view_module": "@jupyter-widgets/base",
            "_view_module_version": "1.2.0",
            "_view_name": "LayoutView",
            "align_content": null,
            "align_items": null,
            "align_self": null,
            "border": null,
            "bottom": null,
            "display": null,
            "flex": null,
            "flex_flow": null,
            "grid_area": null,
            "grid_auto_columns": null,
            "grid_auto_flow": null,
            "grid_auto_rows": null,
            "grid_column": null,
            "grid_gap": null,
            "grid_row": null,
            "grid_template_areas": null,
            "grid_template_columns": null,
            "grid_template_rows": null,
            "height": null,
            "justify_content": null,
            "justify_items": null,
            "left": null,
            "margin": null,
            "max_height": null,
            "max_width": null,
            "min_height": null,
            "min_width": null,
            "object_fit": null,
            "object_position": null,
            "order": null,
            "overflow": null,
            "overflow_x": null,
            "overflow_y": null,
            "padding": null,
            "right": null,
            "top": null,
            "visibility": null,
            "width": null
          }
        },
        "93e56874a972416da323565ac07e995c": {
          "model_module": "@jupyter-widgets/base",
          "model_module_version": "1.2.0",
          "model_name": "LayoutModel",
          "state": {
            "_model_module": "@jupyter-widgets/base",
            "_model_module_version": "1.2.0",
            "_model_name": "LayoutModel",
            "_view_count": null,
            "_view_module": "@jupyter-widgets/base",
            "_view_module_version": "1.2.0",
            "_view_name": "LayoutView",
            "align_content": null,
            "align_items": null,
            "align_self": null,
            "border": null,
            "bottom": null,
            "display": null,
            "flex": null,
            "flex_flow": null,
            "grid_area": null,
            "grid_auto_columns": null,
            "grid_auto_flow": null,
            "grid_auto_rows": null,
            "grid_column": null,
            "grid_gap": null,
            "grid_row": null,
            "grid_template_areas": null,
            "grid_template_columns": null,
            "grid_template_rows": null,
            "height": null,
            "justify_content": null,
            "justify_items": null,
            "left": null,
            "margin": null,
            "max_height": null,
            "max_width": null,
            "min_height": null,
            "min_width": null,
            "object_fit": null,
            "object_position": null,
            "order": null,
            "overflow": null,
            "overflow_x": null,
            "overflow_y": null,
            "padding": null,
            "right": null,
            "top": null,
            "visibility": null,
            "width": null
          }
        },
        "93fcb4a0b8aa4a90aa1626c41f1d2168": {
          "model_module": "@jupyter-widgets/controls",
          "model_module_version": "1.5.0",
          "model_name": "HTMLModel",
          "state": {
            "_dom_classes": [],
            "_model_module": "@jupyter-widgets/controls",
            "_model_module_version": "1.5.0",
            "_model_name": "HTMLModel",
            "_view_count": null,
            "_view_module": "@jupyter-widgets/controls",
            "_view_module_version": "1.5.0",
            "_view_name": "HTMLView",
            "description": "",
            "description_tooltip": null,
            "layout": "IPY_MODEL_ea2de0bf6c294f93bf0e1af54f28370d",
            "placeholder": "​",
            "style": "IPY_MODEL_cf50e005f4d14ba499119d8a9c2ab07d",
            "value": " 9889/0 [00:00&lt;00:00, 27769.58 examples/s]"
          }
        },
        "948bbccefaad49d2a545c2b8b7f36028": {
          "model_module": "@jupyter-widgets/base",
          "model_module_version": "1.2.0",
          "model_name": "LayoutModel",
          "state": {
            "_model_module": "@jupyter-widgets/base",
            "_model_module_version": "1.2.0",
            "_model_name": "LayoutModel",
            "_view_count": null,
            "_view_module": "@jupyter-widgets/base",
            "_view_module_version": "1.2.0",
            "_view_name": "LayoutView",
            "align_content": null,
            "align_items": null,
            "align_self": null,
            "border": null,
            "bottom": null,
            "display": null,
            "flex": null,
            "flex_flow": null,
            "grid_area": null,
            "grid_auto_columns": null,
            "grid_auto_flow": null,
            "grid_auto_rows": null,
            "grid_column": null,
            "grid_gap": null,
            "grid_row": null,
            "grid_template_areas": null,
            "grid_template_columns": null,
            "grid_template_rows": null,
            "height": null,
            "justify_content": null,
            "justify_items": null,
            "left": null,
            "margin": null,
            "max_height": null,
            "max_width": null,
            "min_height": null,
            "min_width": null,
            "object_fit": null,
            "object_position": null,
            "order": null,
            "overflow": null,
            "overflow_x": null,
            "overflow_y": null,
            "padding": null,
            "right": null,
            "top": null,
            "visibility": null,
            "width": null
          }
        },
        "959809d580764b938dca2c8fe5a266c5": {
          "model_module": "@jupyter-widgets/controls",
          "model_module_version": "1.5.0",
          "model_name": "DescriptionStyleModel",
          "state": {
            "_model_module": "@jupyter-widgets/controls",
            "_model_module_version": "1.5.0",
            "_model_name": "DescriptionStyleModel",
            "_view_count": null,
            "_view_module": "@jupyter-widgets/base",
            "_view_module_version": "1.2.0",
            "_view_name": "StyleView",
            "description_width": ""
          }
        },
        "95ca66e48de04ad6a47de0aa58d382c9": {
          "model_module": "@jupyter-widgets/controls",
          "model_module_version": "1.5.0",
          "model_name": "DescriptionStyleModel",
          "state": {
            "_model_module": "@jupyter-widgets/controls",
            "_model_module_version": "1.5.0",
            "_model_name": "DescriptionStyleModel",
            "_view_count": null,
            "_view_module": "@jupyter-widgets/base",
            "_view_module_version": "1.2.0",
            "_view_name": "StyleView",
            "description_width": ""
          }
        },
        "97d1a9f9e3be4190ad7d3531a16fe057": {
          "model_module": "@jupyter-widgets/controls",
          "model_module_version": "1.5.0",
          "model_name": "HTMLModel",
          "state": {
            "_dom_classes": [],
            "_model_module": "@jupyter-widgets/controls",
            "_model_module_version": "1.5.0",
            "_model_name": "HTMLModel",
            "_view_count": null,
            "_view_module": "@jupyter-widgets/controls",
            "_view_module_version": "1.5.0",
            "_view_name": "HTMLView",
            "description": "",
            "description_tooltip": null,
            "layout": "IPY_MODEL_0b5a265610234381ad352c66f7a0fa83",
            "placeholder": "​",
            "style": "IPY_MODEL_ec95aeb9fdf04deeaac10b3702d9d248",
            "value": " 45564/0 [00:01&lt;00:00, 30396.75 examples/s]"
          }
        },
        "983fba5140d0478584ea9a47eb6d8094": {
          "model_module": "@jupyter-widgets/controls",
          "model_module_version": "1.5.0",
          "model_name": "HTMLModel",
          "state": {
            "_dom_classes": [],
            "_model_module": "@jupyter-widgets/controls",
            "_model_module_version": "1.5.0",
            "_model_name": "HTMLModel",
            "_view_count": null,
            "_view_module": "@jupyter-widgets/controls",
            "_view_module_version": "1.5.0",
            "_view_name": "HTMLView",
            "description": "",
            "description_tooltip": null,
            "layout": "IPY_MODEL_624e9d7e3810453c9b091f7985bdd1d2",
            "placeholder": "​",
            "style": "IPY_MODEL_ea943ffe61414320b21c3efdc1566c36",
            "value": "Downloading: 100%"
          }
        },
        "998d1e9310b9417e853339db875e8b65": {
          "model_module": "@jupyter-widgets/base",
          "model_module_version": "1.2.0",
          "model_name": "LayoutModel",
          "state": {
            "_model_module": "@jupyter-widgets/base",
            "_model_module_version": "1.2.0",
            "_model_name": "LayoutModel",
            "_view_count": null,
            "_view_module": "@jupyter-widgets/base",
            "_view_module_version": "1.2.0",
            "_view_name": "LayoutView",
            "align_content": null,
            "align_items": null,
            "align_self": null,
            "border": null,
            "bottom": null,
            "display": null,
            "flex": null,
            "flex_flow": null,
            "grid_area": null,
            "grid_auto_columns": null,
            "grid_auto_flow": null,
            "grid_auto_rows": null,
            "grid_column": null,
            "grid_gap": null,
            "grid_row": null,
            "grid_template_areas": null,
            "grid_template_columns": null,
            "grid_template_rows": null,
            "height": null,
            "justify_content": null,
            "justify_items": null,
            "left": null,
            "margin": null,
            "max_height": null,
            "max_width": null,
            "min_height": null,
            "min_width": null,
            "object_fit": null,
            "object_position": null,
            "order": null,
            "overflow": null,
            "overflow_x": null,
            "overflow_y": null,
            "padding": null,
            "right": null,
            "top": null,
            "visibility": null,
            "width": null
          }
        },
        "99b90cf94d2144cdb6725ed3eb99f3f3": {
          "model_module": "@jupyter-widgets/controls",
          "model_module_version": "1.5.0",
          "model_name": "DescriptionStyleModel",
          "state": {
            "_model_module": "@jupyter-widgets/controls",
            "_model_module_version": "1.5.0",
            "_model_name": "DescriptionStyleModel",
            "_view_count": null,
            "_view_module": "@jupyter-widgets/base",
            "_view_module_version": "1.2.0",
            "_view_name": "StyleView",
            "description_width": ""
          }
        },
        "9d7e59330b3a498c8e915080510797fd": {
          "model_module": "@jupyter-widgets/base",
          "model_module_version": "1.2.0",
          "model_name": "LayoutModel",
          "state": {
            "_model_module": "@jupyter-widgets/base",
            "_model_module_version": "1.2.0",
            "_model_name": "LayoutModel",
            "_view_count": null,
            "_view_module": "@jupyter-widgets/base",
            "_view_module_version": "1.2.0",
            "_view_name": "LayoutView",
            "align_content": null,
            "align_items": null,
            "align_self": null,
            "border": null,
            "bottom": null,
            "display": null,
            "flex": null,
            "flex_flow": null,
            "grid_area": null,
            "grid_auto_columns": null,
            "grid_auto_flow": null,
            "grid_auto_rows": null,
            "grid_column": null,
            "grid_gap": null,
            "grid_row": null,
            "grid_template_areas": null,
            "grid_template_columns": null,
            "grid_template_rows": null,
            "height": null,
            "justify_content": null,
            "justify_items": null,
            "left": null,
            "margin": null,
            "max_height": null,
            "max_width": null,
            "min_height": null,
            "min_width": null,
            "object_fit": null,
            "object_position": null,
            "order": null,
            "overflow": null,
            "overflow_x": null,
            "overflow_y": null,
            "padding": null,
            "right": null,
            "top": null,
            "visibility": null,
            "width": null
          }
        },
        "9ead53f71bc144508caacc02575316cf": {
          "model_module": "@jupyter-widgets/controls",
          "model_module_version": "1.5.0",
          "model_name": "HTMLModel",
          "state": {
            "_dom_classes": [],
            "_model_module": "@jupyter-widgets/controls",
            "_model_module_version": "1.5.0",
            "_model_name": "HTMLModel",
            "_view_count": null,
            "_view_module": "@jupyter-widgets/controls",
            "_view_module_version": "1.5.0",
            "_view_name": "HTMLView",
            "description": "",
            "description_tooltip": null,
            "layout": "IPY_MODEL_5851473bbb2d4dc58e4f48c74781c516",
            "placeholder": "​",
            "style": "IPY_MODEL_b5522a1d3cce4688b653ed2577697b6c",
            "value": "100%"
          }
        },
        "9f51dee94ca642788a319cfeb6ab30d8": {
          "model_module": "@jupyter-widgets/base",
          "model_module_version": "1.2.0",
          "model_name": "LayoutModel",
          "state": {
            "_model_module": "@jupyter-widgets/base",
            "_model_module_version": "1.2.0",
            "_model_name": "LayoutModel",
            "_view_count": null,
            "_view_module": "@jupyter-widgets/base",
            "_view_module_version": "1.2.0",
            "_view_name": "LayoutView",
            "align_content": null,
            "align_items": null,
            "align_self": null,
            "border": null,
            "bottom": null,
            "display": null,
            "flex": null,
            "flex_flow": null,
            "grid_area": null,
            "grid_auto_columns": null,
            "grid_auto_flow": null,
            "grid_auto_rows": null,
            "grid_column": null,
            "grid_gap": null,
            "grid_row": null,
            "grid_template_areas": null,
            "grid_template_columns": null,
            "grid_template_rows": null,
            "height": null,
            "justify_content": null,
            "justify_items": null,
            "left": null,
            "margin": null,
            "max_height": null,
            "max_width": null,
            "min_height": null,
            "min_width": null,
            "object_fit": null,
            "object_position": null,
            "order": null,
            "overflow": null,
            "overflow_x": null,
            "overflow_y": null,
            "padding": null,
            "right": null,
            "top": null,
            "visibility": null,
            "width": null
          }
        },
        "a2af08af476c46b5bbe5aaa2b46d235a": {
          "model_module": "@jupyter-widgets/controls",
          "model_module_version": "1.5.0",
          "model_name": "DescriptionStyleModel",
          "state": {
            "_model_module": "@jupyter-widgets/controls",
            "_model_module_version": "1.5.0",
            "_model_name": "DescriptionStyleModel",
            "_view_count": null,
            "_view_module": "@jupyter-widgets/base",
            "_view_module_version": "1.2.0",
            "_view_name": "StyleView",
            "description_width": ""
          }
        },
        "a33a14b0c0c348aa8a9c60f268fbc35a": {
          "model_module": "@jupyter-widgets/controls",
          "model_module_version": "1.5.0",
          "model_name": "ProgressStyleModel",
          "state": {
            "_model_module": "@jupyter-widgets/controls",
            "_model_module_version": "1.5.0",
            "_model_name": "ProgressStyleModel",
            "_view_count": null,
            "_view_module": "@jupyter-widgets/base",
            "_view_module_version": "1.2.0",
            "_view_name": "StyleView",
            "bar_color": null,
            "description_width": ""
          }
        },
        "a4b5c9c779f041a0b2fd1b56537883e1": {
          "model_module": "@jupyter-widgets/controls",
          "model_module_version": "1.5.0",
          "model_name": "HTMLModel",
          "state": {
            "_dom_classes": [],
            "_model_module": "@jupyter-widgets/controls",
            "_model_module_version": "1.5.0",
            "_model_name": "HTMLModel",
            "_view_count": null,
            "_view_module": "@jupyter-widgets/controls",
            "_view_module_version": "1.5.0",
            "_view_name": "HTMLView",
            "description": "",
            "description_tooltip": null,
            "layout": "IPY_MODEL_73e8d5973f6046df98e332d4e07b002b",
            "placeholder": "​",
            "style": "IPY_MODEL_90b7628bb04b4098a216bd3ef5116772",
            "value": " 9.72k/? [00:00&lt;00:00, 228kB/s]"
          }
        },
        "a7121ce40bb140c1b58cf48eb2d2a5fb": {
          "model_module": "@jupyter-widgets/base",
          "model_module_version": "1.2.0",
          "model_name": "LayoutModel",
          "state": {
            "_model_module": "@jupyter-widgets/base",
            "_model_module_version": "1.2.0",
            "_model_name": "LayoutModel",
            "_view_count": null,
            "_view_module": "@jupyter-widgets/base",
            "_view_module_version": "1.2.0",
            "_view_name": "LayoutView",
            "align_content": null,
            "align_items": null,
            "align_self": null,
            "border": null,
            "bottom": null,
            "display": null,
            "flex": null,
            "flex_flow": null,
            "grid_area": null,
            "grid_auto_columns": null,
            "grid_auto_flow": null,
            "grid_auto_rows": null,
            "grid_column": null,
            "grid_gap": null,
            "grid_row": null,
            "grid_template_areas": null,
            "grid_template_columns": null,
            "grid_template_rows": null,
            "height": null,
            "justify_content": null,
            "justify_items": null,
            "left": null,
            "margin": null,
            "max_height": null,
            "max_width": null,
            "min_height": null,
            "min_width": null,
            "object_fit": null,
            "object_position": null,
            "order": null,
            "overflow": null,
            "overflow_x": null,
            "overflow_y": null,
            "padding": null,
            "right": null,
            "top": null,
            "visibility": null,
            "width": null
          }
        },
        "a79cc53e9c3b4d0aaafda245f4c42af2": {
          "model_module": "@jupyter-widgets/controls",
          "model_module_version": "1.5.0",
          "model_name": "ProgressStyleModel",
          "state": {
            "_model_module": "@jupyter-widgets/controls",
            "_model_module_version": "1.5.0",
            "_model_name": "ProgressStyleModel",
            "_view_count": null,
            "_view_module": "@jupyter-widgets/base",
            "_view_module_version": "1.2.0",
            "_view_name": "StyleView",
            "bar_color": null,
            "description_width": ""
          }
        },
        "a8c31dd504e2491c9b3498a8eeca4a3b": {
          "model_module": "@jupyter-widgets/controls",
          "model_module_version": "1.5.0",
          "model_name": "FloatProgressModel",
          "state": {
            "_dom_classes": [],
            "_model_module": "@jupyter-widgets/controls",
            "_model_module_version": "1.5.0",
            "_model_name": "FloatProgressModel",
            "_view_count": null,
            "_view_module": "@jupyter-widgets/controls",
            "_view_module_version": "1.5.0",
            "_view_name": "ProgressView",
            "bar_style": "info",
            "description": "",
            "description_tooltip": null,
            "layout": "IPY_MODEL_fdae299aa4584c74a00b5e98b4c89ec1",
            "max": 1,
            "min": 0,
            "orientation": "horizontal",
            "style": "IPY_MODEL_e2e768f6a5cd49bdba589abe2be87262",
            "value": 1
          }
        },
        "aac7c63cf8934064a3a98d05f359e564": {
          "model_module": "@jupyter-widgets/controls",
          "model_module_version": "1.5.0",
          "model_name": "DescriptionStyleModel",
          "state": {
            "_model_module": "@jupyter-widgets/controls",
            "_model_module_version": "1.5.0",
            "_model_name": "DescriptionStyleModel",
            "_view_count": null,
            "_view_module": "@jupyter-widgets/base",
            "_view_module_version": "1.2.0",
            "_view_name": "StyleView",
            "description_width": ""
          }
        },
        "ad0bf24eca7149c79ed10ccaf68b4707": {
          "model_module": "@jupyter-widgets/base",
          "model_module_version": "1.2.0",
          "model_name": "LayoutModel",
          "state": {
            "_model_module": "@jupyter-widgets/base",
            "_model_module_version": "1.2.0",
            "_model_name": "LayoutModel",
            "_view_count": null,
            "_view_module": "@jupyter-widgets/base",
            "_view_module_version": "1.2.0",
            "_view_name": "LayoutView",
            "align_content": null,
            "align_items": null,
            "align_self": null,
            "border": null,
            "bottom": null,
            "display": null,
            "flex": null,
            "flex_flow": null,
            "grid_area": null,
            "grid_auto_columns": null,
            "grid_auto_flow": null,
            "grid_auto_rows": null,
            "grid_column": null,
            "grid_gap": null,
            "grid_row": null,
            "grid_template_areas": null,
            "grid_template_columns": null,
            "grid_template_rows": null,
            "height": null,
            "justify_content": null,
            "justify_items": null,
            "left": null,
            "margin": null,
            "max_height": null,
            "max_width": null,
            "min_height": null,
            "min_width": null,
            "object_fit": null,
            "object_position": null,
            "order": null,
            "overflow": null,
            "overflow_x": null,
            "overflow_y": null,
            "padding": null,
            "right": null,
            "top": null,
            "visibility": null,
            "width": null
          }
        },
        "adf8e8edaa8743f8a667219f53f787a6": {
          "model_module": "@jupyter-widgets/controls",
          "model_module_version": "1.5.0",
          "model_name": "HTMLModel",
          "state": {
            "_dom_classes": [],
            "_model_module": "@jupyter-widgets/controls",
            "_model_module_version": "1.5.0",
            "_model_name": "HTMLModel",
            "_view_count": null,
            "_view_module": "@jupyter-widgets/controls",
            "_view_module_version": "1.5.0",
            "_view_name": "HTMLView",
            "description": "",
            "description_tooltip": null,
            "layout": "IPY_MODEL_6ee5b6c426aa42b183a1d17929738cbf",
            "placeholder": "​",
            "style": "IPY_MODEL_244bd8ab1ad9422b9afe2b4e8dc65db6",
            "value": "Downloading: 100%"
          }
        },
        "b1e720e60a5a46438127fd34fae1efe5": {
          "model_module": "@jupyter-widgets/controls",
          "model_module_version": "1.5.0",
          "model_name": "FloatProgressModel",
          "state": {
            "_dom_classes": [],
            "_model_module": "@jupyter-widgets/controls",
            "_model_module_version": "1.5.0",
            "_model_name": "FloatProgressModel",
            "_view_count": null,
            "_view_module": "@jupyter-widgets/controls",
            "_view_module_version": "1.5.0",
            "_view_name": "ProgressView",
            "bar_style": "success",
            "description": "",
            "description_tooltip": null,
            "layout": "IPY_MODEL_c7815cf5d59a47eca991603ac8e588d9",
            "max": 3526,
            "min": 0,
            "orientation": "horizontal",
            "style": "IPY_MODEL_cfa07699f1a3428e8b497e82fdc41d1c",
            "value": 3526
          }
        },
        "b3fe30f140e9494d87607db77fdec92e": {
          "model_module": "@jupyter-widgets/controls",
          "model_module_version": "1.5.0",
          "model_name": "DescriptionStyleModel",
          "state": {
            "_model_module": "@jupyter-widgets/controls",
            "_model_module_version": "1.5.0",
            "_model_name": "DescriptionStyleModel",
            "_view_count": null,
            "_view_module": "@jupyter-widgets/base",
            "_view_module_version": "1.2.0",
            "_view_name": "StyleView",
            "description_width": ""
          }
        },
        "b401fee189c341aca1a516c180e0765c": {
          "model_module": "@jupyter-widgets/base",
          "model_module_version": "1.2.0",
          "model_name": "LayoutModel",
          "state": {
            "_model_module": "@jupyter-widgets/base",
            "_model_module_version": "1.2.0",
            "_model_name": "LayoutModel",
            "_view_count": null,
            "_view_module": "@jupyter-widgets/base",
            "_view_module_version": "1.2.0",
            "_view_name": "LayoutView",
            "align_content": null,
            "align_items": null,
            "align_self": null,
            "border": null,
            "bottom": null,
            "display": null,
            "flex": null,
            "flex_flow": null,
            "grid_area": null,
            "grid_auto_columns": null,
            "grid_auto_flow": null,
            "grid_auto_rows": null,
            "grid_column": null,
            "grid_gap": null,
            "grid_row": null,
            "grid_template_areas": null,
            "grid_template_columns": null,
            "grid_template_rows": null,
            "height": null,
            "justify_content": null,
            "justify_items": null,
            "left": null,
            "margin": null,
            "max_height": null,
            "max_width": null,
            "min_height": null,
            "min_width": null,
            "object_fit": null,
            "object_position": null,
            "order": null,
            "overflow": null,
            "overflow_x": null,
            "overflow_y": null,
            "padding": null,
            "right": null,
            "top": null,
            "visibility": null,
            "width": null
          }
        },
        "b4c048e55fb24ae0966a43950d2ca508": {
          "model_module": "@jupyter-widgets/base",
          "model_module_version": "1.2.0",
          "model_name": "LayoutModel",
          "state": {
            "_model_module": "@jupyter-widgets/base",
            "_model_module_version": "1.2.0",
            "_model_name": "LayoutModel",
            "_view_count": null,
            "_view_module": "@jupyter-widgets/base",
            "_view_module_version": "1.2.0",
            "_view_name": "LayoutView",
            "align_content": null,
            "align_items": null,
            "align_self": null,
            "border": null,
            "bottom": null,
            "display": null,
            "flex": null,
            "flex_flow": null,
            "grid_area": null,
            "grid_auto_columns": null,
            "grid_auto_flow": null,
            "grid_auto_rows": null,
            "grid_column": null,
            "grid_gap": null,
            "grid_row": null,
            "grid_template_areas": null,
            "grid_template_columns": null,
            "grid_template_rows": null,
            "height": null,
            "justify_content": null,
            "justify_items": null,
            "left": null,
            "margin": null,
            "max_height": null,
            "max_width": null,
            "min_height": null,
            "min_width": null,
            "object_fit": null,
            "object_position": null,
            "order": null,
            "overflow": null,
            "overflow_x": null,
            "overflow_y": null,
            "padding": null,
            "right": null,
            "top": null,
            "visibility": null,
            "width": null
          }
        },
        "b4de49a73aa14fc1be75ba53796fb55a": {
          "model_module": "@jupyter-widgets/base",
          "model_module_version": "1.2.0",
          "model_name": "LayoutModel",
          "state": {
            "_model_module": "@jupyter-widgets/base",
            "_model_module_version": "1.2.0",
            "_model_name": "LayoutModel",
            "_view_count": null,
            "_view_module": "@jupyter-widgets/base",
            "_view_module_version": "1.2.0",
            "_view_name": "LayoutView",
            "align_content": null,
            "align_items": null,
            "align_self": null,
            "border": null,
            "bottom": null,
            "display": null,
            "flex": null,
            "flex_flow": null,
            "grid_area": null,
            "grid_auto_columns": null,
            "grid_auto_flow": null,
            "grid_auto_rows": null,
            "grid_column": null,
            "grid_gap": null,
            "grid_row": null,
            "grid_template_areas": null,
            "grid_template_columns": null,
            "grid_template_rows": null,
            "height": null,
            "justify_content": null,
            "justify_items": null,
            "left": null,
            "margin": null,
            "max_height": null,
            "max_width": null,
            "min_height": null,
            "min_width": null,
            "object_fit": null,
            "object_position": null,
            "order": null,
            "overflow": null,
            "overflow_x": null,
            "overflow_y": null,
            "padding": null,
            "right": null,
            "top": null,
            "visibility": null,
            "width": "20px"
          }
        },
        "b51cfea47ac8424ba8027e5338ee71fa": {
          "model_module": "@jupyter-widgets/controls",
          "model_module_version": "1.5.0",
          "model_name": "ProgressStyleModel",
          "state": {
            "_model_module": "@jupyter-widgets/controls",
            "_model_module_version": "1.5.0",
            "_model_name": "ProgressStyleModel",
            "_view_count": null,
            "_view_module": "@jupyter-widgets/base",
            "_view_module_version": "1.2.0",
            "_view_name": "StyleView",
            "bar_color": null,
            "description_width": ""
          }
        },
        "b5522a1d3cce4688b653ed2577697b6c": {
          "model_module": "@jupyter-widgets/controls",
          "model_module_version": "1.5.0",
          "model_name": "DescriptionStyleModel",
          "state": {
            "_model_module": "@jupyter-widgets/controls",
            "_model_module_version": "1.5.0",
            "_model_name": "DescriptionStyleModel",
            "_view_count": null,
            "_view_module": "@jupyter-widgets/base",
            "_view_module_version": "1.2.0",
            "_view_name": "StyleView",
            "description_width": ""
          }
        },
        "b57652bfad244432a7792d134c5cbfab": {
          "model_module": "@jupyter-widgets/base",
          "model_module_version": "1.2.0",
          "model_name": "LayoutModel",
          "state": {
            "_model_module": "@jupyter-widgets/base",
            "_model_module_version": "1.2.0",
            "_model_name": "LayoutModel",
            "_view_count": null,
            "_view_module": "@jupyter-widgets/base",
            "_view_module_version": "1.2.0",
            "_view_name": "LayoutView",
            "align_content": null,
            "align_items": null,
            "align_self": null,
            "border": null,
            "bottom": null,
            "display": null,
            "flex": null,
            "flex_flow": null,
            "grid_area": null,
            "grid_auto_columns": null,
            "grid_auto_flow": null,
            "grid_auto_rows": null,
            "grid_column": null,
            "grid_gap": null,
            "grid_row": null,
            "grid_template_areas": null,
            "grid_template_columns": null,
            "grid_template_rows": null,
            "height": null,
            "justify_content": null,
            "justify_items": null,
            "left": null,
            "margin": null,
            "max_height": null,
            "max_width": null,
            "min_height": null,
            "min_width": null,
            "object_fit": null,
            "object_position": null,
            "order": null,
            "overflow": null,
            "overflow_x": null,
            "overflow_y": null,
            "padding": null,
            "right": null,
            "top": null,
            "visibility": null,
            "width": null
          }
        },
        "b5b4db17232d4f34b491025ade29ae2c": {
          "model_module": "@jupyter-widgets/controls",
          "model_module_version": "1.5.0",
          "model_name": "HBoxModel",
          "state": {
            "_dom_classes": [],
            "_model_module": "@jupyter-widgets/controls",
            "_model_module_version": "1.5.0",
            "_model_name": "HBoxModel",
            "_view_count": null,
            "_view_module": "@jupyter-widgets/controls",
            "_view_module_version": "1.5.0",
            "_view_name": "HBoxView",
            "box_style": "",
            "children": [
              "IPY_MODEL_53324c0090d445c9b82564349ea6eda9",
              "IPY_MODEL_dfcea59d6f5b46578ca3598083c19e29",
              "IPY_MODEL_583fac85882d4ac8a9d886fd27ebcb3b"
            ],
            "layout": "IPY_MODEL_864553c504704dbbbd415cbc63e23f90"
          }
        },
        "b67bd5a904ba4002b26eec59709b6ac2": {
          "model_module": "@jupyter-widgets/controls",
          "model_module_version": "1.5.0",
          "model_name": "DescriptionStyleModel",
          "state": {
            "_model_module": "@jupyter-widgets/controls",
            "_model_module_version": "1.5.0",
            "_model_name": "DescriptionStyleModel",
            "_view_count": null,
            "_view_module": "@jupyter-widgets/base",
            "_view_module_version": "1.2.0",
            "_view_name": "StyleView",
            "description_width": ""
          }
        },
        "b69b291557634ce796df5a85bc5b8e38": {
          "model_module": "@jupyter-widgets/controls",
          "model_module_version": "1.5.0",
          "model_name": "FloatProgressModel",
          "state": {
            "_dom_classes": [],
            "_model_module": "@jupyter-widgets/controls",
            "_model_module_version": "1.5.0",
            "_model_name": "FloatProgressModel",
            "_view_count": null,
            "_view_module": "@jupyter-widgets/controls",
            "_view_module_version": "1.5.0",
            "_view_name": "ProgressView",
            "bar_style": "success",
            "description": "",
            "description_tooltip": null,
            "layout": "IPY_MODEL_ca87b6f621ae48b9ba2aa2e64dfcc794",
            "max": 2242153,
            "min": 0,
            "orientation": "horizontal",
            "style": "IPY_MODEL_a33a14b0c0c348aa8a9c60f268fbc35a",
            "value": 2242153
          }
        },
        "b980ba0e690c4348a8d27dac96ab5bab": {
          "model_module": "@jupyter-widgets/base",
          "model_module_version": "1.2.0",
          "model_name": "LayoutModel",
          "state": {
            "_model_module": "@jupyter-widgets/base",
            "_model_module_version": "1.2.0",
            "_model_name": "LayoutModel",
            "_view_count": null,
            "_view_module": "@jupyter-widgets/base",
            "_view_module_version": "1.2.0",
            "_view_name": "LayoutView",
            "align_content": null,
            "align_items": null,
            "align_self": null,
            "border": null,
            "bottom": null,
            "display": null,
            "flex": null,
            "flex_flow": null,
            "grid_area": null,
            "grid_auto_columns": null,
            "grid_auto_flow": null,
            "grid_auto_rows": null,
            "grid_column": null,
            "grid_gap": null,
            "grid_row": null,
            "grid_template_areas": null,
            "grid_template_columns": null,
            "grid_template_rows": null,
            "height": null,
            "justify_content": null,
            "justify_items": null,
            "left": null,
            "margin": null,
            "max_height": null,
            "max_width": null,
            "min_height": null,
            "min_width": null,
            "object_fit": null,
            "object_position": null,
            "order": null,
            "overflow": null,
            "overflow_x": null,
            "overflow_y": null,
            "padding": null,
            "right": null,
            "top": null,
            "visibility": null,
            "width": null
          }
        },
        "bc1cc04f9f2e4b058730317bdf304ac3": {
          "model_module": "@jupyter-widgets/base",
          "model_module_version": "1.2.0",
          "model_name": "LayoutModel",
          "state": {
            "_model_module": "@jupyter-widgets/base",
            "_model_module_version": "1.2.0",
            "_model_name": "LayoutModel",
            "_view_count": null,
            "_view_module": "@jupyter-widgets/base",
            "_view_module_version": "1.2.0",
            "_view_name": "LayoutView",
            "align_content": null,
            "align_items": null,
            "align_self": null,
            "border": null,
            "bottom": null,
            "display": null,
            "flex": null,
            "flex_flow": null,
            "grid_area": null,
            "grid_auto_columns": null,
            "grid_auto_flow": null,
            "grid_auto_rows": null,
            "grid_column": null,
            "grid_gap": null,
            "grid_row": null,
            "grid_template_areas": null,
            "grid_template_columns": null,
            "grid_template_rows": null,
            "height": null,
            "justify_content": null,
            "justify_items": null,
            "left": null,
            "margin": null,
            "max_height": null,
            "max_width": null,
            "min_height": null,
            "min_width": null,
            "object_fit": null,
            "object_position": null,
            "order": null,
            "overflow": null,
            "overflow_x": null,
            "overflow_y": null,
            "padding": null,
            "right": null,
            "top": null,
            "visibility": null,
            "width": null
          }
        },
        "bc28f7e171a14f12ba7c4211df23adf4": {
          "model_module": "@jupyter-widgets/controls",
          "model_module_version": "1.5.0",
          "model_name": "FloatProgressModel",
          "state": {
            "_dom_classes": [],
            "_model_module": "@jupyter-widgets/controls",
            "_model_module_version": "1.5.0",
            "_model_name": "FloatProgressModel",
            "_view_count": null,
            "_view_module": "@jupyter-widgets/controls",
            "_view_module_version": "1.5.0",
            "_view_name": "ProgressView",
            "bar_style": "info",
            "description": "",
            "description_tooltip": null,
            "layout": "IPY_MODEL_b4de49a73aa14fc1be75ba53796fb55a",
            "max": 1,
            "min": 0,
            "orientation": "horizontal",
            "style": "IPY_MODEL_318f104ca8a948d092b0bb22cb0c485d",
            "value": 1
          }
        },
        "bd59ebbbd9994095b0f499b785544efb": {
          "model_module": "@jupyter-widgets/controls",
          "model_module_version": "1.5.0",
          "model_name": "DescriptionStyleModel",
          "state": {
            "_model_module": "@jupyter-widgets/controls",
            "_model_module_version": "1.5.0",
            "_model_name": "DescriptionStyleModel",
            "_view_count": null,
            "_view_module": "@jupyter-widgets/base",
            "_view_module_version": "1.2.0",
            "_view_name": "StyleView",
            "description_width": ""
          }
        },
        "bdb8b71fdd084c399b2fc7ab540ccd9b": {
          "model_module": "@jupyter-widgets/base",
          "model_module_version": "1.2.0",
          "model_name": "LayoutModel",
          "state": {
            "_model_module": "@jupyter-widgets/base",
            "_model_module_version": "1.2.0",
            "_model_name": "LayoutModel",
            "_view_count": null,
            "_view_module": "@jupyter-widgets/base",
            "_view_module_version": "1.2.0",
            "_view_name": "LayoutView",
            "align_content": null,
            "align_items": null,
            "align_self": null,
            "border": null,
            "bottom": null,
            "display": null,
            "flex": null,
            "flex_flow": null,
            "grid_area": null,
            "grid_auto_columns": null,
            "grid_auto_flow": null,
            "grid_auto_rows": null,
            "grid_column": null,
            "grid_gap": null,
            "grid_row": null,
            "grid_template_areas": null,
            "grid_template_columns": null,
            "grid_template_rows": null,
            "height": null,
            "justify_content": null,
            "justify_items": null,
            "left": null,
            "margin": null,
            "max_height": null,
            "max_width": null,
            "min_height": null,
            "min_width": null,
            "object_fit": null,
            "object_position": null,
            "order": null,
            "overflow": null,
            "overflow_x": null,
            "overflow_y": null,
            "padding": null,
            "right": null,
            "top": null,
            "visibility": null,
            "width": null
          }
        },
        "beb3685419d54f36b4d24836dd76aac0": {
          "model_module": "@jupyter-widgets/base",
          "model_module_version": "1.2.0",
          "model_name": "LayoutModel",
          "state": {
            "_model_module": "@jupyter-widgets/base",
            "_model_module_version": "1.2.0",
            "_model_name": "LayoutModel",
            "_view_count": null,
            "_view_module": "@jupyter-widgets/base",
            "_view_module_version": "1.2.0",
            "_view_name": "LayoutView",
            "align_content": null,
            "align_items": null,
            "align_self": null,
            "border": null,
            "bottom": null,
            "display": null,
            "flex": null,
            "flex_flow": null,
            "grid_area": null,
            "grid_auto_columns": null,
            "grid_auto_flow": null,
            "grid_auto_rows": null,
            "grid_column": null,
            "grid_gap": null,
            "grid_row": null,
            "grid_template_areas": null,
            "grid_template_columns": null,
            "grid_template_rows": null,
            "height": null,
            "justify_content": null,
            "justify_items": null,
            "left": null,
            "margin": null,
            "max_height": null,
            "max_width": null,
            "min_height": null,
            "min_width": null,
            "object_fit": null,
            "object_position": null,
            "order": null,
            "overflow": null,
            "overflow_x": null,
            "overflow_y": null,
            "padding": null,
            "right": null,
            "top": null,
            "visibility": null,
            "width": null
          }
        },
        "bf848f3da934415b980086903149b3b0": {
          "model_module": "@jupyter-widgets/base",
          "model_module_version": "1.2.0",
          "model_name": "LayoutModel",
          "state": {
            "_model_module": "@jupyter-widgets/base",
            "_model_module_version": "1.2.0",
            "_model_name": "LayoutModel",
            "_view_count": null,
            "_view_module": "@jupyter-widgets/base",
            "_view_module_version": "1.2.0",
            "_view_name": "LayoutView",
            "align_content": null,
            "align_items": null,
            "align_self": null,
            "border": null,
            "bottom": null,
            "display": null,
            "flex": null,
            "flex_flow": null,
            "grid_area": null,
            "grid_auto_columns": null,
            "grid_auto_flow": null,
            "grid_auto_rows": null,
            "grid_column": null,
            "grid_gap": null,
            "grid_row": null,
            "grid_template_areas": null,
            "grid_template_columns": null,
            "grid_template_rows": null,
            "height": null,
            "justify_content": null,
            "justify_items": null,
            "left": null,
            "margin": null,
            "max_height": null,
            "max_width": null,
            "min_height": null,
            "min_width": null,
            "object_fit": null,
            "object_position": null,
            "order": null,
            "overflow": null,
            "overflow_x": null,
            "overflow_y": null,
            "padding": null,
            "right": null,
            "top": null,
            "visibility": null,
            "width": null
          }
        },
        "c0032b39926a46f996f907f6302eb98a": {
          "model_module": "@jupyter-widgets/controls",
          "model_module_version": "1.5.0",
          "model_name": "HBoxModel",
          "state": {
            "_dom_classes": [],
            "_model_module": "@jupyter-widgets/controls",
            "_model_module_version": "1.5.0",
            "_model_name": "HBoxModel",
            "_view_count": null,
            "_view_module": "@jupyter-widgets/controls",
            "_view_module_version": "1.5.0",
            "_view_name": "HBoxView",
            "box_style": "",
            "children": [
              "IPY_MODEL_983fba5140d0478584ea9a47eb6d8094",
              "IPY_MODEL_024c251277694bda9ed4b02d607c6d29",
              "IPY_MODEL_32856c075bec42d585dcaf88a8e6869e"
            ],
            "layout": "IPY_MODEL_919e9304abb046dc8cd41f353c9958bf"
          }
        },
        "c201e6642ff04f458c0a794259504727": {
          "model_module": "@jupyter-widgets/controls",
          "model_module_version": "1.5.0",
          "model_name": "ProgressStyleModel",
          "state": {
            "_model_module": "@jupyter-widgets/controls",
            "_model_module_version": "1.5.0",
            "_model_name": "ProgressStyleModel",
            "_view_count": null,
            "_view_module": "@jupyter-widgets/base",
            "_view_module_version": "1.2.0",
            "_view_name": "StyleView",
            "bar_color": null,
            "description_width": ""
          }
        },
        "c38381d3a1094e3a8e4224e48af30e8c": {
          "model_module": "@jupyter-widgets/base",
          "model_module_version": "1.2.0",
          "model_name": "LayoutModel",
          "state": {
            "_model_module": "@jupyter-widgets/base",
            "_model_module_version": "1.2.0",
            "_model_name": "LayoutModel",
            "_view_count": null,
            "_view_module": "@jupyter-widgets/base",
            "_view_module_version": "1.2.0",
            "_view_name": "LayoutView",
            "align_content": null,
            "align_items": null,
            "align_self": null,
            "border": null,
            "bottom": null,
            "display": null,
            "flex": null,
            "flex_flow": null,
            "grid_area": null,
            "grid_auto_columns": null,
            "grid_auto_flow": null,
            "grid_auto_rows": null,
            "grid_column": null,
            "grid_gap": null,
            "grid_row": null,
            "grid_template_areas": null,
            "grid_template_columns": null,
            "grid_template_rows": null,
            "height": null,
            "justify_content": null,
            "justify_items": null,
            "left": null,
            "margin": null,
            "max_height": null,
            "max_width": null,
            "min_height": null,
            "min_width": null,
            "object_fit": null,
            "object_position": null,
            "order": null,
            "overflow": null,
            "overflow_x": null,
            "overflow_y": null,
            "padding": null,
            "right": null,
            "top": null,
            "visibility": null,
            "width": null
          }
        },
        "c492c87d2de8488889245655fe796c4a": {
          "model_module": "@jupyter-widgets/base",
          "model_module_version": "1.2.0",
          "model_name": "LayoutModel",
          "state": {
            "_model_module": "@jupyter-widgets/base",
            "_model_module_version": "1.2.0",
            "_model_name": "LayoutModel",
            "_view_count": null,
            "_view_module": "@jupyter-widgets/base",
            "_view_module_version": "1.2.0",
            "_view_name": "LayoutView",
            "align_content": null,
            "align_items": null,
            "align_self": null,
            "border": null,
            "bottom": null,
            "display": null,
            "flex": null,
            "flex_flow": null,
            "grid_area": null,
            "grid_auto_columns": null,
            "grid_auto_flow": null,
            "grid_auto_rows": null,
            "grid_column": null,
            "grid_gap": null,
            "grid_row": null,
            "grid_template_areas": null,
            "grid_template_columns": null,
            "grid_template_rows": null,
            "height": null,
            "justify_content": null,
            "justify_items": null,
            "left": null,
            "margin": null,
            "max_height": null,
            "max_width": null,
            "min_height": null,
            "min_width": null,
            "object_fit": null,
            "object_position": null,
            "order": null,
            "overflow": null,
            "overflow_x": null,
            "overflow_y": null,
            "padding": null,
            "right": null,
            "top": null,
            "visibility": null,
            "width": null
          }
        },
        "c4eaa4e3d7e940ba9bf5a21d67961abe": {
          "model_module": "@jupyter-widgets/controls",
          "model_module_version": "1.5.0",
          "model_name": "DescriptionStyleModel",
          "state": {
            "_model_module": "@jupyter-widgets/controls",
            "_model_module_version": "1.5.0",
            "_model_name": "DescriptionStyleModel",
            "_view_count": null,
            "_view_module": "@jupyter-widgets/base",
            "_view_module_version": "1.2.0",
            "_view_name": "StyleView",
            "description_width": ""
          }
        },
        "c6019f0892de40ed951d27f79790ccfd": {
          "model_module": "@jupyter-widgets/controls",
          "model_module_version": "1.5.0",
          "model_name": "HBoxModel",
          "state": {
            "_dom_classes": [],
            "_model_module": "@jupyter-widgets/controls",
            "_model_module_version": "1.5.0",
            "_model_name": "HBoxModel",
            "_view_count": null,
            "_view_module": "@jupyter-widgets/controls",
            "_view_module_version": "1.5.0",
            "_view_name": "HBoxView",
            "box_style": "",
            "children": [
              "IPY_MODEL_8a63e5083b314fa7a51700de1e51a143",
              "IPY_MODEL_0fe99bbd303541e490815f4187d87b4b",
              "IPY_MODEL_29480ef20d294fcf8146b1006b6c8bf4"
            ],
            "layout": "IPY_MODEL_998d1e9310b9417e853339db875e8b65"
          }
        },
        "c68630d3222d4ce8bbca99751a10fecd": {
          "model_module": "@jupyter-widgets/base",
          "model_module_version": "1.2.0",
          "model_name": "LayoutModel",
          "state": {
            "_model_module": "@jupyter-widgets/base",
            "_model_module_version": "1.2.0",
            "_model_name": "LayoutModel",
            "_view_count": null,
            "_view_module": "@jupyter-widgets/base",
            "_view_module_version": "1.2.0",
            "_view_name": "LayoutView",
            "align_content": null,
            "align_items": null,
            "align_self": null,
            "border": null,
            "bottom": null,
            "display": null,
            "flex": null,
            "flex_flow": null,
            "grid_area": null,
            "grid_auto_columns": null,
            "grid_auto_flow": null,
            "grid_auto_rows": null,
            "grid_column": null,
            "grid_gap": null,
            "grid_row": null,
            "grid_template_areas": null,
            "grid_template_columns": null,
            "grid_template_rows": null,
            "height": null,
            "justify_content": null,
            "justify_items": null,
            "left": null,
            "margin": null,
            "max_height": null,
            "max_width": null,
            "min_height": null,
            "min_width": null,
            "object_fit": null,
            "object_position": null,
            "order": null,
            "overflow": null,
            "overflow_x": null,
            "overflow_y": null,
            "padding": null,
            "right": null,
            "top": null,
            "visibility": null,
            "width": null
          }
        },
        "c6a8a51a642940169447f7b8979e5a5a": {
          "model_module": "@jupyter-widgets/controls",
          "model_module_version": "1.5.0",
          "model_name": "HTMLModel",
          "state": {
            "_dom_classes": [],
            "_model_module": "@jupyter-widgets/controls",
            "_model_module_version": "1.5.0",
            "_model_name": "HTMLModel",
            "_view_count": null,
            "_view_module": "@jupyter-widgets/controls",
            "_view_module_version": "1.5.0",
            "_view_name": "HTMLView",
            "description": "",
            "description_tooltip": null,
            "layout": "IPY_MODEL_6a91dc5c15854b51b15ca2e839e7a3ab",
            "placeholder": "​",
            "style": "IPY_MODEL_0275455afcc0465cb95d2cc88a931a5e",
            "value": ""
          }
        },
        "c7815cf5d59a47eca991603ac8e588d9": {
          "model_module": "@jupyter-widgets/base",
          "model_module_version": "1.2.0",
          "model_name": "LayoutModel",
          "state": {
            "_model_module": "@jupyter-widgets/base",
            "_model_module_version": "1.2.0",
            "_model_name": "LayoutModel",
            "_view_count": null,
            "_view_module": "@jupyter-widgets/base",
            "_view_module_version": "1.2.0",
            "_view_name": "LayoutView",
            "align_content": null,
            "align_items": null,
            "align_self": null,
            "border": null,
            "bottom": null,
            "display": null,
            "flex": null,
            "flex_flow": null,
            "grid_area": null,
            "grid_auto_columns": null,
            "grid_auto_flow": null,
            "grid_auto_rows": null,
            "grid_column": null,
            "grid_gap": null,
            "grid_row": null,
            "grid_template_areas": null,
            "grid_template_columns": null,
            "grid_template_rows": null,
            "height": null,
            "justify_content": null,
            "justify_items": null,
            "left": null,
            "margin": null,
            "max_height": null,
            "max_width": null,
            "min_height": null,
            "min_width": null,
            "object_fit": null,
            "object_position": null,
            "order": null,
            "overflow": null,
            "overflow_x": null,
            "overflow_y": null,
            "padding": null,
            "right": null,
            "top": null,
            "visibility": null,
            "width": null
          }
        },
        "c860cde1239a446c9051ad21f5919680": {
          "model_module": "@jupyter-widgets/controls",
          "model_module_version": "1.5.0",
          "model_name": "HBoxModel",
          "state": {
            "_dom_classes": [],
            "_model_module": "@jupyter-widgets/controls",
            "_model_module_version": "1.5.0",
            "_model_name": "HBoxModel",
            "_view_count": null,
            "_view_module": "@jupyter-widgets/controls",
            "_view_module_version": "1.5.0",
            "_view_name": "HBoxView",
            "box_style": "",
            "children": [
              "IPY_MODEL_2ad16c404a874bb2a6830f77590287fa",
              "IPY_MODEL_4a3468f8244a464582be14e7170d4475",
              "IPY_MODEL_3f138ff2667a4aaeb1c8debb9660cdb3"
            ],
            "layout": "IPY_MODEL_f3f4afefbdde4203ac3cc90688f4869b"
          }
        },
        "c8f363e82a114e04a165ec04609ae5e6": {
          "model_module": "@jupyter-widgets/controls",
          "model_module_version": "1.5.0",
          "model_name": "HBoxModel",
          "state": {
            "_dom_classes": [],
            "_model_module": "@jupyter-widgets/controls",
            "_model_module_version": "1.5.0",
            "_model_name": "HBoxModel",
            "_view_count": null,
            "_view_module": "@jupyter-widgets/controls",
            "_view_module_version": "1.5.0",
            "_view_name": "HBoxView",
            "box_style": "",
            "children": [
              "IPY_MODEL_0a7f19be45694ca2bc66183dd4ad753a",
              "IPY_MODEL_ca33a2e9bf1a4387bdc624ae9f4e836d",
              "IPY_MODEL_d518d9eb6e1e4bd9aa33468fd2665e8b"
            ],
            "layout": "IPY_MODEL_8f654359031a401c929836d092e5652f"
          }
        },
        "c99f44f735ab41869984fb75bda0f747": {
          "model_module": "@jupyter-widgets/controls",
          "model_module_version": "1.5.0",
          "model_name": "HTMLModel",
          "state": {
            "_dom_classes": [],
            "_model_module": "@jupyter-widgets/controls",
            "_model_module_version": "1.5.0",
            "_model_name": "HTMLModel",
            "_view_count": null,
            "_view_module": "@jupyter-widgets/controls",
            "_view_module_version": "1.5.0",
            "_view_name": "HTMLView",
            "description": "",
            "description_tooltip": null,
            "layout": "IPY_MODEL_15e7c5a7def44311bda543900a2d81fb",
            "placeholder": "​",
            "style": "IPY_MODEL_4149f49655094d18928fac979664e0ce",
            "value": " 570/570 [00:00&lt;00:00, 14.2kB/s]"
          }
        },
        "ca33a2e9bf1a4387bdc624ae9f4e836d": {
          "model_module": "@jupyter-widgets/controls",
          "model_module_version": "1.5.0",
          "model_name": "FloatProgressModel",
          "state": {
            "_dom_classes": [],
            "_model_module": "@jupyter-widgets/controls",
            "_model_module_version": "1.5.0",
            "_model_name": "FloatProgressModel",
            "_view_count": null,
            "_view_module": "@jupyter-widgets/controls",
            "_view_module_version": "1.5.0",
            "_view_name": "ProgressView",
            "bar_style": "success",
            "description": "",
            "description_tooltip": null,
            "layout": "IPY_MODEL_dd2084586f6b467faaae8fe73b81110d",
            "max": 6,
            "min": 0,
            "orientation": "horizontal",
            "style": "IPY_MODEL_1abe5dfd5b194bbca7ee67ca7a2da6d5",
            "value": 6
          }
        },
        "ca87b6f621ae48b9ba2aa2e64dfcc794": {
          "model_module": "@jupyter-widgets/base",
          "model_module_version": "1.2.0",
          "model_name": "LayoutModel",
          "state": {
            "_model_module": "@jupyter-widgets/base",
            "_model_module_version": "1.2.0",
            "_model_name": "LayoutModel",
            "_view_count": null,
            "_view_module": "@jupyter-widgets/base",
            "_view_module_version": "1.2.0",
            "_view_name": "LayoutView",
            "align_content": null,
            "align_items": null,
            "align_self": null,
            "border": null,
            "bottom": null,
            "display": null,
            "flex": null,
            "flex_flow": null,
            "grid_area": null,
            "grid_auto_columns": null,
            "grid_auto_flow": null,
            "grid_auto_rows": null,
            "grid_column": null,
            "grid_gap": null,
            "grid_row": null,
            "grid_template_areas": null,
            "grid_template_columns": null,
            "grid_template_rows": null,
            "height": null,
            "justify_content": null,
            "justify_items": null,
            "left": null,
            "margin": null,
            "max_height": null,
            "max_width": null,
            "min_height": null,
            "min_width": null,
            "object_fit": null,
            "object_position": null,
            "order": null,
            "overflow": null,
            "overflow_x": null,
            "overflow_y": null,
            "padding": null,
            "right": null,
            "top": null,
            "visibility": null,
            "width": null
          }
        },
        "cbcd4081c69c4e27b631ecf5ff7516c9": {
          "model_module": "@jupyter-widgets/controls",
          "model_module_version": "1.5.0",
          "model_name": "HTMLModel",
          "state": {
            "_dom_classes": [],
            "_model_module": "@jupyter-widgets/controls",
            "_model_module_version": "1.5.0",
            "_model_name": "HTMLModel",
            "_view_count": null,
            "_view_module": "@jupyter-widgets/controls",
            "_view_module_version": "1.5.0",
            "_view_name": "HTMLView",
            "description": "",
            "description_tooltip": null,
            "layout": "IPY_MODEL_4a722462ca3640d0a0a3425b3b97367c",
            "placeholder": "​",
            "style": "IPY_MODEL_7232ced562e644cba2bffe5246bdec46",
            "value": " 6/6 [00:03&lt;00:00,  2.47it/s]"
          }
        },
        "cd409dac0aa942b6ae5303fb7db946d8": {
          "model_module": "@jupyter-widgets/base",
          "model_module_version": "1.2.0",
          "model_name": "LayoutModel",
          "state": {
            "_model_module": "@jupyter-widgets/base",
            "_model_module_version": "1.2.0",
            "_model_name": "LayoutModel",
            "_view_count": null,
            "_view_module": "@jupyter-widgets/base",
            "_view_module_version": "1.2.0",
            "_view_name": "LayoutView",
            "align_content": null,
            "align_items": null,
            "align_self": null,
            "border": null,
            "bottom": null,
            "display": null,
            "flex": null,
            "flex_flow": null,
            "grid_area": null,
            "grid_auto_columns": null,
            "grid_auto_flow": null,
            "grid_auto_rows": null,
            "grid_column": null,
            "grid_gap": null,
            "grid_row": null,
            "grid_template_areas": null,
            "grid_template_columns": null,
            "grid_template_rows": null,
            "height": null,
            "justify_content": null,
            "justify_items": null,
            "left": null,
            "margin": null,
            "max_height": null,
            "max_width": null,
            "min_height": null,
            "min_width": null,
            "object_fit": null,
            "object_position": null,
            "order": null,
            "overflow": null,
            "overflow_x": null,
            "overflow_y": null,
            "padding": null,
            "right": null,
            "top": null,
            "visibility": null,
            "width": null
          }
        },
        "cf50e005f4d14ba499119d8a9c2ab07d": {
          "model_module": "@jupyter-widgets/controls",
          "model_module_version": "1.5.0",
          "model_name": "DescriptionStyleModel",
          "state": {
            "_model_module": "@jupyter-widgets/controls",
            "_model_module_version": "1.5.0",
            "_model_name": "DescriptionStyleModel",
            "_view_count": null,
            "_view_module": "@jupyter-widgets/base",
            "_view_module_version": "1.2.0",
            "_view_name": "StyleView",
            "description_width": ""
          }
        },
        "cfa07699f1a3428e8b497e82fdc41d1c": {
          "model_module": "@jupyter-widgets/controls",
          "model_module_version": "1.5.0",
          "model_name": "ProgressStyleModel",
          "state": {
            "_model_module": "@jupyter-widgets/controls",
            "_model_module_version": "1.5.0",
            "_model_name": "ProgressStyleModel",
            "_view_count": null,
            "_view_module": "@jupyter-widgets/base",
            "_view_module_version": "1.2.0",
            "_view_name": "StyleView",
            "bar_color": null,
            "description_width": ""
          }
        },
        "cffce02666cb42ddadcb4c2596d7ff76": {
          "model_module": "@jupyter-widgets/base",
          "model_module_version": "1.2.0",
          "model_name": "LayoutModel",
          "state": {
            "_model_module": "@jupyter-widgets/base",
            "_model_module_version": "1.2.0",
            "_model_name": "LayoutModel",
            "_view_count": null,
            "_view_module": "@jupyter-widgets/base",
            "_view_module_version": "1.2.0",
            "_view_name": "LayoutView",
            "align_content": null,
            "align_items": null,
            "align_self": null,
            "border": null,
            "bottom": null,
            "display": null,
            "flex": null,
            "flex_flow": null,
            "grid_area": null,
            "grid_auto_columns": null,
            "grid_auto_flow": null,
            "grid_auto_rows": null,
            "grid_column": null,
            "grid_gap": null,
            "grid_row": null,
            "grid_template_areas": null,
            "grid_template_columns": null,
            "grid_template_rows": null,
            "height": null,
            "justify_content": null,
            "justify_items": null,
            "left": null,
            "margin": null,
            "max_height": null,
            "max_width": null,
            "min_height": null,
            "min_width": null,
            "object_fit": null,
            "object_position": null,
            "order": null,
            "overflow": null,
            "overflow_x": null,
            "overflow_y": null,
            "padding": null,
            "right": null,
            "top": null,
            "visibility": null,
            "width": null
          }
        },
        "d02ce2b8c8a84245b6b0430ab2e63f8b": {
          "model_module": "@jupyter-widgets/controls",
          "model_module_version": "1.5.0",
          "model_name": "FloatProgressModel",
          "state": {
            "_dom_classes": [],
            "_model_module": "@jupyter-widgets/controls",
            "_model_module_version": "1.5.0",
            "_model_name": "FloatProgressModel",
            "_view_count": null,
            "_view_module": "@jupyter-widgets/controls",
            "_view_module_version": "1.5.0",
            "_view_name": "ProgressView",
            "bar_style": "success",
            "description": "",
            "description_tooltip": null,
            "layout": "IPY_MODEL_75abab274cfc49918ea5f38de506a19f",
            "max": 1180,
            "min": 0,
            "orientation": "horizontal",
            "style": "IPY_MODEL_805c9c799c7043d0a779f481d1546384",
            "value": 1180
          }
        },
        "d1ce320a39d54ea7aafe490e17dd864e": {
          "model_module": "@jupyter-widgets/controls",
          "model_module_version": "1.5.0",
          "model_name": "DescriptionStyleModel",
          "state": {
            "_model_module": "@jupyter-widgets/controls",
            "_model_module_version": "1.5.0",
            "_model_name": "DescriptionStyleModel",
            "_view_count": null,
            "_view_module": "@jupyter-widgets/base",
            "_view_module_version": "1.2.0",
            "_view_name": "StyleView",
            "description_width": ""
          }
        },
        "d1dbd5cfa8174847ab84291b954d2634": {
          "model_module": "@jupyter-widgets/base",
          "model_module_version": "1.2.0",
          "model_name": "LayoutModel",
          "state": {
            "_model_module": "@jupyter-widgets/base",
            "_model_module_version": "1.2.0",
            "_model_name": "LayoutModel",
            "_view_count": null,
            "_view_module": "@jupyter-widgets/base",
            "_view_module_version": "1.2.0",
            "_view_name": "LayoutView",
            "align_content": null,
            "align_items": null,
            "align_self": null,
            "border": null,
            "bottom": null,
            "display": null,
            "flex": null,
            "flex_flow": null,
            "grid_area": null,
            "grid_auto_columns": null,
            "grid_auto_flow": null,
            "grid_auto_rows": null,
            "grid_column": null,
            "grid_gap": null,
            "grid_row": null,
            "grid_template_areas": null,
            "grid_template_columns": null,
            "grid_template_rows": null,
            "height": null,
            "justify_content": null,
            "justify_items": null,
            "left": null,
            "margin": null,
            "max_height": null,
            "max_width": null,
            "min_height": null,
            "min_width": null,
            "object_fit": null,
            "object_position": null,
            "order": null,
            "overflow": null,
            "overflow_x": null,
            "overflow_y": null,
            "padding": null,
            "right": null,
            "top": null,
            "visibility": null,
            "width": null
          }
        },
        "d2872570f40d4c729091aedee8893c94": {
          "model_module": "@jupyter-widgets/controls",
          "model_module_version": "1.5.0",
          "model_name": "FloatProgressModel",
          "state": {
            "_dom_classes": [],
            "_model_module": "@jupyter-widgets/controls",
            "_model_module_version": "1.5.0",
            "_model_name": "FloatProgressModel",
            "_view_count": null,
            "_view_module": "@jupyter-widgets/controls",
            "_view_module_version": "1.5.0",
            "_view_name": "ProgressView",
            "bar_style": "info",
            "description": "",
            "description_tooltip": null,
            "layout": "IPY_MODEL_7b56d9b4c240492db0eb50e0f4668aec",
            "max": 1,
            "min": 0,
            "orientation": "horizontal",
            "style": "IPY_MODEL_3c80e65f16ef4dd49f2e0f38f6f6046b",
            "value": 1
          }
        },
        "d2b2fb4057b94da5b6949cc443493f37": {
          "model_module": "@jupyter-widgets/controls",
          "model_module_version": "1.5.0",
          "model_name": "ProgressStyleModel",
          "state": {
            "_model_module": "@jupyter-widgets/controls",
            "_model_module_version": "1.5.0",
            "_model_name": "ProgressStyleModel",
            "_view_count": null,
            "_view_module": "@jupyter-widgets/base",
            "_view_module_version": "1.2.0",
            "_view_name": "StyleView",
            "bar_color": null,
            "description_width": ""
          }
        },
        "d391a6f1be074f939ede4933ee7d1589": {
          "model_module": "@jupyter-widgets/controls",
          "model_module_version": "1.5.0",
          "model_name": "ProgressStyleModel",
          "state": {
            "_model_module": "@jupyter-widgets/controls",
            "_model_module_version": "1.5.0",
            "_model_name": "ProgressStyleModel",
            "_view_count": null,
            "_view_module": "@jupyter-widgets/base",
            "_view_module_version": "1.2.0",
            "_view_name": "StyleView",
            "bar_color": null,
            "description_width": ""
          }
        },
        "d48692c23ad34d20893be8efbc14ef21": {
          "model_module": "@jupyter-widgets/controls",
          "model_module_version": "1.5.0",
          "model_name": "HTMLModel",
          "state": {
            "_dom_classes": [],
            "_model_module": "@jupyter-widgets/controls",
            "_model_module_version": "1.5.0",
            "_model_name": "HTMLModel",
            "_view_count": null,
            "_view_module": "@jupyter-widgets/controls",
            "_view_module_version": "1.5.0",
            "_view_name": "HTMLView",
            "description": "",
            "description_tooltip": null,
            "layout": "IPY_MODEL_2617e939f925487aa8402b793e2a9ecd",
            "placeholder": "​",
            "style": "IPY_MODEL_6b3fdd33affc4b5cb28c65f072b35847",
            "value": "Downloading: "
          }
        },
        "d4e810757ac54210b8f09b75cbb6bedb": {
          "model_module": "@jupyter-widgets/controls",
          "model_module_version": "1.5.0",
          "model_name": "FloatProgressModel",
          "state": {
            "_dom_classes": [],
            "_model_module": "@jupyter-widgets/controls",
            "_model_module_version": "1.5.0",
            "_model_name": "FloatProgressModel",
            "_view_count": null,
            "_view_module": "@jupyter-widgets/controls",
            "_view_module_version": "1.5.0",
            "_view_name": "ProgressView",
            "bar_style": "success",
            "description": "",
            "description_tooltip": null,
            "layout": "IPY_MODEL_0522dff94edf4064afdf839a7d00933b",
            "max": 183,
            "min": 0,
            "orientation": "horizontal",
            "style": "IPY_MODEL_3a6dafb7fa3848c2817aaaccadfe05e7",
            "value": 183
          }
        },
        "d50264138bc641b09d7fb204d6ee6e25": {
          "model_module": "@jupyter-widgets/controls",
          "model_module_version": "1.5.0",
          "model_name": "HTMLModel",
          "state": {
            "_dom_classes": [],
            "_model_module": "@jupyter-widgets/controls",
            "_model_module_version": "1.5.0",
            "_model_name": "HTMLModel",
            "_view_count": null,
            "_view_module": "@jupyter-widgets/controls",
            "_view_module_version": "1.5.0",
            "_view_name": "HTMLView",
            "description": "",
            "description_tooltip": null,
            "layout": "IPY_MODEL_08a15a823cc24e40be38f529da194939",
            "placeholder": "​",
            "style": "IPY_MODEL_101d17e2ac6f41518a21435816b04435",
            "value": " 307k/? [00:00&lt;00:00, 4.94MB/s]"
          }
        },
        "d518d9eb6e1e4bd9aa33468fd2665e8b": {
          "model_module": "@jupyter-widgets/controls",
          "model_module_version": "1.5.0",
          "model_name": "HTMLModel",
          "state": {
            "_dom_classes": [],
            "_model_module": "@jupyter-widgets/controls",
            "_model_module_version": "1.5.0",
            "_model_name": "HTMLModel",
            "_view_count": null,
            "_view_module": "@jupyter-widgets/controls",
            "_view_module_version": "1.5.0",
            "_view_name": "HTMLView",
            "description": "",
            "description_tooltip": null,
            "layout": "IPY_MODEL_fffff9d102364b3ab47aa0225fc273cf",
            "placeholder": "​",
            "style": "IPY_MODEL_19cb0ebb84e34f1aa269e064bbb07c96",
            "value": " 6/6 [00:00&lt;00:00, 72.29it/s]"
          }
        },
        "d552f4c83fe741a6b380a02188b3b565": {
          "model_module": "@jupyter-widgets/base",
          "model_module_version": "1.2.0",
          "model_name": "LayoutModel",
          "state": {
            "_model_module": "@jupyter-widgets/base",
            "_model_module_version": "1.2.0",
            "_model_name": "LayoutModel",
            "_view_count": null,
            "_view_module": "@jupyter-widgets/base",
            "_view_module_version": "1.2.0",
            "_view_name": "LayoutView",
            "align_content": null,
            "align_items": null,
            "align_self": null,
            "border": null,
            "bottom": null,
            "display": null,
            "flex": null,
            "flex_flow": null,
            "grid_area": null,
            "grid_auto_columns": null,
            "grid_auto_flow": null,
            "grid_auto_rows": null,
            "grid_column": null,
            "grid_gap": null,
            "grid_row": null,
            "grid_template_areas": null,
            "grid_template_columns": null,
            "grid_template_rows": null,
            "height": null,
            "justify_content": null,
            "justify_items": null,
            "left": null,
            "margin": null,
            "max_height": null,
            "max_width": null,
            "min_height": null,
            "min_width": null,
            "object_fit": null,
            "object_position": null,
            "order": null,
            "overflow": null,
            "overflow_x": null,
            "overflow_y": null,
            "padding": null,
            "right": null,
            "top": null,
            "visibility": null,
            "width": null
          }
        },
        "d5b7ec4cb7354dc68c56eb65f0a89e02": {
          "model_module": "@jupyter-widgets/controls",
          "model_module_version": "1.5.0",
          "model_name": "HTMLModel",
          "state": {
            "_dom_classes": [],
            "_model_module": "@jupyter-widgets/controls",
            "_model_module_version": "1.5.0",
            "_model_name": "HTMLModel",
            "_view_count": null,
            "_view_module": "@jupyter-widgets/controls",
            "_view_module_version": "1.5.0",
            "_view_name": "HTMLView",
            "description": "",
            "description_tooltip": null,
            "layout": "IPY_MODEL_ed5b3b6c15f240228b1ad8a093d413fd",
            "placeholder": "​",
            "style": "IPY_MODEL_7ddea92589754ecea10734c5d6da6902",
            "value": "Downloading: "
          }
        },
        "d67aa3c10ed54495adb130db9b886faa": {
          "model_module": "@jupyter-widgets/controls",
          "model_module_version": "1.5.0",
          "model_name": "HBoxModel",
          "state": {
            "_dom_classes": [],
            "_model_module": "@jupyter-widgets/controls",
            "_model_module_version": "1.5.0",
            "_model_name": "HBoxModel",
            "_view_count": null,
            "_view_module": "@jupyter-widgets/controls",
            "_view_module_version": "1.5.0",
            "_view_name": "HBoxView",
            "box_style": "",
            "children": [
              "IPY_MODEL_c6a8a51a642940169447f7b8979e5a5a",
              "IPY_MODEL_a8c31dd504e2491c9b3498a8eeca4a3b",
              "IPY_MODEL_4d1acaa520a04e70a37a00ba7153793f"
            ],
            "layout": "IPY_MODEL_eecf0a5fec7c4a94a702f54994cbe133"
          }
        },
        "d7327a906e734807b0db63e32e9a2167": {
          "model_module": "@jupyter-widgets/base",
          "model_module_version": "1.2.0",
          "model_name": "LayoutModel",
          "state": {
            "_model_module": "@jupyter-widgets/base",
            "_model_module_version": "1.2.0",
            "_model_name": "LayoutModel",
            "_view_count": null,
            "_view_module": "@jupyter-widgets/base",
            "_view_module_version": "1.2.0",
            "_view_name": "LayoutView",
            "align_content": null,
            "align_items": null,
            "align_self": null,
            "border": null,
            "bottom": null,
            "display": null,
            "flex": null,
            "flex_flow": null,
            "grid_area": null,
            "grid_auto_columns": null,
            "grid_auto_flow": null,
            "grid_auto_rows": null,
            "grid_column": null,
            "grid_gap": null,
            "grid_row": null,
            "grid_template_areas": null,
            "grid_template_columns": null,
            "grid_template_rows": null,
            "height": null,
            "justify_content": null,
            "justify_items": null,
            "left": null,
            "margin": null,
            "max_height": null,
            "max_width": null,
            "min_height": null,
            "min_width": null,
            "object_fit": null,
            "object_position": null,
            "order": null,
            "overflow": null,
            "overflow_x": null,
            "overflow_y": null,
            "padding": null,
            "right": null,
            "top": null,
            "visibility": null,
            "width": null
          }
        },
        "d741339f61bc407aa7795817d8a75e57": {
          "model_module": "@jupyter-widgets/controls",
          "model_module_version": "1.5.0",
          "model_name": "FloatProgressModel",
          "state": {
            "_dom_classes": [],
            "_model_module": "@jupyter-widgets/controls",
            "_model_module_version": "1.5.0",
            "_model_name": "FloatProgressModel",
            "_view_count": null,
            "_view_module": "@jupyter-widgets/controls",
            "_view_module_version": "1.5.0",
            "_view_name": "ProgressView",
            "bar_style": "info",
            "description": "",
            "description_tooltip": null,
            "layout": "IPY_MODEL_f7bae9b920004b639c213565ae7c7ecc",
            "max": 1,
            "min": 0,
            "orientation": "horizontal",
            "style": "IPY_MODEL_b51cfea47ac8424ba8027e5338ee71fa",
            "value": 1
          }
        },
        "dc86ba59988245c19f08304e64bee55d": {
          "model_module": "@jupyter-widgets/controls",
          "model_module_version": "1.5.0",
          "model_name": "DescriptionStyleModel",
          "state": {
            "_model_module": "@jupyter-widgets/controls",
            "_model_module_version": "1.5.0",
            "_model_name": "DescriptionStyleModel",
            "_view_count": null,
            "_view_module": "@jupyter-widgets/base",
            "_view_module_version": "1.2.0",
            "_view_name": "StyleView",
            "description_width": ""
          }
        },
        "dd1ef7ccf26a4369aff2efb2a7c3b2de": {
          "model_module": "@jupyter-widgets/controls",
          "model_module_version": "1.5.0",
          "model_name": "HBoxModel",
          "state": {
            "_dom_classes": [],
            "_model_module": "@jupyter-widgets/controls",
            "_model_module_version": "1.5.0",
            "_model_name": "HBoxModel",
            "_view_count": null,
            "_view_module": "@jupyter-widgets/controls",
            "_view_module_version": "1.5.0",
            "_view_name": "HBoxView",
            "box_style": "",
            "children": [
              "IPY_MODEL_6cc52397d70e4bdca5b3b8693ddac9ab",
              "IPY_MODEL_d4e810757ac54210b8f09b75cbb6bedb",
              "IPY_MODEL_e91eb47b708543bb834c07f7b15b77ac"
            ],
            "layout": "IPY_MODEL_beb3685419d54f36b4d24836dd76aac0"
          }
        },
        "dd2084586f6b467faaae8fe73b81110d": {
          "model_module": "@jupyter-widgets/base",
          "model_module_version": "1.2.0",
          "model_name": "LayoutModel",
          "state": {
            "_model_module": "@jupyter-widgets/base",
            "_model_module_version": "1.2.0",
            "_model_name": "LayoutModel",
            "_view_count": null,
            "_view_module": "@jupyter-widgets/base",
            "_view_module_version": "1.2.0",
            "_view_name": "LayoutView",
            "align_content": null,
            "align_items": null,
            "align_self": null,
            "border": null,
            "bottom": null,
            "display": null,
            "flex": null,
            "flex_flow": null,
            "grid_area": null,
            "grid_auto_columns": null,
            "grid_auto_flow": null,
            "grid_auto_rows": null,
            "grid_column": null,
            "grid_gap": null,
            "grid_row": null,
            "grid_template_areas": null,
            "grid_template_columns": null,
            "grid_template_rows": null,
            "height": null,
            "justify_content": null,
            "justify_items": null,
            "left": null,
            "margin": null,
            "max_height": null,
            "max_width": null,
            "min_height": null,
            "min_width": null,
            "object_fit": null,
            "object_position": null,
            "order": null,
            "overflow": null,
            "overflow_x": null,
            "overflow_y": null,
            "padding": null,
            "right": null,
            "top": null,
            "visibility": null,
            "width": null
          }
        },
        "ddcfd371b4e141a8a1711afb4bb48a9e": {
          "model_module": "@jupyter-widgets/controls",
          "model_module_version": "1.5.0",
          "model_name": "HBoxModel",
          "state": {
            "_dom_classes": [],
            "_model_module": "@jupyter-widgets/controls",
            "_model_module_version": "1.5.0",
            "_model_name": "HBoxModel",
            "_view_count": null,
            "_view_module": "@jupyter-widgets/controls",
            "_view_module_version": "1.5.0",
            "_view_name": "HBoxView",
            "box_style": "",
            "children": [
              "IPY_MODEL_671faca6ea9a40ecb06ff20e1f73cfd3",
              "IPY_MODEL_d741339f61bc407aa7795817d8a75e57",
              "IPY_MODEL_93fcb4a0b8aa4a90aa1626c41f1d2168"
            ],
            "layout": "IPY_MODEL_04b75f7dd441407eb6d622b6311cd329"
          }
        },
        "dfb0ac25047b444b93260d4354bb6f55": {
          "model_module": "@jupyter-widgets/controls",
          "model_module_version": "1.5.0",
          "model_name": "DescriptionStyleModel",
          "state": {
            "_model_module": "@jupyter-widgets/controls",
            "_model_module_version": "1.5.0",
            "_model_name": "DescriptionStyleModel",
            "_view_count": null,
            "_view_module": "@jupyter-widgets/base",
            "_view_module_version": "1.2.0",
            "_view_name": "StyleView",
            "description_width": ""
          }
        },
        "dfcea59d6f5b46578ca3598083c19e29": {
          "model_module": "@jupyter-widgets/controls",
          "model_module_version": "1.5.0",
          "model_name": "FloatProgressModel",
          "state": {
            "_dom_classes": [],
            "_model_module": "@jupyter-widgets/controls",
            "_model_module_version": "1.5.0",
            "_model_name": "FloatProgressModel",
            "_view_count": null,
            "_view_module": "@jupyter-widgets/controls",
            "_view_module_version": "1.5.0",
            "_view_name": "ProgressView",
            "bar_style": "success",
            "description": "",
            "description_tooltip": null,
            "layout": "IPY_MODEL_b57652bfad244432a7792d134c5cbfab",
            "max": 629,
            "min": 0,
            "orientation": "horizontal",
            "style": "IPY_MODEL_59270651454e4607b530617ad99a6a68",
            "value": 629
          }
        },
        "e0a181c977824be580dffc91885470d4": {
          "model_module": "@jupyter-widgets/base",
          "model_module_version": "1.2.0",
          "model_name": "LayoutModel",
          "state": {
            "_model_module": "@jupyter-widgets/base",
            "_model_module_version": "1.2.0",
            "_model_name": "LayoutModel",
            "_view_count": null,
            "_view_module": "@jupyter-widgets/base",
            "_view_module_version": "1.2.0",
            "_view_name": "LayoutView",
            "align_content": null,
            "align_items": null,
            "align_self": null,
            "border": null,
            "bottom": null,
            "display": null,
            "flex": null,
            "flex_flow": null,
            "grid_area": null,
            "grid_auto_columns": null,
            "grid_auto_flow": null,
            "grid_auto_rows": null,
            "grid_column": null,
            "grid_gap": null,
            "grid_row": null,
            "grid_template_areas": null,
            "grid_template_columns": null,
            "grid_template_rows": null,
            "height": null,
            "justify_content": null,
            "justify_items": null,
            "left": null,
            "margin": null,
            "max_height": null,
            "max_width": null,
            "min_height": null,
            "min_width": null,
            "object_fit": null,
            "object_position": null,
            "order": null,
            "overflow": null,
            "overflow_x": null,
            "overflow_y": null,
            "padding": null,
            "right": null,
            "top": null,
            "visibility": null,
            "width": null
          }
        },
        "e0f7293bec7743f499393eb7fa4647fd": {
          "model_module": "@jupyter-widgets/controls",
          "model_module_version": "1.5.0",
          "model_name": "HBoxModel",
          "state": {
            "_dom_classes": [],
            "_model_module": "@jupyter-widgets/controls",
            "_model_module_version": "1.5.0",
            "_model_name": "HBoxModel",
            "_view_count": null,
            "_view_module": "@jupyter-widgets/controls",
            "_view_module_version": "1.5.0",
            "_view_name": "HBoxView",
            "box_style": "",
            "children": [
              "IPY_MODEL_77e28126fc534b829f8205bc9ecabe75",
              "IPY_MODEL_f227515afdb746ecb77c1a8020ee9930",
              "IPY_MODEL_cbcd4081c69c4e27b631ecf5ff7516c9"
            ],
            "layout": "IPY_MODEL_1cbb98d02304431293231eb28d1eaa47"
          }
        },
        "e2e39eec7f9845379ee5384db90f1811": {
          "model_module": "@jupyter-widgets/base",
          "model_module_version": "1.2.0",
          "model_name": "LayoutModel",
          "state": {
            "_model_module": "@jupyter-widgets/base",
            "_model_module_version": "1.2.0",
            "_model_name": "LayoutModel",
            "_view_count": null,
            "_view_module": "@jupyter-widgets/base",
            "_view_module_version": "1.2.0",
            "_view_name": "LayoutView",
            "align_content": null,
            "align_items": null,
            "align_self": null,
            "border": null,
            "bottom": null,
            "display": null,
            "flex": null,
            "flex_flow": null,
            "grid_area": null,
            "grid_auto_columns": null,
            "grid_auto_flow": null,
            "grid_auto_rows": null,
            "grid_column": null,
            "grid_gap": null,
            "grid_row": null,
            "grid_template_areas": null,
            "grid_template_columns": null,
            "grid_template_rows": null,
            "height": null,
            "justify_content": null,
            "justify_items": null,
            "left": null,
            "margin": null,
            "max_height": null,
            "max_width": null,
            "min_height": null,
            "min_width": null,
            "object_fit": null,
            "object_position": null,
            "order": null,
            "overflow": null,
            "overflow_x": null,
            "overflow_y": null,
            "padding": null,
            "right": null,
            "top": null,
            "visibility": null,
            "width": null
          }
        },
        "e2e768f6a5cd49bdba589abe2be87262": {
          "model_module": "@jupyter-widgets/controls",
          "model_module_version": "1.5.0",
          "model_name": "ProgressStyleModel",
          "state": {
            "_model_module": "@jupyter-widgets/controls",
            "_model_module_version": "1.5.0",
            "_model_name": "ProgressStyleModel",
            "_view_count": null,
            "_view_module": "@jupyter-widgets/base",
            "_view_module_version": "1.2.0",
            "_view_name": "StyleView",
            "bar_color": null,
            "description_width": ""
          }
        },
        "e34eedc7000047ca91ceb5136e3fa749": {
          "model_module": "@jupyter-widgets/controls",
          "model_module_version": "1.5.0",
          "model_name": "HTMLModel",
          "state": {
            "_dom_classes": [],
            "_model_module": "@jupyter-widgets/controls",
            "_model_module_version": "1.5.0",
            "_model_name": "HTMLModel",
            "_view_count": null,
            "_view_module": "@jupyter-widgets/controls",
            "_view_module_version": "1.5.0",
            "_view_name": "HTMLView",
            "description": "",
            "description_tooltip": null,
            "layout": "IPY_MODEL_e0a181c977824be580dffc91885470d4",
            "placeholder": "​",
            "style": "IPY_MODEL_48594bf30aa84b59b0506f132fa330f2",
            "value": "Downloading: "
          }
        },
        "e3c62880937a48e79d79753ae2d4cda4": {
          "model_module": "@jupyter-widgets/base",
          "model_module_version": "1.2.0",
          "model_name": "LayoutModel",
          "state": {
            "_model_module": "@jupyter-widgets/base",
            "_model_module_version": "1.2.0",
            "_model_name": "LayoutModel",
            "_view_count": null,
            "_view_module": "@jupyter-widgets/base",
            "_view_module_version": "1.2.0",
            "_view_name": "LayoutView",
            "align_content": null,
            "align_items": null,
            "align_self": null,
            "border": null,
            "bottom": null,
            "display": null,
            "flex": null,
            "flex_flow": null,
            "grid_area": null,
            "grid_auto_columns": null,
            "grid_auto_flow": null,
            "grid_auto_rows": null,
            "grid_column": null,
            "grid_gap": null,
            "grid_row": null,
            "grid_template_areas": null,
            "grid_template_columns": null,
            "grid_template_rows": null,
            "height": null,
            "justify_content": null,
            "justify_items": null,
            "left": null,
            "margin": null,
            "max_height": null,
            "max_width": null,
            "min_height": null,
            "min_width": null,
            "object_fit": null,
            "object_position": null,
            "order": null,
            "overflow": null,
            "overflow_x": null,
            "overflow_y": null,
            "padding": null,
            "right": null,
            "top": null,
            "visibility": null,
            "width": null
          }
        },
        "e5861bd13bfa483b93896f1c0c3e85b9": {
          "model_module": "@jupyter-widgets/base",
          "model_module_version": "1.2.0",
          "model_name": "LayoutModel",
          "state": {
            "_model_module": "@jupyter-widgets/base",
            "_model_module_version": "1.2.0",
            "_model_name": "LayoutModel",
            "_view_count": null,
            "_view_module": "@jupyter-widgets/base",
            "_view_module_version": "1.2.0",
            "_view_name": "LayoutView",
            "align_content": null,
            "align_items": null,
            "align_self": null,
            "border": null,
            "bottom": null,
            "display": null,
            "flex": null,
            "flex_flow": null,
            "grid_area": null,
            "grid_auto_columns": null,
            "grid_auto_flow": null,
            "grid_auto_rows": null,
            "grid_column": null,
            "grid_gap": null,
            "grid_row": null,
            "grid_template_areas": null,
            "grid_template_columns": null,
            "grid_template_rows": null,
            "height": null,
            "justify_content": null,
            "justify_items": null,
            "left": null,
            "margin": null,
            "max_height": null,
            "max_width": null,
            "min_height": null,
            "min_width": null,
            "object_fit": null,
            "object_position": null,
            "order": null,
            "overflow": null,
            "overflow_x": null,
            "overflow_y": null,
            "padding": null,
            "right": null,
            "top": null,
            "visibility": null,
            "width": null
          }
        },
        "e78a131242d6479caaeeb86533e0fd0a": {
          "model_module": "@jupyter-widgets/controls",
          "model_module_version": "1.5.0",
          "model_name": "HTMLModel",
          "state": {
            "_dom_classes": [],
            "_model_module": "@jupyter-widgets/controls",
            "_model_module_version": "1.5.0",
            "_model_name": "HTMLModel",
            "_view_count": null,
            "_view_module": "@jupyter-widgets/controls",
            "_view_module_version": "1.5.0",
            "_view_name": "HTMLView",
            "description": "",
            "description_tooltip": null,
            "layout": "IPY_MODEL_bdb8b71fdd084c399b2fc7ab540ccd9b",
            "placeholder": "​",
            "style": "IPY_MODEL_b3fe30f140e9494d87607db77fdec92e",
            "value": "Downloading: "
          }
        },
        "e8be11975d494fc5bcef4a95ea5e038f": {
          "model_module": "@jupyter-widgets/controls",
          "model_module_version": "1.5.0",
          "model_name": "DescriptionStyleModel",
          "state": {
            "_model_module": "@jupyter-widgets/controls",
            "_model_module_version": "1.5.0",
            "_model_name": "DescriptionStyleModel",
            "_view_count": null,
            "_view_module": "@jupyter-widgets/base",
            "_view_module_version": "1.2.0",
            "_view_name": "StyleView",
            "description_width": ""
          }
        },
        "e91eb47b708543bb834c07f7b15b77ac": {
          "model_module": "@jupyter-widgets/controls",
          "model_module_version": "1.5.0",
          "model_name": "HTMLModel",
          "state": {
            "_dom_classes": [],
            "_model_module": "@jupyter-widgets/controls",
            "_model_module_version": "1.5.0",
            "_model_name": "HTMLModel",
            "_view_count": null,
            "_view_module": "@jupyter-widgets/controls",
            "_view_module_version": "1.5.0",
            "_view_name": "HTMLView",
            "description": "",
            "description_tooltip": null,
            "layout": "IPY_MODEL_6b75b0c550514cb6832930f9970221fa",
            "placeholder": "​",
            "style": "IPY_MODEL_1cbbc9ef4eab4657882651086fd44a0f",
            "value": " 748/? [00:00&lt;00:00, 18.0kB/s]"
          }
        },
        "ea2de0bf6c294f93bf0e1af54f28370d": {
          "model_module": "@jupyter-widgets/base",
          "model_module_version": "1.2.0",
          "model_name": "LayoutModel",
          "state": {
            "_model_module": "@jupyter-widgets/base",
            "_model_module_version": "1.2.0",
            "_model_name": "LayoutModel",
            "_view_count": null,
            "_view_module": "@jupyter-widgets/base",
            "_view_module_version": "1.2.0",
            "_view_name": "LayoutView",
            "align_content": null,
            "align_items": null,
            "align_self": null,
            "border": null,
            "bottom": null,
            "display": null,
            "flex": null,
            "flex_flow": null,
            "grid_area": null,
            "grid_auto_columns": null,
            "grid_auto_flow": null,
            "grid_auto_rows": null,
            "grid_column": null,
            "grid_gap": null,
            "grid_row": null,
            "grid_template_areas": null,
            "grid_template_columns": null,
            "grid_template_rows": null,
            "height": null,
            "justify_content": null,
            "justify_items": null,
            "left": null,
            "margin": null,
            "max_height": null,
            "max_width": null,
            "min_height": null,
            "min_width": null,
            "object_fit": null,
            "object_position": null,
            "order": null,
            "overflow": null,
            "overflow_x": null,
            "overflow_y": null,
            "padding": null,
            "right": null,
            "top": null,
            "visibility": null,
            "width": null
          }
        },
        "ea943ffe61414320b21c3efdc1566c36": {
          "model_module": "@jupyter-widgets/controls",
          "model_module_version": "1.5.0",
          "model_name": "DescriptionStyleModel",
          "state": {
            "_model_module": "@jupyter-widgets/controls",
            "_model_module_version": "1.5.0",
            "_model_name": "DescriptionStyleModel",
            "_view_count": null,
            "_view_module": "@jupyter-widgets/base",
            "_view_module_version": "1.2.0",
            "_view_name": "StyleView",
            "description_width": ""
          }
        },
        "eba0eb25acec43d4b7bed33b94f00dba": {
          "model_module": "@jupyter-widgets/controls",
          "model_module_version": "1.5.0",
          "model_name": "HTMLModel",
          "state": {
            "_dom_classes": [],
            "_model_module": "@jupyter-widgets/controls",
            "_model_module_version": "1.5.0",
            "_model_name": "HTMLModel",
            "_view_count": null,
            "_view_module": "@jupyter-widgets/controls",
            "_view_module_version": "1.5.0",
            "_view_name": "HTMLView",
            "description": "",
            "description_tooltip": null,
            "layout": "IPY_MODEL_24f3f7cbb1b9497a8c35b01d5c9d4d73",
            "placeholder": "​",
            "style": "IPY_MODEL_200696e80fd6408eae315afd168bd897",
            "value": " 0/0 [00:00&lt;?, ? examples/s]"
          }
        },
        "ec859df443e24196b4dcd784666879cc": {
          "model_module": "@jupyter-widgets/controls",
          "model_module_version": "1.5.0",
          "model_name": "HTMLModel",
          "state": {
            "_dom_classes": [],
            "_model_module": "@jupyter-widgets/controls",
            "_model_module_version": "1.5.0",
            "_model_name": "HTMLModel",
            "_view_count": null,
            "_view_module": "@jupyter-widgets/controls",
            "_view_module_version": "1.5.0",
            "_view_name": "HTMLView",
            "description": "",
            "description_tooltip": null,
            "layout": "IPY_MODEL_7c8d9032567a417fbc9db6176466aa63",
            "placeholder": "​",
            "style": "IPY_MODEL_78c7750f09514faa99e1bdc47698d93b",
            "value": ""
          }
        },
        "ec95aeb9fdf04deeaac10b3702d9d248": {
          "model_module": "@jupyter-widgets/controls",
          "model_module_version": "1.5.0",
          "model_name": "DescriptionStyleModel",
          "state": {
            "_model_module": "@jupyter-widgets/controls",
            "_model_module_version": "1.5.0",
            "_model_name": "DescriptionStyleModel",
            "_view_count": null,
            "_view_module": "@jupyter-widgets/base",
            "_view_module_version": "1.2.0",
            "_view_name": "StyleView",
            "description_width": ""
          }
        },
        "ed5b3b6c15f240228b1ad8a093d413fd": {
          "model_module": "@jupyter-widgets/base",
          "model_module_version": "1.2.0",
          "model_name": "LayoutModel",
          "state": {
            "_model_module": "@jupyter-widgets/base",
            "_model_module_version": "1.2.0",
            "_model_name": "LayoutModel",
            "_view_count": null,
            "_view_module": "@jupyter-widgets/base",
            "_view_module_version": "1.2.0",
            "_view_name": "LayoutView",
            "align_content": null,
            "align_items": null,
            "align_self": null,
            "border": null,
            "bottom": null,
            "display": null,
            "flex": null,
            "flex_flow": null,
            "grid_area": null,
            "grid_auto_columns": null,
            "grid_auto_flow": null,
            "grid_auto_rows": null,
            "grid_column": null,
            "grid_gap": null,
            "grid_row": null,
            "grid_template_areas": null,
            "grid_template_columns": null,
            "grid_template_rows": null,
            "height": null,
            "justify_content": null,
            "justify_items": null,
            "left": null,
            "margin": null,
            "max_height": null,
            "max_width": null,
            "min_height": null,
            "min_width": null,
            "object_fit": null,
            "object_position": null,
            "order": null,
            "overflow": null,
            "overflow_x": null,
            "overflow_y": null,
            "padding": null,
            "right": null,
            "top": null,
            "visibility": null,
            "width": null
          }
        },
        "edf98de5f8544826a34201b17d6abdd1": {
          "model_module": "@jupyter-widgets/base",
          "model_module_version": "1.2.0",
          "model_name": "LayoutModel",
          "state": {
            "_model_module": "@jupyter-widgets/base",
            "_model_module_version": "1.2.0",
            "_model_name": "LayoutModel",
            "_view_count": null,
            "_view_module": "@jupyter-widgets/base",
            "_view_module_version": "1.2.0",
            "_view_name": "LayoutView",
            "align_content": null,
            "align_items": null,
            "align_self": null,
            "border": null,
            "bottom": null,
            "display": null,
            "flex": null,
            "flex_flow": null,
            "grid_area": null,
            "grid_auto_columns": null,
            "grid_auto_flow": null,
            "grid_auto_rows": null,
            "grid_column": null,
            "grid_gap": null,
            "grid_row": null,
            "grid_template_areas": null,
            "grid_template_columns": null,
            "grid_template_rows": null,
            "height": null,
            "justify_content": null,
            "justify_items": null,
            "left": null,
            "margin": null,
            "max_height": null,
            "max_width": null,
            "min_height": null,
            "min_width": null,
            "object_fit": null,
            "object_position": null,
            "order": null,
            "overflow": null,
            "overflow_x": null,
            "overflow_y": null,
            "padding": null,
            "right": null,
            "top": null,
            "visibility": null,
            "width": null
          }
        },
        "eebed6a6d1574b3d92873ec8060a5317": {
          "model_module": "@jupyter-widgets/controls",
          "model_module_version": "1.5.0",
          "model_name": "HTMLModel",
          "state": {
            "_dom_classes": [],
            "_model_module": "@jupyter-widgets/controls",
            "_model_module_version": "1.5.0",
            "_model_name": "HTMLModel",
            "_view_count": null,
            "_view_module": "@jupyter-widgets/controls",
            "_view_module_version": "1.5.0",
            "_view_name": "HTMLView",
            "description": "",
            "description_tooltip": null,
            "layout": "IPY_MODEL_4034fc9dfc4a4a5196dc9a42d4cbea19",
            "placeholder": "​",
            "style": "IPY_MODEL_1be4e4a40005427492ae9326229ed5d0",
            "value": "Downloading: "
          }
        },
        "eecf0a5fec7c4a94a702f54994cbe133": {
          "model_module": "@jupyter-widgets/base",
          "model_module_version": "1.2.0",
          "model_name": "LayoutModel",
          "state": {
            "_model_module": "@jupyter-widgets/base",
            "_model_module_version": "1.2.0",
            "_model_name": "LayoutModel",
            "_view_count": null,
            "_view_module": "@jupyter-widgets/base",
            "_view_module_version": "1.2.0",
            "_view_name": "LayoutView",
            "align_content": null,
            "align_items": null,
            "align_self": null,
            "border": null,
            "bottom": null,
            "display": null,
            "flex": null,
            "flex_flow": null,
            "grid_area": null,
            "grid_auto_columns": null,
            "grid_auto_flow": null,
            "grid_auto_rows": null,
            "grid_column": null,
            "grid_gap": null,
            "grid_row": null,
            "grid_template_areas": null,
            "grid_template_columns": null,
            "grid_template_rows": null,
            "height": null,
            "justify_content": null,
            "justify_items": null,
            "left": null,
            "margin": null,
            "max_height": null,
            "max_width": null,
            "min_height": null,
            "min_width": null,
            "object_fit": null,
            "object_position": null,
            "order": null,
            "overflow": null,
            "overflow_x": null,
            "overflow_y": null,
            "padding": null,
            "right": null,
            "top": null,
            "visibility": null,
            "width": null
          }
        },
        "ef7e38a10a53443cba262fa3549fbeda": {
          "model_module": "@jupyter-widgets/controls",
          "model_module_version": "1.5.0",
          "model_name": "DescriptionStyleModel",
          "state": {
            "_model_module": "@jupyter-widgets/controls",
            "_model_module_version": "1.5.0",
            "_model_name": "DescriptionStyleModel",
            "_view_count": null,
            "_view_module": "@jupyter-widgets/base",
            "_view_module_version": "1.2.0",
            "_view_name": "StyleView",
            "description_width": ""
          }
        },
        "f0929bcbe692484191ea3fae3363aba7": {
          "model_module": "@jupyter-widgets/controls",
          "model_module_version": "1.5.0",
          "model_name": "ProgressStyleModel",
          "state": {
            "_model_module": "@jupyter-widgets/controls",
            "_model_module_version": "1.5.0",
            "_model_name": "ProgressStyleModel",
            "_view_count": null,
            "_view_module": "@jupyter-widgets/base",
            "_view_module_version": "1.2.0",
            "_view_name": "StyleView",
            "bar_color": null,
            "description_width": ""
          }
        },
        "f0c8c82a4b9c4df19548a5aeb5f8108f": {
          "model_module": "@jupyter-widgets/base",
          "model_module_version": "1.2.0",
          "model_name": "LayoutModel",
          "state": {
            "_model_module": "@jupyter-widgets/base",
            "_model_module_version": "1.2.0",
            "_model_name": "LayoutModel",
            "_view_count": null,
            "_view_module": "@jupyter-widgets/base",
            "_view_module_version": "1.2.0",
            "_view_name": "LayoutView",
            "align_content": null,
            "align_items": null,
            "align_self": null,
            "border": null,
            "bottom": null,
            "display": null,
            "flex": null,
            "flex_flow": null,
            "grid_area": null,
            "grid_auto_columns": null,
            "grid_auto_flow": null,
            "grid_auto_rows": null,
            "grid_column": null,
            "grid_gap": null,
            "grid_row": null,
            "grid_template_areas": null,
            "grid_template_columns": null,
            "grid_template_rows": null,
            "height": null,
            "justify_content": null,
            "justify_items": null,
            "left": null,
            "margin": null,
            "max_height": null,
            "max_width": null,
            "min_height": null,
            "min_width": null,
            "object_fit": null,
            "object_position": null,
            "order": null,
            "overflow": null,
            "overflow_x": null,
            "overflow_y": null,
            "padding": null,
            "right": null,
            "top": null,
            "visibility": null,
            "width": null
          }
        },
        "f18c90cc02994e5a8d57166270ed941a": {
          "model_module": "@jupyter-widgets/base",
          "model_module_version": "1.2.0",
          "model_name": "LayoutModel",
          "state": {
            "_model_module": "@jupyter-widgets/base",
            "_model_module_version": "1.2.0",
            "_model_name": "LayoutModel",
            "_view_count": null,
            "_view_module": "@jupyter-widgets/base",
            "_view_module_version": "1.2.0",
            "_view_name": "LayoutView",
            "align_content": null,
            "align_items": null,
            "align_self": null,
            "border": null,
            "bottom": null,
            "display": null,
            "flex": null,
            "flex_flow": null,
            "grid_area": null,
            "grid_auto_columns": null,
            "grid_auto_flow": null,
            "grid_auto_rows": null,
            "grid_column": null,
            "grid_gap": null,
            "grid_row": null,
            "grid_template_areas": null,
            "grid_template_columns": null,
            "grid_template_rows": null,
            "height": null,
            "justify_content": null,
            "justify_items": null,
            "left": null,
            "margin": null,
            "max_height": null,
            "max_width": null,
            "min_height": null,
            "min_width": null,
            "object_fit": null,
            "object_position": null,
            "order": null,
            "overflow": null,
            "overflow_x": null,
            "overflow_y": null,
            "padding": null,
            "right": null,
            "top": null,
            "visibility": null,
            "width": null
          }
        },
        "f227515afdb746ecb77c1a8020ee9930": {
          "model_module": "@jupyter-widgets/controls",
          "model_module_version": "1.5.0",
          "model_name": "FloatProgressModel",
          "state": {
            "_dom_classes": [],
            "_model_module": "@jupyter-widgets/controls",
            "_model_module_version": "1.5.0",
            "_model_name": "FloatProgressModel",
            "_view_count": null,
            "_view_module": "@jupyter-widgets/controls",
            "_view_module_version": "1.5.0",
            "_view_name": "ProgressView",
            "bar_style": "success",
            "description": "",
            "description_tooltip": null,
            "layout": "IPY_MODEL_f0c8c82a4b9c4df19548a5aeb5f8108f",
            "max": 6,
            "min": 0,
            "orientation": "horizontal",
            "style": "IPY_MODEL_f0929bcbe692484191ea3fae3363aba7",
            "value": 6
          }
        },
        "f2bad06f17e745bb93fe8661221f270a": {
          "model_module": "@jupyter-widgets/base",
          "model_module_version": "1.2.0",
          "model_name": "LayoutModel",
          "state": {
            "_model_module": "@jupyter-widgets/base",
            "_model_module_version": "1.2.0",
            "_model_name": "LayoutModel",
            "_view_count": null,
            "_view_module": "@jupyter-widgets/base",
            "_view_module_version": "1.2.0",
            "_view_name": "LayoutView",
            "align_content": null,
            "align_items": null,
            "align_self": null,
            "border": null,
            "bottom": null,
            "display": null,
            "flex": null,
            "flex_flow": null,
            "grid_area": null,
            "grid_auto_columns": null,
            "grid_auto_flow": null,
            "grid_auto_rows": null,
            "grid_column": null,
            "grid_gap": null,
            "grid_row": null,
            "grid_template_areas": null,
            "grid_template_columns": null,
            "grid_template_rows": null,
            "height": null,
            "justify_content": null,
            "justify_items": null,
            "left": null,
            "margin": null,
            "max_height": null,
            "max_width": null,
            "min_height": null,
            "min_width": null,
            "object_fit": null,
            "object_position": null,
            "order": null,
            "overflow": null,
            "overflow_x": null,
            "overflow_y": null,
            "padding": null,
            "right": null,
            "top": null,
            "visibility": null,
            "width": null
          }
        },
        "f3f4afefbdde4203ac3cc90688f4869b": {
          "model_module": "@jupyter-widgets/base",
          "model_module_version": "1.2.0",
          "model_name": "LayoutModel",
          "state": {
            "_model_module": "@jupyter-widgets/base",
            "_model_module_version": "1.2.0",
            "_model_name": "LayoutModel",
            "_view_count": null,
            "_view_module": "@jupyter-widgets/base",
            "_view_module_version": "1.2.0",
            "_view_name": "LayoutView",
            "align_content": null,
            "align_items": null,
            "align_self": null,
            "border": null,
            "bottom": null,
            "display": null,
            "flex": null,
            "flex_flow": null,
            "grid_area": null,
            "grid_auto_columns": null,
            "grid_auto_flow": null,
            "grid_auto_rows": null,
            "grid_column": null,
            "grid_gap": null,
            "grid_row": null,
            "grid_template_areas": null,
            "grid_template_columns": null,
            "grid_template_rows": null,
            "height": null,
            "justify_content": null,
            "justify_items": null,
            "left": null,
            "margin": null,
            "max_height": null,
            "max_width": null,
            "min_height": null,
            "min_width": null,
            "object_fit": null,
            "object_position": null,
            "order": null,
            "overflow": null,
            "overflow_x": null,
            "overflow_y": null,
            "padding": null,
            "right": null,
            "top": null,
            "visibility": null,
            "width": null
          }
        },
        "f6327e4059c14d92871a27ca2e31586e": {
          "model_module": "@jupyter-widgets/base",
          "model_module_version": "1.2.0",
          "model_name": "LayoutModel",
          "state": {
            "_model_module": "@jupyter-widgets/base",
            "_model_module_version": "1.2.0",
            "_model_name": "LayoutModel",
            "_view_count": null,
            "_view_module": "@jupyter-widgets/base",
            "_view_module_version": "1.2.0",
            "_view_name": "LayoutView",
            "align_content": null,
            "align_items": null,
            "align_self": null,
            "border": null,
            "bottom": null,
            "display": null,
            "flex": null,
            "flex_flow": null,
            "grid_area": null,
            "grid_auto_columns": null,
            "grid_auto_flow": null,
            "grid_auto_rows": null,
            "grid_column": null,
            "grid_gap": null,
            "grid_row": null,
            "grid_template_areas": null,
            "grid_template_columns": null,
            "grid_template_rows": null,
            "height": null,
            "justify_content": null,
            "justify_items": null,
            "left": null,
            "margin": null,
            "max_height": null,
            "max_width": null,
            "min_height": null,
            "min_width": null,
            "object_fit": null,
            "object_position": null,
            "order": null,
            "overflow": null,
            "overflow_x": null,
            "overflow_y": null,
            "padding": null,
            "right": null,
            "top": null,
            "visibility": null,
            "width": null
          }
        },
        "f75a748017b9420cb928cb7b5376f09d": {
          "model_module": "@jupyter-widgets/base",
          "model_module_version": "1.2.0",
          "model_name": "LayoutModel",
          "state": {
            "_model_module": "@jupyter-widgets/base",
            "_model_module_version": "1.2.0",
            "_model_name": "LayoutModel",
            "_view_count": null,
            "_view_module": "@jupyter-widgets/base",
            "_view_module_version": "1.2.0",
            "_view_name": "LayoutView",
            "align_content": null,
            "align_items": null,
            "align_self": null,
            "border": null,
            "bottom": null,
            "display": null,
            "flex": null,
            "flex_flow": null,
            "grid_area": null,
            "grid_auto_columns": null,
            "grid_auto_flow": null,
            "grid_auto_rows": null,
            "grid_column": null,
            "grid_gap": null,
            "grid_row": null,
            "grid_template_areas": null,
            "grid_template_columns": null,
            "grid_template_rows": null,
            "height": null,
            "justify_content": null,
            "justify_items": null,
            "left": null,
            "margin": null,
            "max_height": null,
            "max_width": null,
            "min_height": null,
            "min_width": null,
            "object_fit": null,
            "object_position": null,
            "order": null,
            "overflow": null,
            "overflow_x": null,
            "overflow_y": null,
            "padding": null,
            "right": null,
            "top": null,
            "visibility": null,
            "width": null
          }
        },
        "f7bae9b920004b639c213565ae7c7ecc": {
          "model_module": "@jupyter-widgets/base",
          "model_module_version": "1.2.0",
          "model_name": "LayoutModel",
          "state": {
            "_model_module": "@jupyter-widgets/base",
            "_model_module_version": "1.2.0",
            "_model_name": "LayoutModel",
            "_view_count": null,
            "_view_module": "@jupyter-widgets/base",
            "_view_module_version": "1.2.0",
            "_view_name": "LayoutView",
            "align_content": null,
            "align_items": null,
            "align_self": null,
            "border": null,
            "bottom": null,
            "display": null,
            "flex": null,
            "flex_flow": null,
            "grid_area": null,
            "grid_auto_columns": null,
            "grid_auto_flow": null,
            "grid_auto_rows": null,
            "grid_column": null,
            "grid_gap": null,
            "grid_row": null,
            "grid_template_areas": null,
            "grid_template_columns": null,
            "grid_template_rows": null,
            "height": null,
            "justify_content": null,
            "justify_items": null,
            "left": null,
            "margin": null,
            "max_height": null,
            "max_width": null,
            "min_height": null,
            "min_width": null,
            "object_fit": null,
            "object_position": null,
            "order": null,
            "overflow": null,
            "overflow_x": null,
            "overflow_y": null,
            "padding": null,
            "right": null,
            "top": null,
            "visibility": null,
            "width": "20px"
          }
        },
        "f7fe7a527bf24df8a78754ee52f213ab": {
          "model_module": "@jupyter-widgets/controls",
          "model_module_version": "1.5.0",
          "model_name": "HBoxModel",
          "state": {
            "_dom_classes": [],
            "_model_module": "@jupyter-widgets/controls",
            "_model_module_version": "1.5.0",
            "_model_name": "HBoxModel",
            "_view_count": null,
            "_view_module": "@jupyter-widgets/controls",
            "_view_module_version": "1.5.0",
            "_view_name": "HBoxView",
            "box_style": "",
            "children": [
              "IPY_MODEL_e78a131242d6479caaeeb86533e0fd0a",
              "IPY_MODEL_878e14e2bd984bf3a49744fcbc87ce7f",
              "IPY_MODEL_5a8d3a6dfe16450d9b641096949b491f"
            ],
            "layout": "IPY_MODEL_f9bf32a03ba34ca5b2e1c422776522b2"
          }
        },
        "f899784ff66a411b9db855f09e727d42": {
          "model_module": "@jupyter-widgets/controls",
          "model_module_version": "1.5.0",
          "model_name": "HBoxModel",
          "state": {
            "_dom_classes": [],
            "_model_module": "@jupyter-widgets/controls",
            "_model_module_version": "1.5.0",
            "_model_name": "HBoxModel",
            "_view_count": null,
            "_view_module": "@jupyter-widgets/controls",
            "_view_module_version": "1.5.0",
            "_view_name": "HBoxView",
            "box_style": "",
            "children": [
              "IPY_MODEL_eebed6a6d1574b3d92873ec8060a5317",
              "IPY_MODEL_b69b291557634ce796df5a85bc5b8e38",
              "IPY_MODEL_3414bc08d57c45408fb0166978951c42"
            ],
            "layout": "IPY_MODEL_3d123337652d4cbc862d225d76bb6c9a"
          }
        },
        "f9bdc9c3ab4747d28811f6bee10fa514": {
          "model_module": "@jupyter-widgets/base",
          "model_module_version": "1.2.0",
          "model_name": "LayoutModel",
          "state": {
            "_model_module": "@jupyter-widgets/base",
            "_model_module_version": "1.2.0",
            "_model_name": "LayoutModel",
            "_view_count": null,
            "_view_module": "@jupyter-widgets/base",
            "_view_module_version": "1.2.0",
            "_view_name": "LayoutView",
            "align_content": null,
            "align_items": null,
            "align_self": null,
            "border": null,
            "bottom": null,
            "display": null,
            "flex": null,
            "flex_flow": null,
            "grid_area": null,
            "grid_auto_columns": null,
            "grid_auto_flow": null,
            "grid_auto_rows": null,
            "grid_column": null,
            "grid_gap": null,
            "grid_row": null,
            "grid_template_areas": null,
            "grid_template_columns": null,
            "grid_template_rows": null,
            "height": null,
            "justify_content": null,
            "justify_items": null,
            "left": null,
            "margin": null,
            "max_height": null,
            "max_width": null,
            "min_height": null,
            "min_width": null,
            "object_fit": null,
            "object_position": null,
            "order": null,
            "overflow": null,
            "overflow_x": null,
            "overflow_y": null,
            "padding": null,
            "right": null,
            "top": null,
            "visibility": null,
            "width": null
          }
        },
        "f9bf32a03ba34ca5b2e1c422776522b2": {
          "model_module": "@jupyter-widgets/base",
          "model_module_version": "1.2.0",
          "model_name": "LayoutModel",
          "state": {
            "_model_module": "@jupyter-widgets/base",
            "_model_module_version": "1.2.0",
            "_model_name": "LayoutModel",
            "_view_count": null,
            "_view_module": "@jupyter-widgets/base",
            "_view_module_version": "1.2.0",
            "_view_name": "LayoutView",
            "align_content": null,
            "align_items": null,
            "align_self": null,
            "border": null,
            "bottom": null,
            "display": null,
            "flex": null,
            "flex_flow": null,
            "grid_area": null,
            "grid_auto_columns": null,
            "grid_auto_flow": null,
            "grid_auto_rows": null,
            "grid_column": null,
            "grid_gap": null,
            "grid_row": null,
            "grid_template_areas": null,
            "grid_template_columns": null,
            "grid_template_rows": null,
            "height": null,
            "justify_content": null,
            "justify_items": null,
            "left": null,
            "margin": null,
            "max_height": null,
            "max_width": null,
            "min_height": null,
            "min_width": null,
            "object_fit": null,
            "object_position": null,
            "order": null,
            "overflow": null,
            "overflow_x": null,
            "overflow_y": null,
            "padding": null,
            "right": null,
            "top": null,
            "visibility": null,
            "width": null
          }
        },
        "fac46a35ebcd4eee8f8067be1d97d979": {
          "model_module": "@jupyter-widgets/controls",
          "model_module_version": "1.5.0",
          "model_name": "HBoxModel",
          "state": {
            "_dom_classes": [],
            "_model_module": "@jupyter-widgets/controls",
            "_model_module_version": "1.5.0",
            "_model_name": "HBoxModel",
            "_view_count": null,
            "_view_module": "@jupyter-widgets/controls",
            "_view_module_version": "1.5.0",
            "_view_name": "HBoxView",
            "box_style": "",
            "children": [
              "IPY_MODEL_ec859df443e24196b4dcd784666879cc",
              "IPY_MODEL_bc28f7e171a14f12ba7c4211df23adf4",
              "IPY_MODEL_97d1a9f9e3be4190ad7d3531a16fe057"
            ],
            "layout": "IPY_MODEL_f18c90cc02994e5a8d57166270ed941a"
          }
        },
        "fb84793276b640bda08018911c7edc9c": {
          "model_module": "@jupyter-widgets/controls",
          "model_module_version": "1.5.0",
          "model_name": "HTMLModel",
          "state": {
            "_dom_classes": [],
            "_model_module": "@jupyter-widgets/controls",
            "_model_module_version": "1.5.0",
            "_model_name": "HTMLModel",
            "_view_count": null,
            "_view_module": "@jupyter-widgets/controls",
            "_view_module_version": "1.5.0",
            "_view_name": "HTMLView",
            "description": "",
            "description_tooltip": null,
            "layout": "IPY_MODEL_632b13b9a33349478d71e1103ede1de2",
            "placeholder": "​",
            "style": "IPY_MODEL_478e4a157d28491ea97ad2d6c72b60f2",
            "value": ""
          }
        },
        "fdae299aa4584c74a00b5e98b4c89ec1": {
          "model_module": "@jupyter-widgets/base",
          "model_module_version": "1.2.0",
          "model_name": "LayoutModel",
          "state": {
            "_model_module": "@jupyter-widgets/base",
            "_model_module_version": "1.2.0",
            "_model_name": "LayoutModel",
            "_view_count": null,
            "_view_module": "@jupyter-widgets/base",
            "_view_module_version": "1.2.0",
            "_view_name": "LayoutView",
            "align_content": null,
            "align_items": null,
            "align_self": null,
            "border": null,
            "bottom": null,
            "display": null,
            "flex": null,
            "flex_flow": null,
            "grid_area": null,
            "grid_auto_columns": null,
            "grid_auto_flow": null,
            "grid_auto_rows": null,
            "grid_column": null,
            "grid_gap": null,
            "grid_row": null,
            "grid_template_areas": null,
            "grid_template_columns": null,
            "grid_template_rows": null,
            "height": null,
            "justify_content": null,
            "justify_items": null,
            "left": null,
            "margin": null,
            "max_height": null,
            "max_width": null,
            "min_height": null,
            "min_width": null,
            "object_fit": null,
            "object_position": null,
            "order": null,
            "overflow": null,
            "overflow_x": null,
            "overflow_y": null,
            "padding": null,
            "right": null,
            "top": null,
            "visibility": null,
            "width": "20px"
          }
        },
        "fe7a74fc8f2c4e10bef7210f21d0ee37": {
          "model_module": "@jupyter-widgets/base",
          "model_module_version": "1.2.0",
          "model_name": "LayoutModel",
          "state": {
            "_model_module": "@jupyter-widgets/base",
            "_model_module_version": "1.2.0",
            "_model_name": "LayoutModel",
            "_view_count": null,
            "_view_module": "@jupyter-widgets/base",
            "_view_module_version": "1.2.0",
            "_view_name": "LayoutView",
            "align_content": null,
            "align_items": null,
            "align_self": null,
            "border": null,
            "bottom": null,
            "display": null,
            "flex": null,
            "flex_flow": null,
            "grid_area": null,
            "grid_auto_columns": null,
            "grid_auto_flow": null,
            "grid_auto_rows": null,
            "grid_column": null,
            "grid_gap": null,
            "grid_row": null,
            "grid_template_areas": null,
            "grid_template_columns": null,
            "grid_template_rows": null,
            "height": null,
            "justify_content": null,
            "justify_items": null,
            "left": null,
            "margin": null,
            "max_height": null,
            "max_width": null,
            "min_height": null,
            "min_width": null,
            "object_fit": null,
            "object_position": null,
            "order": null,
            "overflow": null,
            "overflow_x": null,
            "overflow_y": null,
            "padding": null,
            "right": null,
            "top": null,
            "visibility": null,
            "width": null
          }
        },
        "ffadfc3d8aa84f1796801497ce990a93": {
          "model_module": "@jupyter-widgets/controls",
          "model_module_version": "1.5.0",
          "model_name": "DescriptionStyleModel",
          "state": {
            "_model_module": "@jupyter-widgets/controls",
            "_model_module_version": "1.5.0",
            "_model_name": "DescriptionStyleModel",
            "_view_count": null,
            "_view_module": "@jupyter-widgets/base",
            "_view_module_version": "1.2.0",
            "_view_name": "StyleView",
            "description_width": ""
          }
        },
        "fffff9d102364b3ab47aa0225fc273cf": {
          "model_module": "@jupyter-widgets/base",
          "model_module_version": "1.2.0",
          "model_name": "LayoutModel",
          "state": {
            "_model_module": "@jupyter-widgets/base",
            "_model_module_version": "1.2.0",
            "_model_name": "LayoutModel",
            "_view_count": null,
            "_view_module": "@jupyter-widgets/base",
            "_view_module_version": "1.2.0",
            "_view_name": "LayoutView",
            "align_content": null,
            "align_items": null,
            "align_self": null,
            "border": null,
            "bottom": null,
            "display": null,
            "flex": null,
            "flex_flow": null,
            "grid_area": null,
            "grid_auto_columns": null,
            "grid_auto_flow": null,
            "grid_auto_rows": null,
            "grid_column": null,
            "grid_gap": null,
            "grid_row": null,
            "grid_template_areas": null,
            "grid_template_columns": null,
            "grid_template_rows": null,
            "height": null,
            "justify_content": null,
            "justify_items": null,
            "left": null,
            "margin": null,
            "max_height": null,
            "max_width": null,
            "min_height": null,
            "min_width": null,
            "object_fit": null,
            "object_position": null,
            "order": null,
            "overflow": null,
            "overflow_x": null,
            "overflow_y": null,
            "padding": null,
            "right": null,
            "top": null,
            "visibility": null,
            "width": null
          }
        }
      }
    }
  },
  "nbformat": 4,
  "nbformat_minor": 0
}
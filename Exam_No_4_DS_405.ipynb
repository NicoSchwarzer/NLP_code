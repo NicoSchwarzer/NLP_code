{
  "cells": [
    {
      "cell_type": "markdown",
      "metadata": {
        "id": "eoybN5wmv-Zz"
      },
      "source": [
        "# Exam No 4\n",
        "\n",
        "This is the code for the fourth exam of DS 405 - NLP submitted by Nico Schwarzer, ID: 5632297."
      ]
    },
    {
      "cell_type": "markdown",
      "metadata": {
        "id": "vi50Ry_YwZTQ"
      },
      "source": [
        "## Loading in packages, models, embeddings and the datasets"
      ]
    },
    {
      "cell_type": "code",
      "execution_count": null,
      "metadata": {
        "colab": {
          "base_uri": "https://localhost:8080/"
        },
        "id": "VMtUYylgv1J8",
        "outputId": "f9696067-999c-4c70-b344-d0da65ad2959"
      },
      "outputs": [
        {
          "output_type": "stream",
          "name": "stdout",
          "text": [
            "Requirement already satisfied: datasets in /usr/local/lib/python3.7/dist-packages (1.18.3)\n",
            "Requirement already satisfied: tqdm>=4.62.1 in /usr/local/lib/python3.7/dist-packages (from datasets) (4.62.3)\n",
            "Requirement already satisfied: pyarrow!=4.0.0,>=3.0.0 in /usr/local/lib/python3.7/dist-packages (from datasets) (6.0.1)\n",
            "Requirement already satisfied: huggingface-hub<1.0.0,>=0.1.0 in /usr/local/lib/python3.7/dist-packages (from datasets) (0.4.0)\n",
            "Requirement already satisfied: numpy>=1.17 in /usr/local/lib/python3.7/dist-packages (from datasets) (1.19.5)\n",
            "Requirement already satisfied: dill in /usr/local/lib/python3.7/dist-packages (from datasets) (0.3.4)\n",
            "Requirement already satisfied: requests>=2.19.0 in /usr/local/lib/python3.7/dist-packages (from datasets) (2.23.0)\n",
            "Requirement already satisfied: pandas in /usr/local/lib/python3.7/dist-packages (from datasets) (1.3.5)\n",
            "Requirement already satisfied: packaging in /usr/local/lib/python3.7/dist-packages (from datasets) (21.3)\n",
            "Requirement already satisfied: aiohttp in /usr/local/lib/python3.7/dist-packages (from datasets) (3.8.1)\n",
            "Requirement already satisfied: fsspec[http]>=2021.05.0 in /usr/local/lib/python3.7/dist-packages (from datasets) (2022.1.0)\n",
            "Requirement already satisfied: importlib-metadata in /usr/local/lib/python3.7/dist-packages (from datasets) (4.10.1)\n",
            "Requirement already satisfied: multiprocess in /usr/local/lib/python3.7/dist-packages (from datasets) (0.70.12.2)\n",
            "Requirement already satisfied: xxhash in /usr/local/lib/python3.7/dist-packages (from datasets) (2.0.2)\n",
            "Requirement already satisfied: filelock in /usr/local/lib/python3.7/dist-packages (from huggingface-hub<1.0.0,>=0.1.0->datasets) (3.4.2)\n",
            "Requirement already satisfied: pyyaml in /usr/local/lib/python3.7/dist-packages (from huggingface-hub<1.0.0,>=0.1.0->datasets) (6.0)\n",
            "Requirement already satisfied: typing-extensions>=3.7.4.3 in /usr/local/lib/python3.7/dist-packages (from huggingface-hub<1.0.0,>=0.1.0->datasets) (3.10.0.2)\n",
            "Requirement already satisfied: pyparsing!=3.0.5,>=2.0.2 in /usr/local/lib/python3.7/dist-packages (from packaging->datasets) (3.0.7)\n",
            "Requirement already satisfied: certifi>=2017.4.17 in /usr/local/lib/python3.7/dist-packages (from requests>=2.19.0->datasets) (2021.10.8)\n",
            "Requirement already satisfied: idna<3,>=2.5 in /usr/local/lib/python3.7/dist-packages (from requests>=2.19.0->datasets) (2.10)\n",
            "Requirement already satisfied: urllib3!=1.25.0,!=1.25.1,<1.26,>=1.21.1 in /usr/local/lib/python3.7/dist-packages (from requests>=2.19.0->datasets) (1.24.3)\n",
            "Requirement already satisfied: chardet<4,>=3.0.2 in /usr/local/lib/python3.7/dist-packages (from requests>=2.19.0->datasets) (3.0.4)\n",
            "Requirement already satisfied: charset-normalizer<3.0,>=2.0 in /usr/local/lib/python3.7/dist-packages (from aiohttp->datasets) (2.0.11)\n",
            "Requirement already satisfied: frozenlist>=1.1.1 in /usr/local/lib/python3.7/dist-packages (from aiohttp->datasets) (1.3.0)\n",
            "Requirement already satisfied: yarl<2.0,>=1.0 in /usr/local/lib/python3.7/dist-packages (from aiohttp->datasets) (1.7.2)\n",
            "Requirement already satisfied: asynctest==0.13.0 in /usr/local/lib/python3.7/dist-packages (from aiohttp->datasets) (0.13.0)\n",
            "Requirement already satisfied: multidict<7.0,>=4.5 in /usr/local/lib/python3.7/dist-packages (from aiohttp->datasets) (6.0.2)\n",
            "Requirement already satisfied: attrs>=17.3.0 in /usr/local/lib/python3.7/dist-packages (from aiohttp->datasets) (21.4.0)\n",
            "Requirement already satisfied: aiosignal>=1.1.2 in /usr/local/lib/python3.7/dist-packages (from aiohttp->datasets) (1.2.0)\n",
            "Requirement already satisfied: async-timeout<5.0,>=4.0.0a3 in /usr/local/lib/python3.7/dist-packages (from aiohttp->datasets) (4.0.2)\n",
            "Requirement already satisfied: zipp>=0.5 in /usr/local/lib/python3.7/dist-packages (from importlib-metadata->datasets) (3.7.0)\n",
            "Requirement already satisfied: pytz>=2017.3 in /usr/local/lib/python3.7/dist-packages (from pandas->datasets) (2018.9)\n",
            "Requirement already satisfied: python-dateutil>=2.7.3 in /usr/local/lib/python3.7/dist-packages (from pandas->datasets) (2.8.2)\n",
            "Requirement already satisfied: six>=1.5 in /usr/local/lib/python3.7/dist-packages (from python-dateutil>=2.7.3->pandas->datasets) (1.15.0)\n",
            "Requirement already satisfied: transformers in /usr/local/lib/python3.7/dist-packages (4.16.2)\n",
            "Requirement already satisfied: packaging>=20.0 in /usr/local/lib/python3.7/dist-packages (from transformers) (21.3)\n",
            "Requirement already satisfied: tqdm>=4.27 in /usr/local/lib/python3.7/dist-packages (from transformers) (4.62.3)\n",
            "Requirement already satisfied: pyyaml>=5.1 in /usr/local/lib/python3.7/dist-packages (from transformers) (6.0)\n",
            "Requirement already satisfied: filelock in /usr/local/lib/python3.7/dist-packages (from transformers) (3.4.2)\n",
            "Requirement already satisfied: huggingface-hub<1.0,>=0.1.0 in /usr/local/lib/python3.7/dist-packages (from transformers) (0.4.0)\n",
            "Requirement already satisfied: tokenizers!=0.11.3,>=0.10.1 in /usr/local/lib/python3.7/dist-packages (from transformers) (0.11.4)\n",
            "Requirement already satisfied: importlib-metadata in /usr/local/lib/python3.7/dist-packages (from transformers) (4.10.1)\n",
            "Requirement already satisfied: numpy>=1.17 in /usr/local/lib/python3.7/dist-packages (from transformers) (1.19.5)\n",
            "Requirement already satisfied: sacremoses in /usr/local/lib/python3.7/dist-packages (from transformers) (0.0.47)\n",
            "Requirement already satisfied: regex!=2019.12.17 in /usr/local/lib/python3.7/dist-packages (from transformers) (2019.12.20)\n",
            "Requirement already satisfied: requests in /usr/local/lib/python3.7/dist-packages (from transformers) (2.23.0)\n",
            "Requirement already satisfied: typing-extensions>=3.7.4.3 in /usr/local/lib/python3.7/dist-packages (from huggingface-hub<1.0,>=0.1.0->transformers) (3.10.0.2)\n",
            "Requirement already satisfied: pyparsing!=3.0.5,>=2.0.2 in /usr/local/lib/python3.7/dist-packages (from packaging>=20.0->transformers) (3.0.7)\n",
            "Requirement already satisfied: zipp>=0.5 in /usr/local/lib/python3.7/dist-packages (from importlib-metadata->transformers) (3.7.0)\n",
            "Requirement already satisfied: urllib3!=1.25.0,!=1.25.1,<1.26,>=1.21.1 in /usr/local/lib/python3.7/dist-packages (from requests->transformers) (1.24.3)\n",
            "Requirement already satisfied: certifi>=2017.4.17 in /usr/local/lib/python3.7/dist-packages (from requests->transformers) (2021.10.8)\n",
            "Requirement already satisfied: chardet<4,>=3.0.2 in /usr/local/lib/python3.7/dist-packages (from requests->transformers) (3.0.4)\n",
            "Requirement already satisfied: idna<3,>=2.5 in /usr/local/lib/python3.7/dist-packages (from requests->transformers) (2.10)\n",
            "Requirement already satisfied: six in /usr/local/lib/python3.7/dist-packages (from sacremoses->transformers) (1.15.0)\n",
            "Requirement already satisfied: click in /usr/local/lib/python3.7/dist-packages (from sacremoses->transformers) (7.1.2)\n",
            "Requirement already satisfied: joblib in /usr/local/lib/python3.7/dist-packages (from sacremoses->transformers) (1.1.0)\n"
          ]
        }
      ],
      "source": [
        "!pip install datasets\n",
        "!pip install transformers"
      ]
    },
    {
      "cell_type": "code",
      "execution_count": null,
      "metadata": {
        "colab": {
          "base_uri": "https://localhost:8080/"
        },
        "id": "qXJTcS9M8BpJ",
        "outputId": "8a1f55a1-3a5b-40f3-f3a1-7af163079e71"
      },
      "outputs": [
        {
          "output_type": "stream",
          "name": "stdout",
          "text": [
            "Requirement already satisfied: transformers in /usr/local/lib/python3.7/dist-packages (4.16.2)\n",
            "Requirement already satisfied: tokenizers!=0.11.3,>=0.10.1 in /usr/local/lib/python3.7/dist-packages (from transformers) (0.11.4)\n",
            "Requirement already satisfied: importlib-metadata in /usr/local/lib/python3.7/dist-packages (from transformers) (4.10.1)\n",
            "Requirement already satisfied: filelock in /usr/local/lib/python3.7/dist-packages (from transformers) (3.4.2)\n",
            "Requirement already satisfied: requests in /usr/local/lib/python3.7/dist-packages (from transformers) (2.23.0)\n",
            "Requirement already satisfied: tqdm>=4.27 in /usr/local/lib/python3.7/dist-packages (from transformers) (4.62.3)\n",
            "Requirement already satisfied: packaging>=20.0 in /usr/local/lib/python3.7/dist-packages (from transformers) (21.3)\n",
            "Requirement already satisfied: huggingface-hub<1.0,>=0.1.0 in /usr/local/lib/python3.7/dist-packages (from transformers) (0.4.0)\n",
            "Requirement already satisfied: regex!=2019.12.17 in /usr/local/lib/python3.7/dist-packages (from transformers) (2019.12.20)\n",
            "Requirement already satisfied: numpy>=1.17 in /usr/local/lib/python3.7/dist-packages (from transformers) (1.19.5)\n",
            "Requirement already satisfied: pyyaml>=5.1 in /usr/local/lib/python3.7/dist-packages (from transformers) (6.0)\n",
            "Requirement already satisfied: sacremoses in /usr/local/lib/python3.7/dist-packages (from transformers) (0.0.47)\n",
            "Requirement already satisfied: typing-extensions>=3.7.4.3 in /usr/local/lib/python3.7/dist-packages (from huggingface-hub<1.0,>=0.1.0->transformers) (3.10.0.2)\n",
            "Requirement already satisfied: pyparsing!=3.0.5,>=2.0.2 in /usr/local/lib/python3.7/dist-packages (from packaging>=20.0->transformers) (3.0.7)\n",
            "Requirement already satisfied: zipp>=0.5 in /usr/local/lib/python3.7/dist-packages (from importlib-metadata->transformers) (3.7.0)\n",
            "Requirement already satisfied: idna<3,>=2.5 in /usr/local/lib/python3.7/dist-packages (from requests->transformers) (2.10)\n",
            "Requirement already satisfied: certifi>=2017.4.17 in /usr/local/lib/python3.7/dist-packages (from requests->transformers) (2021.10.8)\n",
            "Requirement already satisfied: urllib3!=1.25.0,!=1.25.1,<1.26,>=1.21.1 in /usr/local/lib/python3.7/dist-packages (from requests->transformers) (1.24.3)\n",
            "Requirement already satisfied: chardet<4,>=3.0.2 in /usr/local/lib/python3.7/dist-packages (from requests->transformers) (3.0.4)\n",
            "Requirement already satisfied: six in /usr/local/lib/python3.7/dist-packages (from sacremoses->transformers) (1.15.0)\n",
            "Requirement already satisfied: joblib in /usr/local/lib/python3.7/dist-packages (from sacremoses->transformers) (1.1.0)\n",
            "Requirement already satisfied: click in /usr/local/lib/python3.7/dist-packages (from sacremoses->transformers) (7.1.2)\n",
            "Requirement already satisfied: sentence-transformers in /usr/local/lib/python3.7/dist-packages (2.1.0)\n",
            "Requirement already satisfied: numpy in /usr/local/lib/python3.7/dist-packages (from sentence-transformers) (1.19.5)\n",
            "Requirement already satisfied: huggingface-hub in /usr/local/lib/python3.7/dist-packages (from sentence-transformers) (0.4.0)\n",
            "Requirement already satisfied: torchvision in /usr/local/lib/python3.7/dist-packages (from sentence-transformers) (0.11.1+cu111)\n",
            "Requirement already satisfied: nltk in /usr/local/lib/python3.7/dist-packages (from sentence-transformers) (3.2.5)\n",
            "Requirement already satisfied: tqdm in /usr/local/lib/python3.7/dist-packages (from sentence-transformers) (4.62.3)\n",
            "Requirement already satisfied: torch>=1.6.0 in /usr/local/lib/python3.7/dist-packages (from sentence-transformers) (1.10.0+cu111)\n",
            "Requirement already satisfied: transformers<5.0.0,>=4.6.0 in /usr/local/lib/python3.7/dist-packages (from sentence-transformers) (4.16.2)\n",
            "Requirement already satisfied: scikit-learn in /usr/local/lib/python3.7/dist-packages (from sentence-transformers) (1.0.2)\n",
            "Requirement already satisfied: scipy in /usr/local/lib/python3.7/dist-packages (from sentence-transformers) (1.4.1)\n",
            "Requirement already satisfied: sentencepiece in /usr/local/lib/python3.7/dist-packages (from sentence-transformers) (0.1.96)\n",
            "Requirement already satisfied: tokenizers>=0.10.3 in /usr/local/lib/python3.7/dist-packages (from sentence-transformers) (0.11.4)\n",
            "Requirement already satisfied: typing-extensions in /usr/local/lib/python3.7/dist-packages (from torch>=1.6.0->sentence-transformers) (3.10.0.2)\n",
            "Requirement already satisfied: importlib-metadata in /usr/local/lib/python3.7/dist-packages (from transformers<5.0.0,>=4.6.0->sentence-transformers) (4.10.1)\n",
            "Requirement already satisfied: sacremoses in /usr/local/lib/python3.7/dist-packages (from transformers<5.0.0,>=4.6.0->sentence-transformers) (0.0.47)\n",
            "Requirement already satisfied: requests in /usr/local/lib/python3.7/dist-packages (from transformers<5.0.0,>=4.6.0->sentence-transformers) (2.23.0)\n",
            "Requirement already satisfied: regex!=2019.12.17 in /usr/local/lib/python3.7/dist-packages (from transformers<5.0.0,>=4.6.0->sentence-transformers) (2019.12.20)\n",
            "Requirement already satisfied: packaging>=20.0 in /usr/local/lib/python3.7/dist-packages (from transformers<5.0.0,>=4.6.0->sentence-transformers) (21.3)\n",
            "Requirement already satisfied: filelock in /usr/local/lib/python3.7/dist-packages (from transformers<5.0.0,>=4.6.0->sentence-transformers) (3.4.2)\n",
            "Requirement already satisfied: pyyaml>=5.1 in /usr/local/lib/python3.7/dist-packages (from transformers<5.0.0,>=4.6.0->sentence-transformers) (6.0)\n",
            "Requirement already satisfied: pyparsing!=3.0.5,>=2.0.2 in /usr/local/lib/python3.7/dist-packages (from packaging>=20.0->transformers<5.0.0,>=4.6.0->sentence-transformers) (3.0.7)\n",
            "Requirement already satisfied: zipp>=0.5 in /usr/local/lib/python3.7/dist-packages (from importlib-metadata->transformers<5.0.0,>=4.6.0->sentence-transformers) (3.7.0)\n",
            "Requirement already satisfied: six in /usr/local/lib/python3.7/dist-packages (from nltk->sentence-transformers) (1.15.0)\n",
            "Requirement already satisfied: urllib3!=1.25.0,!=1.25.1,<1.26,>=1.21.1 in /usr/local/lib/python3.7/dist-packages (from requests->transformers<5.0.0,>=4.6.0->sentence-transformers) (1.24.3)\n",
            "Requirement already satisfied: chardet<4,>=3.0.2 in /usr/local/lib/python3.7/dist-packages (from requests->transformers<5.0.0,>=4.6.0->sentence-transformers) (3.0.4)\n",
            "Requirement already satisfied: idna<3,>=2.5 in /usr/local/lib/python3.7/dist-packages (from requests->transformers<5.0.0,>=4.6.0->sentence-transformers) (2.10)\n",
            "Requirement already satisfied: certifi>=2017.4.17 in /usr/local/lib/python3.7/dist-packages (from requests->transformers<5.0.0,>=4.6.0->sentence-transformers) (2021.10.8)\n",
            "Requirement already satisfied: joblib in /usr/local/lib/python3.7/dist-packages (from sacremoses->transformers<5.0.0,>=4.6.0->sentence-transformers) (1.1.0)\n",
            "Requirement already satisfied: click in /usr/local/lib/python3.7/dist-packages (from sacremoses->transformers<5.0.0,>=4.6.0->sentence-transformers) (7.1.2)\n",
            "Requirement already satisfied: threadpoolctl>=2.0.0 in /usr/local/lib/python3.7/dist-packages (from scikit-learn->sentence-transformers) (3.1.0)\n",
            "Requirement already satisfied: pillow!=8.3.0,>=5.3.0 in /usr/local/lib/python3.7/dist-packages (from torchvision->sentence-transformers) (7.1.2)\n"
          ]
        }
      ],
      "source": [
        "!pip install transformers\n",
        "!pip install sentence-transformers"
      ]
    },
    {
      "cell_type": "code",
      "execution_count": null,
      "metadata": {
        "id": "tGRRSTdZwgU4"
      },
      "outputs": [],
      "source": [
        "import torch\n",
        "import datasets\n",
        "from datasets import load_dataset\n",
        "import pandas as pd\n",
        "import numpy as np\n",
        "from transformers import BertTokenizer, BertModel\n",
        "from sentence_transformers import SentenceTransformer\n",
        "from gensim.models import KeyedVectors\n",
        "from sentence_transformers.util import cos_sim\n",
        "from sentence_transformers import CrossEncoder\n",
        "from sentence_transformers import InputExample\n",
        "from torch.utils.data import DataLoader\n",
        "from sentence_transformers import losses\n"
      ]
    },
    {
      "cell_type": "code",
      "execution_count": null,
      "metadata": {
        "id": "mdiW_3GrSGaz"
      },
      "outputs": [],
      "source": [
        "from sentence_transformers import models"
      ]
    },
    {
      "cell_type": "code",
      "execution_count": null,
      "metadata": {
        "id": "Wf-VVCfcfOOF"
      },
      "outputs": [],
      "source": [
        "## mounting google drive\n",
        "\n",
        "from google.colab import drive\n",
        "\n",
        "drive.mount('/content/drive')"
      ]
    },
    {
      "cell_type": "markdown",
      "metadata": {
        "id": "AJ-bXj0xyXHB"
      },
      "source": [
        "Now I shall read in the dataset\n"
      ]
    },
    {
      "cell_type": "code",
      "execution_count": null,
      "metadata": {
        "colab": {
          "base_uri": "https://localhost:8080/",
          "height": 66,
          "referenced_widgets": [
            "f4a5a01d8c0b4b039ba0f97242242d80",
            "a66e1520c77d4554b26c88c3c651a8ff",
            "70820b3aaa0f4d919b1e4ea26d6c089d",
            "f29102881b754a2693956c3b21ddf18f",
            "199b68ec0fa6475fb4651029ef8ba1c2",
            "539eb851298441b390852262ec6e1ce7",
            "5d7689e2d40541dda08fc7d9db7af3bf",
            "a0760e0ad755405198cfa47fdc58be94",
            "9cd7d75fe284465998332fa321edec03",
            "4f5edfcdb31249649f11d3bd26773794",
            "a6c8fee6f0424cc89e541ed14232f05e"
          ]
        },
        "id": "pAPW_GJHJ2gY",
        "outputId": "ffee9a84-7a58-4551-cde0-5b271757e32a"
      },
      "outputs": [
        {
          "output_type": "stream",
          "name": "stderr",
          "text": [
            "Reusing dataset subjqa (/content/drive/My Drive/DS405B_NLP/dataset_electronics.csv/subjqa/electronics/1.1.0/e5588f9298ff2d70686a00cc377e4bdccf4e32287459e3c6baf2dc5ab57fe7fd)\n"
          ]
        },
        {
          "output_type": "display_data",
          "data": {
            "application/vnd.jupyter.widget-view+json": {
              "model_id": "f4a5a01d8c0b4b039ba0f97242242d80",
              "version_minor": 0,
              "version_major": 2
            },
            "text/plain": [
              "  0%|          | 0/3 [00:00<?, ?it/s]"
            ]
          },
          "metadata": {}
        }
      ],
      "source": [
        "dataset_electronics = load_dataset(\"subjqa\", \"electronics\", cache_dir= '/content/drive/My Drive/DS405B_NLP/dataset_electronics.csv')"
      ]
    },
    {
      "cell_type": "code",
      "execution_count": null,
      "metadata": {
        "id": "PkU7DDMKKVq2"
      },
      "outputs": [],
      "source": [
        "dataset_electronics_train = dataset_electronics['train']\n",
        "dataset_electronics_test = dataset_electronics['test']\n",
        "dataset_electronics_val = dataset_electronics['validation']\n"
      ]
    },
    {
      "cell_type": "markdown",
      "source": [
        "Now, I shall determine if there are cases in the sets with more than one answer or no answer at all since this will influence the reader metrics and the creation of the Dataoader for fine tuning the Reader Model. "
      ],
      "metadata": {
        "id": "gJhWL1nmgO0-"
      }
    },
    {
      "cell_type": "code",
      "source": [
        "len_answers_train = [len(dataset_electronics_train[\"answers\"][i][\"text\"]) for i in range(dataset_electronics_train.shape[0])  ]\n",
        "len_answers_test = [len(dataset_electronics_test[\"answers\"][i][\"text\"]) for i in range(dataset_electronics_test.shape[0])  ]\n",
        "len_answers_val = [len(dataset_electronics_val[\"answers\"][i][\"text\"]) for i in range(dataset_electronics_val.shape[0])  ]\n",
        "\n"
      ],
      "metadata": {
        "id": "xoHjL22je5Ng"
      },
      "execution_count": null,
      "outputs": []
    },
    {
      "cell_type": "code",
      "source": [
        "pd.Series(len_answers_train).value_counts()"
      ],
      "metadata": {
        "colab": {
          "base_uri": "https://localhost:8080/"
        },
        "id": "qoUqiqyRgoNX",
        "outputId": "5c6cd4e9-7acc-492a-fa9d-57a06afaf631"
      },
      "execution_count": null,
      "outputs": [
        {
          "output_type": "execute_result",
          "data": {
            "text/plain": [
              "0    784\n",
              "1    264\n",
              "2    246\n",
              "4      1\n",
              "dtype: int64"
            ]
          },
          "metadata": {},
          "execution_count": 27
        }
      ]
    },
    {
      "cell_type": "code",
      "source": [
        "pd.Series(len_answers_test).value_counts()"
      ],
      "metadata": {
        "colab": {
          "base_uri": "https://localhost:8080/"
        },
        "id": "CGQGLdkzf-Rf",
        "outputId": "61e688f3-4c85-45b6-bcde-8898897f32e2"
      },
      "execution_count": null,
      "outputs": [
        {
          "output_type": "execute_result",
          "data": {
            "text/plain": [
              "0    198\n",
              "2     97\n",
              "1     63\n",
              "dtype: int64"
            ]
          },
          "metadata": {},
          "execution_count": 25
        }
      ]
    },
    {
      "cell_type": "code",
      "source": [
        "pd.Series(len_answers_val).value_counts()"
      ],
      "metadata": {
        "colab": {
          "base_uri": "https://localhost:8080/"
        },
        "id": "yAGuM2Wbgq1C",
        "outputId": "ec49e2b0-e693-4f2d-822f-2cf8c9784037"
      },
      "execution_count": null,
      "outputs": [
        {
          "output_type": "execute_result",
          "data": {
            "text/plain": [
              "0    157\n",
              "1     98\n",
              "dtype: int64"
            ]
          },
          "metadata": {},
          "execution_count": 28
        }
      ]
    },
    {
      "cell_type": "markdown",
      "source": [
        "There are cases with no answer as well as cases with 2 answers. This shall be considered in the following tasks."
      ],
      "metadata": {
        "id": "NiAfgzDaLzhf"
      }
    },
    {
      "cell_type": "markdown",
      "metadata": {
        "id": "LCmTjJMaKyUs"
      },
      "source": [
        "## Task 1)"
      ]
    },
    {
      "cell_type": "markdown",
      "metadata": {
        "id": "M5R58VVfLv5O"
      },
      "source": [
        "I shall set up the Bi-Encoder Model and encode all contexts and store the contexts together with their embeddings in seperate DFs and save themn to my Drive."
      ]
    },
    {
      "cell_type": "code",
      "execution_count": null,
      "metadata": {
        "id": "90Ryl6P8KwL-"
      },
      "outputs": [],
      "source": [
        "model_bi_encoder = SentenceTransformer('multi-qa-MiniLM-L6-cos-v1')\n",
        "\n",
        "device = torch.device(\"cuda\")\n",
        "model_bi_encoder = model_bi_encoder.to(device)"
      ]
    },
    {
      "cell_type": "markdown",
      "metadata": {
        "id": "3jukmCOUpcXr"
      },
      "source": [
        "For all 3 sets, a DF containing the embeddings in the first 384 columns and the context in the 385th column will be created and stored on the drive. "
      ]
    },
    {
      "cell_type": "code",
      "execution_count": null,
      "metadata": {
        "id": "5vh_oEnyLNZu"
      },
      "outputs": [],
      "source": [
        "# for the train dataset \n",
        "\n",
        "contexts_train = dataset_electronics_train['context']\n",
        "embeddings_context_train = model_bi_encoder.encode(contexts_train)\n",
        "\n",
        "\n",
        "embeddings_context_train = pd.DataFrame(embeddings_context_train)\n",
        "embeddings_context_train[\"context\"] =  contexts_train\n",
        "\n",
        "\n",
        "# saving on drive\n",
        "\n",
        "embeddings_context_train.to_csv('/content/drive/My Drive/DS405B_NLP/embeddings_context_train.csv')\n"
      ]
    },
    {
      "cell_type": "code",
      "execution_count": null,
      "metadata": {
        "id": "TYN9mFD5NMyq"
      },
      "outputs": [],
      "source": [
        "# for the test dataset \n",
        "\n",
        "contexts_test = dataset_electronics_test['context']\n",
        "embeddings_context_test = model_bi_encoder.encode(contexts_test)\n",
        "\n",
        "\n",
        "embeddings_context_test = pd.DataFrame(embeddings_context_test)\n",
        "embeddings_context_test[\"context\"] =  contexts_test\n",
        "\n",
        "# saving on drive\n",
        "embeddings_context_test.to_csv('/content/drive/My Drive/DS405B_NLP/embeddings_context_test.csv')\n"
      ]
    },
    {
      "cell_type": "code",
      "execution_count": null,
      "metadata": {
        "id": "WC6VtL2vNZ2i"
      },
      "outputs": [],
      "source": [
        "# for the validation dataset \n",
        "\n",
        "contexts_val = dataset_electronics_val['context']\n",
        "embeddings_context_val = model_bi_encoder.encode(contexts_val)\n",
        "\n",
        "\n",
        "embeddings_context_val = pd.DataFrame(embeddings_context_val)\n",
        "embeddings_context_val[\"context\"] =  contexts_val\n",
        "\n",
        "\n",
        "# saving on drive\n",
        "embeddings_context_val.to_csv('/content/drive/My Drive/DS405B_NLP/embeddings_context_val.csv')\n"
      ]
    },
    {
      "cell_type": "markdown",
      "metadata": {
        "id": "Y7IlOJ87N69Z"
      },
      "source": [
        "## Task 2)"
      ]
    },
    {
      "cell_type": "markdown",
      "metadata": {
        "id": "SnjeCK8oABEJ"
      },
      "source": [
        "Next, I shall fine-tune the Cross Encoder on the Train Set. The number of attention heads and the dropout Probability in the Attention Layers  will be used for a HyperParam Tuning. \n",
        "\n",
        "The model that performms best on the Validation is is chosen. I measure performace with the recall. If, per question, the correct context is within the top K contexts returned by the Cross-Encoder, then this will be treated as \"correct\". I shall use K = 10!\n",
        "\n",
        "Also, importantly, I shall create new sentence query pairs so that the label is not always = 1 in the training data. For each query, a pair containing the corresponding context as well as 3 pairs containing non-corresponding contexts\n",
        "shall be passed to the DataLoader. This is done since the CrossEncoder does not support the MRN Loss, which would do something similar."
      ]
    },
    {
      "cell_type": "code",
      "source": [
        "from transformers import AutoTokenizer, AutoModelForSequenceClassification\n",
        "import torch\n",
        "\n",
        "\n",
        "model_name = \"cross-encoder/ms-marco-MiniLM-L-6-v2\"\n",
        "model = AutoModelForSequenceClassification.from_pretrained(model_name)\n",
        "tokenizer = AutoTokenizer.from_pretrained(model_name)\n"
      ],
      "metadata": {
        "id": "hEJEXUKNgRQs"
      },
      "execution_count": null,
      "outputs": []
    },
    {
      "cell_type": "code",
      "source": [
        "import random as rand"
      ],
      "metadata": {
        "id": "g9hogqsiFIxV"
      },
      "execution_count": null,
      "outputs": []
    },
    {
      "cell_type": "code",
      "source": [
        "def collating(batch):\n",
        "\n",
        "  input_ids = []\n",
        "  masks = []\n",
        "  type_ids = []\n",
        "  labels = []\n",
        "\n",
        "  # preparing the training \n",
        "\n",
        "  for i in range(len(batch)):\n",
        "\n",
        "    encoding = tokenizer(  batch[i][\"question\"], batch[i][\"context\"],   pad_to_max_length = True, truncation=True, return_tensors=\"pt\", max_length = 512)\n",
        "\n",
        "    input_ = encoding['input_ids']\n",
        "    token_ = encoding['token_type_ids']\n",
        "    attention_ = encoding['attention_mask']\n",
        "\n",
        "    input_ids.append(input_) #.unsqueeze(0))\n",
        "    masks.append(input_)   #unsqueeze(0))\n",
        "    type_ids.append(input_)  #.unsqueeze(0))\n",
        "\n",
        "    if batch[i][\"answers\"][\"text\"] == []:\n",
        "      labels.append(0)\n",
        "    else:\n",
        "      labels.append(1)\n",
        "\n",
        "    ##### 3 other examples of non-correspondong queries and texts to avoid having mainly positive examples\n",
        "\n",
        "    # other examples \n",
        "    all_indices = list(range(len(batch) ))\n",
        "\n",
        "      #  dropping current index since that query-context pair is already present\n",
        "    all_indices.pop(i)\n",
        "\n",
        "      # selecting 3\n",
        "    rand.shuffle(all_indices)\n",
        "    random_3 = all_indices[:3]\n",
        "\n",
        "    for j in range(3):\n",
        "      encoding = tokenizer(  batch[i][\"question\"], batch[j][\"context\"],   pad_to_max_length = True, truncation=True, return_tensors=\"pt\", max_length = 512)\n",
        "\n",
        "      input_ = encoding['input_ids']\n",
        "      token_ = encoding['token_type_ids']\n",
        "      attention_ = encoding['attention_mask']\n",
        "\n",
        "      input_ids.append(input_) #.unsqueeze(0))\n",
        "      masks.append(input_)   #unsqueeze(0))\n",
        "      type_ids.append(input_)  #.unsqueeze(0))\n",
        "      labels.append(0)\n",
        "\n",
        "\n",
        "  input_ids = torch.cat(input_ids, dim = 0)\n",
        "  masks = torch.cat(masks, dim = 0)\n",
        "  type_ids = torch.cat(type_ids, dim = 0)\n",
        "  labels = torch.tensor(labels, dtype=torch.float32)\n",
        "\n",
        "  return input_ids, masks, type_ids, labels\n",
        "  "
      ],
      "metadata": {
        "id": "t1mg2w1OEGRZ"
      },
      "execution_count": null,
      "outputs": []
    },
    {
      "cell_type": "code",
      "source": [
        "loader_train = DataLoader(dataset_electronics_train, batch_size = 12, shuffle = True, collate_fn = collating)\n",
        "\n",
        "loader_val = DataLoader(dataset_electronics_val, batch_size = 12, shuffle = True, collate_fn = collating)\n",
        "\n",
        "\n"
      ],
      "metadata": {
        "id": "OkwmrgXzE0Wn"
      },
      "execution_count": null,
      "outputs": []
    },
    {
      "cell_type": "code",
      "source": [
        "att_drop = [0.8, 0.1, 1.2]\n",
        "heads = [10,12,14]\n"
      ],
      "metadata": {
        "id": "5RHLAlpG6uUS"
      },
      "execution_count": null,
      "outputs": []
    },
    {
      "cell_type": "code",
      "source": [
        "result_matrix = np.ones([9,8])"
      ],
      "metadata": {
        "id": "0GejcNzRCtpD"
      },
      "execution_count": null,
      "outputs": []
    },
    {
      "cell_type": "markdown",
      "source": [
        "I shall use the BCEwithLogits Loss since the Problem at hand is a Classification Problem.\n",
        "\n",
        "\n",
        "\n",
        " and the final layer is the model is a mere linear Layer with no activation (e the outputs (i.e. logits) of the model are continuous, and  quite frequently are above 1 or below 0. Also, calling ?model shows one that the final layer is a mere linear \"regression\" layer which can also be seen when just calling 'model' and analyzing the architecture.\n",
        "\n",
        "The problem at hand is a Classification Problem, so the BCEwithLogits Loss is chosen.That is why this loss is chosen here.\n",
        "\n",
        "\n",
        "\n",
        "ODER doch besser anderes Tarining ??"
      ],
      "metadata": {
        "id": "xhrQ6Yqrdh59"
      }
    },
    {
      "cell_type": "code",
      "source": [
        "i = 0\n",
        "\n",
        "for a in att_drop:\n",
        "  for h in heads:\n",
        "    \n",
        "    #print(f\"Starting with combination of {a} as Dropout Prob in he Attention Layer and {h} as the Number of Attention Heads !\")\n",
        "\n",
        "    model = AutoModelForSequenceClassification.from_pretrained(\"cross-encoder/ms-marco-MiniLM-L-6-v2\")\n",
        "    \n",
        "    # setting hyper-params\n",
        "    model.config.attention_probs_dropout_prob = a\n",
        "    model.config.num_attention_heads = h\n",
        "\n",
        "    # to CUDA\n",
        "    device = torch.device(\"cuda\")\n",
        "    model = model.to(device)\n",
        "\n",
        "    # freezing layers\n",
        "    for param in model.bert.parameters():\n",
        "      param.requires_grad = False\n",
        "\n",
        "    for param in model.bert.pooler.parameters():\n",
        "      param.requires_grad = True\n",
        "\n",
        "    for param in model.classifier.parameters():\n",
        "      param.requires_grad = True\n",
        "\n",
        "\n",
        "    optimizer = torch.optim.Adam(model.parameters(), lr = 1e-4) # I have found a LR of 1e-4 to be working well here!\n",
        "\n",
        "    for epoch in range(8):\n",
        "\n",
        "      model.train()\n",
        "      batch_loss = []\n",
        "      for batch in loader_train:\n",
        "\n",
        "        optimizer.zero_grad()\n",
        "\n",
        "        # getting all data for input to reader model!\n",
        "        ids = batch[0].to(device)\n",
        "        mask = batch[2].to(device)\n",
        "        labels = batch[3].to(device)\n",
        "\n",
        "        outs = model(input_ids = ids, attention_mask = mask, labels = labels)\n",
        "\n",
        "        #out_logits = outs[\"logits\"].squeeze(1) ##\n",
        "        loss = outs.loss\n",
        "        loss.backward()\n",
        "        optimizer.step()\n",
        "\n",
        "        batch_loss.append(loss.item())\n",
        "\n",
        "\n",
        "      model.eval()\n",
        "      batch_loss_val = []\n",
        "      with torch.no_grad():\n",
        "\n",
        "        for batch in loader_val:\n",
        "\n",
        "          # getting all data for input to reader model!\n",
        "          ids = batch[0].to(device)\n",
        "          mask = batch[2].to(device)\n",
        "          labels = batch[3].to(device)\n",
        "\n",
        "          outs = model(input_ids = ids, attention_mask = mask, labels = labels)\n",
        "\n",
        "          loss = outs.loss\n",
        "\n",
        "          batch_loss_val.append(loss.item())   \n",
        "\n",
        "\n",
        "      loss_this_epoch_train = np.mean(batch_loss)\n",
        "      loss_this_epoch_val = np.mean(batch_loss_val)\n",
        "    \n",
        "      #print(f\"Epoch :  {epoch} , Training Loss : {loss_this_epoch_train} !\")\n",
        "      #print(f\"Epoch :  {epoch} ,Validation Loss : {loss_this_epoch_val} !\")\n",
        "\n",
        "      result_matrix[i,epoch] = loss_this_epoch_val\n",
        "\n",
        "    i+=1\n"
      ],
      "metadata": {
        "id": "7Yk32uNbB_PG"
      },
      "execution_count": null,
      "outputs": []
    },
    {
      "cell_type": "markdown",
      "source": [
        "Since the losses decrease greatly within the first two epochs, I shall plot the validaiton losses from epoch 3 onwards to obtain a more fine-grained picture."
      ],
      "metadata": {
        "id": "-wbC0WCv4izZ"
      }
    },
    {
      "cell_type": "code",
      "source": [
        "## Plotting outputs \n",
        "import matplotlib.pyplot as plt\n",
        "\n",
        "epochs = list(range(3,9))\n",
        "\n",
        "plt.plot(epochs, result_matrix[0,2:])\n",
        "plt.plot(epochs, result_matrix[1,2:])\n",
        "plt.plot(epochs, result_matrix[2,2:])\n",
        "plt.plot(epochs, result_matrix[3,2:])\n",
        "plt.plot(epochs, result_matrix[4,2:])\n",
        "plt.plot(epochs, result_matrix[5,2:])\n",
        "plt.plot(epochs, result_matrix[6,2:])\n",
        "plt.plot(epochs, result_matrix[7,2:])\n",
        "plt.plot(epochs, result_matrix[8,2:])\n",
        "\n",
        "\n",
        "# adding legend\n",
        "labels = []\n",
        "\n",
        "for a in att_drop:\n",
        "  for b in heads:\n",
        "\n",
        "    labels.append(str(\"Attention Dropout: \" + str(a) + \"; Num Att.-Heads: \" + str(b) ) )\n",
        "\n",
        "plt.legend(labels, loc='upper right')\n",
        "plt.show()\n"
      ],
      "metadata": {
        "colab": {
          "base_uri": "https://localhost:8080/",
          "height": 265
        },
        "id": "eKhsfqn6GCO2",
        "outputId": "3e5c5e5b-594c-4951-cdd1-30bc54b3c95a"
      },
      "execution_count": null,
      "outputs": [
        {
          "output_type": "display_data",
          "data": {
            "image/png": "[encoded data removed]",
            "text/plain": [
              "<Figure size 432x288 with 1 Axes>"
            ]
          },
          "metadata": {
            "needs_background": "light"
          }
        }
      ]
    },
    {
      "cell_type": "markdown",
      "source": [
        "The combination of a Dropout in the Attention Layers of 1.2 and 14 Attention Blocks looks promising."
      ],
      "metadata": {
        "id": "ITijwo1f40GI"
      }
    },
    {
      "cell_type": "code",
      "source": [
        "model_name = \"cross-encoder/ms-marco-MiniLM-L-6-v2\"\n",
        "model = AutoModelForSequenceClassification.from_pretrained(model_name)\n",
        "tokenizer = AutoTokenizer.from_pretrained(model_name)\n"
      ],
      "metadata": {
        "id": "TWCWZCWkawvd"
      },
      "execution_count": null,
      "outputs": []
    },
    {
      "cell_type": "code",
      "source": [
        "# to CUDA\n",
        "device = torch.device(\"cuda\")\n",
        "model = model.to(device)\n",
        "\n",
        "# freezing layers\n",
        "for param in model.bert.parameters():\n",
        "  param.requires_grad = False\n",
        "\n",
        "for param in model.bert.pooler.parameters():\n",
        "  param.requires_grad = True\n",
        "\n",
        "for param in model.classifier.parameters():\n",
        "  param.requires_grad = True\n"
      ],
      "metadata": {
        "id": "bmfg9cem9m5q"
      },
      "execution_count": null,
      "outputs": []
    },
    {
      "cell_type": "code",
      "source": [
        "model.config.attention_probs_dropout_prob = 1.2\n",
        "model.config.num_attention_heads = 14\n"
      ],
      "metadata": {
        "id": "qspHP3ckD4C2"
      },
      "execution_count": null,
      "outputs": []
    },
    {
      "cell_type": "code",
      "source": [
        "# calling optimizer\n",
        "optimizer = torch.optim.Adam(model.parameters(), lr = 1e-4) # I have found a LR of 1e-3 to be working well here!\n"
      ],
      "metadata": {
        "id": "N-yeO6ksLTKn"
      },
      "execution_count": null,
      "outputs": []
    },
    {
      "cell_type": "code",
      "source": [
        "overall_loss_val = []\n",
        "\n",
        "for epoch in range(40):\n",
        "\n",
        "  model.train()\n",
        "  batch_loss = []\n",
        "  for batch in loader_train:\n",
        "\n",
        "    optimizer.zero_grad()\n",
        "\n",
        "    # getting all data for input to reader model!\n",
        "    ids = batch[0].to(device)\n",
        "    mask = batch[2].to(device)\n",
        "    labels = batch[3].to(device)\n",
        "\n",
        "    outs = model(input_ids = ids, attention_mask = mask, labels = labels)\n",
        "    #print(outs.loss)\n",
        "\n",
        "    loss = outs.loss   \n",
        "    loss.backward()\n",
        "    optimizer.step()\n",
        "\n",
        "    batch_loss.append(loss.item())\n",
        "\n",
        "\n",
        "  model.eval()\n",
        "  batch_loss_val = []\n",
        "  with torch.no_grad():\n",
        "\n",
        "   for batch in loader_val:\n",
        "\n",
        "      # getting all data for input to reader model!\n",
        "      ids = batch[0].to(device)\n",
        "      mask = batch[2].to(device)\n",
        "      labels = batch[3].to(device)\n",
        "\n",
        "      outs = model(input_ids = ids, attention_mask = mask, labels = labels)\n",
        "\n",
        "      loss = outs.loss\n",
        "      batch_loss_val.append(loss.item())\n",
        "\n",
        "  loss_this_epoch_train = np.mean(batch_loss)\n",
        "  loss_this_epoch_val = np.mean(batch_loss_val)\n",
        "\n",
        "  overall_loss_val.append(loss_this_epoch_val)\n",
        "\n",
        "  if (np.argmax(overall_loss_val[-3::])  == 2 ):\n",
        "    break\n",
        "\n",
        "  print(f\"Epoch :  {epoch} , Training Loss : {loss_this_epoch_train} !\")\n",
        "  print(f\"Epoch :  {epoch} ,Validation Loss : {loss_this_epoch_val} !\")\n"
      ],
      "metadata": {
        "colab": {
          "base_uri": "https://localhost:8080/"
        },
        "id": "Y7XC6ym6wacV",
        "outputId": "6959c642-8ebf-4bfb-b402-e9fc8731afb2"
      },
      "execution_count": null,
      "outputs": [
        {
          "output_type": "stream",
          "name": "stderr",
          "text": [
            "/usr/local/lib/python3.7/dist-packages/transformers/tokenization_utils_base.py:2257: FutureWarning: The `pad_to_max_length` argument is deprecated and will be removed in a future version, use `padding=True` or `padding='longest'` to pad to the longest sequence in the batch, or use `padding='max_length'` to pad to a max length. In this case, you can give a specific length with `max_length` (e.g. `max_length=45`) or leave max_length to None to pad to the maximal input size of the model (e.g. 512 for Bert).\n",
            "  FutureWarning,\n"
          ]
        },
        {
          "output_type": "stream",
          "name": "stdout",
          "text": [
            "Epoch :  0 , Training Loss : 11.5438672458684 !\n",
            "Epoch :  0 ,Validation Loss : 3.734837141903964 !\n",
            "Epoch :  1 , Training Loss : 1.988703402656096 !\n",
            "Epoch :  1 ,Validation Loss : 0.6786860498515043 !\n",
            "Epoch :  2 , Training Loss : 0.4862809515109769 !\n",
            "Epoch :  2 ,Validation Loss : 0.20792130296203223 !\n",
            "Epoch :  3 , Training Loss : 0.2532509161780278 !\n",
            "Epoch :  3 ,Validation Loss : 0.14208594184707513 !\n",
            "Epoch :  4 , Training Loss : 0.1828991296114745 !\n",
            "Epoch :  4 ,Validation Loss : 0.12694903632456606 !\n",
            "Epoch :  5 , Training Loss : 0.15369306580611952 !\n",
            "Epoch :  5 ,Validation Loss : 0.11697304130277851 !\n",
            "Epoch :  6 , Training Loss : 0.14008755209269347 !\n",
            "Epoch :  6 ,Validation Loss : 0.1031673237342726 !\n",
            "Epoch :  7 , Training Loss : 0.12446268247785391 !\n",
            "Epoch :  7 ,Validation Loss : 0.09815940878946673 !\n",
            "Epoch :  8 , Training Loss : 0.12195549729383653 !\n",
            "Epoch :  8 ,Validation Loss : 0.0939256746999242 !\n",
            "Epoch :  9 , Training Loss : 0.1109266974100912 !\n",
            "Epoch :  9 ,Validation Loss : 0.09189013747329061 !\n",
            "Epoch :  10 , Training Loss : 0.10974097010438089 !\n",
            "Epoch :  10 ,Validation Loss : 0.09237492541697892 !\n"
          ]
        }
      ]
    },
    {
      "cell_type": "code",
      "source": [
        "#saving the model \n",
        "model_save_name = 'exam_4_model_ex2_best.pth'\n",
        "path = F\"/content/drive/My Drive/DS405B_NLP/{model_save_name}\" \n",
        "torch.save(model, path)\n"
      ],
      "metadata": {
        "id": "S2yMrJk_8uWr"
      },
      "execution_count": null,
      "outputs": []
    },
    {
      "cell_type": "markdown",
      "metadata": {
        "id": "1s92o-hxNIn5"
      },
      "source": [
        "## Task 3)\n",
        "\n",
        "In Task 3, I shall retrieve the 10 most similar contexts for each test-query!\n",
        "To that aim, the embeddings of the test set are re-used. Each query shall then be encoded and the assosiated 10 most similar contexts shall be retrieved. Next, the cross-encoder shall re-oorder these 10 contexts per query!\n",
        "\n",
        "The final results shall  be stored in a matrix. \n",
        "\n",
        "As has been discussed in the lecture, for the recall, only answerable questions shall be considered.\n"
      ]
    },
    {
      "cell_type": "code",
      "execution_count": null,
      "metadata": {
        "id": "pjbggh6PorVs"
      },
      "outputs": [],
      "source": [
        "from sentence_transformers.util import cos_sim\n",
        "import pandas as pd\n",
        "import numpy as np"
      ]
    },
    {
      "cell_type": "code",
      "execution_count": null,
      "metadata": {
        "id": "UYsJTanVq0Da"
      },
      "outputs": [],
      "source": [
        "embeddings_context_test = pd.read_csv(\"/content/drive/My Drive/DS405B_NLP/embeddings_context_test.csv\")\n"
      ]
    },
    {
      "cell_type": "code",
      "execution_count": null,
      "metadata": {
        "id": "_ObHnZTRq7X0"
      },
      "outputs": [],
      "source": [
        "# only the embeddings, not the context\n",
        "embeddings_test = np.array(embeddings_context_test.iloc[:,1:385]) # since 0 is an index added by pandas\n"
      ]
    },
    {
      "cell_type": "code",
      "execution_count": null,
      "metadata": {
        "id": "-Rj3Y8fBvz7n"
      },
      "outputs": [],
      "source": [
        "# matrix for sotring ideces of 10 most similar embeddings to each query \n",
        "\n",
        "similar_embeddings = np.ones([dataset_electronics_test.shape[0] , 10])\n"
      ]
    },
    {
      "cell_type": "markdown",
      "source": [
        "### With Method 1"
      ],
      "metadata": {
        "id": "9RktpGFWgcYr"
      }
    },
    {
      "cell_type": "markdown",
      "source": [
        "As has been discussed in the lecture, for the recall, only answerable questions shall be considered."
      ],
      "metadata": {
        "id": "RgNg0HZALeyZ"
      }
    },
    {
      "cell_type": "code",
      "source": [
        "model = torch.load(\"/content/drive/My Drive/DS405B_NLP/exam_4_model_ex2_best.pth\")\n"
      ],
      "metadata": {
        "id": "Oqa-qcSNgx_-"
      },
      "execution_count": null,
      "outputs": []
    },
    {
      "cell_type": "code",
      "source": [
        "## tokenizer \n",
        "from transformers import AutoTokenizer\n",
        "\n",
        "model_name = \"cross-encoder/ms-marco-MiniLM-L-6-v2\"\n",
        "tokenizer = AutoTokenizer.from_pretrained(model_name)\n"
      ],
      "metadata": {
        "id": "JPxCTUiONQYD"
      },
      "execution_count": null,
      "outputs": []
    },
    {
      "cell_type": "code",
      "source": [
        "for i in range(dataset_electronics_test.shape[0]):\n",
        "\n",
        "  embedding_query = model_bi_encoder.encode(dataset_electronics_test[\"question\"][i])\n",
        "\n",
        "  # instantiating cos_sim list\n",
        "  cos_sims = np.ones(dataset_electronics_test.shape[0])\n",
        "\n",
        "  for j in range(dataset_electronics_test.shape[0]):\n",
        "\n",
        "    cos_sims[j] =  cos_sim(np.array(embedding_query, dtype = \"float64\") , np.array(embeddings_test[j,:], dtype = \"float64\") ) # cos sim of query and embedding of all context embeddings, respectively\n",
        "\n",
        "  # sorting the cosine similarity and retrieving top 10 indeces (usiing argsort)\n",
        "  sorted = np.flip(np.argsort(cos_sims))\n",
        "  sorted_top_10 = sorted[:10]\n",
        "\n",
        "  # using bi-encoder \n",
        "  preds = []\n",
        "\n",
        "  for idx in sorted_top_10:   \n",
        "    \n",
        "    encoding = tokenizer(  dataset_electronics_train[i][\"question\"], dataset_electronics_train[int(idx)][\"context\"],   pad_to_max_length = True, truncation=True, return_tensors=\"pt\", max_length = 512)\n",
        "\n",
        "    ids = encoding['input_ids'].to(device)\n",
        "    #tokens = encoding['token_type_ids'].to(device)\n",
        "    masks = encoding['attention_mask'].to(device)\n",
        "\n",
        "    outs = model(input_ids = ids, attention_mask = masks ) #, labels = labels)\n",
        "    out_logits = float(outs[\"logits\"].squeeze(1).cpu().detach().numpy() )\n",
        "    preds.append(out_logits)\n",
        "\n",
        "\n",
        "  # ordering indexes of predictions (0-9)\n",
        "  preds_ordered = np.flip(np.argsort(preds))\n",
        "\n",
        "  # re-arraning the indices of the top 10 most similar contexts based on the ordered pred indices \n",
        "  sorted_top_10_re_ordered =  sorted_top_10[preds_ordered]\n",
        "\n",
        "  # finally: Adding to the similarity_embeddings matrix\n",
        "  similar_embeddings[i,:] = sorted_top_10_re_ordered\n"
      ],
      "metadata": {
        "id": "8w80ek2AgeTD"
      },
      "execution_count": null,
      "outputs": []
    },
    {
      "cell_type": "code",
      "source": [
        "\n",
        "np.save(\"/content/drive/My Drive/DS405B_NLP/similar_embeddings.npy\", similar_embeddings)"
      ],
      "metadata": {
        "id": "5GTu5LAAmGve"
      },
      "execution_count": null,
      "outputs": []
    },
    {
      "cell_type": "markdown",
      "source": [
        "## Task 4"
      ],
      "metadata": {
        "id": "Ex_mlxADwlID"
      }
    },
    {
      "cell_type": "markdown",
      "source": [
        "Now, I shall compute the recall kor differekt values of K and asses what an increase of K will cause when considering the recall metric. The recall metric is the overall share of the corresponding context being in the top K most similar contexts after the re-ranking.\n",
        "\n",
        "The following works since the query and the embedding are indexed by their position."
      ],
      "metadata": {
        "id": "9KIyUt0fwrXB"
      }
    },
    {
      "cell_type": "code",
      "source": [
        "similar_embeddings = np.load(\"/content/drive/My Drive/DS405B_NLP/similar_embeddings.npy\")"
      ],
      "metadata": {
        "id": "alAMTi0ROEKd"
      },
      "execution_count": null,
      "outputs": []
    },
    {
      "cell_type": "code",
      "source": [
        "k_s = [1,2,3,4,5,6,7,8,9,10]\n",
        "recalls = []\n",
        "\n",
        "for k in k_s:\n",
        "\n",
        "  corrects = 0\n",
        "  ans_count = 0\n",
        "\n",
        "  # retrieving only k-most similar contexts per query\n",
        "  k_embeddings = similar_embeddings[:,:k]\n",
        "\n",
        "\n",
        "  for i in range(dataset_electronics_test.shape[0]):\n",
        "\n",
        "    # only answerable questions\n",
        "    if dataset_electronics_test[i][\"answers\"][\"text\"] != []:\n",
        "    \n",
        "      # only considering the k-clostest embeddings for each query \n",
        "      sim_embeddings =  k_embeddings[i,:]\n",
        "      correct_index = i\n",
        "\n",
        "      if i in sim_embeddings:\n",
        "  \n",
        "        corrects += 1 \n",
        "        ans_count += 1\n",
        "\n",
        "  recall = corrects/ans_count\n",
        "  \n",
        "  recalls.append(recall)\n",
        "\n",
        "  if k in [1,3,5,10]:\n",
        "    print(f\"The recall for k = {k} on the test set is {recall} !\")\n",
        "\n"
      ],
      "metadata": {
        "colab": {
          "base_uri": "https://localhost:8080/"
        },
        "id": "VTNc7WwfI1Gv",
        "outputId": "e04314ae-9b00-4ebe-f0fa-ee4257226c3d"
      },
      "execution_count": null,
      "outputs": [
        {
          "output_type": "stream",
          "name": "stdout",
          "text": [
            "The recall for k = 1 on the test set is 0.0223463687150838 !\n",
            "The recall for k = 3 on the test set is 0.0782122905027933 !\n",
            "The recall for k = 5 on the test set is 0.1340782122905028 !\n",
            "The recall for k = 10 on the test set is 0.19832402234636873 !\n"
          ]
        }
      ]
    },
    {
      "cell_type": "code",
      "source": [
        "import matplotlib.pyplot as plt\n",
        "\n",
        "plt.plot(k_s, recalls) "
      ],
      "metadata": {
        "colab": {
          "base_uri": "https://localhost:8080/",
          "height": 283
        },
        "id": "fF3XfdiCmUnE",
        "outputId": "141885b5-38b2-418e-b035-4933d0231841"
      },
      "execution_count": null,
      "outputs": [
        {
          "output_type": "execute_result",
          "data": {
            "text/plain": [
              "[<matplotlib.lines.Line2D at 0x7ff5a1a9dc50>]"
            ]
          },
          "metadata": {},
          "execution_count": 57
        },
        {
          "output_type": "display_data",
          "data": {
            "image/png": "[encoded data removed]",
            "text/plain": [
              "<Figure size 432x288 with 1 Axes>"
            ]
          },
          "metadata": {
            "needs_background": "light"
          }
        }
      ]
    },
    {
      "cell_type": "markdown",
      "source": [
        "While the recall metric rises with a higher K number, the slope is a lot less steep from k=5 upwards. Thus, and in light of a less time-intensive omputation, k=5 seems like a reasonable number for Task 6."
      ],
      "metadata": {
        "id": "aB8tr59Iwy5d"
      }
    },
    {
      "cell_type": "markdown",
      "metadata": {
        "id": "6Ggt4aA9cZ_E"
      },
      "source": [
        "## Task 5)"
      ]
    },
    {
      "cell_type": "markdown",
      "source": [
        "Now, I shall fit the Reader Model to the training data."
      ],
      "metadata": {
        "id": "gMUcs9vzdXNf"
      }
    },
    {
      "cell_type": "code",
      "execution_count": null,
      "metadata": {
        "id": "3Ahkra8yul0J",
        "colab": {
          "base_uri": "https://localhost:8080/",
          "height": 176,
          "referenced_widgets": [
            "098f012ba2cd4ec8b26ba3af31752424",
            "6478d9fbd5a4424d83edb685e8a02827",
            "4369d77f72274b9396cc6c3cc8a8ecb3",
            "d4f834cd4a5f424f89ecada2839a8fb4",
            "72ebb0b522b24d06aea71cd21b21faa2",
            "7ec530b491224b2ba854ee766bdbcff5",
            "0897f211cae541daa9f6f9fb41086e92",
            "06da91c6974f441eb1dfd1d22beb4082",
            "4455f4ab1a87482f8b3229f81bddadb0",
            "c0da754358b849e2a78fa5698c558801",
            "858a185b2e8c479c9aa1c25b0e1ecab0",
            "8f1e6ce7bfc24605af1a753610970337",
            "d404d65e91d0400195a322e4685795c3",
            "ee3608d29f0e42ef94093e8d943eeeaf",
            "34bb33a5579d485f98b977b91638f046",
            "56a8e3e93f294797a58ac5b6e98c025e",
            "f176a9de3600469484c554cc89381229",
            "129dd4d43ffa405f9bafe8d0ef279b53",
            "948bb75b9ec64c7c9f6b5e57ba55660b",
            "6321d615cac04e42a4814ce751832738",
            "14a8813ceeb24e3baa8fb10a018bd02c",
            "45a852a355a14769b9b6d83c1f5cb819",
            "c1bafd789f6b404abc79518bfe3f3010",
            "3bf802f0f6954e668bf01ca71d60ef5b",
            "80609b6403a246029d952e926f25d95c",
            "c37f1f8a620d4bd6bcb4356372290f48",
            "1fce50f0bc91456ab28b2770945c576b",
            "c8280ff130b341d2a4fff00a6d33b76b",
            "2966125cefbb4033b68e7fe127403196",
            "b6509b55f87f48be81acfbbe8fdccc0d",
            "a2b77bffbb7c4b8fae97e626c0aa7148",
            "49a3d29fc2fb4044910b8113176e0985",
            "59704dc231484fb394702d5b369be42c",
            "b5d680ae70dd4633bc581fa3bce927fa",
            "33044c2fe4144d268b0d6251b0eb19c0",
            "54e015eea63048998eeadd543b3b390b",
            "1326af3cdef547239a52bdb27af78906",
            "78ba5ac5f5c14c3db94653259c013430",
            "185cebcd5d204dcc8e36f369d35fb5d8",
            "9c5e9ece2253450f9d83ae504207a429",
            "4629f616c9a4436a8fc42865b0d9698f",
            "362814b497c04930a70deed3e0773a93",
            "f1a3600fc5e74e7b80b7a42b513ad6de",
            "34fb1553ffe8406cb2692ec940e6273d",
            "2ec56f9534b7461585c311a9199afbb9",
            "328fdfd5784549ab979f97b1c8a66ac0",
            "c3c7c9b71b0a4d3d97ed28dd183c4e00",
            "103f19089d6d4eeba034a19f11010144",
            "7d4312815be645d89684d816ced70886",
            "2e7fa056209847ccb0b8b04d3768f8ee",
            "936dd3370721448fa76aee5f6d7c357f",
            "2f0bc10f6ce547caa90dd136ca4c5249",
            "ed46324578f044a0bbe2e4db50822873",
            "d9379728aea047548363478fa2d7b000",
            "fcf01a514c8e413189d94c239d4dad6f"
          ]
        },
        "outputId": "420657bd-ecd3-4d41-a924-d5662716641e"
      },
      "outputs": [
        {
          "output_type": "display_data",
          "data": {
            "application/vnd.jupyter.widget-view+json": {
              "model_id": "098f012ba2cd4ec8b26ba3af31752424",
              "version_minor": 0,
              "version_major": 2
            },
            "text/plain": [
              "Downloading:   0%|          | 0.00/477 [00:00<?, ?B/s]"
            ]
          },
          "metadata": {}
        },
        {
          "output_type": "display_data",
          "data": {
            "application/vnd.jupyter.widget-view+json": {
              "model_id": "8f1e6ce7bfc24605af1a753610970337",
              "version_minor": 0,
              "version_major": 2
            },
            "text/plain": [
              "Downloading:   0%|          | 0.00/127M [00:00<?, ?B/s]"
            ]
          },
          "metadata": {}
        },
        {
          "output_type": "display_data",
          "data": {
            "application/vnd.jupyter.widget-view+json": {
              "model_id": "c1bafd789f6b404abc79518bfe3f3010",
              "version_minor": 0,
              "version_major": 2
            },
            "text/plain": [
              "Downloading:   0%|          | 0.00/107 [00:00<?, ?B/s]"
            ]
          },
          "metadata": {}
        },
        {
          "output_type": "display_data",
          "data": {
            "application/vnd.jupyter.widget-view+json": {
              "model_id": "b5d680ae70dd4633bc581fa3bce927fa",
              "version_minor": 0,
              "version_major": 2
            },
            "text/plain": [
              "Downloading:   0%|          | 0.00/226k [00:00<?, ?B/s]"
            ]
          },
          "metadata": {}
        },
        {
          "output_type": "display_data",
          "data": {
            "application/vnd.jupyter.widget-view+json": {
              "model_id": "2ec56f9534b7461585c311a9199afbb9",
              "version_minor": 0,
              "version_major": 2
            },
            "text/plain": [
              "Downloading:   0%|          | 0.00/112 [00:00<?, ?B/s]"
            ]
          },
          "metadata": {}
        }
      ],
      "source": [
        "import torch\n",
        "from transformers import AutoModelForQuestionAnswering\n",
        "\n",
        "model_name = \"deepset/minilm-uncased-squad2\"\n",
        "model = AutoModelForQuestionAnswering.from_pretrained(model_name)\n",
        "\n",
        "from transformers import AutoTokenizer\n",
        "\n",
        "model_name = \"deepset/minilm-uncased-squad2\"\n",
        "tokenizer = AutoTokenizer.from_pretrained(model_name)\n"
      ]
    },
    {
      "cell_type": "markdown",
      "source": [
        "The preprocessing function is inspired by the Huggingface documentation\n",
        "(https://huggingface.co/course/chapter7/7?fw=tf).\n",
        "However, one also needs to account for cases where no answer is provided and where more than one answer is provided!"
      ],
      "metadata": {
        "id": "Oc6DNcm9dyJ6"
      }
    },
    {
      "cell_type": "code",
      "source": [
        "def preprocessing(batch):\n",
        "\n",
        "\n",
        "  input_ids = []\n",
        "  masks = []\n",
        "  type_ids = []\n",
        "  pos_start = []\n",
        "  pos_end = []\n",
        "\n",
        "  for data in batch:\n",
        "\n",
        "    result_tokens = tokenizer(data['question'], \n",
        "                                 data['context'], \n",
        "                                 return_overflowing_tokens=True, \n",
        "                                 max_length = 512, \n",
        "                                 stride = 100, return_tensors = \"pt\", pad_to_max_length = True, return_offsets_mapping = True)\n",
        "\n",
        "    for i, offset in enumerate(result_tokens[\"offset_mapping\"]): # go through different examples produced by stride\n",
        "    # i counts, offset indicates at which position that cut-off takes place!\n",
        "      sequence_ids = result_tokens.sequence_ids(i)\n",
        "\n",
        "      # find context of this window - also query in window! \n",
        "      idx = 0\n",
        "      while sequence_ids[idx] != 1:\n",
        "          idx += 1\n",
        "      context_start = idx\n",
        "\n",
        "      while sequence_ids[idx] == 1: # now starting at the start position (idx) and adding ones and then removing (zero indexing)\n",
        "          idx += 1\n",
        "      context_end = idx - 1\n",
        "\n",
        "      if data['answers']['answer_start'] == []:  # case wwhere no answer is provided\n",
        "\n",
        "        input_ids.append(result_tokens['input_ids'][i].unsqueeze(0)     )\n",
        "        masks.append(result_tokens['attention_mask'][i].unsqueeze(0)    )\n",
        "        type_ids.append(result_tokens['token_type_ids'][i].unsqueeze(0) )\n",
        "\n",
        "        pos_start.append(0)\n",
        "        pos_end.append(0)\n",
        "\n",
        "\n",
        "      else:\n",
        "        ## Now important to catch two answers sometimes\n",
        "        num_answers = len(data['answers']['answer_start'])\n",
        "                          \n",
        "        for ans in range(num_answers):\n",
        "\n",
        "          start_char = data['answers']['answer_start'][ans]\n",
        "          end_char = data['answers']['answer_start'][ans] + len(data['answers']['text'][ans])\n",
        "\n",
        "          input_ids.append(result_tokens['input_ids'][i].unsqueeze(0))\n",
        "          masks.append(result_tokens['attention_mask'][i].unsqueeze(0))\n",
        "          type_ids.append(result_tokens['token_type_ids'][i].unsqueeze(0))\n",
        "\n",
        "          # If the answer is not fully inside the context, label is (0, 0)    ## makes sense!     ### context start -> start of the context!\n",
        "          if offset[context_start][0] > end_char or offset[context_end][1] < start_char:\n",
        "              pos_start.append(0)\n",
        "              pos_end.append(0)\n",
        "          else:\n",
        "              # Otherwise it's the start and end token positions - makes perfect sense :)\n",
        "              idx = context_start\n",
        "              while idx <= context_end and offset[idx][0] <= start_char:\n",
        "                  idx += 1\n",
        "              pos_start.append(idx - 1)\n",
        "\n",
        "              idx = context_end\n",
        "              while idx >= context_start and offset[idx][1] >= end_char:\n",
        "                  idx -= 1\n",
        "              pos_end.append(idx + 1)\n",
        "\n",
        "  input_ids = torch.cat(input_ids, dim=0)\n",
        "  masks = torch.cat(masks, dim=0)\n",
        "  type_ids = torch.cat(type_ids, dim=0)\n",
        "  pos_start = torch.tensor(pos_start)\n",
        "  pos_end = torch.tensor(pos_end)\n",
        "\n",
        "  return input_ids, type_ids, masks, pos_start, pos_end\n"
      ],
      "metadata": {
        "id": "TBHeHDDXHRaD"
      },
      "execution_count": null,
      "outputs": []
    },
    {
      "cell_type": "code",
      "source": [
        "train_dataloader = DataLoader(dataset_electronics_train, batch_size = 20, collate_fn = preprocessing, shuffle = True)\n",
        "val_dataloader = DataLoader(dataset_electronics_val, batch_size = 20, collate_fn = preprocessing , shuffle = False)  # not shuffleing to always get same validation losses\n"
      ],
      "metadata": {
        "id": "NyofC8vJHgLN"
      },
      "execution_count": null,
      "outputs": []
    },
    {
      "cell_type": "markdown",
      "source": [
        "Since training all model parameters causes a RAM crash and likely takes very long, it makes sense to focus on certain parameters. I have found that freezing \n",
        "all parameters except the final linear Layer in the last Attention Head delivers rather promising results.\n",
        "\n",
        "I have also experimented with not freeezing the parameters of the QA Layer and other linear layers, yet this mostly lead to direct overfitting."
      ],
      "metadata": {
        "id": "AkM18u3GZPEI"
      }
    },
    {
      "cell_type": "markdown",
      "source": [
        "I have also found a learning rate of 1e-5 to be working well. The quick overfitting discussed below could not be mitigated by a lower learning rate."
      ],
      "metadata": {
        "id": "ycYQG8414BYa"
      }
    },
    {
      "cell_type": "code",
      "source": [
        "# hyper-parameters\n",
        "\n",
        "dropouts = [0.05,0.75,0.1]\n",
        "num_heads = [10, 12]"
      ],
      "metadata": {
        "id": "OnQOQqMeSAHS"
      },
      "execution_count": null,
      "outputs": []
    },
    {
      "cell_type": "markdown",
      "source": [
        "I shall now instantiate a matrix to store the results of the validation losses per HyperParam Combination."
      ],
      "metadata": {
        "id": "XK4cnOJ8zrAM"
      }
    },
    {
      "cell_type": "code",
      "source": [
        "results_param_search = np.ones([6,5])\n"
      ],
      "metadata": {
        "id": "QkHyonKnz5S4"
      },
      "execution_count": null,
      "outputs": []
    },
    {
      "cell_type": "code",
      "source": [
        "num_epochs = 10 \n",
        "\n",
        "i = 0  # counts from 1-9 to aassign to rows in result matrix \n",
        "\n",
        "for drop in dropouts:\n",
        "  for num in num_heads:\n",
        "    \n",
        "    model = AutoModelForQuestionAnswering.from_pretrained(model_name)\n",
        "\n",
        "    # to CUDA\n",
        "    device = torch.device(\"cuda\")\n",
        "    model = model.to(device)\n",
        "\n",
        "\n",
        "    # setting hyper-params\n",
        "\n",
        "    model.config.attention_probs_dropout_prob = drop\n",
        "    model.config.num_attention_heads = num\n",
        "\n",
        "    # freezing all params except Q&A Params\n",
        "\n",
        "    for param in model.parameters():\n",
        "      param.requires_grad = False\n",
        "\n",
        "    for param in model.bert.encoder.layer[ len(model.bert.encoder.layer) - 1 ].output.parameters():   \n",
        "      param.requires_grad = True\n",
        "\n",
        "\n",
        "    # calling optimizer\n",
        "    optimizer = torch.optim.Adam(model.parameters(), lr = 1e-4) # I have found a LR of 1e-4 to be working well here!\n",
        "\n",
        "    print(f\"Starting woth combination of {drop} Dropout Prob and {num} hidden layers !\")\n",
        "\n",
        "\n",
        "    for epoch in range(num_epochs): \n",
        "\n",
        "      batch_loss_train = []\n",
        "      model.train()\n",
        "      for batch in train_dataloader:\n",
        "        optimizer.zero_grad()\n",
        "\n",
        "        # getting all data for input to reader model!\n",
        "        ids = batch[0].to(device)\n",
        "        type_ids = batch[1].to(device)\n",
        "        masks = batch[2].to(device)\n",
        "        pos_start = batch[3].to(device)\n",
        "        pos_end = batch[4].to(device)\n",
        "        \n",
        "\n",
        "        outputs = model(input_ids = ids,  token_type_ids = type_ids, attention_mask = masks, start_positions = pos_start, end_positions = pos_end)\n",
        "        \n",
        "        outputs.loss.backward()\n",
        "        optimizer.step()\n",
        "        batch_loss_train.append(outputs.loss.item())\n",
        "\n",
        "      model.eval()\n",
        "      batch_loss_val = []\n",
        " \n",
        "      with torch.no_grad():\n",
        "        for batch_val in val_dataloader:\n",
        "\n",
        "          ids = batch[0].to(device)\n",
        "          type_ids = batch[1].to(device)\n",
        "          masks = batch[2].to(device)\n",
        "          pos_start = batch[3].to(device)\n",
        "          pos_end = batch[4].to(device)\n",
        "          \n",
        "          outputs = model(input_ids = ids,  token_type_ids = type_ids, attention_mask = masks, start_positions = pos_start, end_positions = pos_end)\n",
        "          \n",
        "          batch_loss_val.append(outputs.loss.item())\n",
        "\n",
        "      \n",
        "      # mean losses this epoch:\n",
        "      epoch_loss_train = np.mean(batch_loss_train)\n",
        "      epoch_loss_val = np.mean(batch_loss_val)\n",
        "\n",
        "      # storing the result in a matrix\n",
        "      results_param_search[i,epoch] = epoch_loss_val\n",
        "\n",
        "    # increasing i \n",
        "    i += 1 \n"
      ],
      "metadata": {
        "id": "MrX5itjl0aLv"
      },
      "execution_count": null,
      "outputs": []
    },
    {
      "cell_type": "code",
      "source": [
        "## Plotting outputs \n",
        "import matplotlib.pyplot as plt\n",
        "\n",
        "epochs = list(range(1,6))\n",
        "\n",
        "plt.plot(epochs, results_param_search[0,:])\n",
        "plt.plot(epochs, results_param_search[1,:])\n",
        "plt.plot(epochs, results_param_search[2,:])\n",
        "plt.plot(epochs, results_param_search[3,:])\n",
        "plt.plot(epochs, results_param_search[4,:])\n",
        "plt.plot(epochs, results_param_search[5,:])\n",
        "\n",
        "# adding legend\n",
        "labels = []\n",
        "\n",
        "for drop in dropouts:\n",
        "  for num in num_heads:\n",
        "\n",
        "    labels.append(str(\"Dropout of \" + str(drop) + \"; Num Att Heads = \" + str(num) ) )\n",
        "\n",
        "plt.legend(labels, loc='upper right')\n",
        "plt.show()\n"
      ],
      "metadata": {
        "colab": {
          "base_uri": "https://localhost:8080/",
          "height": 265
        },
        "id": "g9yh_quLrhQi",
        "outputId": "23e192b4-8d4d-4d78-9f8b-f1e3f7926d33"
      },
      "execution_count": null,
      "outputs": [
        {
          "output_type": "display_data",
          "data": {
            "image/png": "[encoded data removed]",
            "text/plain": [
              "<Figure size 432x288 with 1 Axes>"
            ]
          },
          "metadata": {
            "needs_background": "light"
          }
        }
      ]
    },
    {
      "cell_type": "markdown",
      "source": [
        "It seems that the combination of a dropout of 0.1 and 12 attention can be attributed to a constantly decreasing validation loss. Hence, this model shal be trained for longer using these Hyper-Parameters."
      ],
      "metadata": {
        "id": "y8KfK6o4Yi7M"
      }
    },
    {
      "cell_type": "code",
      "source": [
        "model_name = \"deepset/minilm-uncased-squad2\"\n",
        "model = AutoModelForQuestionAnswering.from_pretrained(model_name)\n",
        "\n",
        "# to CUDA\n",
        "device = torch.device(\"cuda\")\n",
        "model = model.to(device)\n",
        "\n",
        "\n",
        "# setting hyper-params\n",
        "model.config.attention_probs_dropout_prob = 0.1\n",
        "model.config.num_attention_heads = 12\n"
      ],
      "metadata": {
        "id": "oIya8DeFeoMF"
      },
      "execution_count": null,
      "outputs": []
    },
    {
      "cell_type": "code",
      "source": [
        "\n",
        "for param in model.parameters():\n",
        "  param.requires_grad = False\n",
        "\n",
        "  ####\n",
        "\n",
        "for param in model.bert.encoder.layer[len(model.bert.encoder.layer) - 2].intermediate.parameters():   \n",
        "  param.requires_grad = True\n",
        "\n",
        "for param in model.bert.encoder.layer[len(model.bert.encoder.layer) - 2].output.parameters():   \n",
        "  param.requires_grad = True\n",
        "\n",
        "  ####\n",
        "\n",
        "for param in model.bert.encoder.layer[len(model.bert.encoder.layer) - 1].intermediate.parameters():   \n",
        "  param.requires_grad = True\n",
        "\n",
        "for param in model.bert.encoder.layer[len(model.bert.encoder.layer) - 1].output.parameters():   \n",
        "  param.requires_grad = True\n",
        "\n",
        "  #### \n",
        "\n",
        "for param in model.qa_outputs.parameters():   \n",
        "  param.requires_grad = True\n"
      ],
      "metadata": {
        "id": "p-kc8-Q9e3cR"
      },
      "execution_count": null,
      "outputs": []
    },
    {
      "cell_type": "code",
      "source": [
        " # calling optimizer\n",
        " optimizer = torch.optim.Adam(model.parameters(), lr = 1e-4) # I have found a LR of 1e-4 to be working well here!\n"
      ],
      "metadata": {
        "id": "dtDPLUOkc-Zk"
      },
      "execution_count": null,
      "outputs": []
    },
    {
      "cell_type": "markdown",
      "source": [
        "Again, I have implemented early stopping. Note that at least 30 iterations need to be run in this case. This is due to experimenting and finding that sometimes, the validation loss does not decrease for a few epochs and then starts decreasing again."
      ],
      "metadata": {
        "id": "zteei6LgDJEC"
      }
    },
    {
      "cell_type": "code",
      "source": [
        "overall_val_loss = []\n",
        "\n",
        "num_epochs = 60\n",
        "\n",
        "for epoch in range(num_epochs): \n",
        "\n",
        "  model.train()\n",
        "  la = []\n",
        "  for batch in train_dataloader:\n",
        "    optimizer.zero_grad()\n",
        "\n",
        "    # getting all data for input to reader model!\n",
        "    ids = batch[0].to(device)\n",
        "    type_ids = batch[1].to(device)\n",
        "    masks = batch[2].to(device)\n",
        "    pos_start = batch[3].to(device)\n",
        "    pos_end = batch[4].to(device)\n",
        "    \n",
        "\n",
        "    outputs = model(input_ids = ids,  token_type_ids = type_ids, attention_mask = masks, start_positions = pos_start, end_positions = pos_end)\n",
        "    \n",
        "    outputs.loss.backward()\n",
        "    optimizer.step()\n",
        "    la.append(outputs.loss.item())\n",
        "  \n",
        "  model.eval()\n",
        "  \n",
        "  batch_loss_val = []\n",
        "  with torch.no_grad():\n",
        "    for batch_val in val_dataloader:\n",
        "\n",
        "      ids = batch[0].to(device)\n",
        "      type_ids = batch[1].to(device)\n",
        "      masks = batch[2].to(device)\n",
        "      pos_start = batch[3].to(device)\n",
        "      pos_end = batch[4].to(device)\n",
        "      \n",
        "      outputs = model(input_ids = ids,  token_type_ids = type_ids, attention_mask = masks, start_positions = pos_start, end_positions = pos_end)\n",
        "      \n",
        "      batch_loss_val.append(outputs.loss.item())\n",
        "\n",
        "  \n",
        "  # mean losses this epoch:\n",
        "  epoch_loss_val = np.mean(batch_loss_val)\n",
        "  x = np.mean(la)\n",
        "\n",
        "  overall_val_loss.append(epoch_loss_val)\n",
        "\n",
        "  if (len(overall_val_loss) > 30) and  (np.argmax(overall_val_loss[-3::])  == 2 ):\n",
        "    break\n",
        "\n",
        "\n",
        "  print(f'epoch {epoch},Validation Loss: {epoch_loss_val}')\n",
        "  print(f'epoch {epoch},Train: {x}')\n",
        "  print(\"----------------------------------\")\n",
        "  "
      ],
      "metadata": {
        "colab": {
          "base_uri": "https://localhost:8080/"
        },
        "id": "BKu9eXhcfZH5",
        "outputId": "87162b70-8f3b-4f53-947f-914642d8ad0e"
      },
      "execution_count": null,
      "outputs": [
        {
          "output_type": "stream",
          "name": "stderr",
          "text": [
            "/usr/local/lib/python3.7/dist-packages/transformers/tokenization_utils_base.py:2257: FutureWarning: The `pad_to_max_length` argument is deprecated and will be removed in a future version, use `padding=True` or `padding='longest'` to pad to the longest sequence in the batch, or use `padding='max_length'` to pad to a max length. In this case, you can give a specific length with `max_length` (e.g. `max_length=45`) or leave max_length to None to pad to the maximal input size of the model (e.g. 512 for Bert).\n",
            "  FutureWarning,\n"
          ]
        },
        {
          "output_type": "stream",
          "name": "stdout",
          "text": [
            "epoch 0,Validation Loss: 2.085031032562256\n",
            "epoch 0,Train: 2.6289299726486206\n",
            "----------------------------------\n",
            "epoch 1,Validation Loss: 2.781891345977783\n",
            "epoch 1,Train: 2.501262002521091\n",
            "----------------------------------\n",
            "epoch 2,Validation Loss: 1.7699557542800903\n",
            "epoch 2,Train: 2.431543423069848\n",
            "----------------------------------\n",
            "epoch 3,Validation Loss: 1.7873694896697998\n",
            "epoch 3,Train: 2.3555471102396646\n",
            "----------------------------------\n",
            "epoch 4,Validation Loss: 2.1914243698120117\n",
            "epoch 4,Train: 2.3585415946112738\n",
            "----------------------------------\n",
            "epoch 5,Validation Loss: 1.9197567701339722\n",
            "epoch 5,Train: 2.299520949522654\n",
            "----------------------------------\n",
            "epoch 6,Validation Loss: 2.3665528297424316\n",
            "epoch 6,Train: 2.285743488205804\n",
            "----------------------------------\n",
            "epoch 7,Validation Loss: 2.2225899696350098\n",
            "epoch 7,Train: 2.2708689239290027\n",
            "----------------------------------\n",
            "epoch 8,Validation Loss: 2.133688449859619\n",
            "epoch 8,Train: 2.214844226837158\n",
            "----------------------------------\n",
            "epoch 9,Validation Loss: 2.1982421875\n",
            "epoch 9,Train: 2.1841117872132196\n",
            "----------------------------------\n",
            "epoch 10,Validation Loss: 1.6652798652648926\n",
            "epoch 10,Train: 2.1849479344156055\n",
            "----------------------------------\n",
            "epoch 11,Validation Loss: 2.1025524139404297\n",
            "epoch 11,Train: 2.188642958799998\n",
            "----------------------------------\n",
            "epoch 12,Validation Loss: 1.9895422458648682\n",
            "epoch 12,Train: 2.1302161746554904\n",
            "----------------------------------\n",
            "epoch 13,Validation Loss: 2.000093460083008\n",
            "epoch 13,Train: 2.1146825419531927\n",
            "----------------------------------\n",
            "epoch 14,Validation Loss: 2.114295721054077\n",
            "epoch 14,Train: 2.0775977306895785\n",
            "----------------------------------\n",
            "epoch 15,Validation Loss: 1.5847110748291016\n",
            "epoch 15,Train: 2.0276944637298584\n",
            "----------------------------------\n",
            "epoch 16,Validation Loss: 1.883859634399414\n",
            "epoch 16,Train: 2.030524949232737\n",
            "----------------------------------\n",
            "epoch 17,Validation Loss: 2.074570655822754\n",
            "epoch 17,Train: 1.9928108321295843\n",
            "----------------------------------\n",
            "epoch 18,Validation Loss: 2.3350069522857666\n",
            "epoch 18,Train: 1.9672835932837591\n",
            "----------------------------------\n",
            "epoch 19,Validation Loss: 1.6785496473312378\n",
            "epoch 19,Train: 1.9049958056873746\n",
            "----------------------------------\n",
            "epoch 20,Validation Loss: 1.9716615676879883\n",
            "epoch 20,Train: 1.9344247115982904\n",
            "----------------------------------\n",
            "epoch 21,Validation Loss: 1.75840163230896\n",
            "epoch 21,Train: 1.909824252128601\n",
            "----------------------------------\n",
            "epoch 22,Validation Loss: 1.5693966150283813\n",
            "epoch 22,Train: 1.8385081821017795\n",
            "----------------------------------\n",
            "epoch 23,Validation Loss: 1.7040596008300781\n",
            "epoch 23,Train: 1.7989449898401897\n",
            "----------------------------------\n",
            "epoch 24,Validation Loss: 1.8243252038955688\n",
            "epoch 24,Train: 1.7343337072266474\n",
            "----------------------------------\n",
            "epoch 25,Validation Loss: 1.4837361574172974\n",
            "epoch 25,Train: 1.756418334113227\n",
            "----------------------------------\n",
            "epoch 26,Validation Loss: 1.2274566888809204\n",
            "epoch 26,Train: 1.7154547572135925\n",
            "----------------------------------\n",
            "epoch 27,Validation Loss: 1.5744829177856445\n",
            "epoch 27,Train: 1.6728567348586187\n",
            "----------------------------------\n",
            "epoch 28,Validation Loss: 1.1698318719863892\n",
            "epoch 28,Train: 1.6263928214708965\n",
            "----------------------------------\n",
            "epoch 29,Validation Loss: 1.640931487083435\n",
            "epoch 29,Train: 1.5973896318011813\n",
            "----------------------------------\n",
            "epoch 30,Validation Loss: 1.5335726737976074\n",
            "epoch 30,Train: 1.5655902160538568\n",
            "----------------------------------\n",
            "epoch 31,Validation Loss: 1.1766469478607178\n",
            "epoch 31,Train: 1.5029331776830885\n",
            "----------------------------------\n",
            "epoch 32,Validation Loss: 1.5269694328308105\n",
            "epoch 32,Train: 1.4862981107499864\n",
            "----------------------------------\n",
            "epoch 33,Validation Loss: 1.3972811698913574\n",
            "epoch 33,Train: 1.4767434663242764\n",
            "----------------------------------\n",
            "epoch 34,Validation Loss: 1.3978546857833862\n",
            "epoch 34,Train: 1.4171325696839228\n",
            "----------------------------------\n",
            "epoch 35,Validation Loss: 1.2929577827453613\n",
            "epoch 35,Train: 1.4048445026079814\n",
            "----------------------------------\n",
            "epoch 36,Validation Loss: 1.2052431106567383\n",
            "epoch 36,Train: 1.4150895939932928\n",
            "----------------------------------\n",
            "epoch 37,Validation Loss: 0.9437510967254639\n",
            "epoch 37,Train: 1.3671960632006328\n",
            "----------------------------------\n",
            "epoch 38,Validation Loss: 1.0268865823745728\n",
            "epoch 38,Train: 1.353633748160468\n",
            "----------------------------------\n"
          ]
        }
      ]
    },
    {
      "cell_type": "code",
      "source": [
        "## saving model \n",
        "\n",
        "#saving the model \n",
        "model_save_name = 'exam_4_model_ex_5_best.pth'\n",
        "path = F\"/content/drive/My Drive/DS405B_NLP/Ex4/{model_save_name}\" \n",
        "torch.save(model, path)\n",
        "\n"
      ],
      "metadata": {
        "id": "GzhkqmceiVpv"
      },
      "execution_count": null,
      "outputs": []
    },
    {
      "cell_type": "markdown",
      "source": [
        "## Task 6)"
      ],
      "metadata": {
        "id": "_6NQX_1wbONZ"
      }
    },
    {
      "cell_type": "markdown",
      "source": [
        "Now, I shall consider the k most likely contents (here k = 5) and use the Reader Model on them and the infer the most likely answer. To make thins easier, I shall use a pipeline that includes the trained model and the corresponding tokenizer.\n",
        "\n",
        "I shall consider both answerable and non-answerable queries."
      ],
      "metadata": {
        "id": "iVbUwT9YbRsB"
      }
    },
    {
      "cell_type": "code",
      "source": [
        "reader_model_trained = torch.load(\"/content/drive/MyDrive/DS405B_NLP/Ex4/exam_4_model_ex_5_best.pth\", map_location=torch.device('cpu'))  # needs to be called additionally when not running on GPU\n"
      ],
      "metadata": {
        "id": "5zgODSnzeWnY"
      },
      "execution_count": null,
      "outputs": []
    },
    {
      "cell_type": "code",
      "source": [
        "similar_embeddings = np.load(\"/content/drive/My Drive/DS405B_NLP/similar_embeddings.npy\")\n"
      ],
      "metadata": {
        "id": "FCYMxYWisa-Q"
      },
      "execution_count": null,
      "outputs": []
    },
    {
      "cell_type": "code",
      "source": [
        "from transformers import AutoModelForQuestionAnswering,  AutoTokenizer, pipeline\n",
        "\n",
        "model_name = \"deepset/minilm-uncased-squad2\"\n",
        "tokenizer = AutoTokenizer.from_pretrained(model_name)\n"
      ],
      "metadata": {
        "id": "ZD7R2fdpjBMR"
      },
      "execution_count": null,
      "outputs": []
    },
    {
      "cell_type": "markdown",
      "source": [
        "The metrics shall be calculated as laid out in the Assignment. Again, a precise seperation of the different combinations of potential predicted and ground truth answers and their resspective resulting metrics is needed. Consider thee function below."
      ],
      "metadata": {
        "id": "RBuDiGSpjU2M"
      }
    },
    {
      "cell_type": "code",
      "source": [
        "from nltk.tokenize import word_tokenize\n",
        "\n",
        "import nltk\n",
        "nltk.download('punkt')"
      ],
      "metadata": {
        "colab": {
          "base_uri": "https://localhost:8080/"
        },
        "id": "i3C-c_qdjU2O",
        "outputId": "78ce0404-991a-473a-e5f0-87dd489a8f5a"
      },
      "execution_count": null,
      "outputs": [
        {
          "output_type": "stream",
          "name": "stdout",
          "text": [
            "[nltk_data] Downloading package punkt to /root/nltk_data...\n",
            "[nltk_data]   Unzipping tokenizers/punkt.zip.\n"
          ]
        },
        {
          "output_type": "execute_result",
          "data": {
            "text/plain": [
              "True"
            ]
          },
          "metadata": {},
          "execution_count": 28
        }
      ]
    },
    {
      "cell_type": "code",
      "source": [
        "\n",
        "def metrics(pred_ans, real_ans):\n",
        "\n",
        "  ''' This function calculates the metrics for one sample dependent on the number\n",
        "  of provided ground truth answers'''\n",
        "\n",
        "  length = len(real_ans)\n",
        "  EM = 0\n",
        "  f1 = 0\n",
        "  \n",
        "  ### case 0 true answer\n",
        "\n",
        "  if length == 0:\n",
        "\n",
        "    if pred_ans == \" \":  # in the case of two empty predictions\n",
        "      EM = 1\n",
        "    # in this case, also the F1 Score should be one \n",
        "      f1 = 1\n",
        "\n",
        "  ### case 1 true answer \n",
        "  if length == 1:\n",
        "\n",
        "    # controllig for case that predicted answer is empty \n",
        "    if pred_ans == \" \":\n",
        "      EM = 0\n",
        "      f1 = 0\n",
        "    else:\n",
        "    \n",
        "      if pred_ans == real_ans[0]:\n",
        "        EM = 1\n",
        "\n",
        "      tokenized_ans = word_tokenize(real_ans[0])\n",
        "      tokenized_pred = word_tokenize(pred_ans)\n",
        "      \n",
        "      # recall - share of tokens of predicted answer within ground truth\n",
        "      recall = sum(a in tokenized_ans for a in tokenized_pred) / len(tokenized_ans)\n",
        "\n",
        "      # precision - share of tokens of GT answer within prediction\n",
        "      precision = sum(a in tokenized_pred for a in tokenized_ans) / len(tokenized_pred)\n",
        "\n",
        "      # F1\n",
        "      ## case that both are 0 - will lead to diivision error\n",
        "      if recall > 0 or precision  > 0:\n",
        "        f1 = 2* ( precision * recall) / (precision + recall)\n",
        "      else:\n",
        "        f1 = 0\n",
        "\n",
        "  ### case 2 true answers \n",
        "  if length == 2:\n",
        "\n",
        "  # controllig for case that predicted answer is empty \n",
        "    if pred_ans == \" \":\n",
        "      EM = 0\n",
        "      f1 = 0\n",
        "    else:\n",
        "\n",
        "      if pred_ans == real_ans[0]:\n",
        "        EM = 1\n",
        "      if pred_ans == real_ans[1]:\n",
        "        EM = 1\n",
        "        \n",
        "      tokenized_ans_1 = word_tokenize(real_ans[0])\n",
        "      tokenized_ans_2 = word_tokenize(real_ans[1])\n",
        "      tokenized_pred = word_tokenize(pred_ans)\n",
        "      \n",
        "      # first possible f1 \n",
        "      recall_1 = sum(a in tokenized_ans_1 for a in tokenized_pred) / len(tokenized_ans_1)\n",
        "      precision_1 = sum(a in tokenized_pred for a in tokenized_ans_1) / len(tokenized_pred)\n",
        "      ## case that both are 0 - will lead to diivision error\n",
        "      if recall_1 > 0 or precision_1  > 0:\n",
        "        f1_1 = 2* ( precision_1 * recall_1) / (precision_1 + recall_1)\n",
        "      else:\n",
        "        f1_1 = 0\n",
        "\n",
        "      # second possible f1\n",
        "      recall_2 = sum(a in tokenized_ans_2 for a in tokenized_pred) / len(tokenized_ans_2)\n",
        "      precision_2 = sum(a in tokenized_pred for a in tokenized_ans_2) / len(tokenized_pred)\n",
        "      ## case that both are 0 - will lead to diivision error\n",
        "      if recall_2 > 0 or precision_2  > 0:\n",
        "        f1_2 = 2* ( precision_2 * recall_2) / (precision_2 + recall_2)\n",
        "      else:\n",
        "        f1_2 = 0\n",
        "\n",
        "      # selecting bestt F1 \n",
        "      f1 = np.max([f1_1, f1_2])\n",
        "\n",
        "  return EM, f1"
      ],
      "metadata": {
        "id": "pEQDwSH8jU2Q"
      },
      "execution_count": null,
      "outputs": []
    },
    {
      "cell_type": "markdown",
      "source": [
        "### Using the Fine-tuned Model"
      ],
      "metadata": {
        "id": "By37IEQMueZN"
      }
    },
    {
      "cell_type": "code",
      "source": [
        "## setting uo the pipeline \n",
        "\n",
        "nlp = pipeline('question-answering', model= reader_model_trained, tokenizer=model_name)\n"
      ],
      "metadata": {
        "id": "fSNEmgcmu0JY"
      },
      "execution_count": null,
      "outputs": []
    },
    {
      "cell_type": "code",
      "source": [
        "EMs = []\n",
        "F1s = []\n",
        "\n",
        "for i in range(len(dataset_electronics_test)):\n",
        "\n",
        "  context_ids = similar_embeddings[i,:5]\n",
        "  answers = []\n",
        "\n",
        "  for idx in context_ids:\n",
        "    QA_input = {\n",
        "      'question': dataset_electronics_test[i][\"question\"],\n",
        "      'context': dataset_electronics_test[int(idx)][\"context\"]\n",
        "      }\n",
        "    answers.append(nlp(QA_input))\n",
        "\n",
        "\n",
        "  best_ans_score = np.argmax([a[\"score\"] for a in answers])\n",
        "\n",
        "  # appending inputs for metric computation\n",
        "  if (answers[best_ans_score][\"answer\"] == '') or  ( (answers[best_ans_score][\"start\"] == 0 )  and (answers[best_ans_score][\"end\"] == 1 ) ):\n",
        "    predicted_answer = \" \"\n",
        "  else:\n",
        "    predicted_answer = answers[best_ans_score][\"answer\"] \n",
        "\n",
        "\n",
        "  real_answer = dataset_electronics_test[i][\"answers\"][\"text\"]\n",
        "\n",
        "  EM_here, f1_here = metrics(predicted_answer, real_answer)\n",
        "\n",
        "  EMs.append(EM_here)\n",
        "  F1s.append(f1_here)\n"
      ],
      "metadata": {
        "colab": {
          "base_uri": "https://localhost:8080/"
        },
        "id": "C00KrOVVY4YQ",
        "outputId": "dbf9e9db-c102-44fb-8e1b-1ec38f5c87fc"
      },
      "execution_count": null,
      "outputs": [
        {
          "output_type": "stream",
          "name": "stderr",
          "text": [
            "/usr/local/lib/python3.7/dist-packages/numpy/core/_asarray.py:83: VisibleDeprecationWarning: Creating an ndarray from ragged nested sequences (which is a list-or-tuple of lists-or-tuples-or ndarrays with different lengths or shapes) is deprecated. If you meant to do this, you must specify 'dtype=object' when creating the ndarray\n",
            "  return array(a, dtype, copy=False, order=order)\n"
          ]
        }
      ]
    },
    {
      "cell_type": "code",
      "source": [
        "mean_em_tuned = np.mean(EMs)\n",
        "mean_f1_tuned = np.mean(f1_here)"
      ],
      "metadata": {
        "id": "Jfth6ZFEipXS"
      },
      "execution_count": null,
      "outputs": []
    },
    {
      "cell_type": "code",
      "source": [
        "print(f\"For the fine-tuned model, the EM Score is {mean_em_tuned} ans the F1 Score is {mean_f1_tuned}\")"
      ],
      "metadata": {
        "colab": {
          "base_uri": "https://localhost:8080/"
        },
        "id": "3vHXqwqCESbo",
        "outputId": "32fc4e25-39d0-4840-f880-3ca1b402ed21"
      },
      "execution_count": null,
      "outputs": [
        {
          "output_type": "stream",
          "name": "stdout",
          "text": [
            "For the fine-tuned model, the EM Score is 0.036312849162011177 ans the F1 Score is 0.36363636363636365\n"
          ]
        }
      ]
    },
    {
      "cell_type": "markdown",
      "source": [
        "### Benchmark - no Fine Tuning\n"
      ],
      "metadata": {
        "id": "eshd17S_uiwH"
      }
    },
    {
      "cell_type": "code",
      "source": [
        "## setting uo the pipeline \n",
        "\n",
        "nlp = pipeline('question-answering', model=model_name, tokenizer=model_name)\n"
      ],
      "metadata": {
        "id": "USE0C6gjvBGP"
      },
      "execution_count": null,
      "outputs": []
    },
    {
      "cell_type": "code",
      "source": [
        "EMs = []\n",
        "F1s = []\n",
        "\n",
        "for i in range(len(dataset_electronics_test)):\n",
        "\n",
        "  context_ids = similar_embeddings[i,:5]\n",
        "  answers = []\n",
        "\n",
        "  for idx in context_ids:\n",
        "    QA_input = {\n",
        "      'question': dataset_electronics_test[i][\"question\"],\n",
        "      'context': dataset_electronics_test[int(idx)][\"context\"]\n",
        "      }\n",
        "    answers.append(nlp(QA_input))\n",
        "\n",
        "\n",
        "  best_ans_score = np.argmax([a[\"score\"] for a in answers])\n",
        "\n",
        "  # appending inputs for metric computation\n",
        "  if (answers[best_ans_score][\"answer\"] == '') or  ( (answers[best_ans_score][\"start\"] == 0 )  and (answers[best_ans_score][\"end\"] == 1 ) ):\n",
        "    predicted_answer = \" \"\n",
        "  else:\n",
        "    predicted_answer = answers[best_ans_score][\"answer\"] \n",
        "\n",
        "\n",
        "  real_answer = dataset_electronics_test[i][\"answers\"][\"text\"]\n",
        "\n",
        "  EM_here, f1_here = metrics(predicted_answer, real_answer)\n",
        "\n",
        "  EMs.append(EM_here)\n",
        "  F1s.append(f1_here)\n"
      ],
      "metadata": {
        "colab": {
          "base_uri": "https://localhost:8080/"
        },
        "outputId": "a440e51d-5949-4e95-c0cc-1a136e3eeb57",
        "id": "F7a7-YHfuiwI"
      },
      "execution_count": null,
      "outputs": [
        {
          "output_type": "stream",
          "name": "stderr",
          "text": [
            "/usr/local/lib/python3.7/dist-packages/numpy/core/_asarray.py:83: VisibleDeprecationWarning: Creating an ndarray from ragged nested sequences (which is a list-or-tuple of lists-or-tuples-or ndarrays with different lengths or shapes) is deprecated. If you meant to do this, you must specify 'dtype=object' when creating the ndarray\n",
            "  return array(a, dtype, copy=False, order=order)\n"
          ]
        }
      ]
    },
    {
      "cell_type": "code",
      "source": [
        "mean_em_base =  np.mean(EMs)\n",
        "mean_f1_base = np.mean(f1_here)"
      ],
      "metadata": {
        "id": "bYjhCgBwlQND"
      },
      "execution_count": null,
      "outputs": []
    },
    {
      "cell_type": "code",
      "source": [
        "print(f\"For the non-fine-tuned model, the EM Score is {mean_em_base} and the F1 Score is {mean_f1_base}\")"
      ],
      "metadata": {
        "colab": {
          "base_uri": "https://localhost:8080/"
        },
        "id": "Qj160DAYGmls",
        "outputId": "2ea6228c-883a-4865-b654-6e29ebe7ff00"
      },
      "execution_count": null,
      "outputs": [
        {
          "output_type": "stream",
          "name": "stdout",
          "text": [
            "For the non-fine-tuned model, the EM Score is 0.002793296089385475 and the F1 Score is 0.0\n"
          ]
        }
      ]
    },
    {
      "cell_type": "markdown",
      "source": [
        "As can be seen, the fine-tuning of the reader model has a huge impact on performance. This might be due to the fact that the data under consideration is quite domain-specific. Also, there are some unanswerable questions in the training and testing set, which not only makes the task harder for the fine-tuned reader model, but also for the pre-trained model since it was not fit on such questions."
      ],
      "metadata": {
        "id": "jdYqia4ZGzEy"
      }
    }
  ],
  "metadata": {
    "colab": {
      "collapsed_sections": [],
      "name": "Exam_No_4_DS_405.ipynb",
      "provenance": [],
      "mount_file_id": "1ivh8fro1frWjXIdnqpCeMJjqlsWuzFXs",
      "authorship_tag": "ABX9TyOkfadFbuS6KiA3DambqYCj"
    },
    "kernelspec": {
      "display_name": "Python 3",
      "name": "python3"
    },
    "language_info": {
      "name": "python"
    },
    "widgets": {
      "application/vnd.jupyter.widget-state+json": {
        "098f012ba2cd4ec8b26ba3af31752424": {
          "model_module": "@jupyter-widgets/controls",
          "model_name": "HBoxModel",
          "model_module_version": "1.5.0",
          "state": {
            "_view_name": "HBoxView",
            "_dom_classes": [],
            "_model_name": "HBoxModel",
            "_view_module": "@jupyter-widgets/controls",
            "_model_module_version": "1.5.0",
            "_view_count": null,
            "_view_module_version": "1.5.0",
            "box_style": "",
            "layout": "IPY_MODEL_6478d9fbd5a4424d83edb685e8a02827",
            "_model_module": "@jupyter-widgets/controls",
            "children": [
              "IPY_MODEL_4369d77f72274b9396cc6c3cc8a8ecb3",
              "IPY_MODEL_d4f834cd4a5f424f89ecada2839a8fb4",
              "IPY_MODEL_72ebb0b522b24d06aea71cd21b21faa2"
            ]
          }
        },
        "6478d9fbd5a4424d83edb685e8a02827": {
          "model_module": "@jupyter-widgets/base",
          "model_name": "LayoutModel",
          "model_module_version": "1.2.0",
          "state": {
            "_view_name": "LayoutView",
            "grid_template_rows": null,
            "right": null,
            "justify_content": null,
            "_view_module": "@jupyter-widgets/base",
            "overflow": null,
            "_model_module_version": "1.2.0",
            "_view_count": null,
            "flex_flow": null,
            "width": null,
            "min_width": null,
            "border": null,
            "align_items": null,
            "bottom": null,
            "_model_module": "@jupyter-widgets/base",
            "top": null,
            "grid_column": null,
            "overflow_y": null,
            "overflow_x": null,
            "grid_auto_flow": null,
            "grid_area": null,
            "grid_template_columns": null,
            "flex": null,
            "_model_name": "LayoutModel",
            "justify_items": null,
            "grid_row": null,
            "max_height": null,
            "align_content": null,
            "visibility": null,
            "align_self": null,
            "height": null,
            "min_height": null,
            "padding": null,
            "grid_auto_rows": null,
            "grid_gap": null,
            "max_width": null,
            "order": null,
            "_view_module_version": "1.2.0",
            "grid_template_areas": null,
            "object_position": null,
            "object_fit": null,
            "grid_auto_columns": null,
            "margin": null,
            "display": null,
            "left": null
          }
        },
        "4369d77f72274b9396cc6c3cc8a8ecb3": {
          "model_module": "@jupyter-widgets/controls",
          "model_name": "HTMLModel",
          "model_module_version": "1.5.0",
          "state": {
            "_view_name": "HTMLView",
            "style": "IPY_MODEL_7ec530b491224b2ba854ee766bdbcff5",
            "_dom_classes": [],
            "description": "",
            "_model_name": "HTMLModel",
            "placeholder": "​",
            "_view_module": "@jupyter-widgets/controls",
            "_model_module_version": "1.5.0",
            "value": "Downloading: 100%",
            "_view_count": null,
            "_view_module_version": "1.5.0",
            "description_tooltip": null,
            "_model_module": "@jupyter-widgets/controls",
            "layout": "IPY_MODEL_0897f211cae541daa9f6f9fb41086e92"
          }
        },
        "d4f834cd4a5f424f89ecada2839a8fb4": {
          "model_module": "@jupyter-widgets/controls",
          "model_name": "FloatProgressModel",
          "model_module_version": "1.5.0",
          "state": {
            "_view_name": "ProgressView",
            "style": "IPY_MODEL_06da91c6974f441eb1dfd1d22beb4082",
            "_dom_classes": [],
            "description": "",
            "_model_name": "FloatProgressModel",
            "bar_style": "success",
            "max": 477,
            "_view_module": "@jupyter-widgets/controls",
            "_model_module_version": "1.5.0",
            "value": 477,
            "_view_count": null,
            "_view_module_version": "1.5.0",
            "orientation": "horizontal",
            "min": 0,
            "description_tooltip": null,
            "_model_module": "@jupyter-widgets/controls",
            "layout": "IPY_MODEL_4455f4ab1a87482f8b3229f81bddadb0"
          }
        },
        "72ebb0b522b24d06aea71cd21b21faa2": {
          "model_module": "@jupyter-widgets/controls",
          "model_name": "HTMLModel",
          "model_module_version": "1.5.0",
          "state": {
            "_view_name": "HTMLView",
            "style": "IPY_MODEL_c0da754358b849e2a78fa5698c558801",
            "_dom_classes": [],
            "description": "",
            "_model_name": "HTMLModel",
            "placeholder": "​",
            "_view_module": "@jupyter-widgets/controls",
            "_model_module_version": "1.5.0",
            "value": " 477/477 [00:00&lt;00:00, 3.77kB/s]",
            "_view_count": null,
            "_view_module_version": "1.5.0",
            "description_tooltip": null,
            "_model_module": "@jupyter-widgets/controls",
            "layout": "IPY_MODEL_858a185b2e8c479c9aa1c25b0e1ecab0"
          }
        },
        "7ec530b491224b2ba854ee766bdbcff5": {
          "model_module": "@jupyter-widgets/controls",
          "model_name": "DescriptionStyleModel",
          "model_module_version": "1.5.0",
          "state": {
            "_view_name": "StyleView",
            "_model_name": "DescriptionStyleModel",
            "description_width": "",
            "_view_module": "@jupyter-widgets/base",
            "_model_module_version": "1.5.0",
            "_view_count": null,
            "_view_module_version": "1.2.0",
            "_model_module": "@jupyter-widgets/controls"
          }
        },
        "0897f211cae541daa9f6f9fb41086e92": {
          "model_module": "@jupyter-widgets/base",
          "model_name": "LayoutModel",
          "model_module_version": "1.2.0",
          "state": {
            "_view_name": "LayoutView",
            "grid_template_rows": null,
            "right": null,
            "justify_content": null,
            "_view_module": "@jupyter-widgets/base",
            "overflow": null,
            "_model_module_version": "1.2.0",
            "_view_count": null,
            "flex_flow": null,
            "width": null,
            "min_width": null,
            "border": null,
            "align_items": null,
            "bottom": null,
            "_model_module": "@jupyter-widgets/base",
            "top": null,
            "grid_column": null,
            "overflow_y": null,
            "overflow_x": null,
            "grid_auto_flow": null,
            "grid_area": null,
            "grid_template_columns": null,
            "flex": null,
            "_model_name": "LayoutModel",
            "justify_items": null,
            "grid_row": null,
            "max_height": null,
            "align_content": null,
            "visibility": null,
            "align_self": null,
            "height": null,
            "min_height": null,
            "padding": null,
            "grid_auto_rows": null,
            "grid_gap": null,
            "max_width": null,
            "order": null,
            "_view_module_version": "1.2.0",
            "grid_template_areas": null,
            "object_position": null,
            "object_fit": null,
            "grid_auto_columns": null,
            "margin": null,
            "display": null,
            "left": null
          }
        },
        "06da91c6974f441eb1dfd1d22beb4082": {
          "model_module": "@jupyter-widgets/controls",
          "model_name": "ProgressStyleModel",
          "model_module_version": "1.5.0",
          "state": {
            "_view_name": "StyleView",
            "_model_name": "ProgressStyleModel",
            "description_width": "",
            "_view_module": "@jupyter-widgets/base",
            "_model_module_version": "1.5.0",
            "_view_count": null,
            "_view_module_version": "1.2.0",
            "bar_color": null,
            "_model_module": "@jupyter-widgets/controls"
          }
        },
        "4455f4ab1a87482f8b3229f81bddadb0": {
          "model_module": "@jupyter-widgets/base",
          "model_name": "LayoutModel",
          "model_module_version": "1.2.0",
          "state": {
            "_view_name": "LayoutView",
            "grid_template_rows": null,
            "right": null,
            "justify_content": null,
            "_view_module": "@jupyter-widgets/base",
            "overflow": null,
            "_model_module_version": "1.2.0",
            "_view_count": null,
            "flex_flow": null,
            "width": null,
            "min_width": null,
            "border": null,
            "align_items": null,
            "bottom": null,
            "_model_module": "@jupyter-widgets/base",
            "top": null,
            "grid_column": null,
            "overflow_y": null,
            "overflow_x": null,
            "grid_auto_flow": null,
            "grid_area": null,
            "grid_template_columns": null,
            "flex": null,
            "_model_name": "LayoutModel",
            "justify_items": null,
            "grid_row": null,
            "max_height": null,
            "align_content": null,
            "visibility": null,
            "align_self": null,
            "height": null,
            "min_height": null,
            "padding": null,
            "grid_auto_rows": null,
            "grid_gap": null,
            "max_width": null,
            "order": null,
            "_view_module_version": "1.2.0",
            "grid_template_areas": null,
            "object_position": null,
            "object_fit": null,
            "grid_auto_columns": null,
            "margin": null,
            "display": null,
            "left": null
          }
        },
        "c0da754358b849e2a78fa5698c558801": {
          "model_module": "@jupyter-widgets/controls",
          "model_name": "DescriptionStyleModel",
          "model_module_version": "1.5.0",
          "state": {
            "_view_name": "StyleView",
            "_model_name": "DescriptionStyleModel",
            "description_width": "",
            "_view_module": "@jupyter-widgets/base",
            "_model_module_version": "1.5.0",
            "_view_count": null,
            "_view_module_version": "1.2.0",
            "_model_module": "@jupyter-widgets/controls"
          }
        },
        "858a185b2e8c479c9aa1c25b0e1ecab0": {
          "model_module": "@jupyter-widgets/base",
          "model_name": "LayoutModel",
          "model_module_version": "1.2.0",
          "state": {
            "_view_name": "LayoutView",
            "grid_template_rows": null,
            "right": null,
            "justify_content": null,
            "_view_module": "@jupyter-widgets/base",
            "overflow": null,
            "_model_module_version": "1.2.0",
            "_view_count": null,
            "flex_flow": null,
            "width": null,
            "min_width": null,
            "border": null,
            "align_items": null,
            "bottom": null,
            "_model_module": "@jupyter-widgets/base",
            "top": null,
            "grid_column": null,
            "overflow_y": null,
            "overflow_x": null,
            "grid_auto_flow": null,
            "grid_area": null,
            "grid_template_columns": null,
            "flex": null,
            "_model_name": "LayoutModel",
            "justify_items": null,
            "grid_row": null,
            "max_height": null,
            "align_content": null,
            "visibility": null,
            "align_self": null,
            "height": null,
            "min_height": null,
            "padding": null,
            "grid_auto_rows": null,
            "grid_gap": null,
            "max_width": null,
            "order": null,
            "_view_module_version": "1.2.0",
            "grid_template_areas": null,
            "object_position": null,
            "object_fit": null,
            "grid_auto_columns": null,
            "margin": null,
            "display": null,
            "left": null
          }
        },
        "8f1e6ce7bfc24605af1a753610970337": {
          "model_module": "@jupyter-widgets/controls",
          "model_name": "HBoxModel",
          "model_module_version": "1.5.0",
          "state": {
            "_view_name": "HBoxView",
            "_dom_classes": [],
            "_model_name": "HBoxModel",
            "_view_module": "@jupyter-widgets/controls",
            "_model_module_version": "1.5.0",
            "_view_count": null,
            "_view_module_version": "1.5.0",
            "box_style": "",
            "layout": "IPY_MODEL_d404d65e91d0400195a322e4685795c3",
            "_model_module": "@jupyter-widgets/controls",
            "children": [
              "IPY_MODEL_ee3608d29f0e42ef94093e8d943eeeaf",
              "IPY_MODEL_34bb33a5579d485f98b977b91638f046",
              "IPY_MODEL_56a8e3e93f294797a58ac5b6e98c025e"
            ]
          }
        },
        "d404d65e91d0400195a322e4685795c3": {
          "model_module": "@jupyter-widgets/base",
          "model_name": "LayoutModel",
          "model_module_version": "1.2.0",
          "state": {
            "_view_name": "LayoutView",
            "grid_template_rows": null,
            "right": null,
            "justify_content": null,
            "_view_module": "@jupyter-widgets/base",
            "overflow": null,
            "_model_module_version": "1.2.0",
            "_view_count": null,
            "flex_flow": null,
            "width": null,
            "min_width": null,
            "border": null,
            "align_items": null,
            "bottom": null,
            "_model_module": "@jupyter-widgets/base",
            "top": null,
            "grid_column": null,
            "overflow_y": null,
            "overflow_x": null,
            "grid_auto_flow": null,
            "grid_area": null,
            "grid_template_columns": null,
            "flex": null,
            "_model_name": "LayoutModel",
            "justify_items": null,
            "grid_row": null,
            "max_height": null,
            "align_content": null,
            "visibility": null,
            "align_self": null,
            "height": null,
            "min_height": null,
            "padding": null,
            "grid_auto_rows": null,
            "grid_gap": null,
            "max_width": null,
            "order": null,
            "_view_module_version": "1.2.0",
            "grid_template_areas": null,
            "object_position": null,
            "object_fit": null,
            "grid_auto_columns": null,
            "margin": null,
            "display": null,
            "left": null
          }
        },
        "ee3608d29f0e42ef94093e8d943eeeaf": {
          "model_module": "@jupyter-widgets/controls",
          "model_name": "HTMLModel",
          "model_module_version": "1.5.0",
          "state": {
            "_view_name": "HTMLView",
            "style": "IPY_MODEL_f176a9de3600469484c554cc89381229",
            "_dom_classes": [],
            "description": "",
            "_model_name": "HTMLModel",
            "placeholder": "​",
            "_view_module": "@jupyter-widgets/controls",
            "_model_module_version": "1.5.0",
            "value": "Downloading: 100%",
            "_view_count": null,
            "_view_module_version": "1.5.0",
            "description_tooltip": null,
            "_model_module": "@jupyter-widgets/controls",
            "layout": "IPY_MODEL_129dd4d43ffa405f9bafe8d0ef279b53"
          }
        },
        "34bb33a5579d485f98b977b91638f046": {
          "model_module": "@jupyter-widgets/controls",
          "model_name": "FloatProgressModel",
          "model_module_version": "1.5.0",
          "state": {
            "_view_name": "ProgressView",
            "style": "IPY_MODEL_948bb75b9ec64c7c9f6b5e57ba55660b",
            "_dom_classes": [],
            "description": "",
            "_model_name": "FloatProgressModel",
            "bar_style": "success",
            "max": 133490920,
            "_view_module": "@jupyter-widgets/controls",
            "_model_module_version": "1.5.0",
            "value": 133490920,
            "_view_count": null,
            "_view_module_version": "1.5.0",
            "orientation": "horizontal",
            "min": 0,
            "description_tooltip": null,
            "_model_module": "@jupyter-widgets/controls",
            "layout": "IPY_MODEL_6321d615cac04e42a4814ce751832738"
          }
        },
        "56a8e3e93f294797a58ac5b6e98c025e": {
          "model_module": "@jupyter-widgets/controls",
          "model_name": "HTMLModel",
          "model_module_version": "1.5.0",
          "state": {
            "_view_name": "HTMLView",
            "style": "IPY_MODEL_14a8813ceeb24e3baa8fb10a018bd02c",
            "_dom_classes": [],
            "description": "",
            "_model_name": "HTMLModel",
            "placeholder": "​",
            "_view_module": "@jupyter-widgets/controls",
            "_model_module_version": "1.5.0",
            "value": " 127M/127M [00:07&lt;00:00, 31.9MB/s]",
            "_view_count": null,
            "_view_module_version": "1.5.0",
            "description_tooltip": null,
            "_model_module": "@jupyter-widgets/controls",
            "layout": "IPY_MODEL_45a852a355a14769b9b6d83c1f5cb819"
          }
        },
        "f176a9de3600469484c554cc89381229": {
          "model_module": "@jupyter-widgets/controls",
          "model_name": "DescriptionStyleModel",
          "model_module_version": "1.5.0",
          "state": {
            "_view_name": "StyleView",
            "_model_name": "DescriptionStyleModel",
            "description_width": "",
            "_view_module": "@jupyter-widgets/base",
            "_model_module_version": "1.5.0",
            "_view_count": null,
            "_view_module_version": "1.2.0",
            "_model_module": "@jupyter-widgets/controls"
          }
        },
        "129dd4d43ffa405f9bafe8d0ef279b53": {
          "model_module": "@jupyter-widgets/base",
          "model_name": "LayoutModel",
          "model_module_version": "1.2.0",
          "state": {
            "_view_name": "LayoutView",
            "grid_template_rows": null,
            "right": null,
            "justify_content": null,
            "_view_module": "@jupyter-widgets/base",
            "overflow": null,
            "_model_module_version": "1.2.0",
            "_view_count": null,
            "flex_flow": null,
            "width": null,
            "min_width": null,
            "border": null,
            "align_items": null,
            "bottom": null,
            "_model_module": "@jupyter-widgets/base",
            "top": null,
            "grid_column": null,
            "overflow_y": null,
            "overflow_x": null,
            "grid_auto_flow": null,
            "grid_area": null,
            "grid_template_columns": null,
            "flex": null,
            "_model_name": "LayoutModel",
            "justify_items": null,
            "grid_row": null,
            "max_height": null,
            "align_content": null,
            "visibility": null,
            "align_self": null,
            "height": null,
            "min_height": null,
            "padding": null,
            "grid_auto_rows": null,
            "grid_gap": null,
            "max_width": null,
            "order": null,
            "_view_module_version": "1.2.0",
            "grid_template_areas": null,
            "object_position": null,
            "object_fit": null,
            "grid_auto_columns": null,
            "margin": null,
            "display": null,
            "left": null
          }
        },
        "948bb75b9ec64c7c9f6b5e57ba55660b": {
          "model_module": "@jupyter-widgets/controls",
          "model_name": "ProgressStyleModel",
          "model_module_version": "1.5.0",
          "state": {
            "_view_name": "StyleView",
            "_model_name": "ProgressStyleModel",
            "description_width": "",
            "_view_module": "@jupyter-widgets/base",
            "_model_module_version": "1.5.0",
            "_view_count": null,
            "_view_module_version": "1.2.0",
            "bar_color": null,
            "_model_module": "@jupyter-widgets/controls"
          }
        },
        "6321d615cac04e42a4814ce751832738": {
          "model_module": "@jupyter-widgets/base",
          "model_name": "LayoutModel",
          "model_module_version": "1.2.0",
          "state": {
            "_view_name": "LayoutView",
            "grid_template_rows": null,
            "right": null,
            "justify_content": null,
            "_view_module": "@jupyter-widgets/base",
            "overflow": null,
            "_model_module_version": "1.2.0",
            "_view_count": null,
            "flex_flow": null,
            "width": null,
            "min_width": null,
            "border": null,
            "align_items": null,
            "bottom": null,
            "_model_module": "@jupyter-widgets/base",
            "top": null,
            "grid_column": null,
            "overflow_y": null,
            "overflow_x": null,
            "grid_auto_flow": null,
            "grid_area": null,
            "grid_template_columns": null,
            "flex": null,
            "_model_name": "LayoutModel",
            "justify_items": null,
            "grid_row": null,
            "max_height": null,
            "align_content": null,
            "visibility": null,
            "align_self": null,
            "height": null,
            "min_height": null,
            "padding": null,
            "grid_auto_rows": null,
            "grid_gap": null,
            "max_width": null,
            "order": null,
            "_view_module_version": "1.2.0",
            "grid_template_areas": null,
            "object_position": null,
            "object_fit": null,
            "grid_auto_columns": null,
            "margin": null,
            "display": null,
            "left": null
          }
        },
        "14a8813ceeb24e3baa8fb10a018bd02c": {
          "model_module": "@jupyter-widgets/controls",
          "model_name": "DescriptionStyleModel",
          "model_module_version": "1.5.0",
          "state": {
            "_view_name": "StyleView",
            "_model_name": "DescriptionStyleModel",
            "description_width": "",
            "_view_module": "@jupyter-widgets/base",
            "_model_module_version": "1.5.0",
            "_view_count": null,
            "_view_module_version": "1.2.0",
            "_model_module": "@jupyter-widgets/controls"
          }
        },
        "45a852a355a14769b9b6d83c1f5cb819": {
          "model_module": "@jupyter-widgets/base",
          "model_name": "LayoutModel",
          "model_module_version": "1.2.0",
          "state": {
            "_view_name": "LayoutView",
            "grid_template_rows": null,
            "right": null,
            "justify_content": null,
            "_view_module": "@jupyter-widgets/base",
            "overflow": null,
            "_model_module_version": "1.2.0",
            "_view_count": null,
            "flex_flow": null,
            "width": null,
            "min_width": null,
            "border": null,
            "align_items": null,
            "bottom": null,
            "_model_module": "@jupyter-widgets/base",
            "top": null,
            "grid_column": null,
            "overflow_y": null,
            "overflow_x": null,
            "grid_auto_flow": null,
            "grid_area": null,
            "grid_template_columns": null,
            "flex": null,
            "_model_name": "LayoutModel",
            "justify_items": null,
            "grid_row": null,
            "max_height": null,
            "align_content": null,
            "visibility": null,
            "align_self": null,
            "height": null,
            "min_height": null,
            "padding": null,
            "grid_auto_rows": null,
            "grid_gap": null,
            "max_width": null,
            "order": null,
            "_view_module_version": "1.2.0",
            "grid_template_areas": null,
            "object_position": null,
            "object_fit": null,
            "grid_auto_columns": null,
            "margin": null,
            "display": null,
            "left": null
          }
        },
        "c1bafd789f6b404abc79518bfe3f3010": {
          "model_module": "@jupyter-widgets/controls",
          "model_name": "HBoxModel",
          "model_module_version": "1.5.0",
          "state": {
            "_view_name": "HBoxView",
            "_dom_classes": [],
            "_model_name": "HBoxModel",
            "_view_module": "@jupyter-widgets/controls",
            "_model_module_version": "1.5.0",
            "_view_count": null,
            "_view_module_version": "1.5.0",
            "box_style": "",
            "layout": "IPY_MODEL_3bf802f0f6954e668bf01ca71d60ef5b",
            "_model_module": "@jupyter-widgets/controls",
            "children": [
              "IPY_MODEL_80609b6403a246029d952e926f25d95c",
              "IPY_MODEL_c37f1f8a620d4bd6bcb4356372290f48",
              "IPY_MODEL_1fce50f0bc91456ab28b2770945c576b"
            ]
          }
        },
        "3bf802f0f6954e668bf01ca71d60ef5b": {
          "model_module": "@jupyter-widgets/base",
          "model_name": "LayoutModel",
          "model_module_version": "1.2.0",
          "state": {
            "_view_name": "LayoutView",
            "grid_template_rows": null,
            "right": null,
            "justify_content": null,
            "_view_module": "@jupyter-widgets/base",
            "overflow": null,
            "_model_module_version": "1.2.0",
            "_view_count": null,
            "flex_flow": null,
            "width": null,
            "min_width": null,
            "border": null,
            "align_items": null,
            "bottom": null,
            "_model_module": "@jupyter-widgets/base",
            "top": null,
            "grid_column": null,
            "overflow_y": null,
            "overflow_x": null,
            "grid_auto_flow": null,
            "grid_area": null,
            "grid_template_columns": null,
            "flex": null,
            "_model_name": "LayoutModel",
            "justify_items": null,
            "grid_row": null,
            "max_height": null,
            "align_content": null,
            "visibility": null,
            "align_self": null,
            "height": null,
            "min_height": null,
            "padding": null,
            "grid_auto_rows": null,
            "grid_gap": null,
            "max_width": null,
            "order": null,
            "_view_module_version": "1.2.0",
            "grid_template_areas": null,
            "object_position": null,
            "object_fit": null,
            "grid_auto_columns": null,
            "margin": null,
            "display": null,
            "left": null
          }
        },
        "80609b6403a246029d952e926f25d95c": {
          "model_module": "@jupyter-widgets/controls",
          "model_name": "HTMLModel",
          "model_module_version": "1.5.0",
          "state": {
            "_view_name": "HTMLView",
            "style": "IPY_MODEL_c8280ff130b341d2a4fff00a6d33b76b",
            "_dom_classes": [],
            "description": "",
            "_model_name": "HTMLModel",
            "placeholder": "​",
            "_view_module": "@jupyter-widgets/controls",
            "_model_module_version": "1.5.0",
            "value": "Downloading: 100%",
            "_view_count": null,
            "_view_module_version": "1.5.0",
            "description_tooltip": null,
            "_model_module": "@jupyter-widgets/controls",
            "layout": "IPY_MODEL_2966125cefbb4033b68e7fe127403196"
          }
        },
        "c37f1f8a620d4bd6bcb4356372290f48": {
          "model_module": "@jupyter-widgets/controls",
          "model_name": "FloatProgressModel",
          "model_module_version": "1.5.0",
          "state": {
            "_view_name": "ProgressView",
            "style": "IPY_MODEL_b6509b55f87f48be81acfbbe8fdccc0d",
            "_dom_classes": [],
            "description": "",
            "_model_name": "FloatProgressModel",
            "bar_style": "success",
            "max": 107,
            "_view_module": "@jupyter-widgets/controls",
            "_model_module_version": "1.5.0",
            "value": 107,
            "_view_count": null,
            "_view_module_version": "1.5.0",
            "orientation": "horizontal",
            "min": 0,
            "description_tooltip": null,
            "_model_module": "@jupyter-widgets/controls",
            "layout": "IPY_MODEL_a2b77bffbb7c4b8fae97e626c0aa7148"
          }
        },
        "1fce50f0bc91456ab28b2770945c576b": {
          "model_module": "@jupyter-widgets/controls",
          "model_name": "HTMLModel",
          "model_module_version": "1.5.0",
          "state": {
            "_view_name": "HTMLView",
            "style": "IPY_MODEL_49a3d29fc2fb4044910b8113176e0985",
            "_dom_classes": [],
            "description": "",
            "_model_name": "HTMLModel",
            "placeholder": "​",
            "_view_module": "@jupyter-widgets/controls",
            "_model_module_version": "1.5.0",
            "value": " 107/107 [00:00&lt;00:00, 1.94kB/s]",
            "_view_count": null,
            "_view_module_version": "1.5.0",
            "description_tooltip": null,
            "_model_module": "@jupyter-widgets/controls",
            "layout": "IPY_MODEL_59704dc231484fb394702d5b369be42c"
          }
        },
        "c8280ff130b341d2a4fff00a6d33b76b": {
          "model_module": "@jupyter-widgets/controls",
          "model_name": "DescriptionStyleModel",
          "model_module_version": "1.5.0",
          "state": {
            "_view_name": "StyleView",
            "_model_name": "DescriptionStyleModel",
            "description_width": "",
            "_view_module": "@jupyter-widgets/base",
            "_model_module_version": "1.5.0",
            "_view_count": null,
            "_view_module_version": "1.2.0",
            "_model_module": "@jupyter-widgets/controls"
          }
        },
        "2966125cefbb4033b68e7fe127403196": {
          "model_module": "@jupyter-widgets/base",
          "model_name": "LayoutModel",
          "model_module_version": "1.2.0",
          "state": {
            "_view_name": "LayoutView",
            "grid_template_rows": null,
            "right": null,
            "justify_content": null,
            "_view_module": "@jupyter-widgets/base",
            "overflow": null,
            "_model_module_version": "1.2.0",
            "_view_count": null,
            "flex_flow": null,
            "width": null,
            "min_width": null,
            "border": null,
            "align_items": null,
            "bottom": null,
            "_model_module": "@jupyter-widgets/base",
            "top": null,
            "grid_column": null,
            "overflow_y": null,
            "overflow_x": null,
            "grid_auto_flow": null,
            "grid_area": null,
            "grid_template_columns": null,
            "flex": null,
            "_model_name": "LayoutModel",
            "justify_items": null,
            "grid_row": null,
            "max_height": null,
            "align_content": null,
            "visibility": null,
            "align_self": null,
            "height": null,
            "min_height": null,
            "padding": null,
            "grid_auto_rows": null,
            "grid_gap": null,
            "max_width": null,
            "order": null,
            "_view_module_version": "1.2.0",
            "grid_template_areas": null,
            "object_position": null,
            "object_fit": null,
            "grid_auto_columns": null,
            "margin": null,
            "display": null,
            "left": null
          }
        },
        "b6509b55f87f48be81acfbbe8fdccc0d": {
          "model_module": "@jupyter-widgets/controls",
          "model_name": "ProgressStyleModel",
          "model_module_version": "1.5.0",
          "state": {
            "_view_name": "StyleView",
            "_model_name": "ProgressStyleModel",
            "description_width": "",
            "_view_module": "@jupyter-widgets/base",
            "_model_module_version": "1.5.0",
            "_view_count": null,
            "_view_module_version": "1.2.0",
            "bar_color": null,
            "_model_module": "@jupyter-widgets/controls"
          }
        },
        "a2b77bffbb7c4b8fae97e626c0aa7148": {
          "model_module": "@jupyter-widgets/base",
          "model_name": "LayoutModel",
          "model_module_version": "1.2.0",
          "state": {
            "_view_name": "LayoutView",
            "grid_template_rows": null,
            "right": null,
            "justify_content": null,
            "_view_module": "@jupyter-widgets/base",
            "overflow": null,
            "_model_module_version": "1.2.0",
            "_view_count": null,
            "flex_flow": null,
            "width": null,
            "min_width": null,
            "border": null,
            "align_items": null,
            "bottom": null,
            "_model_module": "@jupyter-widgets/base",
            "top": null,
            "grid_column": null,
            "overflow_y": null,
            "overflow_x": null,
            "grid_auto_flow": null,
            "grid_area": null,
            "grid_template_columns": null,
            "flex": null,
            "_model_name": "LayoutModel",
            "justify_items": null,
            "grid_row": null,
            "max_height": null,
            "align_content": null,
            "visibility": null,
            "align_self": null,
            "height": null,
            "min_height": null,
            "padding": null,
            "grid_auto_rows": null,
            "grid_gap": null,
            "max_width": null,
            "order": null,
            "_view_module_version": "1.2.0",
            "grid_template_areas": null,
            "object_position": null,
            "object_fit": null,
            "grid_auto_columns": null,
            "margin": null,
            "display": null,
            "left": null
          }
        },
        "49a3d29fc2fb4044910b8113176e0985": {
          "model_module": "@jupyter-widgets/controls",
          "model_name": "DescriptionStyleModel",
          "model_module_version": "1.5.0",
          "state": {
            "_view_name": "StyleView",
            "_model_name": "DescriptionStyleModel",
            "description_width": "",
            "_view_module": "@jupyter-widgets/base",
            "_model_module_version": "1.5.0",
            "_view_count": null,
            "_view_module_version": "1.2.0",
            "_model_module": "@jupyter-widgets/controls"
          }
        },
        "59704dc231484fb394702d5b369be42c": {
          "model_module": "@jupyter-widgets/base",
          "model_name": "LayoutModel",
          "model_module_version": "1.2.0",
          "state": {
            "_view_name": "LayoutView",
            "grid_template_rows": null,
            "right": null,
            "justify_content": null,
            "_view_module": "@jupyter-widgets/base",
            "overflow": null,
            "_model_module_version": "1.2.0",
            "_view_count": null,
            "flex_flow": null,
            "width": null,
            "min_width": null,
            "border": null,
            "align_items": null,
            "bottom": null,
            "_model_module": "@jupyter-widgets/base",
            "top": null,
            "grid_column": null,
            "overflow_y": null,
            "overflow_x": null,
            "grid_auto_flow": null,
            "grid_area": null,
            "grid_template_columns": null,
            "flex": null,
            "_model_name": "LayoutModel",
            "justify_items": null,
            "grid_row": null,
            "max_height": null,
            "align_content": null,
            "visibility": null,
            "align_self": null,
            "height": null,
            "min_height": null,
            "padding": null,
            "grid_auto_rows": null,
            "grid_gap": null,
            "max_width": null,
            "order": null,
            "_view_module_version": "1.2.0",
            "grid_template_areas": null,
            "object_position": null,
            "object_fit": null,
            "grid_auto_columns": null,
            "margin": null,
            "display": null,
            "left": null
          }
        },
        "b5d680ae70dd4633bc581fa3bce927fa": {
          "model_module": "@jupyter-widgets/controls",
          "model_name": "HBoxModel",
          "model_module_version": "1.5.0",
          "state": {
            "_view_name": "HBoxView",
            "_dom_classes": [],
            "_model_name": "HBoxModel",
            "_view_module": "@jupyter-widgets/controls",
            "_model_module_version": "1.5.0",
            "_view_count": null,
            "_view_module_version": "1.5.0",
            "box_style": "",
            "layout": "IPY_MODEL_33044c2fe4144d268b0d6251b0eb19c0",
            "_model_module": "@jupyter-widgets/controls",
            "children": [
              "IPY_MODEL_54e015eea63048998eeadd543b3b390b",
              "IPY_MODEL_1326af3cdef547239a52bdb27af78906",
              "IPY_MODEL_78ba5ac5f5c14c3db94653259c013430"
            ]
          }
        },
        "33044c2fe4144d268b0d6251b0eb19c0": {
          "model_module": "@jupyter-widgets/base",
          "model_name": "LayoutModel",
          "model_module_version": "1.2.0",
          "state": {
            "_view_name": "LayoutView",
            "grid_template_rows": null,
            "right": null,
            "justify_content": null,
            "_view_module": "@jupyter-widgets/base",
            "overflow": null,
            "_model_module_version": "1.2.0",
            "_view_count": null,
            "flex_flow": null,
            "width": null,
            "min_width": null,
            "border": null,
            "align_items": null,
            "bottom": null,
            "_model_module": "@jupyter-widgets/base",
            "top": null,
            "grid_column": null,
            "overflow_y": null,
            "overflow_x": null,
            "grid_auto_flow": null,
            "grid_area": null,
            "grid_template_columns": null,
            "flex": null,
            "_model_name": "LayoutModel",
            "justify_items": null,
            "grid_row": null,
            "max_height": null,
            "align_content": null,
            "visibility": null,
            "align_self": null,
            "height": null,
            "min_height": null,
            "padding": null,
            "grid_auto_rows": null,
            "grid_gap": null,
            "max_width": null,
            "order": null,
            "_view_module_version": "1.2.0",
            "grid_template_areas": null,
            "object_position": null,
            "object_fit": null,
            "grid_auto_columns": null,
            "margin": null,
            "display": null,
            "left": null
          }
        },
        "54e015eea63048998eeadd543b3b390b": {
          "model_module": "@jupyter-widgets/controls",
          "model_name": "HTMLModel",
          "model_module_version": "1.5.0",
          "state": {
            "_view_name": "HTMLView",
            "style": "IPY_MODEL_185cebcd5d204dcc8e36f369d35fb5d8",
            "_dom_classes": [],
            "description": "",
            "_model_name": "HTMLModel",
            "placeholder": "​",
            "_view_module": "@jupyter-widgets/controls",
            "_model_module_version": "1.5.0",
            "value": "Downloading: 100%",
            "_view_count": null,
            "_view_module_version": "1.5.0",
            "description_tooltip": null,
            "_model_module": "@jupyter-widgets/controls",
            "layout": "IPY_MODEL_9c5e9ece2253450f9d83ae504207a429"
          }
        },
        "1326af3cdef547239a52bdb27af78906": {
          "model_module": "@jupyter-widgets/controls",
          "model_name": "FloatProgressModel",
          "model_module_version": "1.5.0",
          "state": {
            "_view_name": "ProgressView",
            "style": "IPY_MODEL_4629f616c9a4436a8fc42865b0d9698f",
            "_dom_classes": [],
            "description": "",
            "_model_name": "FloatProgressModel",
            "bar_style": "success",
            "max": 231508,
            "_view_module": "@jupyter-widgets/controls",
            "_model_module_version": "1.5.0",
            "value": 231508,
            "_view_count": null,
            "_view_module_version": "1.5.0",
            "orientation": "horizontal",
            "min": 0,
            "description_tooltip": null,
            "_model_module": "@jupyter-widgets/controls",
            "layout": "IPY_MODEL_362814b497c04930a70deed3e0773a93"
          }
        },
        "78ba5ac5f5c14c3db94653259c013430": {
          "model_module": "@jupyter-widgets/controls",
          "model_name": "HTMLModel",
          "model_module_version": "1.5.0",
          "state": {
            "_view_name": "HTMLView",
            "style": "IPY_MODEL_f1a3600fc5e74e7b80b7a42b513ad6de",
            "_dom_classes": [],
            "description": "",
            "_model_name": "HTMLModel",
            "placeholder": "​",
            "_view_module": "@jupyter-widgets/controls",
            "_model_module_version": "1.5.0",
            "value": " 226k/226k [00:00&lt;00:00, 463kB/s]",
            "_view_count": null,
            "_view_module_version": "1.5.0",
            "description_tooltip": null,
            "_model_module": "@jupyter-widgets/controls",
            "layout": "IPY_MODEL_34fb1553ffe8406cb2692ec940e6273d"
          }
        },
        "185cebcd5d204dcc8e36f369d35fb5d8": {
          "model_module": "@jupyter-widgets/controls",
          "model_name": "DescriptionStyleModel",
          "model_module_version": "1.5.0",
          "state": {
            "_view_name": "StyleView",
            "_model_name": "DescriptionStyleModel",
            "description_width": "",
            "_view_module": "@jupyter-widgets/base",
            "_model_module_version": "1.5.0",
            "_view_count": null,
            "_view_module_version": "1.2.0",
            "_model_module": "@jupyter-widgets/controls"
          }
        },
        "9c5e9ece2253450f9d83ae504207a429": {
          "model_module": "@jupyter-widgets/base",
          "model_name": "LayoutModel",
          "model_module_version": "1.2.0",
          "state": {
            "_view_name": "LayoutView",
            "grid_template_rows": null,
            "right": null,
            "justify_content": null,
            "_view_module": "@jupyter-widgets/base",
            "overflow": null,
            "_model_module_version": "1.2.0",
            "_view_count": null,
            "flex_flow": null,
            "width": null,
            "min_width": null,
            "border": null,
            "align_items": null,
            "bottom": null,
            "_model_module": "@jupyter-widgets/base",
            "top": null,
            "grid_column": null,
            "overflow_y": null,
            "overflow_x": null,
            "grid_auto_flow": null,
            "grid_area": null,
            "grid_template_columns": null,
            "flex": null,
            "_model_name": "LayoutModel",
            "justify_items": null,
            "grid_row": null,
            "max_height": null,
            "align_content": null,
            "visibility": null,
            "align_self": null,
            "height": null,
            "min_height": null,
            "padding": null,
            "grid_auto_rows": null,
            "grid_gap": null,
            "max_width": null,
            "order": null,
            "_view_module_version": "1.2.0",
            "grid_template_areas": null,
            "object_position": null,
            "object_fit": null,
            "grid_auto_columns": null,
            "margin": null,
            "display": null,
            "left": null
          }
        },
        "4629f616c9a4436a8fc42865b0d9698f": {
          "model_module": "@jupyter-widgets/controls",
          "model_name": "ProgressStyleModel",
          "model_module_version": "1.5.0",
          "state": {
            "_view_name": "StyleView",
            "_model_name": "ProgressStyleModel",
            "description_width": "",
            "_view_module": "@jupyter-widgets/base",
            "_model_module_version": "1.5.0",
            "_view_count": null,
            "_view_module_version": "1.2.0",
            "bar_color": null,
            "_model_module": "@jupyter-widgets/controls"
          }
        },
        "362814b497c04930a70deed3e0773a93": {
          "model_module": "@jupyter-widgets/base",
          "model_name": "LayoutModel",
          "model_module_version": "1.2.0",
          "state": {
            "_view_name": "LayoutView",
            "grid_template_rows": null,
            "right": null,
            "justify_content": null,
            "_view_module": "@jupyter-widgets/base",
            "overflow": null,
            "_model_module_version": "1.2.0",
            "_view_count": null,
            "flex_flow": null,
            "width": null,
            "min_width": null,
            "border": null,
            "align_items": null,
            "bottom": null,
            "_model_module": "@jupyter-widgets/base",
            "top": null,
            "grid_column": null,
            "overflow_y": null,
            "overflow_x": null,
            "grid_auto_flow": null,
            "grid_area": null,
            "grid_template_columns": null,
            "flex": null,
            "_model_name": "LayoutModel",
            "justify_items": null,
            "grid_row": null,
            "max_height": null,
            "align_content": null,
            "visibility": null,
            "align_self": null,
            "height": null,
            "min_height": null,
            "padding": null,
            "grid_auto_rows": null,
            "grid_gap": null,
            "max_width": null,
            "order": null,
            "_view_module_version": "1.2.0",
            "grid_template_areas": null,
            "object_position": null,
            "object_fit": null,
            "grid_auto_columns": null,
            "margin": null,
            "display": null,
            "left": null
          }
        },
        "f1a3600fc5e74e7b80b7a42b513ad6de": {
          "model_module": "@jupyter-widgets/controls",
          "model_name": "DescriptionStyleModel",
          "model_module_version": "1.5.0",
          "state": {
            "_view_name": "StyleView",
            "_model_name": "DescriptionStyleModel",
            "description_width": "",
            "_view_module": "@jupyter-widgets/base",
            "_model_module_version": "1.5.0",
            "_view_count": null,
            "_view_module_version": "1.2.0",
            "_model_module": "@jupyter-widgets/controls"
          }
        },
        "34fb1553ffe8406cb2692ec940e6273d": {
          "model_module": "@jupyter-widgets/base",
          "model_name": "LayoutModel",
          "model_module_version": "1.2.0",
          "state": {
            "_view_name": "LayoutView",
            "grid_template_rows": null,
            "right": null,
            "justify_content": null,
            "_view_module": "@jupyter-widgets/base",
            "overflow": null,
            "_model_module_version": "1.2.0",
            "_view_count": null,
            "flex_flow": null,
            "width": null,
            "min_width": null,
            "border": null,
            "align_items": null,
            "bottom": null,
            "_model_module": "@jupyter-widgets/base",
            "top": null,
            "grid_column": null,
            "overflow_y": null,
            "overflow_x": null,
            "grid_auto_flow": null,
            "grid_area": null,
            "grid_template_columns": null,
            "flex": null,
            "_model_name": "LayoutModel",
            "justify_items": null,
            "grid_row": null,
            "max_height": null,
            "align_content": null,
            "visibility": null,
            "align_self": null,
            "height": null,
            "min_height": null,
            "padding": null,
            "grid_auto_rows": null,
            "grid_gap": null,
            "max_width": null,
            "order": null,
            "_view_module_version": "1.2.0",
            "grid_template_areas": null,
            "object_position": null,
            "object_fit": null,
            "grid_auto_columns": null,
            "margin": null,
            "display": null,
            "left": null
          }
        },
        "2ec56f9534b7461585c311a9199afbb9": {
          "model_module": "@jupyter-widgets/controls",
          "model_name": "HBoxModel",
          "model_module_version": "1.5.0",
          "state": {
            "_view_name": "HBoxView",
            "_dom_classes": [],
            "_model_name": "HBoxModel",
            "_view_module": "@jupyter-widgets/controls",
            "_model_module_version": "1.5.0",
            "_view_count": null,
            "_view_module_version": "1.5.0",
            "box_style": "",
            "layout": "IPY_MODEL_328fdfd5784549ab979f97b1c8a66ac0",
            "_model_module": "@jupyter-widgets/controls",
            "children": [
              "IPY_MODEL_c3c7c9b71b0a4d3d97ed28dd183c4e00",
              "IPY_MODEL_103f19089d6d4eeba034a19f11010144",
              "IPY_MODEL_7d4312815be645d89684d816ced70886"
            ]
          }
        },
        "328fdfd5784549ab979f97b1c8a66ac0": {
          "model_module": "@jupyter-widgets/base",
          "model_name": "LayoutModel",
          "model_module_version": "1.2.0",
          "state": {
            "_view_name": "LayoutView",
            "grid_template_rows": null,
            "right": null,
            "justify_content": null,
            "_view_module": "@jupyter-widgets/base",
            "overflow": null,
            "_model_module_version": "1.2.0",
            "_view_count": null,
            "flex_flow": null,
            "width": null,
            "min_width": null,
            "border": null,
            "align_items": null,
            "bottom": null,
            "_model_module": "@jupyter-widgets/base",
            "top": null,
            "grid_column": null,
            "overflow_y": null,
            "overflow_x": null,
            "grid_auto_flow": null,
            "grid_area": null,
            "grid_template_columns": null,
            "flex": null,
            "_model_name": "LayoutModel",
            "justify_items": null,
            "grid_row": null,
            "max_height": null,
            "align_content": null,
            "visibility": null,
            "align_self": null,
            "height": null,
            "min_height": null,
            "padding": null,
            "grid_auto_rows": null,
            "grid_gap": null,
            "max_width": null,
            "order": null,
            "_view_module_version": "1.2.0",
            "grid_template_areas": null,
            "object_position": null,
            "object_fit": null,
            "grid_auto_columns": null,
            "margin": null,
            "display": null,
            "left": null
          }
        },
        "c3c7c9b71b0a4d3d97ed28dd183c4e00": {
          "model_module": "@jupyter-widgets/controls",
          "model_name": "HTMLModel",
          "model_module_version": "1.5.0",
          "state": {
            "_view_name": "HTMLView",
            "style": "IPY_MODEL_2e7fa056209847ccb0b8b04d3768f8ee",
            "_dom_classes": [],
            "description": "",
            "_model_name": "HTMLModel",
            "placeholder": "​",
            "_view_module": "@jupyter-widgets/controls",
            "_model_module_version": "1.5.0",
            "value": "Downloading: 100%",
            "_view_count": null,
            "_view_module_version": "1.5.0",
            "description_tooltip": null,
            "_model_module": "@jupyter-widgets/controls",
            "layout": "IPY_MODEL_936dd3370721448fa76aee5f6d7c357f"
          }
        },
        "103f19089d6d4eeba034a19f11010144": {
          "model_module": "@jupyter-widgets/controls",
          "model_name": "FloatProgressModel",
          "model_module_version": "1.5.0",
          "state": {
            "_view_name": "ProgressView",
            "style": "IPY_MODEL_2f0bc10f6ce547caa90dd136ca4c5249",
            "_dom_classes": [],
            "description": "",
            "_model_name": "FloatProgressModel",
            "bar_style": "success",
            "max": 112,
            "_view_module": "@jupyter-widgets/controls",
            "_model_module_version": "1.5.0",
            "value": 112,
            "_view_count": null,
            "_view_module_version": "1.5.0",
            "orientation": "horizontal",
            "min": 0,
            "description_tooltip": null,
            "_model_module": "@jupyter-widgets/controls",
            "layout": "IPY_MODEL_ed46324578f044a0bbe2e4db50822873"
          }
        },
        "7d4312815be645d89684d816ced70886": {
          "model_module": "@jupyter-widgets/controls",
          "model_name": "HTMLModel",
          "model_module_version": "1.5.0",
          "state": {
            "_view_name": "HTMLView",
            "style": "IPY_MODEL_d9379728aea047548363478fa2d7b000",
            "_dom_classes": [],
            "description": "",
            "_model_name": "HTMLModel",
            "placeholder": "​",
            "_view_module": "@jupyter-widgets/controls",
            "_model_module_version": "1.5.0",
            "value": " 112/112 [00:00&lt;00:00, 3.33kB/s]",
            "_view_count": null,
            "_view_module_version": "1.5.0",
            "description_tooltip": null,
            "_model_module": "@jupyter-widgets/controls",
            "layout": "IPY_MODEL_fcf01a514c8e413189d94c239d4dad6f"
          }
        },
        "2e7fa056209847ccb0b8b04d3768f8ee": {
          "model_module": "@jupyter-widgets/controls",
          "model_name": "DescriptionStyleModel",
          "model_module_version": "1.5.0",
          "state": {
            "_view_name": "StyleView",
            "_model_name": "DescriptionStyleModel",
            "description_width": "",
            "_view_module": "@jupyter-widgets/base",
            "_model_module_version": "1.5.0",
            "_view_count": null,
            "_view_module_version": "1.2.0",
            "_model_module": "@jupyter-widgets/controls"
          }
        },
        "936dd3370721448fa76aee5f6d7c357f": {
          "model_module": "@jupyter-widgets/base",
          "model_name": "LayoutModel",
          "model_module_version": "1.2.0",
          "state": {
            "_view_name": "LayoutView",
            "grid_template_rows": null,
            "right": null,
            "justify_content": null,
            "_view_module": "@jupyter-widgets/base",
            "overflow": null,
            "_model_module_version": "1.2.0",
            "_view_count": null,
            "flex_flow": null,
            "width": null,
            "min_width": null,
            "border": null,
            "align_items": null,
            "bottom": null,
            "_model_module": "@jupyter-widgets/base",
            "top": null,
            "grid_column": null,
            "overflow_y": null,
            "overflow_x": null,
            "grid_auto_flow": null,
            "grid_area": null,
            "grid_template_columns": null,
            "flex": null,
            "_model_name": "LayoutModel",
            "justify_items": null,
            "grid_row": null,
            "max_height": null,
            "align_content": null,
            "visibility": null,
            "align_self": null,
            "height": null,
            "min_height": null,
            "padding": null,
            "grid_auto_rows": null,
            "grid_gap": null,
            "max_width": null,
            "order": null,
            "_view_module_version": "1.2.0",
            "grid_template_areas": null,
            "object_position": null,
            "object_fit": null,
            "grid_auto_columns": null,
            "margin": null,
            "display": null,
            "left": null
          }
        },
        "2f0bc10f6ce547caa90dd136ca4c5249": {
          "model_module": "@jupyter-widgets/controls",
          "model_name": "ProgressStyleModel",
          "model_module_version": "1.5.0",
          "state": {
            "_view_name": "StyleView",
            "_model_name": "ProgressStyleModel",
            "description_width": "",
            "_view_module": "@jupyter-widgets/base",
            "_model_module_version": "1.5.0",
            "_view_count": null,
            "_view_module_version": "1.2.0",
            "bar_color": null,
            "_model_module": "@jupyter-widgets/controls"
          }
        },
        "ed46324578f044a0bbe2e4db50822873": {
          "model_module": "@jupyter-widgets/base",
          "model_name": "LayoutModel",
          "model_module_version": "1.2.0",
          "state": {
            "_view_name": "LayoutView",
            "grid_template_rows": null,
            "right": null,
            "justify_content": null,
            "_view_module": "@jupyter-widgets/base",
            "overflow": null,
            "_model_module_version": "1.2.0",
            "_view_count": null,
            "flex_flow": null,
            "width": null,
            "min_width": null,
            "border": null,
            "align_items": null,
            "bottom": null,
            "_model_module": "@jupyter-widgets/base",
            "top": null,
            "grid_column": null,
            "overflow_y": null,
            "overflow_x": null,
            "grid_auto_flow": null,
            "grid_area": null,
            "grid_template_columns": null,
            "flex": null,
            "_model_name": "LayoutModel",
            "justify_items": null,
            "grid_row": null,
            "max_height": null,
            "align_content": null,
            "visibility": null,
            "align_self": null,
            "height": null,
            "min_height": null,
            "padding": null,
            "grid_auto_rows": null,
            "grid_gap": null,
            "max_width": null,
            "order": null,
            "_view_module_version": "1.2.0",
            "grid_template_areas": null,
            "object_position": null,
            "object_fit": null,
            "grid_auto_columns": null,
            "margin": null,
            "display": null,
            "left": null
          }
        },
        "d9379728aea047548363478fa2d7b000": {
          "model_module": "@jupyter-widgets/controls",
          "model_name": "DescriptionStyleModel",
          "model_module_version": "1.5.0",
          "state": {
            "_view_name": "StyleView",
            "_model_name": "DescriptionStyleModel",
            "description_width": "",
            "_view_module": "@jupyter-widgets/base",
            "_model_module_version": "1.5.0",
            "_view_count": null,
            "_view_module_version": "1.2.0",
            "_model_module": "@jupyter-widgets/controls"
          }
        },
        "fcf01a514c8e413189d94c239d4dad6f": {
          "model_module": "@jupyter-widgets/base",
          "model_name": "LayoutModel",
          "model_module_version": "1.2.0",
          "state": {
            "_view_name": "LayoutView",
            "grid_template_rows": null,
            "right": null,
            "justify_content": null,
            "_view_module": "@jupyter-widgets/base",
            "overflow": null,
            "_model_module_version": "1.2.0",
            "_view_count": null,
            "flex_flow": null,
            "width": null,
            "min_width": null,
            "border": null,
            "align_items": null,
            "bottom": null,
            "_model_module": "@jupyter-widgets/base",
            "top": null,
            "grid_column": null,
            "overflow_y": null,
            "overflow_x": null,
            "grid_auto_flow": null,
            "grid_area": null,
            "grid_template_columns": null,
            "flex": null,
            "_model_name": "LayoutModel",
            "justify_items": null,
            "grid_row": null,
            "max_height": null,
            "align_content": null,
            "visibility": null,
            "align_self": null,
            "height": null,
            "min_height": null,
            "padding": null,
            "grid_auto_rows": null,
            "grid_gap": null,
            "max_width": null,
            "order": null,
            "_view_module_version": "1.2.0",
            "grid_template_areas": null,
            "object_position": null,
            "object_fit": null,
            "grid_auto_columns": null,
            "margin": null,
            "display": null,
            "left": null
          }
        },
        "f4a5a01d8c0b4b039ba0f97242242d80": {
          "model_module": "@jupyter-widgets/controls",
          "model_name": "HBoxModel",
          "model_module_version": "1.5.0",
          "state": {
            "_view_name": "HBoxView",
            "_dom_classes": [],
            "_model_name": "HBoxModel",
            "_view_module": "@jupyter-widgets/controls",
            "_model_module_version": "1.5.0",
            "_view_count": null,
            "_view_module_version": "1.5.0",
            "box_style": "",
            "layout": "IPY_MODEL_a66e1520c77d4554b26c88c3c651a8ff",
            "_model_module": "@jupyter-widgets/controls",
            "children": [
              "IPY_MODEL_70820b3aaa0f4d919b1e4ea26d6c089d",
              "IPY_MODEL_f29102881b754a2693956c3b21ddf18f",
              "IPY_MODEL_199b68ec0fa6475fb4651029ef8ba1c2"
            ]
          }
        },
        "a66e1520c77d4554b26c88c3c651a8ff": {
          "model_module": "@jupyter-widgets/base",
          "model_name": "LayoutModel",
          "model_module_version": "1.2.0",
          "state": {
            "_view_name": "LayoutView",
            "grid_template_rows": null,
            "right": null,
            "justify_content": null,
            "_view_module": "@jupyter-widgets/base",
            "overflow": null,
            "_model_module_version": "1.2.0",
            "_view_count": null,
            "flex_flow": null,
            "width": null,
            "min_width": null,
            "border": null,
            "align_items": null,
            "bottom": null,
            "_model_module": "@jupyter-widgets/base",
            "top": null,
            "grid_column": null,
            "overflow_y": null,
            "overflow_x": null,
            "grid_auto_flow": null,
            "grid_area": null,
            "grid_template_columns": null,
            "flex": null,
            "_model_name": "LayoutModel",
            "justify_items": null,
            "grid_row": null,
            "max_height": null,
            "align_content": null,
            "visibility": null,
            "align_self": null,
            "height": null,
            "min_height": null,
            "padding": null,
            "grid_auto_rows": null,
            "grid_gap": null,
            "max_width": null,
            "order": null,
            "_view_module_version": "1.2.0",
            "grid_template_areas": null,
            "object_position": null,
            "object_fit": null,
            "grid_auto_columns": null,
            "margin": null,
            "display": null,
            "left": null
          }
        },
        "70820b3aaa0f4d919b1e4ea26d6c089d": {
          "model_module": "@jupyter-widgets/controls",
          "model_name": "HTMLModel",
          "model_module_version": "1.5.0",
          "state": {
            "_view_name": "HTMLView",
            "style": "IPY_MODEL_539eb851298441b390852262ec6e1ce7",
            "_dom_classes": [],
            "description": "",
            "_model_name": "HTMLModel",
            "placeholder": "​",
            "_view_module": "@jupyter-widgets/controls",
            "_model_module_version": "1.5.0",
            "value": "100%",
            "_view_count": null,
            "_view_module_version": "1.5.0",
            "description_tooltip": null,
            "_model_module": "@jupyter-widgets/controls",
            "layout": "IPY_MODEL_5d7689e2d40541dda08fc7d9db7af3bf"
          }
        },
        "f29102881b754a2693956c3b21ddf18f": {
          "model_module": "@jupyter-widgets/controls",
          "model_name": "FloatProgressModel",
          "model_module_version": "1.5.0",
          "state": {
            "_view_name": "ProgressView",
            "style": "IPY_MODEL_a0760e0ad755405198cfa47fdc58be94",
            "_dom_classes": [],
            "description": "",
            "_model_name": "FloatProgressModel",
            "bar_style": "success",
            "max": 3,
            "_view_module": "@jupyter-widgets/controls",
            "_model_module_version": "1.5.0",
            "value": 3,
            "_view_count": null,
            "_view_module_version": "1.5.0",
            "orientation": "horizontal",
            "min": 0,
            "description_tooltip": null,
            "_model_module": "@jupyter-widgets/controls",
            "layout": "IPY_MODEL_9cd7d75fe284465998332fa321edec03"
          }
        },
        "199b68ec0fa6475fb4651029ef8ba1c2": {
          "model_module": "@jupyter-widgets/controls",
          "model_name": "HTMLModel",
          "model_module_version": "1.5.0",
          "state": {
            "_view_name": "HTMLView",
            "style": "IPY_MODEL_4f5edfcdb31249649f11d3bd26773794",
            "_dom_classes": [],
            "description": "",
            "_model_name": "HTMLModel",
            "placeholder": "​",
            "_view_module": "@jupyter-widgets/controls",
            "_model_module_version": "1.5.0",
            "value": " 3/3 [00:00&lt;00:00, 42.72it/s]",
            "_view_count": null,
            "_view_module_version": "1.5.0",
            "description_tooltip": null,
            "_model_module": "@jupyter-widgets/controls",
            "layout": "IPY_MODEL_a6c8fee6f0424cc89e541ed14232f05e"
          }
        },
        "539eb851298441b390852262ec6e1ce7": {
          "model_module": "@jupyter-widgets/controls",
          "model_name": "DescriptionStyleModel",
          "model_module_version": "1.5.0",
          "state": {
            "_view_name": "StyleView",
            "_model_name": "DescriptionStyleModel",
            "description_width": "",
            "_view_module": "@jupyter-widgets/base",
            "_model_module_version": "1.5.0",
            "_view_count": null,
            "_view_module_version": "1.2.0",
            "_model_module": "@jupyter-widgets/controls"
          }
        },
        "5d7689e2d40541dda08fc7d9db7af3bf": {
          "model_module": "@jupyter-widgets/base",
          "model_name": "LayoutModel",
          "model_module_version": "1.2.0",
          "state": {
            "_view_name": "LayoutView",
            "grid_template_rows": null,
            "right": null,
            "justify_content": null,
            "_view_module": "@jupyter-widgets/base",
            "overflow": null,
            "_model_module_version": "1.2.0",
            "_view_count": null,
            "flex_flow": null,
            "width": null,
            "min_width": null,
            "border": null,
            "align_items": null,
            "bottom": null,
            "_model_module": "@jupyter-widgets/base",
            "top": null,
            "grid_column": null,
            "overflow_y": null,
            "overflow_x": null,
            "grid_auto_flow": null,
            "grid_area": null,
            "grid_template_columns": null,
            "flex": null,
            "_model_name": "LayoutModel",
            "justify_items": null,
            "grid_row": null,
            "max_height": null,
            "align_content": null,
            "visibility": null,
            "align_self": null,
            "height": null,
            "min_height": null,
            "padding": null,
            "grid_auto_rows": null,
            "grid_gap": null,
            "max_width": null,
            "order": null,
            "_view_module_version": "1.2.0",
            "grid_template_areas": null,
            "object_position": null,
            "object_fit": null,
            "grid_auto_columns": null,
            "margin": null,
            "display": null,
            "left": null
          }
        },
        "a0760e0ad755405198cfa47fdc58be94": {
          "model_module": "@jupyter-widgets/controls",
          "model_name": "ProgressStyleModel",
          "model_module_version": "1.5.0",
          "state": {
            "_view_name": "StyleView",
            "_model_name": "ProgressStyleModel",
            "description_width": "",
            "_view_module": "@jupyter-widgets/base",
            "_model_module_version": "1.5.0",
            "_view_count": null,
            "_view_module_version": "1.2.0",
            "bar_color": null,
            "_model_module": "@jupyter-widgets/controls"
          }
        },
        "9cd7d75fe284465998332fa321edec03": {
          "model_module": "@jupyter-widgets/base",
          "model_name": "LayoutModel",
          "model_module_version": "1.2.0",
          "state": {
            "_view_name": "LayoutView",
            "grid_template_rows": null,
            "right": null,
            "justify_content": null,
            "_view_module": "@jupyter-widgets/base",
            "overflow": null,
            "_model_module_version": "1.2.0",
            "_view_count": null,
            "flex_flow": null,
            "width": null,
            "min_width": null,
            "border": null,
            "align_items": null,
            "bottom": null,
            "_model_module": "@jupyter-widgets/base",
            "top": null,
            "grid_column": null,
            "overflow_y": null,
            "overflow_x": null,
            "grid_auto_flow": null,
            "grid_area": null,
            "grid_template_columns": null,
            "flex": null,
            "_model_name": "LayoutModel",
            "justify_items": null,
            "grid_row": null,
            "max_height": null,
            "align_content": null,
            "visibility": null,
            "align_self": null,
            "height": null,
            "min_height": null,
            "padding": null,
            "grid_auto_rows": null,
            "grid_gap": null,
            "max_width": null,
            "order": null,
            "_view_module_version": "1.2.0",
            "grid_template_areas": null,
            "object_position": null,
            "object_fit": null,
            "grid_auto_columns": null,
            "margin": null,
            "display": null,
            "left": null
          }
        },
        "4f5edfcdb31249649f11d3bd26773794": {
          "model_module": "@jupyter-widgets/controls",
          "model_name": "DescriptionStyleModel",
          "model_module_version": "1.5.0",
          "state": {
            "_view_name": "StyleView",
            "_model_name": "DescriptionStyleModel",
            "description_width": "",
            "_view_module": "@jupyter-widgets/base",
            "_model_module_version": "1.5.0",
            "_view_count": null,
            "_view_module_version": "1.2.0",
            "_model_module": "@jupyter-widgets/controls"
          }
        },
        "a6c8fee6f0424cc89e541ed14232f05e": {
          "model_module": "@jupyter-widgets/base",
          "model_name": "LayoutModel",
          "model_module_version": "1.2.0",
          "state": {
            "_view_name": "LayoutView",
            "grid_template_rows": null,
            "right": null,
            "justify_content": null,
            "_view_module": "@jupyter-widgets/base",
            "overflow": null,
            "_model_module_version": "1.2.0",
            "_view_count": null,
            "flex_flow": null,
            "width": null,
            "min_width": null,
            "border": null,
            "align_items": null,
            "bottom": null,
            "_model_module": "@jupyter-widgets/base",
            "top": null,
            "grid_column": null,
            "overflow_y": null,
            "overflow_x": null,
            "grid_auto_flow": null,
            "grid_area": null,
            "grid_template_columns": null,
            "flex": null,
            "_model_name": "LayoutModel",
            "justify_items": null,
            "grid_row": null,
            "max_height": null,
            "align_content": null,
            "visibility": null,
            "align_self": null,
            "height": null,
            "min_height": null,
            "padding": null,
            "grid_auto_rows": null,
            "grid_gap": null,
            "max_width": null,
            "order": null,
            "_view_module_version": "1.2.0",
            "grid_template_areas": null,
            "object_position": null,
            "object_fit": null,
            "grid_auto_columns": null,
            "margin": null,
            "display": null,
            "left": null
          }
        }
      }
    }
  },
  "nbformat": 4,
  "nbformat_minor": 0
}